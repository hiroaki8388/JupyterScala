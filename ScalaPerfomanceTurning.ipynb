{
 "cells": [
  {
   "cell_type": "markdown",
   "metadata": {
    "collapsed": true
   },
   "source": [
    "# Scalaマイクロパフォーマンス測定についてのまとめ\n",
    "\n"
   ]
  },
  {
   "cell_type": "code",
   "execution_count": null,
   "metadata": {
    "collapsed": true
   },
   "outputs": [],
   "source": [
    "## 目的"
   ]
  },
  {
   "cell_type": "code",
   "execution_count": null,
   "metadata": {
    "collapsed": true
   },
   "outputs": [],
   "source": []
  },
  {
   "cell_type": "markdown",
   "metadata": {
    "collapsed": true
   },
   "source": [
    "## 計測方法\n",
    "\n",
    "### 使用するツール\n",
    "[JMH](https://github.com/ktoso/sbt-jmh)をsbtで使用するためのプラグイン   \n",
    "[sbt-jmh](https://github.com/ktoso/sbt-jmh)を使用          \n",
    "          \n",
    "          "
   ]
  },
  {
   "cell_type": "markdown",
   "metadata": {},
   "source": [
    "### 使用方法"
   ]
  },
  {
   "cell_type": "markdown",
   "metadata": {
    "collapsed": true
   },
   "source": [
    "#### 準備\n",
    "plugiin.sbtに以下の一文を追加\n",
    "\n",
    "```\n",
    "addSbtPlugin(\"pl.project13.scala\" % \"sbt-jmh\" % \"0.2.27\")\n",
    "```\n",
    "\n",
    "build.sbtに使用するモジュールをしてする\n",
    "\n",
    "```\n",
    "lazy val bench = project.dependsOn(anotherModule % \"test->test\").enablePlugins(JmhPlugin)\n",
    "```"
   ]
  },
  {
   "cell_type": "markdown",
   "metadata": {},
   "source": [
    "#### 実行\n",
    "\n",
    "- ベンチマーク一覧表示  \n",
    "`sbt 'jmh:run l' `\n",
    "\n",
    "- ヘルプ  \n",
    "`sbt 'jmh:run h' `\n",
    "\n",
    "- 実行  \n",
    "`sbt 'project [projectName]' 'jmh :run [Nam]e -wi [3] -i [3] -f[1] -t[1]'`\n",
    "\n",
    "```\n",
    "x 計測回数\n",
    "Name:ベンチマークするメソッド名かクラス名 .*Test.*など正規表現でも指定可能（これだと、Testと名前が入る全て実行される）\n",
    "w: ウォームアップ回数\n",
    "i: 計測回数\n",
    "f: 全体での実行回数\n",
    "t: スレッド数\n",
    "```\n",
    "上記のパラメータは`sbt`実行時にも設定できるが、下記のユースケースに書いてあるように、ファイル内でも指定できる"
   ]
  },
  {
   "cell_type": "code",
   "execution_count": null,
   "metadata": {
    "collapsed": true
   },
   "outputs": [],
   "source": []
  },
  {
   "cell_type": "markdown",
   "metadata": {
    "collapsed": true
   },
   "source": [
    "#### 注意点\n",
    "\n",
    "- 公式では少なくとも10回から20回は10回から20回それぞれウォームアップと計測することを推奨している\n",
    "\n",
    "> For \"real\" results we recommend to at least warm up 10 to 20 iterations, and then measure 10 to 20 iterations again. Forking the JVM is required to avoid falling into specific optimisations (no JVM optimisation is really \"completely\" predictable)\n",
    "\n",
    "- ファイル内にパッケージ名を記述しないとJMH上でエラーが出る\n",
    "- object内のメソッドは計測不可能"
   ]
  },
  {
   "cell_type": "markdown",
   "metadata": {
    "scrolled": true
   },
   "source": [
    "### ユースケース"
   ]
  },
  {
   "cell_type": "code",
   "execution_count": null,
   "metadata": {
    "collapsed": true
   },
   "outputs": [],
   "source": [
    "//アウトプットの単位\n",
    "@OutputTimeUnit(TimeUnit.SECONDS)\n",
    "// ウォームアップの設定\n",
    "@Warmup(iterations = 3, timeUnit = TimeUnit.SECONDS)\n",
    "// 計測回数の設定\n",
    "@Measurement(iterations = 3, timeUnit = TimeUnit.SECONDS)\n",
    "// 全体の計測回数（-Xms1Gは使用するメモリ）\n",
    "@Fork(value = 1, jvmArgs = Array(\"-Xms1G\", \"-Xmx1G\"))\n",
    "// 使用するスレッド数\n",
    "@Threads(value = 1)\n",
    "class Test {\n",
    "\n",
    "  @Benchmark\n",
    "  def testList() = List.fill(100000)(2) map (i => Nil :+ Data(i))\n",
    "\n",
    "  @Benchmark\n",
    "  def testList2() = List.fill(100000)(2) map (i => Data(i) :: Nil)\n",
    "\n",
    "  @Benchmark\n",
    "  def testList3() = List.fill(100000)(2) map (i => Data2(i) :: Nil)\n",
    "\n",
    "  @Benchmark\n",
    "  def testList4() = List.fill(100000)(2) map (i => Data2(i) :: Nil)\n",
    "\n",
    "}\n",
    "\n",
    "//普通のオブジェクト\n",
    "case class Data(num: Long)\n",
    "\n",
    "//Value Classとして定義する事で、プリミティブ型と同等に扱われる\n",
    "case class Data2(num: Long) extends AnyVal\n",
    "\n",
    "//boxingされなくなる\n",
    "// https://ja.wikipedia.org/wiki/%E3%82%AA%E3%83%BC%E3%83%88%E3%83%9C%E3%82%AF%E3%82%B7%E3%83%B3%E3%82%B0\n",
    "case class Data3(@specialized num: Long)"
   ]
  },
  {
   "cell_type": "markdown",
   "metadata": {},
   "source": [
    "#### 結果\n",
    "\n",
    "デフォルトでは`Score`は`Throughput`となる\n",
    "```\n",
    "[info] Benchmark        Mode  Cnt    Score     Error  Units\n",
    "[info] Test.testList   thrpt    3   36.725 ? 249.934  ops/s\n",
    "[info] Test.testList2  thrpt    3   88.394 ? 579.437  ops/s\n",
    "[info] Test.testList3  thrpt    3   80.317 ? 581.095  ops/s\n",
    "[info] Test.testList4  thrpt    3  111.443 ? 385.614  ops/s\n",
    "[success] Total time: 67 s, completed 2017/09/03 13:30:29\n",
    "```\n",
    "\n",
    "testList4が最も速い。  \n",
    "- ::を使用してつなげていく事で処理が格段によくなる\n",
    "- AnyValは今回あまり処理速度とは関係ない\n",
    "- ボクシングをしないことで、処理速度に明らかな向上がみられる  \n",
    "ことがわかった  \n",
    "理由は以下を参照のこと  \n",
    "https://www.amazon.co.jp/Scala%E3%82%B9%E3%82%B1%E3%83%BC%E3%83%A9%E3%83%96%E3%83%AB%E3%83%97%E3%83%AD%E3%82%B0%E3%83%A9%E3%83%9F%E3%83%B3%E3%82%B0%E7%AC%AC2%E7%89%88-Martin-Odersky/dp/4844330845  \n",
    "http://techlog.mvrck.co.jp/entry/specialize-in-scala/\n",
    "\n",
    "ユースケースについては公式のサンプルも参照のこと  \n",
    "https://github.com/ktoso/sbt-jmh/tree/master/plugin/src/sbt-test/sbt-jmh/jmh-asm/src/main/scala/org/openjdk/jmh/samples"
   ]
  },
  {
   "cell_type": "markdown",
   "metadata": {
    "collapsed": true
   },
   "source": [
    "\n",
    "## 参考資料\n",
    "[jmh公式ドキュメント](http://openjdk.java.net/projects/code-tools/jmh/)  \n",
    "[アドテク×Scala×パフォーマンスチューニング](https://www.slideshare.net/mogproject/scala-41799241)\n"
   ]
  },
  {
   "cell_type": "code",
   "execution_count": null,
   "metadata": {
    "collapsed": true
   },
   "outputs": [],
   "source": []
  }
 ],
 "metadata": {
  "kernelspec": {
   "display_name": "Scala 2.11",
   "language": "scala211",
   "name": "scala211"
  },
  "language_info": {
   "codemirror_mode": "text/x-scala",
   "file_extension": ".scala",
   "mimetype": "text/x-scala",
   "name": "scala211",
   "pygments_lexer": "scala",
   "version": "2.11.7"
  }
 },
 "nbformat": 4,
 "nbformat_minor": 2
}

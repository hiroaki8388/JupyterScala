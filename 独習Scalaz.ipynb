{
 "cells": [
  {
   "cell_type": "code",
   "execution_count": 1,
   "metadata": {},
   "outputs": [
    {
     "name": "stdout",
     "output_type": "stream",
     "text": [
      "Adding 1 artifact(s)\n",
      "Adding 1 artifact(s)\n",
      "Adding 1 artifact(s)\n",
      "Adding 6 artifact(s)\n"
     ]
    },
    {
     "data": {
      "text/plain": [
       "\u001b[36mscalazVersion\u001b[0m: \u001b[32mString\u001b[0m = \u001b[32m\"7.1.0\"\u001b[0m"
      ]
     },
     "metadata": {},
     "output_type": "display_data"
    }
   ],
   "source": [
    "val scalazVersion=\"7.1.0\"\n",
    "classpath.add(\"org.scalaz\" %% \"scalaz-core\" % scalazVersion)\n",
    "classpath.add(\"org.scalaz\" %% \"scalaz-effect\" % scalazVersion)\n",
    "classpath.add(\"org.scalaz\" %% \"scalaz-typelevel\" % scalazVersion)\n",
    "classpath.add(\"org.scalaz\" %% \"scalaz-scalacheck-binding\" % scalazVersion )\n"
   ]
  },
  {
   "cell_type": "code",
   "execution_count": 2,
   "metadata": {
    "scrolled": true
   },
   "outputs": [
    {
     "data": {
      "text/plain": [
       "\u001b[32mimport \u001b[36mscalaz._\u001b[0m\n",
       "\u001b[32mimport \u001b[36mScalaz._\u001b[0m"
      ]
     },
     "metadata": {},
     "output_type": "display_data"
    }
   ],
   "source": [
    "import scalaz._\n",
    "import Scalaz._\n"
   ]
  },
  {
   "cell_type": "code",
   "execution_count": 2,
   "metadata": {},
   "outputs": [
    {
     "ename": "",
     "evalue": "",
     "output_type": "error",
     "traceback": [
      "\u001b[31mMain.scala:371: not found: value bt",
      "bt option 100",
      "^\u001b[0m"
     ]
    }
   ],
   "source": [
    "bt option 100"
   ]
  },
  {
   "cell_type": "markdown",
   "metadata": {
    "collapsed": true
   },
   "source": [
    "BooleanOps.??[A]( => A)(implicit Monoid[A]): \n",
    "AをMonoid[A]に変換し、BooleanOpsがtrueならば、Aを、falseならば単位元を返す"
   ]
  },
  {
   "cell_type": "code",
   "execution_count": 0,
   "metadata": {
    "scrolled": true
   },
   "outputs": [
    {
     "ename": "",
     "evalue": "",
     "output_type": "error",
     "traceback": [
      "\u001b[31mMain.scala:24: value ?? is not a member of Boolean",
      "bt ?? 100",
      "   ^\u001b[0m",
      "\u001b[31mMain.scala:27: value ?? is not a member of Boolean",
      "bt ?? 100.some",
      "   ^\u001b[0m",
      "\u001b[31mMain.scala:27: value some is not a member of Int",
      "bt ?? 100.some",
      "          ^\u001b[0m",
      "\u001b[31mMain.scala:30: value ?? is not a member of Boolean",
      "bf ?? 100",
      "   ^\u001b[0m",
      "\u001b[31mMain.scala:33: value ?? is not a member of Boolean",
      "bf ?? 100.some",
      "   ^\u001b[0m",
      "\u001b[31mMain.scala:33: value some is not a member of Int",
      "bf ?? 100.some",
      "          ^\u001b[0m"
     ]
    }
   ],
   "source": [
    "def bt=true\n",
    "def bf=false\n",
    "\n",
    "bt ?? 100\n",
    "bt ?? 100.some\n",
    "bf ?? 100\n",
    "bf ?? 100.some"
   ]
  },
  {
   "cell_type": "code",
   "execution_count": null,
   "metadata": {
    "collapsed": true
   },
   "outputs": [],
   "source": []
  }
 ],
 "metadata": {
  "kernelspec": {
   "display_name": "Scala 2.11",
   "language": "scala211",
   "name": "scala211"
  },
  "language_info": {
   "codemirror_mode": "text/x-scala",
   "file_extension": ".scala",
   "mimetype": "text/x-scala",
   "name": "scala211",
   "pygments_lexer": "scala",
   "version": "2.11.7"
  }
 },
 "nbformat": 4,
 "nbformat_minor": 2
}

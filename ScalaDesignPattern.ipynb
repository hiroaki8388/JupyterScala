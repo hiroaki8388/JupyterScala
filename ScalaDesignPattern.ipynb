{
 "cells": [
  {
   "cell_type": "markdown",
   "metadata": {
    "collapsed": true
   },
   "source": [
    "## 序文\n",
    "\n",
    "今後、Scalaや設計について学ぶための一助とするために、 **デザインパターンを分解して、その上で再構築していこうと思います。**\n",
    "このようなアプローチによりまとめていくように考えたのは、昨年からデザインパターンという概念について学ぶ際に\n",
    "\n",
    "- クラス同士の関係が複雑に絡み合っていて理解し辛い\n",
    "- 同じようなパターンも多くあるが、類似性、関連性が見え辛い\n",
    "- 理解しても暗記のような覚え方になってしまい応用し辛い\n",
    "- 応用できても適切な使用方法かわからず、柔軟に使う事が難しい\n",
    "- Scalaだと(Singltonパターンなど)言語レベルにサポートしてるものもあるので、ScalaとGoFのデザインパターンを応用する必要がないところがある\n",
    "\n",
    "などのデメリットを読んだ多くのの記事や本で感じたからです。\n",
    "\n",
    "そこで今回は\n",
    "\n",
    "- まず、Scalaは何ができるのかを（Scala学習者にはあたりまえなレベルまで）極力分解して列挙する\n",
    "- 分解した構成要素を組み合わせる事でデザインパターンを構築していく\n",
    "\n",
    "というアプローチによりまとめていきいたいと思います。\n",
    "イメージとしては、数式1と数式2を組み合わせる事により、さらに数式3を構築でき、それが数式4に応用でき...\n",
    "といった感じです。（故に、全ての構成要素にラベリングをしていきます。）\n",
    "\n",
    "なので理想としては **「あたりまえじゃん」とおもえるレベルにからスタートして、その当たり前を組み合わせていく事で、最終的に「なるほどな」と読み手がおもえるようにしていきたいです**\n",
    "このようなまとめ方によるメリットは\n",
    "\n",
    "- スタートが初歩からはじまるので考えを整理しやすい\n",
    "- 構成要素が分解されているおかげでTipsとして自身のレベルに応じて部分部分をつまみ食いしやすい\n",
    "- 分解されているので、既存のパターンに捕われず、柔軟に応用できる\n",
    "\n",
    "があります。（もちろんうまくまとめられれば、の話です。）\n",
    "なお、ScalaDesignPatternという昨年発売した本がが参考にしたメインの本になる（予定）ですが、まだ未翻訳の本ですので、\n",
    "明らかに間違った点がありましたら、本ではなく、長谷川の誤訳、誤読、理解不足などが原因です。ですので、突っ込んで頂けたらと思います。  \n",
    "できるかな？やれるかな？"
   ]
  },
  {
   "cell_type": "markdown",
   "metadata": {},
   "source": [
    "###  Unification\n",
    "まず、大原則から。\n",
    "\n",
    "- (1-1) Scalaでは全ての値は、オブジェクトである\n",
    "\n",
    "- (1-2) 関数は第一級オブジェクトとして定義されている\n",
    "\n",
    "\n",
    "したがって、(1-2)より、\n",
    "- (1-3) 関数を変数として定義したり、メソッドやクラスの引数や戻り値として利用できる\n",
    "\n"
   ]
  },
  {
   "cell_type": "code",
   "execution_count": 39,
   "metadata": {},
   "outputs": [
    {
     "data": {
      "text/plain": [
       "\u001b[36mplus1\u001b[0m: \u001b[32mInt\u001b[0m => \u001b[32mInt\u001b[0m = <function1>\n",
       "\u001b[36mres38_1\u001b[0m: \u001b[32mInt\u001b[0m = \u001b[32m2\u001b[0m"
      ]
     },
     "metadata": {},
     "output_type": "display_data"
    }
   ],
   "source": [
    "// 例 1-1\n",
    "val plus1=(x:Int)=> x+1\n",
    "\n",
    "plus1(1)\n"
   ]
  },
  {
   "cell_type": "markdown",
   "metadata": {},
   "source": [
    "なので、\n",
    "- (1-4) オブジェクト指向言語としての特性と関数型言語としての特性の双方を利用できるため、多様な表現が可能になる。\n",
    "\n"
   ]
  },
  {
   "cell_type": "markdown",
   "metadata": {},
   "source": [
    "##### Functions is classes\n",
    "例1-1のようにScalaで関数がオブジェクトとして定義されているとは、コードを書いている時は感じないが、\n",
    "裏では以下のようにclassが定義されており、applyされている。[Function1.scala](https://github.com/scala/scala/blob/v2.9.2/src/library/scala/Function1.scala#L1)"
   ]
  },
  {
   "cell_type": "code",
   "execution_count": 28,
   "metadata": {},
   "outputs": [
    {
     "data": {
      "text/plain": [
       "\u001b[36mplus1\u001b[0m: \u001b[32mInt\u001b[0m => \u001b[32mInt\u001b[0m = <function1>\n",
       "\u001b[36mres27_1\u001b[0m: \u001b[32mInt\u001b[0m = \u001b[32m2\u001b[0m"
      ]
     },
     "metadata": {},
     "output_type": "display_data"
    }
   ],
   "source": [
    "// 例1-2\n",
    "val plus1= new Function1[Int,Int]{\n",
    "    def apply(x:Int)=x+1\n",
    "}\n",
    "\n",
    "plus1(1)"
   ]
  },
  {
   "cell_type": "markdown",
   "metadata": {},
   "source": [
    "つまり、裏側では関数はオブジェクトにインスタンス化されている。これにより (1-2)が実現されている。\n",
    "この例により分かるように、\n",
    "\n",
    "- (1-4) applyメソッドはScalaでは特別なメソッドであり，x.apply(y)はx(y)と同等である(糖衣構文)\n",
    "\n",
    "なお、Function1は Traitである。Traitについては後述する\n",
    "\n"
   ]
  },
  {
   "cell_type": "markdown",
   "metadata": {},
   "source": [
    "### Traits and Mixin Compositions\n",
    "よりScalaらしいデザインパターンを構築するために、まず、*Trait*と*MixIn*の概念について説明する"
   ]
  },
  {
   "cell_type": "markdown",
   "metadata": {},
   "source": [
    "#### Trait\n",
    "Traitと言う概念が、出来る事、あるいは出来ない事を解説していく。\n",
    "まず、\n",
    "\n",
    "- () TraitはIntarfaceとして使用できる\n"
   ]
  },
  {
   "cell_type": "code",
   "execution_count": 29,
   "metadata": {},
   "outputs": [
    {
     "data": {
      "text/plain": [
       "defined \u001b[32mtrait \u001b[36mAlarm\u001b[0m"
      ]
     },
     "metadata": {},
     "output_type": "display_data"
    }
   ],
   "source": [
    "// 例\n",
    "trait Alarm{\n",
    "    \n",
    "    def trigger():String // 実装なし\n",
    "}"
   ]
  },
  {
   "cell_type": "markdown",
   "metadata": {},
   "source": [
    "だが、JavaのInterfaceと大きく異なるのは次の点である\n",
    "\n",
    "- () Traitは実装を持つ事が可能である\n"
   ]
  },
  {
   "cell_type": "code",
   "execution_count": 38,
   "metadata": {},
   "outputs": [
    {
     "data": {
      "text/plain": [
       "defined \u001b[32mtrait \u001b[36mNotifier\u001b[0m"
      ]
     },
     "metadata": {},
     "output_type": "display_data"
    }
   ],
   "source": [
    "trait Notifier{\n",
    "    val notificationMessage:String //実装なし\n",
    "    \n",
    "    // 実装あり\n",
    "    def printNotification():Unit={\n",
    "        println(notificationMessage)\n",
    "    }\n",
    "    \n",
    "    def clear():Unit //実装なし\n",
    "}"
   ]
  },
  {
   "cell_type": "markdown",
   "metadata": {},
   "source": [
    "- () Traitに実装を注入する事を、MixInという\n"
   ]
  },
  {
   "cell_type": "code",
   "execution_count": null,
   "metadata": {
    "collapsed": true
   },
   "outputs": [],
   "source": [
    "編集中"
   ]
  },
  {
   "cell_type": "code",
   "execution_count": null,
   "metadata": {
    "collapsed": true
   },
   "outputs": [],
   "source": []
  },
  {
   "cell_type": "markdown",
   "metadata": {
    "collapsed": true
   },
   "source": [
    "### Functional Design Pattern\n",
    "() で説明したように、Scalaはオブジェクト指向と関数型のハイブリット言語である。なので、もちろん大抵のデザインパターンは応用できるが、 *関数型*\n",
    "であるという側面を応用しなければ、完璧に使いこなせたとはいえない。\n",
    "そこで、関数型言語の特性を\n",
    "- () monoids\n",
    "- () monads\n",
    "- () functors\n",
    "\n",
    "の三要素に分解し、そこから関数型言語を応用したデザインパターンの理解まで持っていく。\n",
    "\n",
    "\n",
    "\n",
    "* 注意。以下の文章ではメソッドと関数を使い分けている事に注意。メソッドと関数は同じようだが、違う部分も多々ある。一つの大きな違いは、状態を\n",
    "もつかもたないかである。メソッドの場合はオブジェクトとの結びつきが強く、Javaでいうstaticのように定義する事で状態をもつことが可能である。\n",
    "状態を持つという事は、ときと場合により、同じメソッドを同じ引数を与えて呼び出しても同じ値を返すことはない。\n",
    "それに対して関数は違う。状態をもたず、同じ引数を与えたら必ずおなじ値を返す。1+1は百回繰り返しても2である。\n"
   ]
  },
  {
   "cell_type": "markdown",
   "metadata": {},
   "source": [
    "#### Monoids\n",
    "\n",
    "() 何らかの計算処理により、値を加工する処理を行う事ができる概念を *演算子(operater)*と呼ぶ\n",
    "\n",
    "演算子には例えば+ (1+1=2),- ×(1×2=2)など、さまざまな異なるタイプがあるように思うが、実はそれぞれの演算子は同じ法則に従うパターンに\n",
    "まとめあげられる(抽象化)。まとめあげられるという事はプログラミング上、*再利用出来る可能性がでてくるということである。*\n",
    "以下では、上記三要素に分類するために、それらの\n",
    "要素をみたすルール(公理)をリストアップしていく\n",
    "\n",
    "##### Monoidsとはなにか?\n",
    "Monoidsとは、以下のルールに従う要素と演算子の集合(=型)である\n",
    "- () Monoidに含まれる演算子は以下の法則に従う (結合則)  \n",
    "    op(op(x,y),z)=op(x,op(y,z))  \n",
    "    ex((1+(2+3))=((1+2)+3))\n",
    "- () Monoidは以下の法則に従う要素(単位元)を持つ  \n",
    "    op(x,zero)=op(zero,x)=x  \n",
    "    ex(1+0=0+1=1)\n",
    "\n",
    "まとめあげると、 \n",
    "- () 結合則()に従う演算子と単位元()を要素に持つ型ならなんでもMonoidを名乗れる \n",
    "\n",
    "\n",
    "()より、例にある通り、(+,0,1,2,3)はMonoidとなる。当然、(+,0,1.1,-2)などもMonoidであり、2×1=1より、(×,1,2)もMonoid、さらにa+b=ab,a+\"\"=a\n",
    "とするならば(+,\"\",a,bもMonoidとなる。このように様々な演算子(+,×)と型(Int,Float,String)を組み合わせる事でMonoidがつくれる。\n",
    "だが、(÷,1,2,3)はMonoidではない。なぜなら、3/(2/3)=3と(3/2)/3=9/2は違う。よって()をみたさないからである。\n",
    "       \n",
    "同じルールに従うという事は、*ポリモーフィックな関数やメソッドを作るという事が可能になる。* つまり、*Monoidを前提に作成した関数は\n",
    "型が違っても全てのMonoidを引数として持つ事が可能である。*\n",
    "       \n"
   ]
  },
  {
   "cell_type": "markdown",
   "metadata": {},
   "source": [
    "\n",
    "()~()のルールを定義するtraitを作成する。\n",
    "()のTraitの性質を利用して、上記のルールを抽象化し、Interfaceとして定義する。\n",
    "こうする事で以下のMonoid[T]を継承したclassはすべてMonoidとなる"
   ]
  },
  {
   "cell_type": "code",
   "execution_count": 40,
   "metadata": {},
   "outputs": [
    {
     "data": {
      "text/plain": [
       "defined \u001b[32mtrait \u001b[36mMonoid\u001b[0m"
      ]
     },
     "metadata": {},
     "output_type": "display_data"
    }
   ],
   "source": [
    "trait Monoid[T]{\n",
    "    def op(l:T,r:T):T\n",
    "    \n",
    "    val zero:T\n",
    "}"
   ]
  },
  {
   "cell_type": "markdown",
   "metadata": {},
   "source": [
    "このtraitを継承し、Monoidをつくる"
   ]
  },
  {
   "cell_type": "code",
   "execution_count": 17,
   "metadata": {},
   "outputs": [
    {
     "data": {
      "text/plain": [
       "defined \u001b[32mobject \u001b[36mMonoids\u001b[0m"
      ]
     },
     "metadata": {},
     "output_type": "display_data"
    }
   ],
   "source": [
    "object Monoids{\n",
    "    val intAddition:Monoid[Int]=new Monoid[Int]{\n",
    "        def op(l:Int,r:Int)=l+r\n",
    "        val zero=0\n",
    "    }\n",
    "    \n",
    "intAddition.op(1,2)\n",
    "}"
   ]
  },
  {
   "cell_type": "markdown",
   "metadata": {},
   "source": [
    "###### Monoidの使い方\n",
    "Monoidがなんであるかはわかった。だが、重要なのは *Monoidがなにに使えるか* である。\n",
    "編集中"
   ]
  },
  {
   "cell_type": "code",
   "execution_count": null,
   "metadata": {
    "collapsed": true
   },
   "outputs": [],
   "source": [
    "()　より、並列処理をしても結果が変わらない事が保証される"
   ]
  },
  {
   "cell_type": "code",
   "execution_count": 41,
   "metadata": {},
   "outputs": [
    {
     "data": {
      "text/plain": [
       "\u001b[36mres40\u001b[0m: \u001b[32mInt\u001b[0m = \u001b[32m500500\u001b[0m"
      ]
     },
     "metadata": {},
     "output_type": "display_data"
    }
   ],
   "source": [
    "// (+,1,...1000)はMonad\n",
    "(1 to 1000).par.reduce(_+_)"
   ]
  },
  {
   "cell_type": "code",
   "execution_count": 42,
   "metadata": {},
   "outputs": [
    {
     "data": {
      "text/plain": [
       "\u001b[36mres41\u001b[0m: \u001b[32mInt\u001b[0m = \u001b[32m-186000\u001b[0m"
      ]
     },
     "metadata": {},
     "output_type": "display_data"
    }
   ],
   "source": [
    "// (- ,1,...1000)はMonadではない\n",
    "(1 to 1000).par.reduce(_- _) // shoule be -500498"
   ]
  },
  {
   "cell_type": "code",
   "execution_count": 45,
   "metadata": {},
   "outputs": [
    {
     "data": {
      "text/plain": [
       "\u001b[36mres44\u001b[0m: \u001b[32mInt\u001b[0m = \u001b[32m-499500\u001b[0m"
      ]
     },
     "metadata": {},
     "output_type": "display_data"
    }
   ],
   "source": [
    "したがって、Monad則は並列処理の結果を保証する"
   ]
  },
  {
   "cell_type": "code",
   "execution_count": null,
   "metadata": {
    "collapsed": true
   },
   "outputs": [],
   "source": [
    "### Traits and Mixin Compositions\n"
   ]
  },
  {
   "cell_type": "code",
   "execution_count": null,
   "metadata": {
    "collapsed": true
   },
   "outputs": [],
   "source": []
  },
  {
   "cell_type": "code",
   "execution_count": null,
   "metadata": {
    "collapsed": true
   },
   "outputs": [],
   "source": [
    "編集中"
   ]
  },
  {
   "cell_type": "code",
   "execution_count": null,
   "metadata": {
    "collapsed": true
   },
   "outputs": [],
   "source": [
    "### Abstract and Self Types"
   ]
  },
  {
   "cell_type": "code",
   "execution_count": null,
   "metadata": {
    "collapsed": true
   },
   "outputs": [],
   "source": [
    "### Polymorphism \n",
    "() ポリモーフィズムとは、同じメソッドを呼び出すが、オブジェクト毎にふるまいを変えることが出来る方法。\n",
    "と定義する。\n",
    "\n",
    "これを実現する手段はScalaには3種類ある"
   ]
  },
  {
   "cell_type": "code",
   "execution_count": null,
   "metadata": {
    "collapsed": true
   },
   "outputs": [],
   "source": [
    "#### SubType Polymorhism\n",
    "() traitをインターフェースとして定義する事で実現する方法。"
   ]
  },
  {
   "cell_type": "code",
   "execution_count": null,
   "metadata": {
    "collapsed": true
   },
   "outputs": [],
   "source": [
    "#### Parametric Polymorphism\n",
    "() 与えるパラメータ（Generics）によってふるまいを変える方法"
   ]
  },
  {
   "cell_type": "code",
   "execution_count": 10,
   "metadata": {},
   "outputs": [
    {
     "data": {
      "text/plain": [
       "defined \u001b[32mclass \u001b[36mContainer\u001b[0m"
      ]
     },
     "metadata": {},
     "output_type": "display_data"
    }
   ],
   "source": [
    "class Container[T](data:T){\n",
    "    def compare(other:T)=data.equals(other)\n",
    "}"
   ]
  },
  {
   "cell_type": "code",
   "execution_count": 11,
   "metadata": {},
   "outputs": [
    {
     "data": {
      "text/plain": [
       "\u001b[36mnumCon\u001b[0m: \u001b[32mContainer\u001b[0m[\u001b[32mInt\u001b[0m] = cmd9$$user$Container@26a1e6c9\n",
       "\u001b[36mres10_1\u001b[0m: \u001b[32mBoolean\u001b[0m = \u001b[32mtrue\u001b[0m"
      ]
     },
     "metadata": {},
     "output_type": "display_data"
    }
   ],
   "source": [
    "val numCon= new Container(1)\n",
    "numCon.compare(1)"
   ]
  },
  {
   "cell_type": "code",
   "execution_count": 12,
   "metadata": {},
   "outputs": [
    {
     "data": {
      "text/plain": [
       "\u001b[36mstrCon\u001b[0m: \u001b[32mContainer\u001b[0m[\u001b[32mString\u001b[0m] = cmd9$$user$Container@1434ab15\n",
       "\u001b[36mres11_1\u001b[0m: \u001b[32mBoolean\u001b[0m = \u001b[32mfalse\u001b[0m"
      ]
     },
     "metadata": {},
     "output_type": "display_data"
    }
   ],
   "source": [
    "val strCon=new Container(\"a\")\n",
    "strCon.compare(\"b\")"
   ]
  },
  {
   "cell_type": "code",
   "execution_count": null,
   "metadata": {
    "collapsed": true
   },
   "outputs": [],
   "source": [
    "（）と（）より、\n",
    "（）AbstractTypeとGenericsは同じ使い方ができる\n",
    "（ただし、AbstractTypeはJavaには存在しない）"
   ]
  },
  {
   "cell_type": "code",
   "execution_count": 61,
   "metadata": {},
   "outputs": [
    {
     "data": {
      "text/plain": [
       "defined \u001b[32mtrait \u001b[36mContainerAT\u001b[0m\n",
       "defined \u001b[32mclass \u001b[36mStringContainer\u001b[0m\n",
       "\u001b[36mstrCon2\u001b[0m: \u001b[32m$user\u001b[0m.\u001b[32mStringContainer\u001b[0m = cmd60$$user$StringContainer@62c87bb4"
      ]
     },
     "metadata": {},
     "output_type": "display_data"
    }
   ],
   "source": [
    "trait ContainerAT{\n",
    "    type T\n",
    "    val data:T\n",
    "    def compare(other:T)=other.equals(data)\n",
    "}\n",
    "\n",
    "class StringContainer(val data:String) extends ContainerAT{\n",
    "    type T=String\n",
    "}\n",
    "\n",
    "val strCon2= new StringContainer(\"a\")"
   ]
  },
  {
   "cell_type": "code",
   "execution_count": null,
   "metadata": {
    "collapsed": true
   },
   "outputs": [],
   "source": [
    "#### Ad hoc Polymorhism\n",
    "() 暗黙の型変換を利用する方法\n"
   ]
  },
  {
   "cell_type": "code",
   "execution_count": 50,
   "metadata": {},
   "outputs": [
    {
     "data": {
      "text/plain": [
       "defined \u001b[32mtrait \u001b[36mAdder\u001b[0m\n",
       "defined \u001b[32mobject \u001b[36mAdderClient\u001b[0m"
      ]
     },
     "metadata": {},
     "output_type": "display_data"
    }
   ],
   "source": [
    "trait Adder[T]{\n",
    "def sum(a:T,b:T):T\n",
    "}\n",
    "\n",
    "\n",
    "implicit object AdderClient{\n",
    "    def sum[T:Adder](a:T,b:T):T=\n",
    "    implicitly[Adder[T]].sum(a,b)\n",
    "}"
   ]
  },
  {
   "cell_type": "code",
   "execution_count": 61,
   "metadata": {},
   "outputs": [
    {
     "ename": "",
     "evalue": "",
     "output_type": "error",
     "traceback": [
      "\u001b[31mMain.scala:30: could not find implicit value for evidence parameter of type cmd61.this.$ref$cmd49.Adder[Int]",
      "AdderClient.sum(1,3)",
      "               ^\u001b[0m"
     ]
    }
   ],
   "source": [
    "// 上記のようにするだけだと、implicityでAdder[T]をAdder[Int]にすればよいのかAdder{String}にすればよいのか、\n",
    "// わからないので、エラーが出る。よってAdderClientにぐたいてきな変換方法をおしえるひつようがある\n",
    "AdderClient.sum(1,3)"
   ]
  },
  {
   "cell_type": "code",
   "execution_count": 20,
   "metadata": {},
   "outputs": [
    {
     "ename": "",
     "evalue": "",
     "output_type": "error",
     "traceback": [
      "\u001b[31mMain.scala:24: not found: value ls",
      "!ls",
      " ^\u001b[0m"
     ]
    }
   ],
   "source": []
  },
  {
   "cell_type": "code",
   "execution_count": 62,
   "metadata": {},
   "outputs": [
    {
     "data": {
      "text/plain": [
       "defined \u001b[32mtrait \u001b[36mAdder\u001b[0m\n",
       "defined \u001b[32mobject \u001b[36mAdderClient2\u001b[0m\n",
       "\u001b[36mint2Adder\u001b[0m: \u001b[32m$user\u001b[0m.\u001b[32mAdder\u001b[0m[\u001b[32mInt\u001b[0m] = cmd61$$user$$anonfun$1$$anon$1@1d1f8860\n",
       "\u001b[36mstr2Adder\u001b[0m: \u001b[32m$user\u001b[0m.\u001b[32mAdder\u001b[0m[\u001b[32mString\u001b[0m] = cmd61$$user$$anonfun$2$$anon$2@d5dbaf0"
      ]
     },
     "metadata": {},
     "output_type": "display_data"
    }
   ],
   "source": [
    "trait Adder[T]{\n",
    "def sum(a:T,b:T):T\n",
    "}\n",
    "\n",
    "object AdderClient2{\n",
    "\n",
    "    def sum[T:Adder](a:T,b:T):T= implicitly[Adder[T]].sum(a,b)\n",
    "   \n",
    "}\n",
    "// 上記のように、implicit変数を定義し、具体的な実装を与えてあげる事で、引数毎にsumのふるまいをかえることができる    \n",
    "// implicityによる変換後の具体的なオブジェクトをimplicit val であたえてやる    \n",
    "    implicit val int2Adder:Adder[Int]=new Adder[Int]{\n",
    "        def sum(a:Int,b:Int):Int=a+b\n",
    "    }\n",
    "    \n",
    "     implicit val str2Adder:Adder[String]=new Adder[String]{\n",
    "        def sum(a:String,b:String):String=a+b\n",
    "   \n",
    "}\n"
   ]
  },
  {
   "cell_type": "code",
   "execution_count": 59,
   "metadata": {},
   "outputs": [
    {
     "data": {
      "text/plain": [
       "\u001b[36mres58\u001b[0m: \u001b[32mInt\u001b[0m = \u001b[32m3\u001b[0m"
      ]
     },
     "metadata": {},
     "output_type": "display_data"
    }
   ],
   "source": [
    "AdderClient2.sum(1,2)"
   ]
  },
  {
   "cell_type": "code",
   "execution_count": 63,
   "metadata": {},
   "outputs": [
    {
     "data": {
      "text/plain": [
       "\u001b[36mres62\u001b[0m: \u001b[32mString\u001b[0m = \u001b[32m\"ab\"\u001b[0m"
      ]
     },
     "metadata": {},
     "output_type": "display_data"
    }
   ],
   "source": [
    "AdderClient2.sum(\"a\",\"b\")"
   ]
  },
  {
   "cell_type": "code",
   "execution_count": null,
   "metadata": {
    "collapsed": true
   },
   "outputs": [],
   "source": [
    "（）と（）により、\n",
    "暗黙の変数と暗黙の型変換により、実装を注入することができる\n",
    "よって、（）が実現可能になる"
   ]
  },
  {
   "cell_type": "code",
   "execution_count": null,
   "metadata": {
    "collapsed": true
   },
   "outputs": [],
   "source": [
    "### Self Type\n",
    "\n",
    "() this:A=> と表記する事で、A内に定義されている定義ががそのクラス(トレイト)の中で使用可能になる"
   ]
  },
  {
   "cell_type": "code",
   "execution_count": null,
   "metadata": {
    "collapsed": true
   },
   "outputs": [],
   "source": [
    "次の例では永続化するための実装をもつDataBase永続化されるためのデータをラップするPersiterを定義する\n",
    "Persisterは使用する側であり、DataBaseはPersisterに使用される側である。このように明確に責務が異なる場合、Self Typeは有用である"
   ]
  },
  {
   "cell_type": "code",
   "execution_count": 2,
   "metadata": {},
   "outputs": [
    {
     "data": {
      "text/plain": [
       "defined \u001b[32mtrait \u001b[36mDataBase\u001b[0m\n",
       "defined \u001b[32mtrait \u001b[36mMemoryDataBase\u001b[0m\n",
       "defined \u001b[32mtrait \u001b[36mFileDataBase\u001b[0m"
      ]
     },
     "metadata": {},
     "output_type": "display_data"
    }
   ],
   "source": [
    "// DBのインターフェース\n",
    "trait DataBase[T]{\n",
    "    def save(data:T):Unit\n",
    "}\n",
    "\n",
    "// 実装\n",
    "trait MemoryDataBase[T] extends DataBase[T]{\n",
    "    val db:scala.collection.mutable.MutableList[T]=scala.collection.mutable.MutableList.empty\n",
    "    \n",
    "    def save(data:T)={\n",
    "        println(\"Saved In Memory\")\n",
    "        db.+=:( data)\n",
    "                     }\n",
    "}\n",
    "\n",
    "trait FileDataBase[T] extends DataBase[T]{\n",
    "    \n",
    "    def save(data:T)={\n",
    "        println(\"Saved In File\")\n",
    "                     }\n",
    "}"
   ]
  },
  {
   "cell_type": "code",
   "execution_count": 5,
   "metadata": {},
   "outputs": [
    {
     "data": {
      "text/plain": [
       "defined \u001b[32mtrait \u001b[36mPersister\u001b[0m"
      ]
     },
     "metadata": {},
     "output_type": "display_data"
    }
   ],
   "source": [
    "// Self Typeでpersitを実装する\n",
    "\n",
    "trait Persister[T]{\n",
    "    this:DataBase[T]=>\n",
    "    def persist(data:T):Unit=save(data)\n",
    "}"
   ]
  },
  {
   "cell_type": "code",
   "execution_count": null,
   "metadata": {
    "collapsed": true
   },
   "outputs": [],
   "source": [
    "traitの()の性質により、Persiterをインスタンス化するときに実装を注入(DI)すればよい"
   ]
  },
  {
   "cell_type": "code",
   "execution_count": 7,
   "metadata": {},
   "outputs": [
    {
     "name": "stdout",
     "output_type": "stream",
     "text": [
      "Saved In Memory\n",
      "Saved In File\n"
     ]
    },
    {
     "data": {
      "text/plain": [
       "\u001b[36mmemoryPersister\u001b[0m: \u001b[32mAnyRef\u001b[0m with \u001b[32mPersister\u001b[0m[\u001b[32mString\u001b[0m] with \u001b[32mMemoryDataBase\u001b[0m[\u001b[32mString\u001b[0m] = cmd6$$user$$anonfun$3$$anon$1@7b4fa54e\n",
       "\u001b[36mfilePersister\u001b[0m: \u001b[32mAnyRef\u001b[0m with \u001b[32mPersister\u001b[0m[\u001b[32mInt\u001b[0m] with \u001b[32mFileDataBase\u001b[0m[\u001b[32mInt\u001b[0m] = cmd6$$user$$anonfun$4$$anon$2@67c48675\n",
       "\u001b[36mres6_4\u001b[0m: \u001b[32mcollection\u001b[0m.\u001b[32mmutable\u001b[0m.\u001b[32mMutableList\u001b[0m[\u001b[32mString\u001b[0m] = \u001b[33mMutableList\u001b[0m(\u001b[32m\"data\"\u001b[0m)"
      ]
     },
     "metadata": {},
     "output_type": "display_data"
    }
   ],
   "source": [
    "val memoryPersister=new Persister[String] with MemoryDataBase[String]\n",
    "val filePersister=new Persister[Int] with FileDataBase[Int]\n",
    "\n",
    "memoryPersister.save(\"data\")\n",
    "filePersister.save(81) \n",
    "\n",
    "memoryPersister.db"
   ]
  },
  {
   "cell_type": "code",
   "execution_count": null,
   "metadata": {
    "collapsed": true
   },
   "outputs": [],
   "source": []
  },
  {
   "cell_type": "code",
   "execution_count": null,
   "metadata": {
    "collapsed": true
   },
   "outputs": [],
   "source": [
    "Self Typeを使用せずに　、()のように、DataBaseを継承することも可能だが、そうすると"
   ]
  },
  {
   "cell_type": "code",
   "execution_count": 3,
   "metadata": {},
   "outputs": [
    {
     "data": {
      "text/plain": [
       "defined \u001b[32mtrait \u001b[36mPersiter\u001b[0m"
      ]
     },
     "metadata": {},
     "output_type": "display_data"
    }
   ],
   "source": [
    "trait Persister[T] extends DataBase[T]{\n",
    "    def persist(data:T):Unit=save(data)\n",
    "}"
   ]
  },
  {
   "cell_type": "code",
   "execution_count": null,
   "metadata": {
    "collapsed": true
   },
   "outputs": [],
   "source": [
    "となり、あたかもPersisterがDataBaseの一つの形であるように誤解されてしまい、\n",
    "Persiter(使用する側)の責務とDataBase(使用される側)の責務がうまく分離できていない\n",
    "Self Typeを使用する事で、DataBaseをPersiterに内包する事ができ、責務を分離できることから、Self Typeは有用である。\n",
    "つまり、*SelfTypeはDI用の機能だといえる。*"
   ]
  },
  {
   "cell_type": "code",
   "execution_count": null,
   "metadata": {
    "collapsed": true
   },
   "outputs": [],
   "source": [
    "また、継承を使用すると、本来の責務上アクセスできないメソッドにアクセスできてしまうリスクがある。"
   ]
  },
  {
   "cell_type": "code",
   "execution_count": 12,
   "metadata": {},
   "outputs": [
    {
     "data": {
      "text/plain": [
       "defined \u001b[32mtrait \u001b[36mDB\u001b[0m\n",
       "defined \u001b[32mtrait \u001b[36mUserDB\u001b[0m\n",
       "defined \u001b[32mtrait \u001b[36mUserService\u001b[0m"
      ]
     },
     "metadata": {},
     "output_type": "display_data"
    }
   ],
   "source": [
    "// 以下よくない実装\n",
    "\n",
    "//  DBに接続と切断をする\n",
    "trait DB{\n",
    "    def connect()={\n",
    "        println(\"Connetct!\")\n",
    "    }\n",
    "    \n",
    "    def close()={\n",
    "        println(\"close!\")\n",
    "    }\n",
    "    \n",
    "//     DBを強制終了する\n",
    "        def drop()={\n",
    "        println(\"drop!\")\n",
    "    }\n",
    "}\n",
    "\n",
    "//  UserDB\n",
    "trait UserDB extends DB{\n",
    "    \n",
    "    def getUser(id:Int):Unit={\n",
    "        connect()\n",
    "        try{\n",
    "            println(s\"GetUser$id\")\n",
    "        }finally{\n",
    "            close()\n",
    "        }\n",
    "    }\n",
    "}\n",
    "\n",
    "// UserDBからユーザー情報を取得するUserService\n",
    "\n",
    "trait UserService extends UserDB{\n",
    "    \n",
    "    val user=getUser(1)\n",
    "    \n",
    "    // DB　　トレイトのメソッドをよべてしまう\n",
    "    drop()\n",
    "}"
   ]
  },
  {
   "cell_type": "code",
   "execution_count": 17,
   "metadata": {},
   "outputs": [
    {
     "name": "stdout",
     "output_type": "stream",
     "text": [
      "Connetct!\n",
      "GetUser1\n",
      "close!\n",
      "drop!\n"
     ]
    },
    {
     "data": {
      "text/plain": [
       "\u001b[36mbadService\u001b[0m: \u001b[32mAnyRef\u001b[0m with \u001b[32mUserService\u001b[0m = cmd16$$user$$anonfun$2$$anon$1@284b4e42"
      ]
     },
     "metadata": {},
     "output_type": "display_data"
    }
   ],
   "source": []
  },
  {
   "cell_type": "code",
   "execution_count": null,
   "metadata": {
    "collapsed": true
   },
   "outputs": [],
   "source": [
    "上記のように継承に頼って、実装していくと、ServiceでDBトレイトのdropが呼び出し可能になってしまう=責務が漏れ出ている\n",
    "ことにつながる。そこでSelfTypeを使用し"
   ]
  },
  {
   "cell_type": "code",
   "execution_count": 12,
   "metadata": {
    "scrolled": true
   },
   "outputs": [
    {
     "ename": "",
     "evalue": "",
     "output_type": "error",
     "traceback": [
      "\u001b[31mMain.scala:57: not found: value drop",
      "    drop()",
      "    ^\u001b[0m"
     ]
    }
   ],
   "source": [
    "// SelfTypeによるリファクタリング\n",
    "\n",
    "//  DBに接続と切断をする\n",
    "trait DB2{\n",
    "    def connect()={\n",
    "        println(\"Connetct!\")\n",
    "    }\n",
    "    \n",
    "    def close()={\n",
    "        println(\"close!\")\n",
    "    }\n",
    "    \n",
    "//     DBを強制終了する\n",
    "        def drop()={\n",
    "        println(\"drop!\")\n",
    "    }\n",
    "}\n",
    "\n",
    "//  UserDB\n",
    "trait UserDB2{\n",
    "    \n",
    "    this:DB2=>\n",
    "    def getUser(id:Int):Unit={\n",
    "        connect()\n",
    "        try{\n",
    "            println(s\"GetUser$id\")\n",
    "        }finally{\n",
    "            close()\n",
    "        }\n",
    "    }\n",
    "}\n",
    "\n",
    "// UserDBからユーザー情報を取得するUserService\n",
    "\n",
    "trait UserService2 {\n",
    "    \n",
    "    this:UserDB2 =>\n",
    "   val user= getUser(1)\n",
    "\n",
    "//     DB2トレイトのメソッドを呼ぼうとすると、コンパイルエラーになる\n",
    "    drop()\n",
    "\n",
    "    \n",
    "}\n",
    "\n"
   ]
  },
  {
   "cell_type": "code",
   "execution_count": null,
   "metadata": {
    "collapsed": true,
    "scrolled": true
   },
   "outputs": [],
   "source": [
    "\n"
   ]
  },
  {
   "cell_type": "code",
   "execution_count": null,
   "metadata": {
    "collapsed": true
   },
   "outputs": [],
   "source": []
  },
  {
   "cell_type": "code",
   "execution_count": null,
   "metadata": {
    "collapsed": true
   },
   "outputs": [],
   "source": [
    "\n"
   ]
  },
  {
   "cell_type": "code",
   "execution_count": null,
   "metadata": {
    "collapsed": true
   },
   "outputs": [],
   "source": []
  },
  {
   "cell_type": "code",
   "execution_count": null,
   "metadata": {
    "collapsed": true
   },
   "outputs": [],
   "source": []
  },
  {
   "cell_type": "code",
   "execution_count": 13,
   "metadata": {},
   "outputs": [
    {
     "data": {
      "text/plain": [
       "defined \u001b[32mtrait \u001b[36mMonoid\u001b[0m"
      ]
     },
     "metadata": {},
     "output_type": "display_data"
    }
   ],
   "source": []
  },
  {
   "cell_type": "code",
   "execution_count": null,
   "metadata": {
    "collapsed": true
   },
   "outputs": [],
   "source": []
  },
  {
   "cell_type": "code",
   "execution_count": 15,
   "metadata": {
    "scrolled": true
   },
   "outputs": [
    {
     "ename": "",
     "evalue": "",
     "output_type": "error",
     "traceback": [
      "Failure(End:1:1 ...\"package ob\")"
     ]
    }
   ],
   "source": []
  },
  {
   "cell_type": "code",
   "execution_count": 15,
   "metadata": {},
   "outputs": [
    {
     "ename": "",
     "evalue": "",
     "output_type": "error",
     "traceback": [
      "\u001b[31mMain.scala:24: not found: value intAddition",
      "intAddition.op(1,2)",
      "^\u001b[0m"
     ]
    }
   ],
   "source": []
  },
  {
   "cell_type": "code",
   "execution_count": null,
   "metadata": {
    "collapsed": true
   },
   "outputs": [],
   "source": []
  },
  {
   "cell_type": "code",
   "execution_count": null,
   "metadata": {
    "collapsed": true
   },
   "outputs": [],
   "source": []
  },
  {
   "cell_type": "code",
   "execution_count": 14,
   "metadata": {},
   "outputs": [
    {
     "ename": "",
     "evalue": "",
     "output_type": "error",
     "traceback": [
      "\u001b[31mMain.scala:24: not found: value intAddition",
      "intAddition",
      "^\u001b[0m"
     ]
    }
   ],
   "source": []
  },
  {
   "cell_type": "code",
   "execution_count": 14,
   "metadata": {},
   "outputs": [
    {
     "ename": "",
     "evalue": "",
     "output_type": "error",
     "traceback": [
      "Failure(End:1:11 ...\":\\n   def _\")"
     ]
    }
   ],
   "source": []
  },
  {
   "cell_type": "code",
   "execution_count": null,
   "metadata": {
    "collapsed": true
   },
   "outputs": [],
   "source": [
    "###### "
   ]
  },
  {
   "cell_type": "code",
   "execution_count": null,
   "metadata": {
    "collapsed": true
   },
   "outputs": [],
   "source": []
  }
 ],
 "metadata": {
  "kernelspec": {
   "display_name": "Scala 2.11",
   "language": "scala211",
   "name": "scala211"
  },
  "language_info": {
   "codemirror_mode": "text/x-scala",
   "file_extension": ".scala",
   "mimetype": "text/x-scala",
   "name": "scala211",
   "pygments_lexer": "scala",
   "version": "2.11.7"
  }
 },
 "nbformat": 4,
 "nbformat_minor": 2
}

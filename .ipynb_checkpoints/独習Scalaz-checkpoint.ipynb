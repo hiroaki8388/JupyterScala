{
 "cells": [
  {
   "cell_type": "code",
   "execution_count": 4,
   "metadata": {},
   "outputs": [
    {
     "name": "stdout",
     "output_type": "stream",
     "text": [
      "Adding 0 artifact(s)\n",
      "Adding 0 artifact(s)\n",
      "Adding 0 artifact(s)\n",
      "Adding 6 artifact(s)\n"
     ]
    },
    {
     "data": {
      "text/plain": [
       "\u001b[36mscalazVersion\u001b[0m: \u001b[32mString\u001b[0m = \u001b[32m\"7.1.0\"\u001b[0m"
      ]
     },
     "metadata": {},
     "output_type": "display_data"
    }
   ],
   "source": [
    "val scalazVersion=\"7.1.0\"\n",
    "classpath.add(\"org.scalaz\" %% \"scalaz-core\" % scalazVersion)\n",
    "classpath.add(\"org.scalaz\" %% \"scalaz-effect\" % scalazVersion)\n",
    "classpath.add(\"org.scalaz\" %% \"scalaz-typelevel\" % scalazVersion)\n",
    "classpath.add(\"org.scalaz\" %% \"scalaz-scalacheck-binding\" % scalazVersion )\n"
   ]
  },
  {
   "cell_type": "code",
   "execution_count": 6,
   "metadata": {
    "scrolled": true
   },
   "outputs": [
    {
     "data": {
      "text/plain": [
       "\u001b[32mimport \u001b[36mscalaz._\u001b[0m\n",
       "\u001b[32mimport \u001b[36mScalaz._\u001b[0m\n",
       "\u001b[36mres5_2\u001b[0m: \u001b[32mscalaz\u001b[0m.\u001b[32mOrdering\u001b[0m = LT"
      ]
     },
     "metadata": {},
     "output_type": "display_data"
    }
   ],
   "source": [
    "import scalaz._\n",
    "import Scalaz._\n"
   ]
  },
  {
   "cell_type": "code",
   "execution_count": 8,
   "metadata": {},
   "outputs": [
    {
     "data": {
      "text/plain": [
       "defined \u001b[32mfunction \u001b[36mbt\u001b[0m"
      ]
     },
     "metadata": {},
     "output_type": "display_data"
    }
   ],
   "source": []
  },
  {
   "cell_type": "code",
   "execution_count": 9,
   "metadata": {},
   "outputs": [
    {
     "data": {
      "text/plain": [
       "\u001b[36mres8\u001b[0m: \u001b[32mOption\u001b[0m[\u001b[32mInt\u001b[0m] = \u001b[33mSome\u001b[0m(\u001b[32m100\u001b[0m)"
      ]
     },
     "metadata": {},
     "output_type": "display_data"
    }
   ],
   "source": [
    "bt option 100"
   ]
  },
  {
   "cell_type": "code",
   "execution_count": null,
   "metadata": {
    "collapsed": true
   },
   "outputs": [],
   "source": [
    "BooleanOps.??[A]( => A)(implicit Monoid[A]): \n",
    "AをMonoid[A]に変換し、BooleanOpsがtrueならば、Aを、falseならば単位元を返す"
   ]
  },
  {
   "cell_type": "code",
   "execution_count": 14,
   "metadata": {},
   "outputs": [
    {
     "data": {
      "text/plain": [
       "defined \u001b[32mfunction \u001b[36mbt\u001b[0m\n",
       "defined \u001b[32mfunction \u001b[36mbf\u001b[0m\n",
       "\u001b[36mres13_2\u001b[0m: \u001b[32mInt\u001b[0m = \u001b[32m100\u001b[0m\n",
       "\u001b[36mres13_3\u001b[0m: \u001b[32mOption\u001b[0m[\u001b[32mInt\u001b[0m] = \u001b[33mSome\u001b[0m(\u001b[32m100\u001b[0m)\n",
       "\u001b[36mres13_4\u001b[0m: \u001b[32mInt\u001b[0m = \u001b[32m0\u001b[0m\n",
       "\u001b[36mres13_5\u001b[0m: \u001b[32mOption\u001b[0m[\u001b[32mInt\u001b[0m] = None"
      ]
     },
     "metadata": {},
     "output_type": "display_data"
    }
   ],
   "source": [
    "def bt=true\n",
    "def bf=false\n",
    "\n",
    "bt ?? 100\n",
    "bt ?? 100.some\n",
    "bf ?? 100\n",
    "bf ?? 100.some"
   ]
  },
  {
   "cell_type": "code",
   "execution_count": 11,
   "metadata": {},
   "outputs": [
    {
     "data": {
      "text/plain": [
       "\u001b[36mres10\u001b[0m: \u001b[32mInt\u001b[0m = \u001b[32m100\u001b[0m"
      ]
     },
     "metadata": {},
     "output_type": "display_data"
    }
   ],
   "source": [
    "// btがtrueを返したら、100を返し、そうでなければ0を返す\n",
    "bt ?? 100"
   ]
  },
  {
   "cell_type": "code",
   "execution_count": 7,
   "metadata": {},
   "outputs": [
    {
     "data": {
      "text/plain": [
       "\u001b[36ma\u001b[0m: \u001b[32mOrdering\u001b[0m = LT"
      ]
     },
     "metadata": {},
     "output_type": "display_data"
    }
   ],
   "source": [
    "val a=1.0 ?|? 2.0\n"
   ]
  }
 ],
 "metadata": {
  "kernelspec": {
   "display_name": "Scala 2.11",
   "language": "scala211",
   "name": "scala211"
  },
  "language_info": {
   "codemirror_mode": "text/x-scala",
   "file_extension": ".scala",
   "mimetype": "text/x-scala",
   "name": "scala211",
   "pygments_lexer": "scala",
   "version": "2.11.7"
  }
 },
 "nbformat": 4,
 "nbformat_minor": 2
}

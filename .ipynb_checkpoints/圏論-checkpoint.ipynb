{
 "cells": [
  {
   "cell_type": "code",
   "execution_count": null,
   "metadata": {
    "collapsed": true
   },
   "outputs": [],
   "source": [
    "# 圏論からScalaをつくる"
   ]
  },
  {
   "cell_type": "markdown",
   "metadata": {},
   "source": [
    "## 圏論とは?\n",
    "圏（category）とは、対象（object）と対象間のマップ（map）からなる。\n",
    "マップは、射（morphism または arrow）とも言う。\n",
    "マップは、結合則（associativity）にしたがって合成する（\n",
    "compose）ことができる。また、それぞれの対象に対して、合成に関して中立な恒等射（identity map）が存在する。"
   ]
  },
  {
   "cell_type": "markdown",
   "metadata": {},
   "source": [
    "- 対象\n",
    "- マップ(射)\n",
    "    - 結合則\n",
    "    - 恒等射\n",
    "    \n",
    "で構成される概念"
   ]
  },
  {
   "cell_type": "code",
   "execution_count": null,
   "metadata": {
    "collapsed": true
   },
   "outputs": [],
   "source": [
    "使われている語彙は何らかの「もの」と「矢印」と「矢印の連結」です。"
   ]
  },
  {
   "cell_type": "code",
   "execution_count": null,
   "metadata": {
    "collapsed": true
   },
   "outputs": [],
   "source": [
    "端的に言うと,圏とは\n",
    "対象の集まりと\n",
    "対象から対象への射の集まりからなり\n",
    "同じ対象に出入りする射の対は必ず合成でき\n",
    "射はどこから合成してもよく\n",
    "恒等射がある\n",
    "ものです。\n",
    "先ほどの例における恒等射\n",
    "型と関数の圏\n",
    "恒等関数 1A(x)=x\n",
    "恒等関数 1A(x)=x\n",
    "集合と包含関係の圏\n",
    "A⊆A\n",
    "A⊆A\n",
    "整数と順序の圏\n",
    "A≦A\n",
    "A≦A\n",
    "恒等射の一意性\n",
    "対象AAについての恒等射を1A1Aと表せるのは, 任意のAAについて恒等射が一意に定まるからです。\n",
    "【一意性の証明】\n",
    "1A,1′A:A→A1A,1A′:A→Aが共に恒等射だとする。\n",
    "恒等射の性質より右図の上半分,下半分はどちらも可換だから\n",
    "1A=1′A\n",
    "1A=1A′\n",
    "となる。つまり恒等射は一意に定まる。□\n",
    "このような証明スタイルをdiagram chasingといいます。\n",
    "積の定義\n",
    "対象AA,BBの積とは対象PP,射p1:P→Ap1:P→A，p2:P→Bp2:P→Bからなり, 任意の対象XXと任意の射f:X→Af:X→A, g:X→Bg:X→Bに対して，以下の図式が可換となるような u:X→Pu:X→Pが唯一つ存在するものである。\n",
    "\n"
   ]
  },
  {
   "cell_type": "code",
   "execution_count": null,
   "metadata": {
    "collapsed": true
   },
   "outputs": [],
   "source": [
    "https://github.com/quassia88/introduction-to-category-theory-in-scala-jp/wiki\n",
    "http://eed3si9n.com/ja/monads-are-not-metaphors"
   ]
  },
  {
   "cell_type": "code",
   "execution_count": null,
   "metadata": {
    "collapsed": true
   },
   "outputs": [],
   "source": [
    "## なぜ大抵の教科書はMonoid=>Functor=>Monadの順に説明するのか?\n",
    "それはMonoidが一番直感的に理解しやすく、Functorは圏から圏への射を持つ圏で、MonadはFunctorの一つだから、\n",
    "1. まず簡単に理解できる圏であるMonoidを理解して、\n",
    "2. そこからより高等な概念のFunctorを理解して\n",
    "3. 最後にFunctorに制約を加える事でMonadを理解する\n",
    "\n",
    "から"
   ]
  },
  {
   "cell_type": "code",
   "execution_count": null,
   "metadata": {
    "collapsed": true
   },
   "outputs": [],
   "source": []
  },
  {
   "cell_type": "code",
   "execution_count": null,
   "metadata": {
    "collapsed": true
   },
   "outputs": [],
   "source": []
  },
  {
   "cell_type": "markdown",
   "metadata": {},
   "source": [
    "圏CCから圏DDへの函手F:C→DF:C→Dとは CCの各対象AAにDDの対象F(A)F(A)を対応付け, CCの各射f:A→Bf:A→BにDDの射F(f):F(A)→F(B)F(f):F(A)→F(B)を 対応付ける2つの関数の組であり,以下の条件を満たすものである。\n",
    "任意のCCの射f:A→Bf:A→B, g:B→Cg:B→Cに対して\n",
    "F(g∘f)=F(g)∘F(f)\n",
    "F(g∘f)=F(g)∘F(f)\n",
    "任意のCCの対象AAに対して\n",
    "F(1A)=1F(A)"
   ]
  },
  {
   "cell_type": "code",
   "execution_count": null,
   "metadata": {
    "collapsed": true
   },
   "outputs": [],
   "source": [
    "  trait GenericFunctor[G[_, _], ->>>[_, _], F[_]] {\n",
    "    def fmap[A, B](f: G[A, B]): F[A] ->>> F[B]\n",
    "\n",
    "    type Function[-A, +B] = Function1[A, B]\n",
    "    object Category extends GenericCategory[Function] {\n",
    "      def id[A]: A => A = a => a\n",
    "\n",
    "      def compose[A, B, C](g: B => C, f: A => B): A => C =\n",
    "        g compose f // This is Function.compose, not a recursive call!\n",
    "    }"
   ]
  },
  {
   "cell_type": "code",
   "execution_count": null,
   "metadata": {
    "collapsed": true
   },
   "outputs": [],
   "source": []
  },
  {
   "cell_type": "code",
   "execution_count": null,
   "metadata": {
    "collapsed": true
   },
   "outputs": [],
   "source": []
  },
  {
   "cell_type": "code",
   "execution_count": null,
   "metadata": {
    "collapsed": true
   },
   "outputs": [],
   "source": []
  }
 ],
 "metadata": {
  "kernelspec": {
   "display_name": "Scala 2.11",
   "language": "scala211",
   "name": "scala211"
  },
  "language_info": {
   "codemirror_mode": "text/x-scala",
   "file_extension": ".scala",
   "mimetype": "text/x-scala",
   "name": "scala211",
   "pygments_lexer": "scala",
   "version": "2.11.7"
  }
 },
 "nbformat": 4,
 "nbformat_minor": 2
}

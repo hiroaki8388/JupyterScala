{
 "cells": [
  {
   "cell_type": "code",
   "execution_count": null,
   "metadata": {
    "collapsed": true
   },
   "outputs": [],
   "source": [
    "# Scalaのマイクロパフォーマンスのやり方と改善Tipについてのまとめ\n",
    "\n"
   ]
  },
  {
   "cell_type": "code",
   "execution_count": null,
   "metadata": {
    "collapsed": true
   },
   "outputs": [],
   "source": [
    "## 目的"
   ]
  },
  {
   "cell_type": "code",
   "execution_count": null,
   "metadata": {
    "collapsed": true
   },
   "outputs": [],
   "source": []
  },
  {
   "cell_type": "code",
   "execution_count": null,
   "metadata": {
    "collapsed": true
   },
   "outputs": [],
   "source": [
    "## 計測方法\n",
    "\n",
    "### 使用するツール\n",
    "\n",
    "[JMH](https://github.com/ktoso/sbt-jmh)      \n",
    "をsbtで使用するためのプラグイン\n",
    "[sbt-jmh](https://github.com/ktoso/sbt-jmh)      \n",
    "を使用          \n",
    "          \n",
    "          "
   ]
  },
  {
   "cell_type": "code",
   "execution_count": 0,
   "metadata": {},
   "outputs": [
    {
     "ename": "",
     "evalue": "",
     "output_type": "error",
     "traceback": [
      "Failure(End:1:5 ...\"\\u4f7f\\u7528\\u65b9\\u6cd5\\nplugi\")"
     ]
    }
   ],
   "source": [
    "### 使用方法\n",
    "\n",
    "\n"
   ]
  },
  {
   "cell_type": "code",
   "execution_count": null,
   "metadata": {
    "collapsed": true
   },
   "outputs": [],
   "source": [
    "#### 準備\n",
    "plugiin.sbtに以下の一文を追加\n",
    "\n",
    "```\n",
    "addSbtPlugin(\"pl.project13.scala\" % \"sbt-jmh\" % \"0.2.27\")\n",
    "```\n",
    "\n",
    "build.sbtに使用するモジュールをしてする\n",
    "\n",
    "```\n",
    "lazy val bench = project.dependsOn(anotherModule % \"test->test\").enablePlugins(JmhPlugin)\n",
    "```"
   ]
  },
  {
   "cell_type": "code",
   "execution_count": null,
   "metadata": {
    "collapsed": true
   },
   "outputs": [],
   "source": [
    "#### 構築\n",
    "\n",
    "- "
   ]
  },
  {
   "cell_type": "code",
   "execution_count": 0,
   "metadata": {},
   "outputs": [
    {
     "ename": "",
     "evalue": "",
     "output_type": "error",
     "traceback": [
      "Failure(End:1:6 ...\"\\u5b9f\\u884c\\n- sbt '\")"
     ]
    }
   ],
   "source": [
    "#### 実行\n",
    "\n",
    "- ベンチマーク一覧表示\n",
    "sbt 'jmh:run l' \n",
    "\n",
    "\n",
    "- 実行\n",
    "sbt 'jmh :run File.scala -wi 3 -w 5s -i 30 -r 10s -jvmArgs -Xmx1G -Xms1G -gc true -foe true -p enqueuedOrderCount = 1,10,50,100'\n",
    "\n",
    "```\n",
    "x 計測回数\n",
    "w: ウォームアップ回数\n",
    "z: 全体での実行回数\n",
    "k: スレッド数\n",
    "```\n",
    "上記のパラメータは`sbt`実行時にも設定できるが、下記のユースケースに書いてあるように、ファイルでも指定できる"
   ]
  },
  {
   "cell_type": "code",
   "execution_count": null,
   "metadata": {
    "collapsed": true
   },
   "outputs": [],
   "source": []
  },
  {
   "cell_type": "code",
   "execution_count": null,
   "metadata": {
    "collapsed": true
   },
   "outputs": [],
   "source": [
    "#### 注意点\n",
    "\n",
    "- 公式では少なくとも10回から20回は10回から20回それぞれウォームアップと計測することを推奨している\n",
    "\n",
    "> For \"real\" results we recommend to at least warm up 10 to 20 iterations, and then measure 10 to 20 iterations again. Forking the JVM is required to avoid falling into specific optimisations (no JVM optimisation is really \"completely\" predictable)\n",
    "\n",
    "- ファイル内にパッケージ名を記述しないとJVH上でエラーが出る\n"
   ]
  },
  {
   "cell_type": "code",
   "execution_count": 0,
   "metadata": {
    "scrolled": true
   },
   "outputs": [
    {
     "ename": "",
     "evalue": "",
     "output_type": "error",
     "traceback": [
      "Failure(End:1:5 ...\"\\u30e6\\u30fc\\u30b9\\u30b1\\u30fc\\u30b9\\n\\n``\")"
     ]
    }
   ],
   "source": [
    "### ユースケース"
   ]
  },
  {
   "cell_type": "code",
   "execution_count": null,
   "metadata": {
    "collapsed": true
   },
   "outputs": [],
   "source": [
    "import java.util.concurrent.TimeUnit\n",
    "import org.openjdk.jmh.annotations._\n",
    "\n",
    "//アウトプットの単位\n",
    "@OutputTimeUnit(TimeUnit.SECONDS)\n",
    "// ウォームアップの設定\n",
    "@Warmup(iterations = 3, timeUnit = TimeUnit.SECONDS)\n",
    "// 計測回数の設定\n",
    "@Measurement(iterations = 3, timeUnit = TimeUnit.SECONDS)\n",
    "// 全体の計測回数（-Xms1Gは使用するメモリ）\n",
    "@Fork(value = 1, jvmArgs = Array(\"-Xms1G\", \"-Xmx1G\"))\n",
    "// 使用するスレッド数\n",
    "@Threads(value = 1)\n",
    "class Test {\n",
    "\n",
    "  @Benchmark\n",
    "  def testList() = List(1 to 1000) map (i => i ++ Nil)\n",
    "\n",
    "  @Benchmark\n",
    "  def testList2() = List(1 to 1000) map (i => i :: Nil)\n",
    "}"
   ]
  },
  {
   "cell_type": "markdown",
   "metadata": {},
   "source": [
    "#### 結果\n",
    "\n",
    "```\n",
    "[info] # Run complete. Total time: 00:00:13\n",
    "[info] \n",
    "[info] Benchmark        Mode  Cnt        Score         Error  Units\n",
    "[info] Test.testList   thrpt    3   186188.238 ±   57351.322  ops/s\n",
    "[info] Test.testList2  thrpt    3  9388878.791 ± 8898351.975  ops/s\n",
    "```\n",
    "\n",
    "testList2の方が速い(詳細はカラーコップ本参照)"
   ]
  },
  {
   "cell_type": "code",
   "execution_count": null,
   "metadata": {
    "collapsed": true
   },
   "outputs": [],
   "source": [
    "## パフォーマンス改善Tips"
   ]
  },
  {
   "cell_type": "code",
   "execution_count": null,
   "metadata": {
    "collapsed": true
   },
   "outputs": [],
   "source": [
    "TODO"
   ]
  },
  {
   "cell_type": "code",
   "execution_count": null,
   "metadata": {
    "collapsed": true
   },
   "outputs": [],
   "source": []
  },
  {
   "cell_type": "code",
   "execution_count": null,
   "metadata": {
    "collapsed": true
   },
   "outputs": [],
   "source": [
    "## 参考資料\n",
    "[jmh公式ドキュメント](http://openjdk.java.net/projects/code-tools/jmh/)\n",
    "[アドテク×Scala×パフォーマンスチューニング](https://www.slideshare.net/mogproject/scala-41799241)\n"
   ]
  }
 ],
 "metadata": {
  "kernelspec": {
   "display_name": "Scala 2.11",
   "language": "scala211",
   "name": "scala211"
  },
  "language_info": {
   "codemirror_mode": "text/x-scala",
   "file_extension": ".scala",
   "mimetype": "text/x-scala",
   "name": "scala211",
   "pygments_lexer": "scala",
   "version": "2.11.7"
  }
 },
 "nbformat": 4,
 "nbformat_minor": 2
}

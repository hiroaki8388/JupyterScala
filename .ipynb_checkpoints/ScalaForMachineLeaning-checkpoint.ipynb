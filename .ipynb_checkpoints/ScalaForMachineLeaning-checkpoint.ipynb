{
 "cells": [
  {
   "cell_type": "markdown",
   "metadata": {},
   "source": [
    "# データ分析基盤を関数型言語の特性を活かして構築する"
   ]
  },
  {
   "cell_type": "markdown",
   "metadata": {},
   "source": [
    "# なんで関数型言語でデータ分析か?\n",
    "データ分析と言えば、pythonやRなどの言語が主流です。理由としては、おそらく、実装が簡単、ライブラリが豊富というのが主な理由であると思います。 \n",
    "実際にpythonやRで機械学習のライブラリをす多少は叩いてみたこともありますが、初心者が軽く触ってもなんとなく、結果がでるのはとてもおもしろかったです。ただし、どうしてもなんとなく以上に進めない歯痒さや、ライブラリの中身がブラックボックスになっているもどかしさ、そして何より、コードの再利用、テスタビリティー、可読性が自分の至らなさもあってどうしても難しいところがありました。そこで、 **オブジェクト&関数型言語により出来る限りスクラッチで圏と関数、オブジェクト指向の概念を基に実装するチャレンジをすることで、より見晴らしの良いデータ分析の基盤を構築してみようと思いました。**  \n",
    "そのため、この基盤を構築するにあたって、3つの概念をうまく組み合わせる必要があります。\n",
    "- 圏や関数の数学的な概念\n",
    "- データ分析で行われるデータ処理、機械学習、モデルの検証などの概念\n",
    "- オブジェクト指向などの、プログラミングの概念\n",
    "\n",
    "それぞれ3つの全く異なる分野ですが、数学とデータ分析はそれぞれの分野が互いに補完し合い、プログラミングにおいて有益なはたらきをします。\n",
    "圏や関数（正確に言うと、関数は圏の概念の一部になりますが、わかりやすさのため、あえて分けています。）は「数学」という強固なフレームワークをもち、そのフレームワークのおかげで、自分で一部だけ実装すれば、定理に裏付けされたロジックにより、あとはよしなにやってくれるための基盤をつくることができます。(デザインパターンで言うところの、Templeteパターン、Factoryパターンの使いどころです。)  \n",
    "データ分析は、データの変換と処理により構築されるので、そのような数学的基盤はとても有用です。数学のフレームワークをバックグラウンドに、**具体的に何をするかをアルゴリズムにより肉付けてきます。**    \n",
    "数学（フレームワーク）とデータ分析（アルゴリズム）を仲介役として、関数型プログラミングによって実装する事で、**この２つの概念を結びつけ、再利用性と可読性に秀でたデータ分析基盤を構築するのが、この記事の目的です。** \n",
    "なお、プログラミング言語としては、Scala(ver2.11 ~)を採用します。この言語は関数型としての特性と、オブジェクト指向としての両方の性質をもつので、より、可読性、再利用性の高いプログラミングを行う事ができると期待できます。"
   ]
  },
  {
   "cell_type": "markdown",
   "metadata": {},
   "source": [
    "# 動作環境\n",
    "- Scala 2.11.8 or higher\n",
    "- Java 1.8.0_25\n",
    "- SBT 0.13 or higher\n",
    "- JFreeChart 1.0.17\n",
    "- Apache Commons Math library 3.5\n",
    "- Indian Institute of Technology Bombay CRF 0.2\n",
    "- LIBSVM 0.1.6\n",
    "- Akka 2.3.8 or higher\n",
    "- Apache Spark 2.1.0 or higher "
   ]
  },
  {
   "cell_type": "markdown",
   "metadata": {},
   "source": [
    "# データ分析と圏論、関数との相互作用\n",
    "データ分析について、簡単にまとめ、改めて圏論、関数との相性について考えます。\n",
    "\n",
    "## データ分析の区分\n",
    "### 分類 (Classification)\n",
    "履歴データから、分類するためのパターンを抽出する(ex xx度以上の体温の場合、風邪と分類する)\n",
    "\n",
    "### 予測(Prediction)\n",
    "履歴データを参照し、現在の状態から、別の状態を予測（推測）する（ex 大規模の患者データを参考に、現在の健康状態から疾病リスクを予測する）\n",
    "\n",
    "### 最適化(Optimization)\n",
    "全体最適を大規模のデータから構築する\n",
    "\n",
    "### 回帰 (Regression)\n",
    "データに沿った関数を提供する（連続的な分類モデルと同一視出来る）"
   ]
  },
  {
   "cell_type": "markdown",
   "metadata": {},
   "source": [
    "上記のどのようなデータ分析も、大まかには以下のプロセスを通して構築されます\n",
    "\n",
    "## データ分析の作業フロー\n",
    "\n",
    "1. 問題の定義\n",
    "2. データの入手\n",
    "3. データのクリーニング（ノイズの除去、規格化など）\n",
    "4. データのパターン分け（必要に応じて）\n",
    "5. 特徴量の選択と、モデルの選択\n",
    "6. モデルの学習と検証　\n",
    "7. モデルの性能の向上\n"
   ]
  },
  {
   "cell_type": "markdown",
   "metadata": {},
   "source": [
    "結局のところ、データ分析とは、 **何らかの観測データ[T]を最終的な分析結果[V]に変換しているにすぎないです。** この考え方は、 **圏論のフレームワークを基に実装する可能性を示唆してます**"
   ]
  },
  {
   "cell_type": "markdown",
   "metadata": {},
   "source": [
    "# 圏\n",
    "数学的には、圏の定義は以下です。\n",
    "\n",
    "が、重要なのは、 **圏とは、型と矢印で構築される概念なんだな** ということです。いわばこれから作るデータの流れの**インフラ基盤を提供してくれる存在**という認識をもつことが出来ればと思います。"
   ]
  },
  {
   "cell_type": "markdown",
   "metadata": {},
   "source": [
    "# Scalaでデータ分析を始める\n",
    "圏論&関数型の特徴はデータ分析に応用できる  \n",
    "\n",
    "圏論の立場において、プログラミング上、特に重要なのは、関手とMonadの概念である\n",
    "\n",
    "1. 関手(Functor): データの型を別の変換する概念: Scalaではmapにより実装される\n",
    "2. Monad: ラップされている型を、別の型に変換する概念。ただし変換された後の型は変改前と同じ型でラップされる: ScalaではunitとflatMapにより実装される\n",
    "\n",
    "2 は1. の特殊な場合である\n"
   ]
  },
  {
   "cell_type": "markdown",
   "metadata": {},
   "source": [
    "関手もMonadも圏の概念から出てきたものである。\n",
    "圏Mは以下の条件をみたす構造体である\n",
    "\n",
    "- Objects of some type {x e X, y Є Y, z Є Z, …}\n",
    "- Morphisms or maps applied to these objects x Є X, y Є Y, f: x -› y\n",
    "- Composition of morphisms f: x -› y, g: y -› z => g o f: x -› z"
   ]
  },
  {
   "cell_type": "markdown",
   "metadata": {},
   "source": [
    "# 高階型(HIGHER KINDED TYPES)\n",
    "高階型は型を抽象化することにより、既存の型から、新しい型を構築する。\n",
    "以下のように、パラメータに型をもつトレイトを構築したとすると、"
   ]
  },
  {
   "cell_type": "code",
   "execution_count": 1,
   "metadata": {},
   "outputs": [
    {
     "ename": "",
     "evalue": "",
     "output_type": "error",
     "traceback": [
      "Failure(\"}\":1:15 ...\".  } \")"
     ]
    }
   ],
   "source": [
    "trait M[T] {  .  } "
   ]
  },
  {
   "cell_type": "markdown",
   "metadata": {},
   "source": [
    "高階型は以下のように実装される"
   ]
  },
  {
   "cell_type": "code",
   "execution_count": 1,
   "metadata": {},
   "outputs": [
    {
     "ename": "",
     "evalue": "",
     "output_type": "error",
     "traceback": [
      "\u001b[31mMain.scala:23: H is already defined as trait H",
      "              trait H[M[_]] ; class H[M[_]]",
      "                                    ^\u001b[0m"
     ]
    }
   ],
   "source": [
    "trait H[M[_]]; class H[M[_]] "
   ]
  },
  {
   "cell_type": "markdown",
   "metadata": {},
   "source": [
    "例: 射（Monad）は高階型である"
   ]
  },
  {
   "cell_type": "code",
   "execution_count": 1,
   "metadata": {},
   "outputs": [
    {
     "ename": "",
     "evalue": "",
     "output_type": "error",
     "traceback": [
      "\u001b[31mMain.scala:24: not found: value TODO",
      "TODO",
      "^\u001b[0m"
     ]
    }
   ],
   "source": [
    "TODO"
   ]
  },
  {
   "cell_type": "markdown",
   "metadata": {},
   "source": [
    "## 高階型をどのようにデータ分析に応用するか?\n",
    "例えば、機械学習による分類は、以下のようにペクトル同士の**内積**とみなせる"
   ]
  },
  {
   "cell_type": "code",
   "execution_count": 1,
   "metadata": {},
   "outputs": [
    {
     "ename": "",
     "evalue": "",
     "output_type": "error",
     "traceback": [
      "\u001b[31mMain.scala:24: not found: value TODO",
      "TODO",
      "^\u001b[0m"
     ]
    }
   ],
   "source": [
    "TODO"
   ]
  },
  {
   "cell_type": "markdown",
   "metadata": {},
   "source": [
    "これは、圏論の概念に変換すると、**余ベクトルによる、線形写像とみなすことができる**"
   ]
  },
  {
   "cell_type": "code",
   "execution_count": 1,
   "metadata": {},
   "outputs": [
    {
     "ename": "",
     "evalue": "",
     "output_type": "error",
     "traceback": [
      "\u001b[31mMain.scala:24: not found: value TODO",
      "TODO",
      "^\u001b[0m"
     ]
    }
   ],
   "source": [
    "TODO"
   ]
  },
  {
   "cell_type": "markdown",
   "metadata": {},
   "source": [
    "この概念をScalaにより実装する。  \n",
    "高階型`Hom`共射と反射をもつ型として定義する"
   ]
  },
  {
   "cell_type": "code",
   "execution_count": 2,
   "metadata": {},
   "outputs": [
    {
     "data": {
      "text/plain": [
       "defined \u001b[32mtype \u001b[36mHom\u001b[0m"
      ]
     },
     "metadata": {},
     "output_type": "display_data"
    }
   ],
   "source": [
    "type Hom[T] = {\n",
    "  type Right[X] = Function1[X,T] // Co-vector\n",
    "  type Left[X] = Function1[T,X]   // Vector\n",
    " }"
   ]
  },
  {
   "cell_type": "markdown",
   "metadata": {},
   "source": [
    "## 共関手( covariant functor )\n",
    "一般的に関手というとこれをさす。下記の反関手と区別するため、共関手と呼ばれる  \n",
    "共関手を以下のように定義する\n",
    "- If f: x -› y is a morphism on C then F(x) -› F(y) is also a morphism on C\n",
    "- If id: x -› x is the identity morphism on C then F(id) is also an identity morphism on C\n",
    "- If g: y -› z is also a morphism on C then F(g o f) = F(g) o F(f)"
   ]
  },
  {
   "cell_type": "code",
   "execution_count": 3,
   "metadata": {},
   "outputs": [
    {
     "data": {
      "text/plain": [
       "defined \u001b[32mtrait \u001b[36mFunctor\u001b[0m"
      ]
     },
     "metadata": {},
     "output_type": "display_data"
    }
   ],
   "source": [
    "trait Functor[M[_]]{ def map[U,V](m: M[U])(f: U=>V): M[V] }"
   ]
  },
  {
   "cell_type": "code",
   "execution_count": 3,
   "metadata": {},
   "outputs": [
    {
     "ename": "",
     "evalue": "",
     "output_type": "error",
     "traceback": [
      "Failure(End:1:1 ...\"\\u4f8b:\\u3053\\u3053\\u3067\\u3001\\u89b3\\u6e2c\\u3055\\u308c\")"
     ]
    }
   ],
   "source": [
    "例:ここで、観測された値を、n次元のベクトル(T)型として、定義する"
   ]
  },
  {
   "cell_type": "code",
   "execution_count": 4,
   "metadata": {},
   "outputs": [
    {
     "data": {
      "text/plain": [
       "defined \u001b[32mtrait \u001b[36mObsFunctor\u001b[0m"
      ]
     },
     "metadata": {},
     "output_type": "display_data"
    }
   ],
   "source": [
    "trait ObsFunctor[T] extends Functor[(Hom[T])#Left] { self =>\n",
    "  override def map[U,V](vu: Function1[T,U])(f: U =>V): \n",
    "    Function1[T,V] = f.compose(vu)\n",
    "}"
   ]
  },
  {
   "cell_type": "markdown",
   "metadata": {},
   "source": [
    "## 反関手（contravariant functor）\n",
    "時により余関手(co-functor)と言われる事もある  \n",
    "反射を以下のように定義する\n",
    "- If f: x -› y is a morphism on C then F(y) -› F(x) is also a morphism on C\n",
    "- If id: x -› x is the identity morphism on C then F(id) is also an identity morphism on C\n",
    "- If g: y -› z is also a morphism on C then F(g o f) = F(f) o F(g)\n"
   ]
  },
  {
   "cell_type": "code",
   "execution_count": 5,
   "metadata": {},
   "outputs": [
    {
     "data": {
      "text/plain": [
       "defined \u001b[32mtrait \u001b[36mCoFunctor\u001b[0m"
      ]
     },
     "metadata": {},
     "output_type": "display_data"
    }
   ],
   "source": [
    "trait CoFunctor[M[_]]{def map[U,V](m:M[U])(f:V=>U):M[V]}"
   ]
  },
  {
   "cell_type": "code",
   "execution_count": 5,
   "metadata": {},
   "outputs": [
    {
     "ename": "",
     "evalue": "",
     "output_type": "error",
     "traceback": [
      "\u001b[31mMain.scala:28: type mismatch;",
      " found   : U => T",
      " required: V => T",
      "    Function1[U,T]=f.andThen(vu)",
      "                             ^\u001b[0m"
     ]
    }
   ],
   "source": [
    "trait CoObsVector[T] extends CoFunctor[(Hom[T])#Right]{self =>\n",
    "    override def map[U,V](vu:Function1[U,T])(f: U=>V):\n",
    "    Function1[U,T]=f.andThen(vu)\n",
    "}"
   ]
  },
  {
   "cell_type": "markdown",
   "metadata": {},
   "source": [
    "# Data Piplene\n",
    "上に書いた。７つのワークフローに沿って、データの分析がおこなわれいく、そのデータの流れを構築するためのパイプラインをScalaで構造化していく"
   ]
  },
  {
   "cell_type": "markdown",
   "metadata": {},
   "source": [
    "## モデルとは\n",
    "- A scientific model seeks to represent empirical objects, phenomena, and physical processes in a logical and objective way.\n",
    "\n",
    "- Models that are rendered in software allow scientists to leverage computational power to simulate, visualize, manipulate and gain intuition about the entity, phenomenon or process being represented.\n",
    "\n",
    "モデルとは、 **特定のシステムから観測されるデータを説明するため**に使用される。対象のデータをを説明するためのパターンをモデルとして構築し、そこから、新たなパターンを構築する  \n",
    "Scala(関数型言語)においては、関数と圏の概念により、数学的バックグラウンドに基づいたモデルを構築する"
   ]
  },
  {
   "cell_type": "markdown",
   "metadata": {},
   "source": [
    "## 圏論の立場によるモデルの構築\n",
    "数学的には、関数も圏の一部と見なせる、ため圏と関数を分けるのは良くないが、プログラミングの立場からは、その役割が異なる事から意図的に区別してまとめる。大まかには、**圏: 大まかな構造（フレームワーク）を提供、関数: 圏では運用上難しいところを小回りよく活用する**ように役割をかえてつかう\n",
    "- データの操作および連鎖に関して、高度に抽象化されたフレームワークを提供する\n",
    "- 非常に協力だが、反面、高度に抽象化されている故に、小回りが効かない"
   ]
  },
  {
   "cell_type": "markdown",
   "metadata": {},
   "source": [
    "## モデルの実装\n",
    "データ変換を行う以下のようなモデルを定義する"
   ]
  },
  {
   "cell_type": "code",
   "execution_count": 19,
   "metadata": {},
   "outputs": [
    {
     "data": {
      "text/plain": [
       "\u001b[32mimport \u001b[36mscala.util.Try\u001b[0m\n",
       "defined \u001b[32mtrait \u001b[36mITransform\u001b[0m"
      ]
     },
     "metadata": {},
     "output_type": "display_data"
    }
   ],
   "source": [
    "import scala.util.Try\n",
    "\n",
    "trait Transform[T,A]{ // T:インプットする特徴量のデータ,A:アウトプットされるデータ\n",
    "    self=>\n",
    "    def |> :PartialFunction[T,Try[A]] // データのバリデーションを行うメソッド\n",
    "    def map[B](f:A=>V):ITransform[T,B]= ??? // \n",
    "    def flatMap[B](f:A=>ITransform[T,B]):ITransform[T,B]= ???\n",
    "    def andThen[B](tr:ITransform[A,B]):ITransform[T,B]= ??? // monadにおいて、定義が必須ではないが、変換を結合する際に有用\n",
    "}"
   ]
  },
  {
   "cell_type": "code",
   "execution_count": 18,
   "metadata": {
    "scrolled": true
   },
   "outputs": [
    {
     "ename": "",
     "evalue": "",
     "output_type": "error",
     "traceback": [
      "Failure(\")\":18:25 ...\"(line 10)\\n\")"
     ]
    }
   ],
   "source": [
    "map,flatMap,andThenの"
   ]
  },
  {
   "cell_type": "code",
   "execution_count": 21,
   "metadata": {},
   "outputs": [
    {
     "data": {
      "text/plain": [
       "\u001b[32mimport \u001b[36mscala.util.Try\u001b[0m\n",
       "defined \u001b[32mtrait \u001b[36mITransform\u001b[0m"
      ]
     },
     "metadata": {},
     "output_type": "display_data"
    }
   ],
   "source": [
    "import scala.util.Try\n",
    "\n",
    "trait ITransform[T,A]{ // T:インプットする特徴量のデータ,A:アウトプットされるデータ\n",
    "    self=>\n",
    "    def |> :PartialFunction[T,Try[A]] // データのバリデーションを行うメソッド\n",
    "    \n",
    "    def map[B](f:A=>B):ITransform[T,B]= new ITransform[T,B]{\n",
    "        override def |> =new PartialFunction[T,Try[B]] {\n",
    "            override def isDefinedAt(t:T)=\n",
    "            self.|>.isDefinedAt(t)\n",
    "            override def apply(t:T):Try[B]=self.|>(t).map(f)\n",
    "        }\n",
    "    }\n",
    "    \n",
    "    def flatMap[B](f:A=>ITransform[T,B]):ITransform[T,B]= new ITransform[T,B]{\n",
    "        override def |> =new PartialFunction[T,Try[B]] {\n",
    "            override def isDefinedAt(t:T)=\n",
    "            self.|>.isDefinedAt(t)\n",
    "            override def apply(t:T):Try[B]=self.|>(t).flatMap(f(_).|>(t))\n",
    "        }\n",
    "    }\n",
    "    \n",
    "    def andThen[B](tr:ITransform[A,B]):ITransform[T,B]= new ITransform[T,B]{\n",
    "        override def |> =new PartialFunction[T,Try[B]] {\n",
    "          override def isDefinedAt(t:T)=\n",
    "            self.|>.isDefinedAt(t) && tr.|>.isDefinedAt(self.|>(t).get)\n",
    "            override def apply(t:T)=tr.|>(self.|>(t).get)\n",
    "        }\n",
    "    }\n",
    "}"
   ]
  },
  {
   "cell_type": "markdown",
   "metadata": {},
   "source": [
    "データ変換において、外部の何らかのコンテキストに依存する場合もある。そのため、外部から`config`を注入できるタイプのモデル `Transform`を構築する"
   ]
  },
  {
   "cell_type": "code",
   "execution_count": 20,
   "metadata": {},
   "outputs": [
    {
     "data": {
      "text/plain": [
       "defined \u001b[32mtrait \u001b[36mConfig\u001b[0m\n",
       "defined \u001b[32mclass \u001b[36mConfigInt\u001b[0m\n",
       "defined \u001b[32mclass \u001b[36mConfigDouble\u001b[0m\n",
       "defined \u001b[32mclass \u001b[36mConfigArrayDouble\u001b[0m"
      ]
     },
     "metadata": {},
     "output_type": "display_data"
    }
   ],
   "source": [
    "trait Config\n",
    "case class ConfigInt(iParam:Int) extends Config\n",
    "case class ConfigDouble(fParam:Double) extends Config\n",
    "case class ConfigArrayDouble(fParam:Double) extends Config"
   ]
  },
  {
   "cell_type": "markdown",
   "metadata": {},
   "source": [
    "## 関数の立場によるモデルの構築\n",
    "- 関数の特性により、より小回りが効くモデルを提供する"
   ]
  },
  {
   "cell_type": "markdown",
   "metadata": {},
   "source": [
    "- Declare the variables relevant to the problem.\n",
    "- Define a model (equation, algorithm, formulas…) as the solution to the problem.\n",
    "- Instantiate the variables and execute the model to solve the problem."
   ]
  },
  {
   "cell_type": "code",
   "execution_count": null,
   "metadata": {
    "collapsed": true
   },
   "outputs": [],
   "source": []
  },
  {
   "cell_type": "code",
   "execution_count": null,
   "metadata": {
    "collapsed": true
   },
   "outputs": [],
   "source": []
  },
  {
   "cell_type": "markdown",
   "metadata": {},
   "source": [
    "## 変数の宣言\n",
    "関数の特性により、モデルを構築するときの基盤を考える  "
   ]
  },
  {
   "cell_type": "code",
   "execution_count": 9,
   "metadata": {},
   "outputs": [
    {
     "data": {
      "text/plain": [
       "defined \u001b[32mtype \u001b[36mV\u001b[0m\n",
       "defined \u001b[32mtrait \u001b[36mF\u001b[0m\n",
       "defined \u001b[32mtrait \u001b[36mG\u001b[0m"
      ]
     },
     "metadata": {},
     "output_type": "display_data"
    }
   ],
   "source": [
    "type V=Vector[Double]\n",
    "trait F{val f:V=>V}\n",
    "trait G{val g:V=>Double}"
   ]
  },
  {
   "cell_type": "code",
   "execution_count": 6,
   "metadata": {},
   "outputs": [
    {
     "ename": "",
     "evalue": "",
     "output_type": "error",
     "traceback": [
      "Failure(End:1:1 ...\"\\u3053\\u308c\\u306f\\u3001\\u6570\\u5b66\\u7684\\u8a18\\u53f7\\u3067\")"
     ]
    }
   ],
   "source": [
    "これは、数学的記号で定義すると、"
   ]
  },
  {
   "cell_type": "code",
   "execution_count": 6,
   "metadata": {},
   "outputs": [
    {
     "ename": "",
     "evalue": "",
     "output_type": "error",
     "traceback": [
      "Failure(End:1:11 ...\", g:R^n=>R\")"
     ]
    }
   ],
   "source": [
    "f:R^n=>R^n, g:R^n=>R"
   ]
  },
  {
   "cell_type": "code",
   "execution_count": 6,
   "metadata": {},
   "outputs": [
    {
     "ename": "",
     "evalue": "",
     "output_type": "error",
     "traceback": [
      "Failure(End:1:1 ...\"\\u3068\\u66f8\\u3051\\u308b\")"
     ]
    }
   ],
   "source": [
    "と書ける"
   ]
  },
  {
   "cell_type": "markdown",
   "metadata": {},
   "source": [
    "## モデルの定義\n",
    "\n",
    "この２つを関数合成した関数`h=f◦g`を実装することを要請した`class H`は以下のように定義できる"
   ]
  },
  {
   "cell_type": "code",
   "execution_count": 10,
   "metadata": {},
   "outputs": [
    {
     "data": {
      "text/plain": [
       "defined \u001b[32mclass \u001b[36mH\u001b[0m"
      ]
     },
     "metadata": {},
     "output_type": "display_data"
    }
   ],
   "source": [
    "class H{self:F with G=>def apply(v:V):Double=g(f(v)) }"
   ]
  },
  {
   "cell_type": "markdown",
   "metadata": {},
   "source": [
    "## モデルのインスタンス化\n",
    "上記で抽象化したモデルをインスタンスとして、実現するために、実装をする"
   ]
  },
  {
   "cell_type": "code",
   "execution_count": 13,
   "metadata": {},
   "outputs": [
    {
     "data": {
      "text/plain": [
       "\u001b[32mimport \u001b[36mjava.lang._\u001b[0m\n",
       "\u001b[36mh\u001b[0m: \u001b[32mH\u001b[0m with \u001b[32mF\u001b[0m with \u001b[32mG\u001b[0m = cmd12$$user$$anonfun$1$$anon$1@16fe12e0"
      ]
     },
     "metadata": {},
     "output_type": "display_data"
    }
   ],
   "source": [
    "import java.lang._\n",
    "val h=new H with F with G{\n",
    "    val f=(v:V)=>v.map(Math.exp) // f:x=>exp(x)\n",
    "    val g = (v:V)=>v.sum// g:x=>Σxi\n",
    "}"
   ]
  },
  {
   "cell_type": "markdown",
   "metadata": {},
   "source": [
    "## 圏と関数で実際のデータ処理を行う\n",
    "上記のような変数の宣言=>モデルのインスタンス化までの過程をよりオブジェクト指向の特性を活かして活用していく。\n",
    "Scaladでは、`trait`により、**ロジックを注入していく事で、データ分析のワークフローの過程に沿って、動的にモジュールを置換する事が可能になる**  \n",
    "そのため、ここからは上記での圏の概念と関数の概念によるモデリングに加え、オブジェクト指向の考え方を活用するため[MinmalCakePattern](TODO)を使用する"
   ]
  },
  {
   "cell_type": "markdown",
   "metadata": {},
   "source": [
    "データの前処理において\n",
    "- Sampling to extract a sample from raw data\n",
    "- Normalization to normalize the sampled data over [0, 1]\n",
    "- Aggregation to aggregate or reduce the data:\n",
    "\n",
    "の三つのプロセスを行う必要があるとする"
   ]
  },
  {
   "cell_type": "markdown",
   "metadata": {},
   "source": [
    "上で定義したデータ処理プロセスを`ITransform`により構築する"
   ]
  },
  {
   "cell_type": "code",
   "execution_count": 26,
   "metadata": {
    "scrolled": true
   },
   "outputs": [
    {
     "data": {
      "text/plain": [
       "defined \u001b[32mtrait \u001b[36mUsesSmapling\u001b[0m\n",
       "defined \u001b[32mtrait \u001b[36mUsesNomalization\u001b[0m\n",
       "defined \u001b[32mtrait \u001b[36mUsesAggregation\u001b[0m"
      ]
     },
     "metadata": {},
     "output_type": "display_data"
    }
   ],
   "source": [
    "trait UsesSmapling[T,A]{val sampler:ITransform[T,A]}\n",
    "trait UsesNomalization[T,A]{val nomalizer:ITransform[T,A]}\n",
    "trait UsesAggregation[T,A]{val aggregator:ITransform[T,A]}"
   ]
  },
  {
   "cell_type": "markdown",
   "metadata": {},
   "source": [
    "データ処理をそれぞれのフェイズに分解した。これらを組み合わせる事で、ワークフローを構築する"
   ]
  },
  {
   "cell_type": "code",
   "execution_count": null,
   "metadata": {
    "collapsed": true
   },
   "outputs": [],
   "source": [
    "class Workflow[T,U,V,W] extends "
   ]
  },
  {
   "cell_type": "code",
   "execution_count": null,
   "metadata": {
    "collapsed": true
   },
   "outputs": [],
   "source": []
  },
  {
   "cell_type": "code",
   "execution_count": null,
   "metadata": {
    "collapsed": true
   },
   "outputs": [],
   "source": []
  },
  {
   "cell_type": "code",
   "execution_count": 27,
   "metadata": {},
   "outputs": [
    {
     "data": {
      "text/plain": [
       "defined \u001b[32mtrait \u001b[36mToDouble\u001b[0m\n",
       "\u001b[36mstr2Double\u001b[0m: \u001b[32mAnyRef\u001b[0m with \u001b[32m$user\u001b[0m.\u001b[32mToDouble\u001b[0m[\u001b[32mString\u001b[0m] = cmd26$$user$$anonfun$1$$anon$1@227a5f35"
      ]
     },
     "metadata": {},
     "output_type": "display_data"
    }
   ],
   "source": [
    "trait ToDouble[T] { def apply(t: T): Double }\n",
    "  implicit val str2Double = new ToDouble[String] {\n",
    "     def apply(s: String): Double = s.toDouble\n",
    "  }"
   ]
  },
  {
   "cell_type": "markdown",
   "metadata": {},
   "source": [
    "# まとめ\n",
    "- 圏と関数でデータの流れを制御するパイプラインのインフラ基盤を構築した\n",
    "- そのインフラ基盤にデータ分析のアルゴリズムを注入した\n",
    "- さらにオブジェクト指向により、そのパイプラインの構築やメンテナンスを容易にした\n",
    "\n",
    "ことが、できました。とはいえ、まだデータの前処理の段階なので、次回は単純ベイズモデルを例に、モデルの構築から、モデルの精度検証までまとめます"
   ]
  },
  {
   "cell_type": "markdown",
   "metadata": {},
   "source": [
    "# リファレンス\n",
    "- [共変、反変](https://ufcpp.wordpress.com/2010/04/19/%E5%85%B1%E5%A4%89%E6%80%A7%EF%BC%88covariance%EF%BC%89%E5%8F%8D%E5%A4%89%E6%80%A7%EF%BC%88contravariance%EF%BC%89%E3%81%AE%E8%A9%B1/)"
   ]
  },
  {
   "cell_type": "markdown",
   "metadata": {},
   "source": [
    "# Tips"
   ]
  },
  {
   "cell_type": "markdown",
   "metadata": {},
   "source": [
    "The notation for the view bound, T <% Double, is being deprecated in Scala 2.11 and higher. The declaration class A[T <% Float] is the short notation for class A[T](implicit f: T => Float)."
   ]
  },
  {
   "cell_type": "markdown",
   "metadata": {},
   "source": [
    "    class MinMax[T <: AnyVal](val values: Vector[T])(implicit f :T=>Double) {\n",
    "\n",
    "      case class ScaleFactors(low: Double, high: Double, ratio: Double)\n",
    "\n",
    "\n",
    "      private var scaleFactors = None[ScaleFactors]\n",
    "\n",
    "\n",
    "      private val range = (Double.MaxValue, -Double.MaxValue)\n",
    "\n",
    "      // valuesのなかで最小な値をと最大な値を抽出する\n",
    "      protected val minMax = values.foldLeft(range) { (mM, x) => {\n",
    "        val min = mM._1\n",
    "        val max = mM._2\n",
    "        (if (x < min) x else min, if (x > max) x else max)\n",
    "      }\n",
    "      }\n",
    "        \n",
    "ここで、fが存在しないとTをDoubleに変換できる保証がないので、コンパイルが通らない x> でエラーが出る。よってfが必要        "
   ]
  },
  {
   "cell_type": "code",
   "execution_count": 1,
   "metadata": {},
   "outputs": [
    {
     "data": {
      "text/plain": [
       "\u001b[36mxt\u001b[0m: \u001b[32mArray\u001b[0m[\u001b[32mInt\u001b[0m] = \u001b[33mArray\u001b[0m(\u001b[32m1\u001b[0m, \u001b[32m2\u001b[0m, \u001b[32m3\u001b[0m, \u001b[32m4\u001b[0m, \u001b[32m5\u001b[0m)\n",
       "\u001b[36mperiod\u001b[0m: \u001b[32mInt\u001b[0m = \u001b[32m3\u001b[0m\n",
       "\u001b[36mfirst\u001b[0m: \u001b[32mArray\u001b[0m[\u001b[32mInt\u001b[0m] = \u001b[33mArray\u001b[0m(\u001b[32m1\u001b[0m, \u001b[32m2\u001b[0m, \u001b[32m3\u001b[0m)\n",
       "\u001b[36msecond\u001b[0m: \u001b[32mArray\u001b[0m[\u001b[32mInt\u001b[0m] = \u001b[33mArray\u001b[0m(\u001b[32m4\u001b[0m, \u001b[32m5\u001b[0m)"
      ]
     },
     "metadata": {},
     "output_type": "display_data"
    }
   ],
   "source": [
    "val xt=Array(1,2,3,4,5)\n",
    "val period=3\n",
    "val (first, second) = xt.splitAt(period)"
   ]
  },
  {
   "cell_type": "code",
   "execution_count": 2,
   "metadata": {
    "scrolled": true
   },
   "outputs": [
    {
     "data": {
      "text/plain": [
       "\u001b[36mslider\u001b[0m: \u001b[32mArray\u001b[0m[(\u001b[32mInt\u001b[0m, \u001b[32mInt\u001b[0m)] = \u001b[33mArray\u001b[0m(\u001b[33m\u001b[0m(\u001b[32m1\u001b[0m, \u001b[32m4\u001b[0m), \u001b[33m\u001b[0m(\u001b[32m2\u001b[0m, \u001b[32m5\u001b[0m))"
      ]
     },
     "metadata": {},
     "output_type": "display_data"
    }
   ],
   "source": [
    "val slider = xt.take(xt.size - period) zip second"
   ]
  },
  {
   "cell_type": "code",
   "execution_count": 3,
   "metadata": {},
   "outputs": [
    {
     "data": {
      "text/plain": [
       "defined \u001b[32mclass \u001b[36mDataField\u001b[0m\n",
       "defined \u001b[32mclass \u001b[36mStockMarketDataField\u001b[0m\n",
       "\u001b[36mDATE\u001b[0m: \u001b[32m$user\u001b[0m.\u001b[32mStockMarketDataField\u001b[0m.type = StockMarketDataField\n",
       "\u001b[36mOPEN\u001b[0m: \u001b[32m$user\u001b[0m.\u001b[32mStockMarketDataField\u001b[0m.type = StockMarketDataField\n",
       "\u001b[36mHIGH\u001b[0m: \u001b[32m$user\u001b[0m.\u001b[32mStockMarketDataField\u001b[0m.type = StockMarketDataField\n",
       "\u001b[36mLOW\u001b[0m: \u001b[32m$user\u001b[0m.\u001b[32mStockMarketDataField\u001b[0m.type = StockMarketDataField\n",
       "\u001b[36mCLOSE\u001b[0m: \u001b[32m$user\u001b[0m.\u001b[32mStockMarketDataField\u001b[0m.type = StockMarketDataField\n",
       "\u001b[36mVOLUME\u001b[0m: \u001b[32m$user\u001b[0m.\u001b[32mStockMarketDataField\u001b[0m.type = StockMarketDataField\n",
       "\u001b[36mADJ_CLOSE\u001b[0m: \u001b[32m$user\u001b[0m.\u001b[32mStockMarketDataField\u001b[0m.type = StockMarketDataField"
      ]
     },
     "metadata": {},
     "output_type": "display_data"
    }
   ],
   "source": [
    "sealed abstract class DataField(val value:Int)\n",
    "\n",
    "  case class StockMarketDataField(column:Int)extends DataField(column)\n",
    "  val DATE, OPEN, HIGH, LOW, CLOSE, VOLUME, ADJ_CLOSE= 0 to 6 match {case x=>StockMarketDataField(_)}\n"
   ]
  }
 ],
 "metadata": {
  "kernelspec": {
   "display_name": "Scala 2.11",
   "language": "scala211",
   "name": "scala211"
  },
  "language_info": {
   "codemirror_mode": "text/x-scala",
   "file_extension": ".scala",
   "mimetype": "text/x-scala",
   "name": "scala211",
   "pygments_lexer": "scala",
   "version": "2.11.7"
  }
 },
 "nbformat": 4,
 "nbformat_minor": 2
}

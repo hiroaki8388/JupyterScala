{
 "cells": [
  {
   "cell_type": "code",
   "execution_count": 13,
   "metadata": {},
   "outputs": [
    {
     "name": "stdout",
     "output_type": "stream",
     "text": [
      "Adding 0 artifact(s)\n",
      "Adding 0 artifact(s)\n"
     ]
    },
    {
     "name": "stderr",
     "output_type": "stream",
     "text": [
      "Encoutered 1 error(s):\n",
      "  (Dependency(org.scalaz:scalaz-typelevel_2.11,7.2.16,compile,Set(),Attributes(jar,),false,true),List(Not found: /Users/hasegawahiroaki/.ivy2/local/org.scalaz/scalaz-typelevel_2.11/7.2.16/ivys/ivy.xml, Not found: https://repo1.maven.org/maven2/org/scalaz/scalaz-typelevel_2.11/7.2.16/scalaz-typelevel_2.11-7.2.16.pom, Not found: https://oss.sonatype.org/content/repositories/releases/org/scalaz/scalaz-typelevel_2.11/7.2.16/scalaz-typelevel_2.11-7.2.16.pom))\n"
     ]
    },
    {
     "name": "stdout",
     "output_type": "stream",
     "text": [
      "Adding -1 artifact(s)\n"
     ]
    },
    {
     "data": {
      "text/plain": [
       "\u001b[36mscalazVersion\u001b[0m: \u001b[32mString\u001b[0m = \u001b[32m\"7.2.16\"\u001b[0m"
      ]
     },
     "metadata": {},
     "output_type": "display_data"
    }
   ],
   "source": [
    "val scalazVersion=\"7.2.16\"\n",
    "classpath.add(\"org.scalaz\" %% \"scalaz-core\" % scalazVersion)\n",
    "classpath.add(\"org.scalaz\" %% \"scalaz-effect\" % scalazVersion)\n",
    "classpath.add(\"org.scalaz\" %% \"scalaz-typelevel\" % scalazVersion)\n",
    "classpath.add(\"org.scalaz\" %% \"scalaz-scalacheck-binding\" % scalazVersion )"
   ]
  },
  {
   "cell_type": "code",
   "execution_count": 14,
   "metadata": {
    "scrolled": true
   },
   "outputs": [
    {
     "data": {
      "text/plain": [
       "\u001b[32mimport \u001b[36mscalaz._\u001b[0m\n",
       "\u001b[32mimport \u001b[36mScalaz._\u001b[0m"
      ]
     },
     "metadata": {},
     "output_type": "display_data"
    }
   ],
   "source": [
    "import scalaz._\n",
    "import Scalaz._"
   ]
  },
  {
   "cell_type": "markdown",
   "metadata": {},
   "source": [
    "# Tagged Type"
   ]
  },
  {
   "cell_type": "markdown",
   "metadata": {},
   "source": [
    "## 便利なとき\n",
    "- 同じ型に対して複数定義したいとき"
   ]
  },
  {
   "cell_type": "code",
   "execution_count": null,
   "metadata": {
    "collapsed": true
   },
   "outputs": [],
   "source": [
    "たとえば、"
   ]
  },
  {
   "cell_type": "code",
   "execution_count": 8,
   "metadata": {},
   "outputs": [
    {
     "data": {
      "text/plain": [
       "defined \u001b[32mfunction \u001b[36mfindOnlySuperID\u001b[0m"
      ]
     },
     "metadata": {},
     "output_type": "display_data"
    }
   ],
   "source": [
    "def findOnlySuperID(ID:Int)= ()"
   ]
  },
  {
   "cell_type": "markdown",
   "metadata": {},
   "source": [
    "のように特別な権限(Super)のみ実行できるメソッドがあるとする"
   ]
  },
  {
   "cell_type": "markdown",
   "metadata": {},
   "source": [
    "当然"
   ]
  },
  {
   "cell_type": "code",
   "execution_count": 7,
   "metadata": {},
   "outputs": [
    {
     "data": {
      "text/plain": [
       "defined \u001b[32mtype \u001b[36mSuper\u001b[0m\n",
       "defined \u001b[32mtype \u001b[36mNormal\u001b[0m\n",
       "\u001b[36msuperID\u001b[0m: \u001b[32m$user\u001b[0m.\u001b[32mSuper\u001b[0m = \u001b[32m0\u001b[0m\n",
       "\u001b[36mnormalID\u001b[0m: \u001b[32m$user\u001b[0m.\u001b[32mNormal\u001b[0m = \u001b[32m1\u001b[0m"
      ]
     },
     "metadata": {},
     "output_type": "display_data"
    }
   ],
   "source": [
    "type Super=Int\n",
    "type Normal=Int\n",
    "\n",
    "val superID:Super=0\n",
    "val normalID:Normal=1"
   ]
  },
  {
   "cell_type": "code",
   "execution_count": null,
   "metadata": {
    "collapsed": true
   },
   "outputs": [],
   "source": [
    "としても"
   ]
  },
  {
   "cell_type": "code",
   "execution_count": 9,
   "metadata": {
    "scrolled": true
   },
   "outputs": [
    {
     "data": {
      "text/plain": []
     },
     "metadata": {},
     "output_type": "display_data"
    }
   ],
   "source": [
    "findOnlySuperID(normalID)"
   ]
  },
  {
   "cell_type": "code",
   "execution_count": null,
   "metadata": {
    "collapsed": true
   },
   "outputs": [],
   "source": [
    "実行できてしまう"
   ]
  },
  {
   "cell_type": "markdown",
   "metadata": {},
   "source": [
    "## @@により、同じ型に役割をもたせる"
   ]
  },
  {
   "cell_type": "code",
   "execution_count": 15,
   "metadata": {},
   "outputs": [
    {
     "data": {
      "text/plain": [
       "defined \u001b[32mtrait \u001b[36mSuper\u001b[0m\n",
       "defined \u001b[32mtrait \u001b[36mNormal\u001b[0m"
      ]
     },
     "metadata": {},
     "output_type": "display_data"
    }
   ],
   "source": [
    "// ランクを適当に定義\n",
    "trait Super \n",
    "trait Normal"
   ]
  },
  {
   "cell_type": "code",
   "execution_count": 19,
   "metadata": {},
   "outputs": [
    {
     "data": {
      "text/plain": [
       "\u001b[36msuperID\u001b[0m: \u001b[32mInt\u001b[0m \u001b[32m@@\u001b[0m \u001b[32mSuper\u001b[0m = 0\n",
       "\u001b[36mnormalID\u001b[0m: \u001b[32mInt\u001b[0m \u001b[32m@@\u001b[0m \u001b[32mNormal\u001b[0m = 1"
      ]
     },
     "metadata": {},
     "output_type": "display_data"
    }
   ],
   "source": [
    "val superID:Int @@ Super=Tag[Int,Super](0)\n",
    "val normalID:Int @@ Normal =Tag[Int,Normal](1)"
   ]
  },
  {
   "cell_type": "code",
   "execution_count": 20,
   "metadata": {},
   "outputs": [
    {
     "data": {
      "text/plain": [
       "defined \u001b[32mfunction \u001b[36mfindOnlySuperID\u001b[0m"
      ]
     },
     "metadata": {},
     "output_type": "display_data"
    }
   ],
   "source": [
    "def findOnlySuperID(ID:Int @@ Super)= ()"
   ]
  },
  {
   "cell_type": "code",
   "execution_count": 21,
   "metadata": {},
   "outputs": [
    {
     "data": {
      "text/plain": []
     },
     "metadata": {},
     "output_type": "display_data"
    }
   ],
   "source": [
    "// 成功\n",
    "findOnlySuperID(superID)"
   ]
  },
  {
   "cell_type": "code",
   "execution_count": 21,
   "metadata": {},
   "outputs": [
    {
     "ename": "",
     "evalue": "",
     "output_type": "error",
     "traceback": [
      "\u001b[31mMain.scala:374: type mismatch;",
      " found   : AnyRef{type Tag = cmd18.INSTANCE.$ref$cmd14.Normal; type Self = Int}",
      " required: scalaz.@@[Int,cmd19.INSTANCE.$ref$cmd14.Super]",
      "    (which expands to)  AnyRef{type Tag = cmd19.INSTANCE.$ref$cmd14.Super; type Self = Int}",
      "findOnlySuperID(normalID)",
      "                ^\u001b[0m"
     ]
    }
   ],
   "source": [
    "// コンパルエラー\n",
    "findOnlySuperID(normalID)"
   ]
  },
  {
   "cell_type": "code",
   "execution_count": null,
   "metadata": {
    "collapsed": true
   },
   "outputs": [],
   "source": []
  },
  {
   "cell_type": "markdown",
   "metadata": {},
   "source": [
    "## pure Scalaでも幽霊型という方法がある"
   ]
  },
  {
   "cell_type": "code",
   "execution_count": null,
   "metadata": {
    "scrolled": true
   },
   "outputs": [],
   "source": [
    "// 型チェックのみ使用するXを定義(Xを使わないから幽霊型という名前)\n",
    "case class Phantom[X,A](value:A)\n",
    "\n",
    "// ランクを適当に定義\n",
    "trait Super \n",
    "trait Normal\n",
    "\n",
    "val superID=Phantom[Super,Int](0)\n",
    "val normalID=Phantom[Normal,Int](1)\n",
    "\n",
    "// XにSuperを入れて渡されたIDの型と合うかチェック\n",
    "def findOnlySuperID(ID:Phantom[Super,Int])= ()"
   ]
  },
  {
   "cell_type": "code",
   "execution_count": 5,
   "metadata": {},
   "outputs": [
    {
     "data": {
      "text/plain": []
     },
     "metadata": {},
     "output_type": "display_data"
    }
   ],
   "source": [
    "//　セーフ\n",
    "findOnlySuperID(superID)"
   ]
  },
  {
   "cell_type": "code",
   "execution_count": 4,
   "metadata": {
    "scrolled": true
   },
   "outputs": [
    {
     "ename": "",
     "evalue": "",
     "output_type": "error",
     "traceback": [
      "\u001b[31mMain.scala:375: type mismatch;",
      " found   : cmd4.this.$ref$cmd2.Phantom[cmd4.this.$ref$cmd2.Normal,Int]",
      " required: cmd4.this.$ref$cmd2.Phantom[cmd4.this.$ref$cmd2.Super,Int]",
      "findOnlySuperID(normalID)",
      "                ^\u001b[0m"
     ]
    }
   ],
   "source": [
    "// アウト\n",
    "findOnlySuperID(normalID)"
   ]
  },
  {
   "cell_type": "markdown",
   "metadata": {},
   "source": [
    "## リファレンス\n",
    "- http://kxbmap.hatenablog.com/entry/2012/12/02/235751\n",
    "- http://gakuzzzz.github.io/slides/refactoring_in_scala/#1"
   ]
  },
  {
   "cell_type": "markdown",
   "metadata": {},
   "source": [
    "# ~>"
   ]
  },
  {
   "cell_type": "code",
   "execution_count": null,
   "metadata": {
    "collapsed": true
   },
   "outputs": [],
   "source": []
  },
  {
   "cell_type": "code",
   "execution_count": 2,
   "metadata": {},
   "outputs": [
    {
     "ename": "",
     "evalue": "",
     "output_type": "error",
     "traceback": [
      "\u001b[31mMain.scala:371: not found: value bt",
      "bt option 100",
      "^\u001b[0m"
     ]
    }
   ],
   "source": [
    "bt option 100"
   ]
  },
  {
   "cell_type": "markdown",
   "metadata": {
    "collapsed": true
   },
   "source": [
    "BooleanOps.??[A]( => A)(implicit Monoid[A]): \n",
    "AをMonoid[A]に変換し、BooleanOpsがtrueならば、Aを、falseならば単位元を返す"
   ]
  },
  {
   "cell_type": "code",
   "execution_count": 0,
   "metadata": {
    "scrolled": true
   },
   "outputs": [
    {
     "ename": "",
     "evalue": "",
     "output_type": "error",
     "traceback": [
      "\u001b[31mMain.scala:24: value ?? is not a member of Boolean",
      "bt ?? 100",
      "   ^\u001b[0m",
      "\u001b[31mMain.scala:27: value ?? is not a member of Boolean",
      "bt ?? 100.some",
      "   ^\u001b[0m",
      "\u001b[31mMain.scala:27: value some is not a member of Int",
      "bt ?? 100.some",
      "          ^\u001b[0m",
      "\u001b[31mMain.scala:30: value ?? is not a member of Boolean",
      "bf ?? 100",
      "   ^\u001b[0m",
      "\u001b[31mMain.scala:33: value ?? is not a member of Boolean",
      "bf ?? 100.some",
      "   ^\u001b[0m",
      "\u001b[31mMain.scala:33: value some is not a member of Int",
      "bf ?? 100.some",
      "          ^\u001b[0m"
     ]
    }
   ],
   "source": [
    "def bt=true\n",
    "def bf=false\n",
    "\n",
    "bt ?? 100\n",
    "bt ?? 100.some\n",
    "bf ?? 100\n",
    "bf ?? 100.some"
   ]
  },
  {
   "cell_type": "code",
   "execution_count": null,
   "metadata": {
    "collapsed": true
   },
   "outputs": [],
   "source": []
  }
 ],
 "metadata": {
  "kernelspec": {
   "display_name": "Scala 2.11",
   "language": "scala211",
   "name": "scala211"
  },
  "language_info": {
   "codemirror_mode": "text/x-scala",
   "file_extension": ".scala",
   "mimetype": "text/x-scala",
   "name": "scala211",
   "pygments_lexer": "scala",
   "version": "2.11.7"
  }
 },
 "nbformat": 4,
 "nbformat_minor": 2
}

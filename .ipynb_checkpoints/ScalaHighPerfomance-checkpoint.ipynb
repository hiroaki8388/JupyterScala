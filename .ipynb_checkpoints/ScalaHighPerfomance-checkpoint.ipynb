{
 "cells": [
  {
   "cell_type": "markdown",
   "metadata": {},
   "source": [
    "# ScalaHighPerfomance"
   ]
  },
  {
   "cell_type": "code",
   "execution_count": 2,
   "metadata": {},
   "outputs": [
    {
     "data": {
      "text/plain": [
       "defined \u001b[32mfunction \u001b[36mtime\u001b[0m"
      ]
     },
     "metadata": {},
     "output_type": "display_data"
    }
   ],
   "source": [
    "//  パフォーマンス測定のためのコード\n",
    "def time[R](block: => R): R = {  \n",
    "    val t0 = System.nanoTime()\n",
    "    val result = block    // call-by-name\n",
    "    val t1 = System.nanoTime()\n",
    "    println(\"Elapsed time: \" + (t1 - t0) + \"ns\")\n",
    "    result\n",
    "}"
   ]
  },
  {
   "cell_type": "code",
   "execution_count": 2,
   "metadata": {},
   "outputs": [
    {
     "ename": "",
     "evalue": "",
     "output_type": "error",
     "traceback": [
      "\u001b[31mMain.scala:23: value class may not be a member of another class",
      "              case class Price(value: BigDecimal) extends AnyVal{ ",
      "                         ^\u001b[0m",
      "\u001b[31mMain.scala:25: value class may not be a member of another class",
      "} ; case class Price2(value: BigDecimal) extends AnyVal { ",
      "               ^\u001b[0m",
      "\u001b[31mMain.scala:30: type mismatch;",
      " found   : Boolean",
      " required: Int => ?",
      "p1.lowerThan(p2) // returns true",
      "            ^\u001b[0m",
      "\u001b[31mMain.scala:34: type mismatch;",
      " found   : Boolean",
      " required: Int => ?",
      "p1.lowerThan(p2) // returns true    ",
      "            ^\u001b[0m"
     ]
    }
   ],
   "source": [
    "case class Price(value: BigDecimal) { \n",
    "  def lowerThan(p: Price): Boolean = this.value < p.value \n",
    "} \n",
    "\n",
    "case class Price2(value: BigDecimal) extends AnyVal { \n",
    "  def lowerThan(p: Price2): Boolean = this.value < p.value \n",
    "} \n",
    " \n",
    "// Example usage \n",
    "\n",
    "def test(n:Int)=(1 to n).map{\n",
    "val p1 = Price(BigDecimal(1.23)) \n",
    "val p2 = Price(BigDecimal(2.03)) \n",
    "p1.lowerThan(p2) // returns true\n",
    "}    \n",
    "    \n",
    "def test2(n:Int)=(1 to n).map{\n",
    "val p1 = Price2(BigDecimal(1.23)) \n",
    "val p2 = Price2(BigDecimal(2.03)) \n",
    "p1.lowerThan(p2) // returns true    \n",
    "}    \n"
   ]
  },
  {
   "cell_type": "code",
   "execution_count": 2,
   "metadata": {},
   "outputs": [
    {
     "ename": "",
     "evalue": "",
     "output_type": "error",
     "traceback": [
      "\u001b[31mMain.scala:23: value class may not be a member of another class",
      "              case class Price2(value: BigDecimal) extends AnyVal { ",
      "                         ^\u001b[0m"
     ]
    }
   ],
   "source": [
    "case class Price2(value: BigDecimal) extends AnyVal { \n",
    "  def lowerThan(p: Price2): Boolean = this.value < p.value \n",
    "} "
   ]
  },
  {
   "cell_type": "code",
   "execution_count": 2,
   "metadata": {},
   "outputs": [
    {
     "ename": "",
     "evalue": "",
     "output_type": "error",
     "traceback": [
      "\u001b[31mMain.scala:23: value class may not be a member of another class",
      "              case class Price(value: BigDecimal) extends AnyVal { ",
      "                         ^\u001b[0m"
     ]
    }
   ],
   "source": [
    "case class Price(value: BigDecimal) extends AnyVal { \n",
    "  def lowerThan(p: Price): Boolean = this.value < p.value \n",
    "} \n",
    " \n",
    "// Example usage \n",
    "val p1 = Price(BigDecimal(1.23)) \n",
    "val p2 = Price(BigDecimal(2.03)) \n",
    "p1.lowerThan(p2) // returns true "
   ]
  },
  {
   "cell_type": "code",
   "execution_count": 2,
   "metadata": {
    "scrolled": true
   },
   "outputs": [
    {
     "ename": "",
     "evalue": "",
     "output_type": "error",
     "traceback": [
      "\u001b[31mMain.scala:46: value class may not be a member of another class",
      "case class Price2(value: Double) extends AnyVal { ",
      "           ^\u001b[0m"
     ]
    }
   ],
   "source": [
    "\n",
    "object TestAnyVal extends App{\n",
    "\n",
    "\n",
    "\n",
    "\n",
    "//  パフォーマンス測定のためのコード\n",
    "def time[R](block: => R): R = {  \n",
    "    val t0 = System.nanoTime()\n",
    "    val result = block    // call-by-name\n",
    "    val t1 = System.nanoTime()\n",
    "    println(\"Elapsed time: \" + (t1 - t0) + \"ns\")\n",
    "    result\n",
    "}\n",
    "\n",
    "\n",
    "\n",
    "\n",
    "\n",
    "case class Price(value: BigDecimal) { \n",
    "  def lowerThan(p: Price): Boolean = this.value < p.value \n",
    "} \n",
    "\n",
    "case class Price2(value: BigDecimal) extends AnyVal { \n",
    "  def lowerThan(p: Price2): Boolean = this.value < p.value \n",
    "} \n",
    " \n",
    "// Example usage \n",
    "\n",
    "def test(n:Int)=(1 to n).map{n=>\n",
    "val p1 = Price(BigDecimal(1.23)) \n",
    "val p2 = Price(BigDecimal(2.03)) \n",
    "p1.lowerThan(p2) // returns true\n",
    "}    \n",
    "    \n",
    "def test2(n:Int)=(1 to n).map{n=>\n",
    "val p1 = Price2(BigDecimal(1.23)) \n",
    "val p2 = Price2(BigDecimal(2.03)) \n",
    "p1.lowerThan(p2) // returns true    \n",
    "}    \n",
    "\n",
    "time(test(1000))\n",
    "println(\"================\")\n",
    "time(test2(1000))\n",
    "\n",
    "}\n"
   ]
  },
  {
   "cell_type": "code",
   "execution_count": null,
   "metadata": {
    "collapsed": true
   },
   "outputs": [],
   "source": [
    "## パターンマッチ\n",
    "パターンの数が増えると線形的にパフォーマンスが低下する"
   ]
  },
  {
   "cell_type": "code",
   "execution_count": null,
   "metadata": {
    "collapsed": true
   },
   "outputs": [],
   "source": []
  },
  {
   "cell_type": "code",
   "execution_count": null,
   "metadata": {
    "collapsed": true
   },
   "outputs": [],
   "source": []
  },
  {
   "cell_type": "code",
   "execution_count": null,
   "metadata": {
    "collapsed": true
   },
   "outputs": [],
   "source": []
  },
  {
   "cell_type": "code",
   "execution_count": null,
   "metadata": {
    "collapsed": true
   },
   "outputs": [],
   "source": []
  },
  {
   "cell_type": "code",
   "execution_count": null,
   "metadata": {
    "collapsed": true
   },
   "outputs": [],
   "source": []
  },
  {
   "cell_type": "code",
   "execution_count": null,
   "metadata": {
    "collapsed": true
   },
   "outputs": [],
   "source": []
  },
  {
   "cell_type": "code",
   "execution_count": 8,
   "metadata": {},
   "outputs": [
    {
     "data": {
      "text/plain": [
       "\u001b[32mimport \u001b[36mscala.annotation._\u001b[0m\n",
       "defined \u001b[32mclass \u001b[36mShareCount\u001b[0m\n",
       "defined \u001b[32mfunction \u001b[36mprocessShareCount\u001b[0m"
      ]
     },
     "metadata": {},
     "output_type": "display_data"
    }
   ],
   "source": [
    "// 警告が出る\n",
    "import scala.annotation._\n",
    "case class ShareCount(int:Int)\n",
    "def processShareCount(sc: ShareCount): Int = \n",
    " (sc: @switch) match { \n",
    " case ShareCount(1) => 1\n",
    "     case ShareCount(2) => 2\n",
    "     case ShareCount(3)=> 3\n",
    "}"
   ]
  },
  {
   "cell_type": "code",
   "execution_count": 9,
   "metadata": {},
   "outputs": [
    {
     "data": {
      "text/plain": [
       "defined \u001b[32mtrait \u001b[36mShareCount\u001b[0m\n",
       "defined \u001b[32mclass \u001b[36mShareCount1\u001b[0m\n",
       "defined \u001b[32mclass \u001b[36mShareCount2\u001b[0m\n",
       "defined \u001b[32mfunction \u001b[36mprocessShareCount\u001b[0m"
      ]
     },
     "metadata": {},
     "output_type": "display_data"
    }
   ],
   "source": [
    "// 警告なし\n",
    "// マッチした値をそのまま返す場合\n",
    "trait ShareCount{val int:Int}\n",
    "case class ShareCount1(int:Int) extends ShareCount\n",
    "case class ShareCount2(int:Int) extends ShareCount\n",
    "def processShareCount(sc: ShareCount): ShareCount = \n",
    " (sc: @switch) match { \n",
    " case x:ShareCount1 => x \n",
    "      case x:ShareCount2 => x \n",
    "}"
   ]
  },
  {
   "cell_type": "code",
   "execution_count": null,
   "metadata": {
    "collapsed": true
   },
   "outputs": [],
   "source": [
    "// 警告なし\n",
    "// primitive litralのばあい\n",
    "def processShareCount(sc: Int): Int = \n",
    " (sc: @switch) match { \n",
    " case 1=> 1\n",
    "     case 2 => 2\n",
    "     case 3=> 3\n",
    "}"
   ]
  },
  {
   "cell_type": "code",
   "execution_count": 6,
   "metadata": {},
   "outputs": [
    {
     "ename": "",
     "evalue": "",
     "output_type": "error",
     "traceback": [
      "\u001b[31mMain.scala:24: value :@ is not a member of $user.this.CheapFoo",
      "              import scala.annotation._ ; case class CheapFoo(int:Int) ; case class PatternMatchState(matchIndex:Int) ; def matchAnyVal(i: PatternMatchState): Int = ((CheapFoo(i.matchIndex)):@switch) match { ",
      "                                                                                                                                                                                              ^\u001b[0m",
      "\u001b[31mMain.scala:24: not found: value switch",
      "              import scala.annotation._ ; case class CheapFoo(int:Int) ; case class PatternMatchState(matchIndex:Int) ; def matchAnyVal(i: PatternMatchState): Int = ((CheapFoo(i.matchIndex)):@switch) match { ",
      "                                                                                                                                                                                                ^\u001b[0m"
     ]
    }
   ],
   "source": []
  }
 ],
 "metadata": {
  "kernelspec": {
   "display_name": "Scala 2.11",
   "language": "scala211",
   "name": "scala211"
  },
  "language_info": {
   "codemirror_mode": "text/x-scala",
   "file_extension": ".scala",
   "mimetype": "text/x-scala",
   "name": "scala211",
   "pygments_lexer": "scala",
   "version": "2.11.7"
  }
 },
 "nbformat": 4,
 "nbformat_minor": 2
}

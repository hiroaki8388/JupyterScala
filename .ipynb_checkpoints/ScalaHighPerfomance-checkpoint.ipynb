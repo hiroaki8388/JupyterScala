{
 "cells": [
  {
   "cell_type": "markdown",
   "metadata": {},
   "source": [
    "# ScalaHighPerfomance"
   ]
  },
  {
   "cell_type": "markdown",
   "metadata": {},
   "source": [
    "## この記事の目的\n",
    "[ScalaHighPerforman](https://www.amazon.co.jp/dp/B01BKL1PGA/ref=dp-kindle-redirect?_encoding=UTF8&btkr=1)の部分から、Tipsとして、使えそうな部分を取り出しました。ボトルネックごとにまとめてますが、よりわかりやすくするために、改めて丁寧にまとめます。（なお、この記事はJupyterにScalaカーネルを入れて作成しました。）"
   ]
  },
  {
   "cell_type": "markdown",
   "metadata": {},
   "source": [
    "### パフォーマンス測定方法"
   ]
  },
  {
   "cell_type": "markdown",
   "metadata": {},
   "source": [
    "1. javaのバイトコードを人に読みやすく変換した形に変換するjavap（ジャパピー）に変換し、どれほどメモリを消費するか確認する。変換したニーモニックコードの読み方は[こちら](http://warabanshi.hatenablog.com/entry/2014/12/25/235644)"
   ]
  },
  {
   "cell_type": "markdown",
   "metadata": {},
   "source": [
    "2. javaのパフォーマンス測定用のライブラリ、jmhをsbt上で使用できる **sbt-jmh**を使用し、実行時のパフォーマンスを測定する。詳細はOneTeamの[こちらの記事参照](https://fringe81.one-team.io/topics/7544)"
   ]
  },
  {
   "cell_type": "markdown",
   "metadata": {
    "collapsed": true
   },
   "source": [
    "### AnyVal"
   ]
  },
  {
   "cell_type": "markdown",
   "metadata": {
    "collapsed": true
   },
   "source": [
    "#### ボトルネック"
   ]
  },
  {
   "cell_type": "markdown",
   "metadata": {
    "collapsed": true
   },
   "source": [
    "ドメイン言語に対応するオブジェクトを作成するために、`case class` を大量に作ると、メモリ効率が悪くなる"
   ]
  },
  {
   "cell_type": "markdown",
   "metadata": {
    "collapsed": true
   },
   "source": [
    "#### 改善方法"
   ]
  },
  {
   "cell_type": "markdown",
   "metadata": {},
   "source": [
    "`AnyVal`を継承する事で、独自のプリミティブ型を定義する"
   ]
  },
  {
   "cell_type": "code",
   "execution_count": 0,
   "metadata": {
    "scrolled": true
   },
   "outputs": [
    {
     "ename": "",
     "evalue": "",
     "output_type": "error",
     "traceback": [
      "\u001b[31mMain.scala:23: value class may not be a member of another class",
      "              class Price(num:Long) extends AnyVal",
      "                    ^\u001b[0m",
      "\u001b[31mMain.scala:23: value class parameter must be a val and not be private[this]",
      "              class Price(num:Long) extends AnyVal",
      "                          ^\u001b[0m"
     ]
    }
   ],
   "source": [
    "case class Price(num:Long) extends AnyVal"
   ]
  },
  {
   "cell_type": "markdown",
   "metadata": {
    "collapsed": true
   },
   "source": [
    "(scala2-10から任意のValueClassが定義可能。)[http://www.scala-lang.org/api/current/#scala.AnyVal]\n",
    "これにより、ドメインに対応したオブジェクトを定義してもインスタンスの数を少なくする事ができ、GCに負荷をかけなくてすむ"
   ]
  },
  {
   "cell_type": "code",
   "execution_count": 0,
   "metadata": {},
   "outputs": [
    {
     "ename": "",
     "evalue": "",
     "output_type": "error",
     "traceback": [
      "\u001b[31mMain.scala:23: value class may not be a member of another class",
      "              case class Price(num: Long) extends AnyVal {",
      "                         ^\u001b[0m"
     ]
    }
   ],
   "source": [
    "  case class Price(num: Long) extends AnyVal {\n",
    "// メソッドも定義可能\n",
    "    def isLowerThan(price: Price) = num < price.num\n",
    "  }"
   ]
  },
  {
   "cell_type": "markdown",
   "metadata": {},
   "source": [
    "#### リスクと制約"
   ]
  },
  {
   "cell_type": "markdown",
   "metadata": {},
   "source": [
    "Valle class には、フィールドが一つしか持てない、classの内部では定義できないなどさまざまな制約があるが、継承する事によるリスクはない"
   ]
  },
  {
   "cell_type": "code",
   "execution_count": 0,
   "metadata": {},
   "outputs": [
    {
     "ename": "",
     "evalue": "",
     "output_type": "error",
     "traceback": [
      "\u001b[31mMain.scala:23: value class may not be a member of another class",
      "              case class Price(num: Long,ng:Long) extends AnyVal",
      "                         ^\u001b[0m"
     ]
    }
   ],
   "source": [
    "// ValueClassはフィールドを一つしか持てないため、以下の場合エラーになる\n",
    "case class Price(num: Long,ng:Long) extends AnyVal "
   ]
  },
  {
   "cell_type": "markdown",
   "metadata": {
    "collapsed": true
   },
   "source": [
    "#### まとめ"
   ]
  },
  {
   "cell_type": "markdown",
   "metadata": {
    "collapsed": true
   },
   "source": [
    "AnyValを継承可能なものは行った方が良い"
   ]
  },
  {
   "cell_type": "markdown",
   "metadata": {
    "collapsed": true
   },
   "source": [
    "### ボクシング"
   ]
  },
  {
   "cell_type": "markdown",
   "metadata": {
    "collapsed": true
   },
   "source": [
    "#### ボトルネック"
   ]
  },
  {
   "cell_type": "markdown",
   "metadata": {
    "collapsed": true
   },
   "source": [
    "以下のように大量のデータを作成する、とプリミティブ型がボクシングされてしまい、処理が遅くなる"
   ]
  },
  {
   "cell_type": "code",
   "execution_count": 0,
   "metadata": {},
   "outputs": [
    {
     "ename": "",
     "evalue": "",
     "output_type": "error",
     "traceback": [
      "\u001b[31mMain.scala:23: value class may not be a member of another class",
      "              def testList() = List.fill(100000)(2) map (i => Data(i) :: Nil) ; case class Data(num: Long) extends AnyVal",
      "                                                                                           ^\u001b[0m"
     ]
    }
   ],
   "source": [
    "def testList() = List.fill(100000)(2) map (i => Data(i) :: Nil)\n",
    "\n",
    "case class Data(num: Long) extends AnyVal"
   ]
  },
  {
   "cell_type": "markdown",
   "metadata": {},
   "source": [
    "##### 改善方法"
   ]
  },
  {
   "cell_type": "markdown",
   "metadata": {
    "collapsed": true
   },
   "source": [
    "ボクシング処理が行われなくなり、大量のボクシングが行われる場合、処理速度が向上する"
   ]
  },
  {
   "cell_type": "code",
   "execution_count": null,
   "metadata": {
    "collapsed": true
   },
   "outputs": [],
   "source": [
    " class SpecializedClass[@specialized T](t: T) \n",
    "\n",
    "// メソッドにも定義可能\n",
    "def createSpecialized[@specialized T](t: T): Foo[T] = new Foo(t) "
   ]
  },
  {
   "cell_type": "code",
   "execution_count": null,
   "metadata": {
    "collapsed": true
   },
   "outputs": [],
   "source": [
    "パフォーマンス測定コード"
   ]
  },
  {
   "cell_type": "code",
   "execution_count": null,
   "metadata": {
    "collapsed": true
   },
   "outputs": [],
   "source": [
    "import java.util.concurrent.TimeUnit\n",
    "import org.openjdk.jmh.annotations._\n",
    "\n",
    "\n",
    "//アウトプットの単位\n",
    "@OutputTimeUnit(TimeUnit.SECONDS)\n",
    "// ウォームアップの設定\n",
    "@Warmup(iterations = 3, timeUnit = TimeUnit.SECONDS)\n",
    "// 計測回数の設定\n",
    "@Measurement(iterations = 3, timeUnit = TimeUnit.SECONDS)\n",
    "// 全体の計測回数（-Xms1Gは使用するメモリ）\n",
    "@Fork(value = 1, jvmArgs = Array(\"-Xms1G\", \"-Xmx1G\"))\n",
    "// 使用するスレッド数\n",
    "@Threads(value = 1)\n",
    "class Specialized {\n",
    "\n",
    "  @Benchmark\n",
    "  def testList() = List.fill(100000)(2) map (i => Data(i) :: Nil)\n",
    "\n",
    "  @Benchmark\n",
    "  def testList2() = List.fill(100000)(2) map (i => Data(i) :: Nil)\n",
    "\n",
    "}\n",
    "//Value Classとして定義する事で、プリミティブ型と同等に扱われる\n",
    "case class Data(num: Long) extends AnyVal\n",
    "\n",
    "//boxingされなくなる\n",
    "// https://ja.wikipedia.org/wiki/%E3%82%AA%E3%83%BC%E3%83%88%E3%83%9C%E3%82%AF%E3%82%B7%E3%83%B3%E3%82%B0\n",
    "case class Data2(@specialized num: Long)"
   ]
  },
  {
   "cell_type": "markdown",
   "metadata": {},
   "source": [
    "測定結果"
   ]
  },
  {
   "cell_type": "code",
   "execution_count": 0,
   "metadata": {},
   "outputs": [
    {
     "ename": "",
     "evalue": "",
     "output_type": "error",
     "traceback": [
      "Failure(End:1:1 ...\"[info] Ben\")"
     ]
    }
   ],
   "source": [
    "[info] Benchmark                                              Mode  Cnt    Score      Error  Units\n",
    "[info] ScalaHighPerformancePtorgaming.Specialized.testList   thrpt    3   95.929 ? 1064.152  ops/s\n",
    "[info] ScalaHighPerformancePtorgaming.Specialized.testList2  thrpt    3  124.449 ?  196.243  ops/s"
   ]
  },
  {
   "cell_type": "markdown",
   "metadata": {
    "collapsed": true
   },
   "source": [
    "#### リスクと制約"
   ]
  },
  {
   "cell_type": "markdown",
   "metadata": {
    "collapsed": true
   },
   "source": [
    "- それぞれのプリミティブ型のためのコードが生成されるため、コンパイル時間が長くなる\n",
    "- 継承すると、子には@specializedの特性は失われてしまうので、改めて付ける必要がある"
   ]
  },
  {
   "cell_type": "markdown",
   "metadata": {
    "collapsed": true
   },
   "source": [
    "以下のように、継承する場合は、子にもアノテーションを付ける必要がある"
   ]
  },
  {
   "cell_type": "code",
   "execution_count": null,
   "metadata": {
    "collapsed": true
   },
   "outputs": [],
   "source": [
    "  trait ParentBar[@specialized T] { \n",
    "    def t(): T \n",
    "  } \n",
    " \n",
    "  class ChildBar[@specialized T](val t: T) extends ParentBar[T] \n",
    " \n",
    "  def newChildBar(i: Int): ChildBar[Int] = new ChildBar(i) "
   ]
  },
  {
   "cell_type": "markdown",
   "metadata": {},
   "source": [
    "#### まとめ\n",
    "機械学習など、大量の数値計算が必要な場合には、劇的に処理速度が向上すると期待できる"
   ]
  },
  {
   "cell_type": "markdown",
   "metadata": {},
   "source": [
    "###  Tuble"
   ]
  },
  {
   "cell_type": "markdown",
   "metadata": {
    "collapsed": true
   },
   "source": [
    "#### ボトルネック"
   ]
  },
  {
   "cell_type": "code",
   "execution_count": null,
   "metadata": {
    "collapsed": true
   },
   "outputs": [],
   "source": [
    "def tuple: (Int, Int) = (1, 2)"
   ]
  },
  {
   "cell_type": "code",
   "execution_count": null,
   "metadata": {
    "collapsed": true
   },
   "outputs": [],
   "source": [
    "のように、同じプリミティブ型のタプルの場合、最適化され、'Boxing' はされない。だた、"
   ]
  },
  {
   "cell_type": "code",
   "execution_count": null,
   "metadata": {
    "collapsed": true
   },
   "outputs": [],
   "source": [
    "def tuple2: (Int, HogeInt) = (1, HogeInt(2))\n",
    "case class HogeInt(int:Int) extends AnyVal"
   ]
  },
  {
   "cell_type": "markdown",
   "metadata": {
    "collapsed": true
   },
   "source": [
    "とすると、以下のバイトコードのように、別々の型をもつタプルはボクシングされてしまい、過剰にメモリが消費される可能性がある"
   ]
  },
  {
   "cell_type": "markdown",
   "metadata": {
    "collapsed": true
   },
   "source": [
    "バイトコード"
   ]
  },
  {
   "cell_type": "code",
   "execution_count": null,
   "metadata": {
    "collapsed": true
   },
   "outputs": [],
   "source": [
    "// def tuple  \n",
    "public scala.Tuple2<java.lang.Object, java.lang.Object> tuple();\n",
    "    Code:\n",
    "       0: new           #24                 // class scala/Tuple2$mcII$sp\n",
    "       3: dup\n",
    "       4: iconst_1\n",
    "       5: iconst_2\n",
    "       6: invokespecial #27                 // Method scala/Tuple2$mcII$sp.\"<init>\":(II)V\n",
    "       9: areturn\n",
    "\n",
    "\n",
    "// def tuple2\n",
    "  public scala.Tuple2<java.lang.Object, TupleAndClass$HogeInt> tuple2();\n",
    "    Code:\n",
    "       0: new           #31                 // class scala/Tuple2\n",
    "       3: dup\n",
    "       4: iconst_1\n",
    "       5: invokestatic  #37                 // Method scala/runtime/BoxesRunTime.boxToInteger:(I)Ljava/lang/Integer;\n",
    "       8: new           #12                 // class TupleAndClass$HogeInt\n",
    "      11: dup\n",
    "      12: iconst_2\n",
    "      13: invokespecial #40                 // Method TupleAndClass$HogeInt.\"<init>\":(I)V\n",
    "      16: invokespecial #43                 // Method scala/Tuple2.\"<init>\":(Ljava/lang/Object;Ljava/lang/Object;)V\n",
    "      19: areturn"
   ]
  },
  {
   "cell_type": "markdown",
   "metadata": {
    "collapsed": true
   },
   "source": [
    "以上のように、例え'AnyVal' を継承しても、違う型のタプルの場合、メモリをより消費するリスクがある"
   ]
  },
  {
   "cell_type": "markdown",
   "metadata": {
    "collapsed": true
   },
   "source": [
    "#### 改善方法"
   ]
  },
  {
   "cell_type": "markdown",
   "metadata": {
    "collapsed": true
   },
   "source": [
    "タプルを使わず`case class`を定義する"
   ]
  },
  {
   "cell_type": "code",
   "execution_count": null,
   "metadata": {
    "collapsed": true
   },
   "outputs": [],
   "source": [
    "def useClass=Class(1, HogeInt(1))\n",
    "case class Class(int:Int,hogeInt:HogeInt)"
   ]
  },
  {
   "cell_type": "markdown",
   "metadata": {
    "collapsed": true
   },
   "source": [
    "とタプルの代わりに新たに`case Class`を定義すると、バイトコードは以下のようになり、上と比べて、メモリの消費を抑えられる"
   ]
  },
  {
   "cell_type": "code",
   "execution_count": null,
   "metadata": {
    "collapsed": true
   },
   "outputs": [],
   "source": [
    "  public TupleAndClass$Class useClass();\n",
    "    Code:\n",
    "       0: new           #7                  // class TupleAndClass$Class\n",
    "       3: dup\n",
    "       4: iconst_1\n",
    "       5: iconst_1\n",
    "       6: invokespecial #46                 // Method TupleAndClass$Class.\"<init>\":(II)V\n",
    "       9: areturn"
   ]
  },
  {
   "cell_type": "markdown",
   "metadata": {
    "collapsed": true
   },
   "source": [
    "#### まとめ\n",
    "- 違う型を持つタプルを過剰に使うと、必要以上にメモリを消費する\n",
    "- どうしてもそのようなタプルを定義する必要がある場合、`Class` を定義するとメモリの消費が押さえられる"
   ]
  },
  {
   "cell_type": "markdown",
   "metadata": {
    "collapsed": true
   },
   "source": [
    "### Option"
   ]
  },
  {
   "cell_type": "markdown",
   "metadata": {
    "collapsed": true
   },
   "source": [
    "#### ボトルネック"
   ]
  },
  {
   "cell_type": "code",
   "execution_count": null,
   "metadata": {
    "collapsed": true
   },
   "outputs": [],
   "source": [
    "sealed abstract class Option[+A] extends Product with Serializable \n",
    "final case class Some[+A](x: A) extends Option[A] \n",
    "case object None extends Option[Nothing] "
   ]
  },
  {
   "cell_type": "code",
   "execution_count": null,
   "metadata": {
    "collapsed": true
   },
   "outputs": [],
   "source": [
    "Option型は`AnyVal` を継承していない。よって、boxingが起こり、多用するとメモリが過剰に消費されてしまうリスクが存在する。だが、使わないとなると、\n",
    "今度はScalaの良さが半減してしまう。仮にパフォーマンスの観点上、Option型がネックとなる場合、以下のようにScalazのTaggedTypeを応用する"
   ]
  },
  {
   "cell_type": "markdown",
   "metadata": {
    "collapsed": true
   },
   "source": [
    "#### 改善方法"
   ]
  },
  {
   "cell_type": "code",
   "execution_count": null,
   "metadata": {
    "collapsed": true
   },
   "outputs": [],
   "source": [
    "Scalazライブラリを導入する"
   ]
  },
  {
   "cell_type": "code",
   "execution_count": 1,
   "metadata": {
    "scrolled": true
   },
   "outputs": [
    {
     "name": "stdout",
     "output_type": "stream",
     "text": [
      "Adding 1 artifact(s)\n",
      "Adding 1 artifact(s)\n",
      "Adding 1 artifact(s)\n",
      "Adding 6 artifact(s)\n"
     ]
    },
    {
     "data": {
      "text/plain": [
       "\u001b[36mscalazVersion\u001b[0m: \u001b[32mString\u001b[0m = \u001b[32m\"7.1.0\"\u001b[0m"
      ]
     },
     "metadata": {},
     "output_type": "display_data"
    }
   ],
   "source": [
    "val scalazVersion=\"7.1.0\"\n",
    "classpath.add(\"org.scalaz\" %% \"scalaz-core\" % scalazVersion)\n",
    "classpath.add(\"org.scalaz\" %% \"scalaz-effect\" % scalazVersion)\n",
    "classpath.add(\"org.scalaz\" %% \"scalaz-typelevel\" % scalazVersion)\n",
    "classpath.add(\"org.scalaz\" %% \"scalaz-scalacheck-binding\" % scalazVersion )\n",
    "\n",
    "// val scalazVersion=\"7.1.0\"\n",
    "// libraryDependencies++=Seq(\n",
    "// \"org.scalaz\" %% \"scalaz-core\" % scalazVersion,\n",
    "// \"org.scalaz\" %% \"scalaz-effect\" % scalazVersion,\n",
    "// \"org.scalaz\" %% \"scalaz-typelevel\" % scalazVersion,\n",
    "// \"org.scalaz\" %% \"scalaz-scalacheck-binding\" % scalazVersion)"
   ]
  },
  {
   "cell_type": "code",
   "execution_count": 2,
   "metadata": {
    "scrolled": true
   },
   "outputs": [
    {
     "data": {
      "text/plain": [
       "\u001b[32mimport \u001b[36mscalaz.{@@, Tag}\u001b[0m\n",
       "defined \u001b[32mtrait \u001b[36mOpt\u001b[0m\n",
       "defined \u001b[32mobject \u001b[36mOptOps\u001b[0m"
      ]
     },
     "metadata": {},
     "output_type": "display_data"
    }
   ],
   "source": [
    "import scalaz.{@@, Tag}\n",
    "\n",
    "sealed trait Opt \n",
    " \n",
    "object OptOps { \n",
    " \n",
    "  def some[@specialized A](x: A): A @@ Opt = Tag(x) \n",
    "  def nullCheckingSome[@specialized A](x: A): A @@ Opt = \n",
    "    if (x == null) sys.error(\"Null values disallowed\") else Tag(x) \n",
    "  def none[A]: A @@ Opt = Tag(null.asInstanceOf[A]) \n",
    " \n",
    "  def isSome[A](o: A @@ Opt): Boolean = o != null \n",
    "  def isEmpty[A](o: A @@ Opt): Boolean = !isSome(o) \n",
    " \n",
    "  def unsafeGet[A](o: A @@ Opt): A = \n",
    "    if (isSome(o)) o.asInstanceOf[A] else sys.error(\"Cannot get None\") \n",
    " \n",
    "  def fold[A, B](o: A @@ Opt)(ifEmpty: => B)(f: A => B): B = \n",
    "    if (o == null) ifEmpty else f(o.asInstanceOf[A]) \n",
    "} "
   ]
  },
  {
   "cell_type": "code",
   "execution_count": null,
   "metadata": {
    "collapsed": true
   },
   "outputs": [],
   "source": [
    "TaggedTypeを応用して、実質的に`Option`と同様の機能をもたせる。"
   ]
  },
  {
   "cell_type": "code",
   "execution_count": null,
   "metadata": {
    "collapsed": true
   },
   "outputs": [],
   "source": [
    "パフォーマンス測定用コード"
   ]
  },
  {
   "cell_type": "code",
   "execution_count": null,
   "metadata": {
    "collapsed": true
   },
   "outputs": [],
   "source": [
    " class OptionCreationBenchmarks { \n",
    " \n",
    "//      普通のSome\n",
    "  @Benchmark \n",
    "  def scalaSome(): Option[ShareCount] = Some(ShareCount(1)) \n",
    " \n",
    "//      普通のNone\n",
    "  @Benchmark \n",
    "  def scalaNone(): Option[ShareCount] = None \n",
    " \n",
    "//      TaggedTypeを使用したsome\n",
    "  @Benchmark \n",
    "  def optSome(): ShareCount @@ Opt = OptOps.some(ShareCount(1)) \n",
    " \n",
    "     //      TaggedTypeを使用し、かつ中身がnullの場合、エラーを吐くsome\n",
    "  @Benchmark \n",
    "  def optSomeWithNullChecking(): ShareCount @@ Opt = \n",
    "    OptOps.nullCheckingSome(ShareCount(1)) \n",
    " \n",
    "//      TaggedTypeのNone\n",
    "  @Benchmark \n",
    "  def optNone(): ShareCount @@ Opt = OptOps.none \n",
    "} \n",
    " \n",
    "object OptionCreationBenchmarks { \n",
    "  case class ShareCount(value: Long) extends AnyVal \n",
    "  val noShares: ShareCount @@ Opt = OptOps.none \n",
    "} "
   ]
  },
  {
   "cell_type": "code",
   "execution_count": null,
   "metadata": {
    "collapsed": true
   },
   "outputs": [],
   "source": [
    "測定結果"
   ]
  },
  {
   "cell_type": "markdown",
   "metadata": {},
   "source": [
    "[info] Benchmark                                                                         Mode  Cnt          Score          Error  Units\n",
    "[info] ScalaHighPerformancePtorgaming.OptionCreationBenchmarks.optNone                  thrpt   30  316034368.030 ± 14056162.057  ops/s\n",
    "[info] ScalaHighPerformancePtorgaming.OptionCreationBenchmarks.optSome                  thrpt   30  209310940.093 ± 11409613.732  ops/s\n",
    "[info] ScalaHighPerformancePtorgaming.OptionCreationBenchmarks.optSomeWithNullChecking  thrpt   30  210272202.104 ±  9088559.516  ops/s\n",
    "[info] ScalaHighPerformancePtorgaming.OptionCreationBenchmarks.scalaNone                thrpt   30  324445881.942 ± 10275884.879  ops/s\n",
    "[info] ScalaHighPerformancePtorgaming.OptionCreationBenchmarks.scalaSome                thrpt   30  123983068.995 ±  3587226.273  ops/sb"
   ]
  },
  {
   "cell_type": "markdown",
   "metadata": {},
   "source": [
    "処理速度としては\n",
    "--------------------------------------------------------------\n",
    "Some\n",
    "TaggedTypeのSome:                              209310940.093    1.68倍\n",
    "TaggedTypeのNullチェックを含むSome: 210272202.104    1.70倍\n",
    "普通のSome:                                            123983068.995  1倍(基準軸とする)\n",
    "--------------------------------------------------------------\n",
    "None\n",
    "TaggedTypeのNone:                               316034368.030  0.97倍\n",
    "普通のNone:                                             324445881.942  1倍(基準軸とする)"
   ]
  },
  {
   "cell_type": "markdown",
   "metadata": {
    "collapsed": true
   },
   "source": [
    "#### まとめ\n",
    "- `Option`は`AnyVal`を継承していないので、boxingされずにメモリを消費する\n",
    "- ただし、使用しない方がリスクが高いので、よほどパフォーマンスに懸念がある場合以外は、基本的に使用した方が良い\n",
    "- どうしてもパフォーマンス上、ボトルネックになる場合はTaggedTypeでだいようすることを選択肢にいれる"
   ]
  }
 ],
 "metadata": {
  "kernelspec": {
   "display_name": "Scala 2.11",
   "language": "scala211",
   "name": "scala211"
  },
  "language_info": {
   "codemirror_mode": "text/x-scala",
   "file_extension": ".scala",
   "mimetype": "text/x-scala",
   "name": "scala211",
   "pygments_lexer": "scala",
   "version": "2.11.7"
  }
 },
 "nbformat": 4,
 "nbformat_minor": 2
}

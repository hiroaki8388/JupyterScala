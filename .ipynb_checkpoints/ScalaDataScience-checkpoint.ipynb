{
 "cells": [
  {
   "cell_type": "code",
   "execution_count": 3,
   "metadata": {
    "scrolled": true
   },
   "outputs": [
    {
     "name": "stdout",
     "output_type": "stream",
     "text": [
      "Adding 11 artifact(s)\n"
     ]
    },
    {
     "data": {
      "text/plain": []
     },
     "metadata": {},
     "output_type": "display_data"
    }
   ],
   "source": [
    "# 序文\n",
    "最近土日に*Scalaでデータ分析を行うにはどうすればよいか* についてまとめており、\n",
    "ある程度まとめられる段階に粒度にはなってきたので、記事にしていきます。\n",
    "\n"
   ]
  },
  {
   "cell_type": "code",
   "execution_count": null,
   "metadata": {
    "collapsed": true
   },
   "outputs": [],
   "source": [
    "## なぜScalaでデータ分析を行う必要があるのか?\n",
    "R,Python,Juliaなど、巷にはデータ分析に適したライブラリとパフォーマンスを持つ言語があふれています。\n",
    "その中で、なぜ、あえてScalaなのかというと、上記の言語はすべて、\n",
    "*レポート程度の小~中規模の開発には適しているが、大規模開発には適していないからです。*\n",
    "今後、よりデータ分析が活発化すれば、dAdでScalaを選択したように\n",
    "大規模開発にも耐えうる言語でのデータ分析の必要性が出てくるのは必須なので、そのための\n",
    "下準備として、今回Scalaでのデータ分析の形を模索しようと思って記事にしました。\n",
    "もう一つの理由として、データ分析でも、*やはり重要になるのは、パフォーマンスです。*ですので、データ分析のテクニックから\n",
    "広告配信に応用できる部分もあるかも知れません。\n",
    "上記のように、データ分析⇆広告配信という一見すると別分野に思える分野をScalaという言語でつなぐ事が、Scaladでデータ分析を\n",
    "行う事のおもな理由です。\n",
    "また、データ分析をPythonで行ってもなじみがなくて、とっつきにくい感が出てしまいますが、Scalaならば少なくとも\n",
    "TECならば読める方が多いので、データ分析を理解するための一助になるだろうと思ったのも一つの理由です。\n",
    "\n",
    "\n"
   ]
  },
  {
   "cell_type": "code",
   "execution_count": null,
   "metadata": {
    "collapsed": true
   },
   "outputs": [],
   "source": [
    "## 環境構築について\n",
    "分析で必須になる行列計算をScalaでサポートするために、*[Breeze]()*というライブラリを導入しました。\n",
    "このライブラリにより、行列計算がサポートされると同時に、スライスなど、pythonでおなじみの記法がサポートされているので、\n",
    "pythonになれた人間にも非常に取っ付きやすく、同時に関数型言語の特性も持っているので、Scalaとpythonの双方のよいところをつかった\n",
    "計算が可能になります。\n",
    "エディタについては、レポート単位の小規模な開発の場合は、[Jupyter]() などのレポートを出力できるエディタを扱える便利です。そこで今回のこの記事は\n",
    "*Jupyerにサードパーティーが開発している[Scalaカーネル]()を*入れて書きました。\n"
   ]
  },
  {
   "cell_type": "code",
   "execution_count": null,
   "metadata": {
    "collapsed": true
   },
   "outputs": [],
   "source": [
    "## Scalaによる具体的なメリット\n",
    "- Option型、Try型など、エラーを出さない仕組みが存在する: データの前処理の段階\n",
    "- 関数型なので、学習用に適用するロジックを値として外部から注入できる: 学習モデルの形成の段階\n",
    "- 並列処理が容易なので、交差検証が簡単: 学習の段階"
   ]
  },
  {
   "cell_type": "code",
   "execution_count": null,
   "metadata": {
    "collapsed": true
   },
   "outputs": [],
   "source": []
  },
  {
   "cell_type": "code",
   "execution_count": 1,
   "metadata": {},
   "outputs": [
    {
     "name": "stdout",
     "output_type": "stream",
     "text": [
      "Adding 11 artifact(s)\n"
     ]
    },
    {
     "data": {
      "text/plain": []
     },
     "metadata": {},
     "output_type": "display_data"
    }
   ],
   "source": [
    "classpath.add(\"org.scalanlp\" %% \"breeze\" % \"0.11.2\")"
   ]
  },
  {
   "cell_type": "code",
   "execution_count": 2,
   "metadata": {
    "scrolled": true
   },
   "outputs": [
    {
     "name": "stdout",
     "output_type": "stream",
     "text": [
      "Adding 17 artifact(s)\n"
     ]
    },
    {
     "data": {
      "text/plain": []
     },
     "metadata": {},
     "output_type": "display_data"
    }
   ],
   "source": [
    "classpath.add(\"org.scalanlp\" %% \"breeze-natives\" % \"0.11.2\")"
   ]
  },
  {
   "cell_type": "code",
   "execution_count": null,
   "metadata": {
    "collapsed": true
   },
   "outputs": [],
   "source": [
    "# Breezeによる基礎的な計算と応用"
   ]
  },
  {
   "cell_type": "code",
   "execution_count": null,
   "metadata": {
    "collapsed": true
   },
   "outputs": [],
   "source": [
    "## ベクトルの簡単な計算\n",
    "\n",
    "Breezeには、行列計算、代数計算、統計処理などをするためのライブラリが多く含まれている。\n",
    "まず、数値計算の基礎となるベクトルを扱うために、DenseVectorについて、基礎的な計算方法について書き出していく。"
   ]
  },
  {
   "cell_type": "code",
   "execution_count": 5,
   "metadata": {
    "scrolled": true
   },
   "outputs": [
    {
     "data": {
      "text/plain": [
       "\u001b[32mimport \u001b[36mbreeze.linalg._\u001b[0m"
      ]
     },
     "metadata": {},
     "output_type": "display_data"
    }
   ],
   "source": [
    "import breeze.linalg._"
   ]
  },
  {
   "cell_type": "code",
   "execution_count": 6,
   "metadata": {
    "scrolled": true
   },
   "outputs": [
    {
     "data": {
      "text/plain": [
       "\u001b[36mv\u001b[0m: \u001b[32mDenseVector\u001b[0m[\u001b[32mDouble\u001b[0m] = DenseVector(1.0, 2.0)"
      ]
     },
     "metadata": {},
     "output_type": "display_data"
    }
   ],
   "source": [
    "// ベクトルを作成\n",
    "val v= DenseVector(1.0,2.0)"
   ]
  },
  {
   "cell_type": "code",
   "execution_count": 18,
   "metadata": {
    "scrolled": true
   },
   "outputs": [
    {
     "data": {
      "text/plain": [
       "\u001b[36mres17\u001b[0m: \u001b[32mDouble\u001b[0m = \u001b[32m1.0\u001b[0m"
      ]
     },
     "metadata": {},
     "output_type": "display_data"
    }
   ],
   "source": [
    "//要素の 1番目にアクセス\n",
    "v(0)"
   ]
  },
  {
   "cell_type": "code",
   "execution_count": null,
   "metadata": {
    "collapsed": true
   },
   "outputs": [],
   "source": [
    "pythonと同様にネガティブな値にもキーは対応している"
   ]
  },
  {
   "cell_type": "code",
   "execution_count": 9,
   "metadata": {},
   "outputs": [
    {
     "data": {
      "text/plain": [
       "\u001b[36mres8\u001b[0m: \u001b[32mDouble\u001b[0m = \u001b[32m2.0\u001b[0m"
      ]
     },
     "metadata": {},
     "output_type": "display_data"
    }
   ],
   "source": [
    "// 最後の要素にアクセス\n",
    "v(-1)"
   ]
  },
  {
   "cell_type": "code",
   "execution_count": 8,
   "metadata": {},
   "outputs": [
    {
     "data": {
      "text/plain": [
       "\u001b[36mres7\u001b[0m: \u001b[32mDenseVector\u001b[0m[\u001b[32mDouble\u001b[0m] = DenseVector(1.0, 2.0)"
      ]
     },
     "metadata": {},
     "output_type": "display_data"
    }
   ],
   "source": [
    "DenseVector型はミュータブルである。\n",
    "理由は、データ分析では非常に大きな行列式の計算もありうるため、イミュータブルだと、計算をするたびに新しい行列を\n",
    "生成しなくてはならず、メモリを圧迫するためだからである。"
   ]
  },
  {
   "cell_type": "code",
   "execution_count": 20,
   "metadata": {
    "scrolled": true
   },
   "outputs": [
    {
     "data": {
      "text/plain": [
       "\u001b[36mres19_1\u001b[0m: \u001b[32mDouble\u001b[0m = \u001b[32m10.0\u001b[0m"
      ]
     },
     "metadata": {},
     "output_type": "display_data"
    }
   ],
   "source": [
    "v(1)=10.0\n",
    "v(1)"
   ]
  },
  {
   "cell_type": "code",
   "execution_count": null,
   "metadata": {
    "collapsed": true
   },
   "outputs": [],
   "source": [
    ":* 全ての要素に同じ値をかける"
   ]
  },
  {
   "cell_type": "code",
   "execution_count": 22,
   "metadata": {
    "scrolled": true
   },
   "outputs": [
    {
     "data": {
      "text/plain": [
       "\u001b[36mv2\u001b[0m: \u001b[32mDenseVector\u001b[0m[\u001b[32mDouble\u001b[0m] = DenseVector(1.0, 2.0, 3.0)\n",
       "\u001b[36mres21_1\u001b[0m: \u001b[32mDenseVector\u001b[0m[\u001b[32mDouble\u001b[0m] = DenseVector(2.0, 4.0, 6.0)"
      ]
     },
     "metadata": {},
     "output_type": "display_data"
    }
   ],
   "source": [
    "val v2=DenseVector(1.0,2.0,3.0)\n",
    "v:*2.0"
   ]
  },
  {
   "cell_type": "code",
   "execution_count": null,
   "metadata": {
    "collapsed": true
   },
   "outputs": [],
   "source": [
    "vはDenseVector[Double]型なので、Int型を掛ける事とエラーが出る\n",
    "暗黙の型変換があえて行われないことで、数値計算で別のData型に変換される事を防いでいる"
   ]
  },
  {
   "cell_type": "code",
   "execution_count": 26,
   "metadata": {},
   "outputs": [
    {
     "ename": "",
     "evalue": "",
     "output_type": "error",
     "traceback": [
      "\u001b[31mMain.scala:29: could not find implicit value for parameter op: breeze.linalg.operators.OpMulScalar.Impl2[breeze.linalg.DenseVector[Double],Int,That]",
      "v:*2",
      " ^\u001b[0m"
     ]
    }
   ],
   "source": [
    "v:*2 // エラー"
   ]
  },
  {
   "cell_type": "code",
   "execution_count": null,
   "metadata": {
    "collapsed": true
   },
   "outputs": [],
   "source": [
    ":+ ベクトル同士を加減する"
   ]
  },
  {
   "cell_type": "code",
   "execution_count": 24,
   "metadata": {
    "scrolled": true
   },
   "outputs": [
    {
     "data": {
      "text/plain": [
       "\u001b[36mres23_0\u001b[0m: \u001b[32mDenseVector\u001b[0m[\u001b[32mDouble\u001b[0m] = DenseVector(1.0, 2.0, 3.0)\n",
       "\u001b[36mres23_1\u001b[0m: \u001b[32mDenseVector\u001b[0m[\u001b[32mDouble\u001b[0m] = DenseVector(1.0, 2.0, 3.0)\n",
       "\u001b[36mres23_2\u001b[0m: \u001b[32mDenseVector\u001b[0m[\u001b[32mDouble\u001b[0m] = DenseVector(2.0, 4.0, 6.0)"
      ]
     },
     "metadata": {},
     "output_type": "display_data"
    }
   ],
   "source": [
    "v\n",
    "v2\n",
    "v:+v2"
   ]
  },
  {
   "cell_type": "code",
   "execution_count": null,
   "metadata": {
    "collapsed": true
   },
   "outputs": [],
   "source": [
    "定数の場合、全ての要素に対象の値が加減される"
   ]
  },
  {
   "cell_type": "code",
   "execution_count": 27,
   "metadata": {},
   "outputs": [
    {
     "data": {
      "text/plain": [
       "\u001b[36mres26\u001b[0m: \u001b[32mDenseVector\u001b[0m[\u001b[32mDouble\u001b[0m] = DenseVector(3.0, 4.0, 5.0)"
      ]
     },
     "metadata": {},
     "output_type": "display_data"
    }
   ],
   "source": [
    "// DenseVector(1.0,2.0):+DenseVector(2.0,2.0)と同じ\n",
    "v:+2.0"
   ]
  },
  {
   "cell_type": "code",
   "execution_count": null,
   "metadata": {
    "collapsed": true
   },
   "outputs": [],
   "source": [
    "要素数が同じベクトル同士でないと、実行時にエラーが出る"
   ]
  },
  {
   "cell_type": "code",
   "execution_count": 29,
   "metadata": {},
   "outputs": [
    {
     "data": {
      "text/plain": [
       "\u001b[36mv3\u001b[0m: \u001b[32mDenseVector\u001b[0m[\u001b[32mDouble\u001b[0m] = DenseVector(1.0, 2.0, 3.0)\n",
       "\u001b[36mres28_1\u001b[0m: \u001b[32mInt\u001b[0m = \u001b[32m3\u001b[0m\n",
       "\u001b[36mres28_2\u001b[0m: \u001b[32mInt\u001b[0m = \u001b[32m3\u001b[0m\n",
       "\u001b[36mres28_3\u001b[0m: \u001b[32mDenseVector\u001b[0m[\u001b[32mDouble\u001b[0m] = DenseVector(2.0, 4.0, 6.0)"
      ]
     },
     "metadata": {},
     "output_type": "display_data"
    }
   ],
   "source": [
    "val v3=DenseVector(1.0,2.0,3.0)\n",
    "\n",
    "v.length //2\n",
    "v3.length //3\n",
    "\n",
    "v:+v3"
   ]
  },
  {
   "cell_type": "code",
   "execution_count": null,
   "metadata": {
    "collapsed": true
   },
   "outputs": [],
   "source": [
    ":= 値を書き換える"
   ]
  },
  {
   "cell_type": "code",
   "execution_count": 83,
   "metadata": {},
   "outputs": [
    {
     "data": {
      "text/plain": [
       "\u001b[36mv4\u001b[0m: \u001b[32mDenseVector\u001b[0m[\u001b[32mDouble\u001b[0m] = DenseVector(1.0, 2.0, 3.0)\n",
       "\u001b[36mres82_1\u001b[0m: \u001b[32mDenseVector\u001b[0m[\u001b[32mDouble\u001b[0m] = DenseVector(5.0, 7.0, 9.0)\n",
       "\u001b[36mres82_2\u001b[0m: \u001b[32mDenseVector\u001b[0m[\u001b[32mDouble\u001b[0m] = DenseVector(1.0, 2.0, 3.0)\n",
       "\u001b[36mres82_3\u001b[0m: \u001b[32mDenseVector\u001b[0m[\u001b[32mDouble\u001b[0m] = DenseVector(1.0, 2.0, 3.0)\n",
       "\u001b[36mres82_4\u001b[0m: \u001b[32mDenseVector\u001b[0m[\u001b[32mDouble\u001b[0m] = DenseVector(1.0, 2.0, 3.0)"
      ]
     },
     "metadata": {},
     "output_type": "display_data"
    }
   ],
   "source": [
    "val v4=DenseVector(4.0,5.0,6.0)\n",
    "v4:+v3\n",
    "\n",
    "// 値は変わっていない\n",
    "v4\n",
    "\n",
    "// 値が入れ替わる\n",
    "v4:=v3\n",
    "v4"
   ]
  },
  {
   "cell_type": "code",
   "execution_count": null,
   "metadata": {
    "collapsed": true
   },
   "outputs": [],
   "source": [
    "dot 内積を求める"
   ]
  },
  {
   "cell_type": "code",
   "execution_count": 36,
   "metadata": {},
   "outputs": [
    {
     "data": {
      "text/plain": [
       "\u001b[36mres35\u001b[0m: \u001b[32mDouble\u001b[0m = \u001b[32m14.0\u001b[0m"
      ]
     },
     "metadata": {},
     "output_type": "display_data"
    }
   ],
   "source": [
    "v dot v2"
   ]
  },
  {
   "cell_type": "code",
   "execution_count": null,
   "metadata": {
    "collapsed": true
   },
   "outputs": [],
   "source": [
    "なにがDenseというと、要素がぎっしりつまっているということである。  \n",
    "Dense(密な)とついているという事は、Sparse(疎な)Vectorも存在する。  \n",
    "疎なベクトルというのは、たとえば [0,0,0,0,0,1,0,0]のように殆どゼロで構成されているベクトルの事をいう。\n",
    "例えば、CVした広告のデータなどは、ユーザーがCVする確率がきわめて低いため、非常にスパースなデータである。\n",
    "殆ど0(=同じ値)という事は、メモリを効率化するチャンスがあるということである。  \n",
    "そのため、Breezeでは、疎なベクトルのために、SparseVector型とHashVector型という型が用意されている\n",
    "SparseVectorはメモリ最適化がHashVectorよりもされているが、ゼロでない値に対しての計算がおそい、\n",
    "対して、HashVectorの方は、Hash値により最適化している分、SparseVectorよりはメモリ効率がよくないが、\n",
    "計算スピードはSpaseVectorよりも高い。"
   ]
  },
  {
   "cell_type": "code",
   "execution_count": 47,
   "metadata": {
    "scrolled": true
   },
   "outputs": [
    {
     "data": {
      "text/plain": [
       "\u001b[36mvs\u001b[0m: \u001b[32mSparseVector\u001b[0m[\u001b[32mDouble\u001b[0m] = SparseVector((0,2.0), (1,1000.0))\n",
       "\u001b[36mvs2\u001b[0m: \u001b[32mSparseVector\u001b[0m[\u001b[32mDouble\u001b[0m] = SparseVector((0,2.0), (1,5000.0))"
      ]
     },
     "metadata": {},
     "output_type": "display_data"
    }
   ],
   "source": [
    "### ベクトルを生成する\n",
    "python(正確にはnumpy)のように、さまざまなverctorを生成するメソッドが多く存在する。"
   ]
  },
  {
   "cell_type": "code",
   "execution_count": 48,
   "metadata": {},
   "outputs": [
    {
     "data": {
      "text/plain": [
       "\u001b[36mvOnes\u001b[0m: \u001b[32mDenseVector\u001b[0m[\u001b[32mDouble\u001b[0m] = DenseVector(1.0, 1.0, 1.0, 1.0, 1.0, 1.0, 1.0, 1.0, 1.0, 1.0, 1.0, 1.0, 1.0, 1.0, 1.0, 1.0, 1.0, 1.0, 1.0, 1.0, 1.0, 1.0, 1.0, 1.0, 1.0, 1.0, 1.0, 1.0, 1.0, 1.0, 1.0, 1.0, 1.0, 1.0, 1.0, 1.0, 1.0, 1.0, 1.0, 1.0, 1.0, 1.0, 1.0, 1.0, 1.0, 1.0, 1.0, 1.0, 1.0, 1.0, 1.0, 1.0, 1.0, 1.0, 1.0, 1.0, 1.0, 1.0, 1.0, 1.0, 1.0, 1.0, 1.0, 1.0, 1.0, 1.0, 1.0, 1.0, 1.0, 1.0, 1.0, 1.0, 1.0, 1.0, 1.0, 1.0, 1.0, 1.0, 1.0, 1.0, 1.0, 1.0, 1.0, 1.0, 1.0, 1.0, 1.0, 1.0, 1.0, 1.0, 1.0, 1.0, 1.0, 1.0, 1.0, 1.0, 1.0, 1.0, 1.0, 1.0)\n",
       "\u001b[36mres47_1\u001b[0m: \u001b[32mDouble\u001b[0m = \u001b[32m1.0\u001b[0m\n",
       "\u001b[36mres47_2\u001b[0m: \u001b[32mInt\u001b[0m = \u001b[32m100\u001b[0m"
      ]
     },
     "metadata": {},
     "output_type": "display_data"
    }
   ],
   "source": [
    "// 要素が1の１００次元ベクトルを生成する\n",
    "val vOnes=DenseVector.ones[Double](100)\n",
    "vOnes(0)\n",
    "vOnes.length"
   ]
  },
  {
   "cell_type": "code",
   "execution_count": 49,
   "metadata": {},
   "outputs": [
    {
     "data": {
      "text/plain": [
       "\u001b[36mvLine\u001b[0m: \u001b[32mDenseVector\u001b[0m[\u001b[32mDouble\u001b[0m] = DenseVector(0.0, 0.1111111111111111, 0.2222222222222222, 0.3333333333333333, 0.4444444444444444, 0.5555555555555556, 0.6666666666666666, 0.7777777777777777, 0.8888888888888888, 1.0)"
      ]
     },
     "metadata": {},
     "output_type": "display_data"
    }
   ],
   "source": [
    "// 0から1.0まで10等分した10要素のベクトルを生成する\n",
    "val vLine=linspace(0.0,1.0,10)"
   ]
  },
  {
   "cell_type": "code",
   "execution_count": 51,
   "metadata": {},
   "outputs": [
    {
     "data": {
      "text/plain": [
       "\u001b[36mvTab\u001b[0m: \u001b[32mDenseVector\u001b[0m[\u001b[32mDouble\u001b[0m] = DenseVector(0.0, 1.0, 2.0, 3.0)\n",
       "\u001b[36mvTab2\u001b[0m: \u001b[32mDenseVector\u001b[0m[\u001b[32mDouble\u001b[0m] = DenseVector(0.0, 5.0, 10.0, 15.0)"
      ]
     },
     "metadata": {},
     "output_type": "display_data"
    }
   ],
   "source": [
    "//  関数を引数に与える事により、値を変換する\n",
    "\n",
    "val vTab=DenseVector.tabulate[Double](4){identity}\n",
    "val vTab2=DenseVector.tabulate[Double](4){i=>i*5.0}"
   ]
  },
  {
   "cell_type": "code",
   "execution_count": 54,
   "metadata": {},
   "outputs": [
    {
     "data": {
      "text/plain": [
       "\u001b[36mvAry\u001b[0m: \u001b[32mDenseVector\u001b[0m[\u001b[32mInt\u001b[0m] = DenseVector(1, 2, 3)\n",
       "\u001b[36mvSeq\u001b[0m: \u001b[32mDenseVector\u001b[0m[\u001b[32mInt\u001b[0m] = DenseVector(1, 2)"
      ]
     },
     "metadata": {},
     "output_type": "display_data"
    }
   ],
   "source": [
    "// Arrayを引数として生成できる\n",
    "val vAry=DenseVector(Array(1,2,3))\n",
    "\n",
    "\n",
    "// splat operatorを使用する事で、Seqなどからも生成できる\n",
    "val vSeq=DenseVector(Seq(1,2):_*)"
   ]
  },
  {
   "cell_type": "code",
   "execution_count": 56,
   "metadata": {},
   "outputs": [
    {
     "data": {
      "text/plain": [
       "\u001b[36mvSeq\u001b[0m: \u001b[32mSparseVector\u001b[0m[\u001b[32mInt\u001b[0m] = SparseVector((0,1), (1,2))"
      ]
     },
     "metadata": {},
     "output_type": "display_data"
    }
   ],
   "source": [
    "### 要素へのアクセス"
   ]
  },
  {
   "cell_type": "code",
   "execution_count": 64,
   "metadata": {
    "scrolled": true
   },
   "outputs": [
    {
     "data": {
      "text/plain": [
       "\u001b[36mv\u001b[0m: \u001b[32mDenseVector\u001b[0m[\u001b[32mDouble\u001b[0m] = DenseVector(1.0, 2.0, 3.0, 4.0, 5.0)\n",
       "\u001b[36mres63_1\u001b[0m: \u001b[32mDenseVector\u001b[0m[\u001b[32mDouble\u001b[0m] = DenseVector(1.0, 2.0, 3.0, 4.0)\n",
       "\u001b[36mres63_2\u001b[0m: \u001b[32mDenseVector\u001b[0m[\u001b[32mDouble\u001b[0m] = DenseVector(2.0, 3.0)\n",
       "\u001b[36mres63_3\u001b[0m: \u001b[32mDenseVector\u001b[0m[\u001b[32mDouble\u001b[0m] = DenseVector(5.0, 4.0, 3.0, 2.0, 1.0)"
      ]
     },
     "metadata": {},
     "output_type": "display_data"
    }
   ],
   "source": [
    "val v100=DenseVector[Double](1,2,3,4,5)\n",
    "\n",
    "//  一番目から三番目までにアクセス\n",
    "v(0 to 3)\n",
    "\n",
    "// 一番目から二番目間でアクセス python でいう[0:3]\n",
    "v(1 until 3)\n",
    "\n",
    "// 要素をリバース\n",
    "v(v.length-1 to  0 by -1 )"
   ]
  },
  {
   "cell_type": "code",
   "execution_count": null,
   "metadata": {
    "collapsed": true
   },
   "outputs": [],
   "source": [
    "上記は、新しいインスタンスを生成しているのではなく、元のベクトルと同じポインタにアクセス\n",
    "している。よって、メモリは上記の処理では全く消費してない"
   ]
  },
  {
   "cell_type": "code",
   "execution_count": 79,
   "metadata": {},
   "outputs": [
    {
     "data": {
      "text/plain": [
       "\u001b[36mfilter\u001b[0m: \u001b[32mSliceVector\u001b[0m[\u001b[32mInt\u001b[0m, \u001b[32mDouble\u001b[0m] = breeze.linalg.SliceVector@46b88c34\n",
       "\u001b[36mfiltered\u001b[0m: \u001b[32mDenseVector\u001b[0m[\u001b[32mDouble\u001b[0m] = DenseVector(1.0, 2.0)"
      ]
     },
     "metadata": {},
     "output_type": "display_data"
    }
   ],
   "source": [
    "// 値にフィルターをかける\n",
    "val filter=v(v:<3.0)\n",
    "// メモリを割り当てる\n",
    "val filtered=filter.toDenseVector"
   ]
  },
  {
   "cell_type": "code",
   "execution_count": 90,
   "metadata": {},
   "outputs": [
    {
     "data": {
      "text/plain": [
       "\u001b[36mvEven\u001b[0m: \u001b[32mDenseVector\u001b[0m[\u001b[32mDouble\u001b[0m] = DenseVector(0.0, 0.1, 0.0, 0.30000000000000004, 0.0, 0.5, 0.0, 0.7000000000000001, 0.0, 0.9, 0.0)\n",
       "\u001b[36mres89_1\u001b[0m: \u001b[32mDenseVector\u001b[0m[\u001b[32mDouble\u001b[0m] = DenseVector(0.0, 0.0, 0.0, 0.0, 0.0, 0.0)\n",
       "\u001b[36mres89_2\u001b[0m: \u001b[32mDenseVector\u001b[0m[\u001b[32mDouble\u001b[0m] = DenseVector(0.0, 0.1, 0.0, 0.30000000000000004, 0.0, 0.5, 0.0, 0.7000000000000001, 0.0, 0.9, 0.0)"
      ]
     },
     "metadata": {},
     "output_type": "display_data"
    }
   ],
   "source": [
    "// 0から10までの要素を持つベクトルの偶数の値だけ0にする\n",
    "val vEven=linspace(0,1.0,11)\n",
    "vEven(0 to 10 by 2):=0.0\n",
    "vEven"
   ]
  },
  {
   "cell_type": "code",
   "execution_count": null,
   "metadata": {
    "collapsed": true
   },
   "outputs": [],
   "source": [
    "### 行列\n",
    "当然、行列もBrezeはサポートしている"
   ]
  },
  {
   "cell_type": "code",
   "execution_count": 96,
   "metadata": {},
   "outputs": [
    {
     "data": {
      "text/plain": [
       "\u001b[36mm\u001b[0m: \u001b[32mDenseMatrix\u001b[0m[\u001b[32mDouble\u001b[0m] = 1.0  2.0  3.0  \n",
       "4.0  5.0  6.0  \n",
       "\u001b[36mm2\u001b[0m: \u001b[32mDenseMatrix\u001b[0m[\u001b[32mDouble\u001b[0m] = 1.0  2.0  3.0  \n",
       "4.0  5.0  6.0  \n",
       "\u001b[36mres95_2\u001b[0m: \u001b[32mDenseMatrix\u001b[0m[\u001b[32mDouble\u001b[0m] = 1.0  4.0  \n",
       "2.0  5.0  \n",
       "3.0  6.0  \n",
       "\u001b[36mres95_3\u001b[0m: \u001b[32mTranspose\u001b[0m[\u001b[32mDenseVector\u001b[0m[\u001b[32mDouble\u001b[0m]] = \u001b[33mTranspose\u001b[0m(DenseVector(1.0, 2.0, 3.0))\n",
       "\u001b[36mres95_4\u001b[0m: \u001b[32mDenseVector\u001b[0m[\u001b[32mDouble\u001b[0m] = DenseVector(1.0, 4.0)\n",
       "\u001b[36mres95_5\u001b[0m: \u001b[32mDenseMatrix\u001b[0m[\u001b[32mDouble\u001b[0m] = 14.0  32.0  \n",
       "32.0  77.0  "
      ]
     },
     "metadata": {},
     "output_type": "display_data"
    }
   ],
   "source": [
    "val m=DenseMatrix((1.0,2.0,3.0),(4.0,5.0,6.0))\n",
    "val m2=DenseMatrix((1.0,2.0,3.0),(4.0,5.0,6.0))\n",
    "\n",
    "// 置換\n",
    "m.t\n",
    "\n",
    "// 一行目にアクセス\n",
    "m(0,::)\n",
    "\n",
    "// 一列目にアクセス\n",
    "m(::,0)\n",
    "//  行列積\n",
    "m*m2.t"
   ]
  },
  {
   "cell_type": "code",
   "execution_count": null,
   "metadata": {
    "collapsed": true
   },
   "outputs": [],
   "source": [
    "## 応用: 簡単な統計分析\n",
    "男女の体重と身長のデータをもつcsvファイルから、HWDataオブジェクトを生成する"
   ]
  },
  {
   "cell_type": "code",
   "execution_count": 105,
   "metadata": {},
   "outputs": [
    {
     "data": {
      "text/plain": [
       "\u001b[32mimport \u001b[36mscala.reflect.ClassTag\u001b[0m\n",
       "\u001b[32mimport \u001b[36mio.Source\u001b[0m\n",
       "\u001b[32mimport \u001b[36mbreeze.linalg._\u001b[0m\n",
       "\u001b[32mimport \u001b[36mbreeze.stats._\u001b[0m\n",
       "\u001b[32mimport \u001b[36mbreeze.optimize._\u001b[0m\n",
       "defined \u001b[32mobject \u001b[36mHWData\u001b[0m\n",
       "defined \u001b[32mclass \u001b[36mHWData\u001b[0m"
      ]
     },
     "metadata": {},
     "output_type": "display_data"
    }
   ],
   "source": [
    "\n",
    "\n",
    "import scala.reflect.ClassTag\n",
    "import io.Source\n",
    "\n",
    "import breeze.linalg._\n",
    "import breeze.stats._\n",
    "import breeze.optimize._\n",
    "\n",
    "object HWData {\n",
    "  \n",
    "  val DataDirectory = \"./s4ds/chap02/data/\"\n",
    "  val fileName = \"rep_height_weights.csv\"\n",
    "    \n",
    "  def load:HWData =\n",
    "  {\n",
    "    val file = Source.fromFile(DataDirectory + fileName)\n",
    "    val lines = file.getLines.toVector\n",
    "    val splitLines = lines.map { _.split(',') }\n",
    "\n",
    "    def fromList[T:ClassTag](index:Int, converter:(String => T)):DenseVector[T] =\n",
    "      DenseVector.tabulate(lines.size) { irow => converter(splitLines(irow)(index)) }\n",
    "\n",
    "    val genders = fromList(1, elem => elem.replace(\"\\\"\", \"\").head)\n",
    "    val weights = fromList(2, elem => elem.toDouble)\n",
    "    val heights = fromList(3, elem => elem.toDouble)\n",
    "    val reportedWeights = fromList(4, elem => elem.toDouble)\n",
    "    val reportedHeights = fromList(5, elem => elem.toDouble)\n",
    "\n",
    "    new HWData(weights, heights, reportedWeights, reportedHeights, genders)\n",
    "  }\n",
    "\n",
    "}\n",
    "\n",
    "class HWData(\n",
    "//     このようにそれぞれのデータに対応するベクトルをフィールドに持つように設計することで、Rなどと同じ記法でそれぞれのデータにアクセスできる\n",
    "  val weights:DenseVector[Double],\n",
    "  val heights:DenseVector[Double],\n",
    "  val reportedWeights:DenseVector[Double],\n",
    "  val reportedHeights:DenseVector[Double],\n",
    "  val genders:DenseVector[Char]\n",
    ") {\n",
    "\n",
    "  val npoints = heights.length\n",
    "  require(weights.length == npoints)\n",
    "  require(reportedWeights.length == npoints)\n",
    "  require(genders.length == npoints)\n",
    "  require(reportedHeights.length == npoints)\n",
    "\n",
    "  lazy val rescaledHeights:DenseVector[Double] =\n",
    "    (heights - mean(heights)) / stddev(heights)\n",
    "\n",
    "  lazy val rescaledWeights:DenseVector[Double] =\n",
    "    (weights - mean(weights)) / stddev(weights)\n",
    "\n",
    "  lazy val featureMatrix:DenseMatrix[Double] =\n",
    "    DenseMatrix.horzcat( \n",
    "      DenseMatrix.ones[Double](npoints, 1), \n",
    "      rescaledHeights.toDenseMatrix.t,\n",
    "      rescaledWeights.toDenseMatrix.t\n",
    "    )\n",
    "\n",
    "  lazy val target:DenseVector[Double] =\n",
    "    genders.values.map { gender => if(gender == 'M') 1.0 else 0.0 }\n",
    "\n",
    "  override def toString:String = s\"HWData [ $npoints rows ]\"\n",
    "\n",
    "}"
   ]
  },
  {
   "cell_type": "code",
   "execution_count": 103,
   "metadata": {},
   "outputs": [
    {
     "data": {
      "text/plain": [
       "\u001b[36mhwData\u001b[0m: \u001b[32mHWData\u001b[0m = HWData [ 181 rows ]"
      ]
     },
     "metadata": {},
     "output_type": "display_data"
    }
   ],
   "source": [
    "val hwData= HWData.load"
   ]
  },
  {
   "cell_type": "code",
   "execution_count": 0,
   "metadata": {},
   "outputs": [
    {
     "ename": "",
     "evalue": "",
     "output_type": "error",
     "traceback": [
      "\u001b[31mMain.scala:24: not found: value HWData",
      "HWData.splitLines",
      "^\u001b[0m"
     ]
    }
   ],
   "source": [
    "# 編集中: ロジスティック回帰\n",
    "\n"
   ]
  },
  {
   "cell_type": "code",
   "execution_count": null,
   "metadata": {
    "collapsed": true
   },
   "outputs": [],
   "source": [
    "# Scalaの並列処理の特性を活かして、交差検証を効率的に行う"
   ]
  },
  {
   "cell_type": "code",
   "execution_count": null,
   "metadata": {
    "collapsed": true
   },
   "outputs": [],
   "source": [
    "// CVFunction型を定義\n",
    "type CVFunction = (Seq[Int], Seq[Int]) => Double"
   ]
  },
  {
   "cell_type": "code",
   "execution_count": null,
   "metadata": {
    "collapsed": true
   },
   "outputs": [],
   "source": []
  },
  {
   "cell_type": "code",
   "execution_count": 3,
   "metadata": {},
   "outputs": [
    {
     "data": {
      "text/plain": [
       "\u001b[32mimport \u001b[36mbreeze.linalg._\u001b[0m\n",
       "\u001b[32mimport \u001b[36mbreeze.numerics._\u001b[0m"
      ]
     },
     "metadata": {},
     "output_type": "display_data"
    }
   ],
   "source": [
    "import breeze.linalg._\n",
    "import breeze.numerics._"
   ]
  },
  {
   "cell_type": "code",
   "execution_count": 5,
   "metadata": {
    "scrolled": true
   },
   "outputs": [
    {
     "data": {
      "text/plain": [
       "\u001b[36mindexList\u001b[0m: \u001b[32mDenseVector\u001b[0m[\u001b[32mInt\u001b[0m] = DenseVector(0, 1, 2, 3, 4, 5, 6, 7, 8, 9)\n",
       "\u001b[36mres4_1\u001b[0m: \u001b[32mDenseVector\u001b[0m[\u001b[32mInt\u001b[0m] = DenseVector(0, 2, 6, 5, 9, 7, 3, 8, 4, 1)"
      ]
     },
     "metadata": {},
     "output_type": "display_data"
    }
   ],
   "source": [
    " val indexList = DenseVector.range(0, 10)\n",
    "shuffle(indexList )"
   ]
  },
  {
   "cell_type": "code",
   "execution_count": 11,
   "metadata": {},
   "outputs": [
    {
     "data": {
      "text/plain": [
       "defined \u001b[32mclass \u001b[36mRandamSample\u001b[0m"
      ]
     },
     "metadata": {},
     "output_type": "display_data"
    }
   ],
   "source": [
    "// 交差検証のために、シャッフルして、トレーニングデータとテストデータにindexを分割するclassを作成する\n",
    "\n",
    "// nEnumはデータの数、nCrossValidationsはテスト用に分割するデータの数\n",
    "class RandamSample(nEnum:Int,nCrossValidations:Int){\n",
    "//    f: 適用する学習ロジック (トレーニングデータのindex、テストデータのindex=>正答率 )\n",
    "    type CVFunction = (Seq[Int],Seq[Int])=>Double\n",
    "    \n",
    "    require(nEnum>nCrossValidations,\"与えるパラメータが違います\")\n",
    "    \n",
    "    private  val indexList= DenseVector.range(0, nEnum)\n",
    "//                            nShuffle: 交差検証を行う数。並列処理して行う事で、効率的に計算が可能\n",
    "                       def mapSamples(nShuffle:Int)(f:CVFunction)={                           \n",
    "//                            並列化\n",
    "                           val cvResults= (0 to nShuffle).par.map{_=>\n",
    "//                                shuffleで要素をシャッフル\n",
    "                           val shuffleIndex=shuffle(indexList)\n",
    "//                                split(元のベクトル,元のベクトルから最初の要素を取り出す数)\n",
    "                            val Seq(testIndex,trainIndex)=  split(shuffleIndex,Seq(nCrossValidations))\n",
    "                                   \n",
    "                               // Vector型に変換し、学習ロジックを適用\n",
    "                          f(testIndex.toScalaVector,trainIndex.toScalaVector)\n",
    "                               \n",
    "                          \n",
    "                           }\n",
    "DenseVector(cvResults.toArray) \n",
    "                       }\n",
    "                       \n",
    "                       \n",
    "}"
   ]
  },
  {
   "cell_type": "code",
   "execution_count": 9,
   "metadata": {},
   "outputs": [
    {
     "data": {
      "text/plain": [
       "\u001b[36mres8\u001b[0m: \u001b[32mscala\u001b[0m.\u001b[32mpackage\u001b[0m.\u001b[32mVector\u001b[0m[\u001b[32mInt\u001b[0m] = \u001b[33mVector\u001b[0m(\n",
       "  \u001b[32m1\u001b[0m,\n",
       "  \u001b[32m2\u001b[0m,\n",
       "  \u001b[32m3\u001b[0m,\n",
       "  \u001b[32m4\u001b[0m,\n",
       "  \u001b[32m5\u001b[0m,\n",
       "  \u001b[32m6\u001b[0m,\n",
       "  \u001b[32m7\u001b[0m,\n",
       "  \u001b[32m8\u001b[0m,\n",
       "  \u001b[32m9\u001b[0m,\n",
       "  \u001b[32m10\u001b[0m,\n",
       "  \u001b[32m11\u001b[0m,\n",
       "  \u001b[32m12\u001b[0m,\n",
       "  \u001b[32m13\u001b[0m,\n",
       "  \u001b[32m14\u001b[0m,\n",
       "  \u001b[32m15\u001b[0m,\n",
       "  \u001b[32m16\u001b[0m,\n",
       "  \u001b[32m17\u001b[0m,\n",
       "  \u001b[32m18\u001b[0m,\n",
       "  \u001b[32m19\u001b[0m,\n",
       "\u001b[33m...\u001b[0m"
      ]
     },
     "metadata": {},
     "output_type": "display_data"
    }
   ],
   "source": [
    "DenseVector.range(1 ,100).toScalaVector."
   ]
  }
 ],
 "metadata": {
  "kernelspec": {
   "display_name": "Scala 2.11",
   "language": "scala211",
   "name": "scala211"
  },
  "language_info": {
   "codemirror_mode": "text/x-scala",
   "file_extension": ".scala",
   "mimetype": "text/x-scala",
   "name": "scala211",
   "pygments_lexer": "scala",
   "version": "2.11.7"
  }
 },
 "nbformat": 4,
 "nbformat_minor": 2
}

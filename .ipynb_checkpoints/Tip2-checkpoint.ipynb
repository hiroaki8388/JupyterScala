{
 "cells": [
  {
   "cell_type": "markdown",
   "metadata": {},
   "source": [
    "# 代数データ型"
   ]
  },
  {
   "cell_type": "markdown",
   "metadata": {},
   "source": [
    "## 列挙型"
   ]
  },
  {
   "cell_type": "code",
   "execution_count": 2,
   "metadata": {},
   "outputs": [
    {
     "data": {
      "text/plain": [
       "defined \u001b[32mtrait \u001b[36mColor\u001b[0m\n",
       "defined \u001b[32mclass \u001b[36mBlue\u001b[0m\n",
       "defined \u001b[32mclass \u001b[36mRed\u001b[0m\n",
       "defined \u001b[32mclass \u001b[36mGreen\u001b[0m\n",
       "defined \u001b[32mclass \u001b[36mWhite\u001b[0m"
      ]
     },
     "metadata": {},
     "output_type": "display_data"
    }
   ],
   "source": [
    "sealed trait Color\n",
    "case class Blue() extends Color\n",
    "case class Red() extends Color\n",
    "case class Green() extends Color\n",
    "case class White() extends Color"
   ]
  },
  {
   "cell_type": "markdown",
   "metadata": {},
   "source": [
    "## 直積型\n",
    "何が積なのかというイメージを説明します。\n",
    "\n",
    "先ほどの例でPoint(3, 4)というのは、3と4が組み合わさって1つのデータを構成しています。これを3*4のような因数の組み合わせで1つの項を構成しているように捉えます。"
   ]
  },
  {
   "cell_type": "code",
   "execution_count": 3,
   "metadata": {},
   "outputs": [
    {
     "name": "stdout",
     "output_type": "stream",
     "text": [
      "Point(3,4)\n"
     ]
    },
    {
     "data": {
      "text/plain": [
       "defined \u001b[32mtrait \u001b[36mCoordinates\u001b[0m\n",
       "defined \u001b[32mclass \u001b[36mPoint\u001b[0m\n",
       "defined \u001b[32mfunction \u001b[36moffset\u001b[0m\n",
       "\u001b[36mp1\u001b[0m: \u001b[32m$user\u001b[0m.\u001b[32mPoint\u001b[0m = \u001b[33mPoint\u001b[0m(\u001b[32m2\u001b[0m, \u001b[32m3\u001b[0m)\n",
       "\u001b[36mp2\u001b[0m: \u001b[32m$user\u001b[0m.\u001b[32mPoint\u001b[0m = \u001b[33mPoint\u001b[0m(\u001b[32m1\u001b[0m, \u001b[32m1\u001b[0m)"
      ]
     },
     "metadata": {},
     "output_type": "display_data"
    }
   ],
   "source": [
    "sealed trait Coordinates\n",
    "case class Point(x: Int, y: Int) extends Coordinates\n",
    "\n",
    "def offset(p1: Point, p2: Point): Point = {\n",
    "  Point(p1.x + p2.x, p1.y + p2.y)\n",
    "}\n",
    "\n",
    "val p1 = Point(2, 3)\n",
    "val p2 = Point(1, 1)\n",
    "println(offset(p1, p2))"
   ]
  },
  {
   "cell_type": "markdown",
   "metadata": {},
   "source": [
    "## 直和型\n",
    "\n",
    "この名前も集合論に由来します。複数の直積型の和だと捉えれば、イメージしやすいかもしれません。\n",
    "`Bar Int Int | Baz Int Int Int → Int*Int + Int*Int*Int`\n",
    "\n",
    "関数の引数は同一の型しか受け付けないため、通常は数値Intと文字列Stringの両方を渡すことはできません。この例では代数的データ型を挟むことでどちらも渡せるようにしています。"
   ]
  },
  {
   "cell_type": "code",
   "execution_count": 5,
   "metadata": {},
   "outputs": [
    {
     "data": {
      "text/plain": [
       "defined \u001b[32mtrait \u001b[36mFoo\u001b[0m\n",
       "defined \u001b[32mclass \u001b[36mBar\u001b[0m\n",
       "defined \u001b[32mclass \u001b[36mBaz\u001b[0m"
      ]
     },
     "metadata": {},
     "output_type": "display_data"
    }
   ],
   "source": [
    "sealed trait Foo\n",
    "case class Bar(x: Int, y: Int) extends Foo\n",
    "case class Baz(x: Int, y: Int, z: Int) extends Foo"
   ]
  },
  {
   "cell_type": "markdown",
   "metadata": {
    "collapsed": true
   },
   "source": [
    "## Partital Function"
   ]
  },
  {
   "cell_type": "code",
   "execution_count": 16,
   "metadata": {},
   "outputs": [
    {
     "data": {
      "text/plain": [
       "\u001b[36mdictionary\u001b[0m: \u001b[32mMap\u001b[0m[\u001b[32mInt\u001b[0m, \u001b[32mString\u001b[0m] = \u001b[33mMap\u001b[0m(\u001b[32m1\u001b[0m -> \u001b[32m\"one\"\u001b[0m, \u001b[32m2\u001b[0m -> \u001b[32m\"two\"\u001b[0m)\n",
       "defined \u001b[32mfunction \u001b[36mtranslate\u001b[0m\n",
       "defined \u001b[32mfunction \u001b[36mtranslate2\u001b[0m"
      ]
     },
     "metadata": {},
     "output_type": "display_data"
    }
   ],
   "source": [
    "val dictionary = Map(1->\"one\", 2->\"two\")\n",
    "\n",
    "// Usage\n",
    "// NumEnglishDictionary.translate(Some(1)) // Some(\"one\")\n",
    "// NumEnglishDictionary.translate(Some(3)) // None\n",
    "// NumEnglishDictionary.translate(None) // None\n",
    "\n",
    "def translate(num: Option[Int]): Option[String]  =  num collect dictionary\n",
    "\n",
    "def translate2(num: Option[Int]): Option[String]  =  num collect{\n",
    "    case 1=> \"one\"\n",
    "    case 2=> \"two\"\n",
    "}"
   ]
  },
  {
   "cell_type": "code",
   "execution_count": 20,
   "metadata": {
    "scrolled": true
   },
   "outputs": [
    {
     "data": {
      "text/plain": [
       "\u001b[36mres19\u001b[0m: \u001b[32mOption\u001b[0m[\u001b[32mString\u001b[0m] = None"
      ]
     },
     "metadata": {},
     "output_type": "display_data"
    }
   ],
   "source": [
    "translate(None)"
   ]
  },
  {
   "cell_type": "markdown",
   "metadata": {},
   "source": [
    "collectの引数はPartitalFunction dictonary.applyはFunction1なので、引数として受け取れる\n"
   ]
  },
  {
   "cell_type": "code",
   "execution_count": 8,
   "metadata": {},
   "outputs": [
    {
     "data": {
      "text/plain": [
       "defined \u001b[32mfunction \u001b[36mpassStudents\u001b[0m"
      ]
     },
     "metadata": {},
     "output_type": "display_data"
    }
   ],
   "source": [
    "    def passStudents(scores: Map[String, Map[String, Int]]): Map[String, Int] = {\n",
    "      scores.filter(x => x._2.contains(\"math\") && x._2.contains(\"english\") && (x._2(\"math\") + x._2(\"english\")) /2 >= 80)\n",
    "        .flatMap(x => Map(x._1 -> (x._2(\"math\") + x._2(\"english\")) / 2))\n",
    "    }"
   ]
  },
  {
   "cell_type": "code",
   "execution_count": 21,
   "metadata": {
    "scrolled": true
   },
   "outputs": [
    {
     "ename": "",
     "evalue": "",
     "output_type": "error",
     "traceback": [
      "\u001b[31mMain.scala:23: missing parameter type for expanded function",
      "The argument types of an anonymous function must be fully known. (SLS 8.5)",
      "Expected type was: ?",
      "              val a= {case 1=> \"one\"}",
      "                     ^\u001b[0m"
     ]
    }
   ],
   "source": [
    "val a= {case 1=> \"one\"}"
   ]
  },
  {
   "cell_type": "code",
   "execution_count": null,
   "metadata": {
    "collapsed": true
   },
   "outputs": [],
   "source": [
    "// 禁止文字の並列チェック\n",
    "  val checkers: Seq[String => Boolean] = unavailableStrings.map { s => { target: String => target contains s }}\n",
    "  def validate(value: Option[String]): Boolean = {\n",
    "    value.fold(false) { str =>\n",
    "      checkers.par.exists { _.apply(str) }\n",
    "    }\n",
    "  }"
   ]
  }
 ],
 "metadata": {
  "kernelspec": {
   "display_name": "Scala 2.11",
   "language": "scala211",
   "name": "scala211"
  },
  "language_info": {
   "codemirror_mode": "text/x-scala",
   "file_extension": ".scala",
   "mimetype": "text/x-scala",
   "name": "scala211",
   "pygments_lexer": "scala",
   "version": "2.11.7"
  }
 },
 "nbformat": 4,
 "nbformat_minor": 2
}

{
 "cells": [
  {
   "cell_type": "code",
   "execution_count": 1,
   "metadata": {
    "scrolled": true
   },
   "outputs": [
    {
     "data": {
      "text/plain": [
       "\u001b[36ml1\u001b[0m: \u001b[32mSeq\u001b[0m[\u001b[32mInt\u001b[0m] = \u001b[33mList\u001b[0m(\u001b[32m1\u001b[0m, \u001b[32m3\u001b[0m, \u001b[32m5\u001b[0m)\n",
       "\u001b[36ml2\u001b[0m: \u001b[32mSeq\u001b[0m[\u001b[32mInt\u001b[0m] = \u001b[33mList\u001b[0m(\u001b[32m2\u001b[0m, \u001b[32m4\u001b[0m, \u001b[32m6\u001b[0m)\n",
       "\u001b[36mres0_2\u001b[0m: \u001b[32mSeq\u001b[0m[(\u001b[32mInt\u001b[0m, \u001b[32mInt\u001b[0m)] = \u001b[33mList\u001b[0m(\u001b[33m\u001b[0m(\u001b[32m1\u001b[0m, \u001b[32m2\u001b[0m), \u001b[33m\u001b[0m(\u001b[32m3\u001b[0m, \u001b[32m4\u001b[0m), \u001b[33m\u001b[0m(\u001b[32m5\u001b[0m, \u001b[32m6\u001b[0m))"
      ]
     },
     "metadata": {},
     "output_type": "display_data"
    }
   ],
   "source": []
  },
  {
   "cell_type": "markdown",
   "metadata": {
    "collapsed": true
   },
   "source": [
    "## データ処理の順番\n",
    "1. 取引データの読み込み\n",
    "2. 特徴量毎の移動平均の導出\n",
    "3. 特徴量毎に値と、移動平均の差を算出\n",
    "4. 3. で導出した値ごとに1(UP)　か0(DOWN)かでラベル付け\n",
    "5. 終値（今回予想する情報）の値とそれぞれの移動平均の差を導出\n",
    "6. 5. の値が正の数(1) か負の数(0)かでラベル付け"
   ]
  },
  {
   "cell_type": "code",
   "execution_count": null,
   "metadata": {
    "collapsed": true
   },
   "outputs": [],
   "source": []
  },
  {
   "cell_type": "markdown",
   "metadata": {
    "collapsed": true
   },
   "source": [
    "# リファレンス\n",
    "[Precision&Recall](https://en.wikipedia.org/wiki/Precision_and_recall)"
   ]
  },
  {
   "cell_type": "markdown",
   "metadata": {},
   "source": [
    "# Tipes"
   ]
  },
  {
   "cell_type": "code",
   "execution_count": null,
   "metadata": {
    "collapsed": true
   },
   "outputs": [],
   "source": [
    "val l1 = Seq(1, 3, 5)\n",
    "val l2 = Seq(2, 4, 6)\n",
    "l1 zip l2"
   ]
  },
  {
   "cell_type": "code",
   "execution_count": 5,
   "metadata": {},
   "outputs": [
    {
     "ename": "",
     "evalue": "",
     "output_type": "error",
     "traceback": [
      "\u001b[31mMain.scala:31: missing parameter type for expanded function ((x$1) => scala.Tuple2(l1, l2).zipped.map(x$1))",
      "(l1,l2).zipped.map(_)",
      "                   ^\u001b[0m"
     ]
    }
   ],
   "source": [
    "val a=(l1,l2).zipped\n",
    "for ((a, b) <- (l1, l2).zipped) yield (a, b)\n",
    "(l1,l2).zipped.map((a,b)=>(a,b))"
   ]
  },
  {
   "cell_type": "code",
   "execution_count": 10,
   "metadata": {
    "scrolled": false
   },
   "outputs": [
    {
     "ename": "",
     "evalue": "",
     "output_type": "error",
     "traceback": [
      "\u001b[31mMain.scala:34: too many arguments for method +: (other: String)String",
      "matrix  + (0,1,1)",
      "        ^\u001b[0m"
     ]
    }
   ],
   "source": [
    "val numClass=5\n",
    "val matrix=Array.fill(numClass)(Array.fill(numClass)(0))\n",
    "// matrix(0)(4)=100\n",
    "matrix  + (0,1,1)"
   ]
  },
  {
   "cell_type": "code",
   "execution_count": 7,
   "metadata": {},
   "outputs": [
    {
     "data": {
      "text/plain": [
       "\u001b[36mdata\u001b[0m: \u001b[32mVector\u001b[0m[(\u001b[32mArray\u001b[0m[\u001b[32mInt\u001b[0m], \u001b[32mInt\u001b[0m)] = \u001b[33mVector\u001b[0m(\u001b[33m\u001b[0m(\u001b[33mArray\u001b[0m(\u001b[32m1\u001b[0m, \u001b[32m1\u001b[0m, \u001b[32m1\u001b[0m), \u001b[32m1\u001b[0m), \u001b[33m\u001b[0m(\u001b[33mArray\u001b[0m(\u001b[32m1\u001b[0m, \u001b[32m1\u001b[0m, \u001b[32m1\u001b[0m), \u001b[32m1\u001b[0m))\n",
       "\u001b[36mpredict\u001b[0m: \u001b[32mArray\u001b[0m[\u001b[32mInt\u001b[0m] => \u001b[32mInt\u001b[0m = <function1>\n",
       "\u001b[36mres6_2\u001b[0m: \u001b[32mArray\u001b[0m[\u001b[32mArray\u001b[0m[\u001b[32mInt\u001b[0m]] = \u001b[33mArray\u001b[0m(\n",
       "  \u001b[33mArray\u001b[0m(\u001b[32m0\u001b[0m, \u001b[32m0\u001b[0m, \u001b[32m0\u001b[0m, \u001b[32m0\u001b[0m, \u001b[32m0\u001b[0m),\n",
       "  \u001b[33mArray\u001b[0m(\u001b[32m0\u001b[0m, \u001b[32m3\u001b[0m, \u001b[32m2\u001b[0m, \u001b[32m0\u001b[0m, \u001b[32m0\u001b[0m),\n",
       "  \u001b[33mArray\u001b[0m(\u001b[32m0\u001b[0m, \u001b[32m0\u001b[0m, \u001b[32m0\u001b[0m, \u001b[32m0\u001b[0m, \u001b[32m0\u001b[0m),\n",
       "  \u001b[33mArray\u001b[0m(\u001b[32m0\u001b[0m, \u001b[32m0\u001b[0m, \u001b[32m0\u001b[0m, \u001b[32m0\u001b[0m, \u001b[32m0\u001b[0m),\n",
       "  \u001b[33mArray\u001b[0m(\u001b[32m0\u001b[0m, \u001b[32m0\u001b[0m, \u001b[32m0\u001b[0m, \u001b[32m0\u001b[0m, \u001b[32m0\u001b[0m)\n",
       ")"
      ]
     },
     "metadata": {},
     "output_type": "display_data"
    }
   ],
   "source": [
    "val data=Vector((Array(1,1,1),1),(Array(1,1,1),1))\n",
    "val predict:Array[Int]=>Int=(n:Array[Int])=>2\n",
    "\n",
    "data.foldLeft(matrix){case (m,(xt,expected))=> m(expected)(predict(xt))+=1;m }"
   ]
  },
  {
   "cell_type": "code",
   "execution_count": 4,
   "metadata": {},
   "outputs": [
    {
     "data": {
      "text/plain": [
       "\u001b[36mres3_2\u001b[0m: \u001b[32mArray\u001b[0m[\u001b[32mArray\u001b[0m[\u001b[32mInt\u001b[0m]] = \u001b[33mArray\u001b[0m(\n",
       "  \u001b[33mArray\u001b[0m(\u001b[32m0\u001b[0m, \u001b[32m0\u001b[0m, \u001b[32m0\u001b[0m, \u001b[32m0\u001b[0m, \u001b[32m0\u001b[0m),\n",
       "  \u001b[33mArray\u001b[0m(\u001b[32m0\u001b[0m, \u001b[32m3\u001b[0m, \u001b[32m0\u001b[0m, \u001b[32m0\u001b[0m, \u001b[32m0\u001b[0m),\n",
       "  \u001b[33mArray\u001b[0m(\u001b[32m0\u001b[0m, \u001b[32m0\u001b[0m, \u001b[32m0\u001b[0m, \u001b[32m0\u001b[0m, \u001b[32m0\u001b[0m),\n",
       "  \u001b[33mArray\u001b[0m(\u001b[32m0\u001b[0m, \u001b[32m0\u001b[0m, \u001b[32m0\u001b[0m, \u001b[32m0\u001b[0m, \u001b[32m0\u001b[0m),\n",
       "  \u001b[33mArray\u001b[0m(\u001b[32m0\u001b[0m, \u001b[32m0\u001b[0m, \u001b[32m0\u001b[0m, \u001b[32m0\u001b[0m, \u001b[32m0\u001b[0m)\n",
       ")"
      ]
     },
     "metadata": {},
     "output_type": "display_data"
    }
   ],
   "source": [
    "matrix(1)(1)+=1\n",
    "matrix(1)(1)+=1\n",
    "matrix\n"
   ]
  }
 ],
 "metadata": {
  "kernelspec": {
   "display_name": "Scala 2.11",
   "language": "scala211",
   "name": "scala211"
  },
  "language_info": {
   "codemirror_mode": "text/x-scala",
   "file_extension": ".scala",
   "mimetype": "text/x-scala",
   "name": "scala211",
   "pygments_lexer": "scala",
   "version": "2.11.7"
  }
 },
 "nbformat": 4,
 "nbformat_minor": 2
}

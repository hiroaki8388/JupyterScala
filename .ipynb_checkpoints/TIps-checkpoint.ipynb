{
 "cells": [
  {
   "cell_type": "markdown",
   "metadata": {},
   "source": [
    "# 忘備録"
   ]
  },
  {
   "cell_type": "code",
   "execution_count": 3,
   "metadata": {},
   "outputs": [
    {
     "data": {
      "text/plain": [
       "\u001b[32mimport \u001b[36mscala.util._\u001b[0m\n",
       "\u001b[32mimport \u001b[36mscala.concurrent._\u001b[0m\n",
       "\u001b[32mimport \u001b[36mscala.concurrent.ExecutionContext.Implicits.global\u001b[0m"
      ]
     },
     "metadata": {},
     "output_type": "display_data"
    }
   ],
   "source": [
    "import scala.util._\n",
    "import scala.concurrent._\n",
    "import scala.concurrent.ExecutionContext.Implicits.global"
   ]
  },
  {
   "cell_type": "code",
   "execution_count": 7,
   "metadata": {},
   "outputs": [
    {
     "data": {
      "text/plain": [
       "\u001b[36mnums\u001b[0m: \u001b[32mSeq\u001b[0m[\u001b[32mutil\u001b[0m.\u001b[32mTry\u001b[0m[\u001b[32mInt\u001b[0m]] = \u001b[33mList\u001b[0m(\u001b[33mFailure\u001b[0m(java.lang.ArithmeticException: / by zero), \u001b[33mSuccess\u001b[0m(\u001b[32m1\u001b[0m), \u001b[33mSuccess\u001b[0m(\u001b[32m0\u001b[0m))\n",
       "\u001b[36mres6_1\u001b[0m: \u001b[32mSeq\u001b[0m[\u001b[32mInt\u001b[0m] = \u001b[33mList\u001b[0m(\u001b[32m1\u001b[0m, \u001b[32m0\u001b[0m)"
      ]
     },
     "metadata": {},
     "output_type": "display_data"
    }
   ],
   "source": [
    "// cellectで失敗したのをフィルターに掛ける\n",
    "val nums=Seq(0,1,2).map(x=> util.Try(1/x))\n",
    "nums.collect{ case(util.Success(it)) => it }"
   ]
  },
  {
   "cell_type": "code",
   "execution_count": 9,
   "metadata": {},
   "outputs": [
    {
     "data": {
      "text/plain": [
       "\u001b[36ma\u001b[0m: \u001b[32mcollection\u001b[0m.\u001b[32mparallel\u001b[0m.\u001b[32mimmutable\u001b[0m.\u001b[32mParRange\u001b[0m = ParRange(0, 1, 2, 3, 4, 5, 6, 7, 8, 9, 10)\n",
       "\u001b[36mres8_1\u001b[0m: \u001b[32mInt\u001b[0m = \u001b[32m2\u001b[0m"
      ]
     },
     "metadata": {},
     "output_type": "display_data"
    }
   ],
   "source": [
    "val a=(0 to 10).par\n",
    "a.tasksupport.parallelismLevel"
   ]
  },
  {
   "cell_type": "code",
   "execution_count": null,
   "metadata": {
    "collapsed": true
   },
   "outputs": [],
   "source": [
    "// mapのなかでエラーがでてもFailure型になる\n",
    "util.Try{\n",
    "    (0 to 2).map(x=>1/x)\n",
    "}"
   ]
  },
  {
   "cell_type": "markdown",
   "metadata": {
    "collapsed": true
   },
   "source": [
    "## Futureについて"
   ]
  },
  {
   "cell_type": "code",
   "execution_count": 43,
   "metadata": {
    "scrolled": true
   },
   "outputs": [
    {
     "ename": "",
     "evalue": "",
     "output_type": "error",
     "traceback": [
      "\u001b[31mMain.scala:38: constructor cannot be instantiated to expected type;",
      " found   : scala.util.Success[T]",
      " required: String",
      "    case Success(s)=>println(s)",
      "         ^\u001b[0m",
      "\u001b[31mMain.scala:39: constructor cannot be instantiated to expected type;",
      " found   : scala.util.Failure[T]",
      " required: String",
      "    case Failure(e)=>println(s\"Error featching : $e\")",
      "         ^\u001b[0m"
     ]
    }
   ],
   "source": [
    "val res= Future{\n",
    "     Thread.sleep(10000) \n",
    "    \"success!\"\n",
    "}\n",
    "\n",
    "\n",
    "\n",
    "// onCompleteをつかうことでイベントハンドリングが可能\n",
    "// つまり、ここの処理に来たときの非同期処理の結果(=Futureの型)に応じて出力を返る事ができる\n",
    "// REPLだとうまくいくが、なぜかJupyter上だと何も出力されない\n",
    "res.onComplete{\n",
    "    case Success(s)=>println(s)\n",
    "    case Failure(e)=>println(s\"Error featching : $e\")\n",
    "}\n"
   ]
  },
  {
   "cell_type": "code",
   "execution_count": 59,
   "metadata": {},
   "outputs": [
    {
     "data": {
      "text/plain": [
       "\u001b[36mf\u001b[0m: \u001b[32mFuture\u001b[0m[\u001b[32mUnit\u001b[0m] = scala.concurrent.impl.Promise$DefaultPromise@44eba21a"
      ]
     },
     "metadata": {},
     "output_type": "display_data"
    }
   ],
   "source": [
    "// このような場合、まだfはSuccessなのかFalseなのかも分からないので、onCompleteではなにも出力されない \n",
    "val f = Future { Thread.sleep(10000) }\n",
    "  f.onComplete { _ => println(\"future completed\") }\n",
    "  // \"future completed\" is not printed"
   ]
  },
  {
   "cell_type": "code",
   "execution_count": null,
   "metadata": {},
   "outputs": [],
   "source": [
    "import scala.concurrent._\n",
    "import scala.concurrent.duration._\n",
    "\n",
    "val f = Future { \n",
    "    Thread.sleep(1000)\n",
    "    \"success\"\n",
    "    throw new Exception(\"有益ではない\")\n",
    "}\n",
    "\n",
    "// 2秒だけまち、待っても値が返ってこない場合TimeExceptionが出る\n",
    "Await.ready(f, 2 second)\n",
    "\n",
    "// resultの場合、readyと違い、Futureの中で発生した例外が出される\n",
    "// Await.rresut(f, 2 second)\n",
    "\n",
    "f.onComplete{\n",
    "    case Success(s)=>println(s)\n",
    "    case Failure(e)=>println(s\"Error featching : $e\")\n",
    "}\n",
    "\n",
    "  // \"future completed\" is not printed"
   ]
  },
  {
   "cell_type": "code",
   "execution_count": null,
   "metadata": {
    "collapsed": true
   },
   "outputs": [],
   "source": []
  }
 ],
 "metadata": {
  "kernelspec": {
   "display_name": "Scala 2.11",
   "language": "scala211",
   "name": "scala211"
  },
  "language_info": {
   "codemirror_mode": "text/x-scala",
   "file_extension": ".scala",
   "mimetype": "text/x-scala",
   "name": "scala211",
   "pygments_lexer": "scala",
   "version": "2.11.7"
  }
 },
 "nbformat": 4,
 "nbformat_minor": 2
}

{
 "cells": [
  {
   "cell_type": "code",
   "execution_count": null,
   "metadata": {
    "collapsed": true
   },
   "outputs": [],
   "source": [
    "# 大規模開発における機械学習について考える"
   ]
  },
  {
   "cell_type": "code",
   "execution_count": null,
   "metadata": {
    "collapsed": true
   },
   "outputs": [],
   "source": [
    "# 直近の土日で考えていたこと\n",
    "- 大規模開発における機械学習をやるには?\n",
    "- 機械学習の広告配信に応用できるところ\n",
    "- Scalaのメリットを活かした機械学習とは?"
   ]
  },
  {
   "cell_type": "code",
   "execution_count": null,
   "metadata": {
    "collapsed": true
   },
   "outputs": [],
   "source": [
    "## 機械学習と言えばpython\n",
    "\n",
    "### よいところ\n",
    "- ライブラリが豊富\n",
    "- みんなつかってる\n",
    "- 直感的な数値計算が可能\n",
    "- GPUとの相性がよい\n",
    "=> 研究など少人数でのプロジェクトに向いてる\n",
    "\n",
    "### 大変なところ\n",
    "- 動的型付け\n",
    "- 非同期処理がやりづらい\n",
    "- オブジェクト指向の良さを活かしたコードが書き辛い\n",
    "=> 大規模開発には向いてない"
   ]
  },
  {
   "cell_type": "code",
   "execution_count": null,
   "metadata": {
    "collapsed": true
   },
   "outputs": [],
   "source": [
    "大規模開発においては機械学習の精度よりも、\n",
    "ビジネスロジックを根幹においた設計と、バグやエラーを出さない持続的な開発が可能な実装が求められる"
   ]
  },
  {
   "cell_type": "code",
   "execution_count": null,
   "metadata": {
    "collapsed": true
   },
   "outputs": [],
   "source": [
    "# 機械学習の定義"
   ]
  },
  {
   "cell_type": "code",
   "execution_count": null,
   "metadata": {
    "collapsed": true
   },
   "outputs": [],
   "source": [
    "# 機械学習のフェイズ"
   ]
  },
  {
   "cell_type": "code",
   "execution_count": null,
   "metadata": {
    "collapsed": true
   },
   "outputs": [],
   "source": []
  },
  {
   "cell_type": "code",
   "execution_count": null,
   "metadata": {
    "collapsed": true
   },
   "outputs": [],
   "source": [
    "# なぜScalaなのか?\n",
    "- 型安全 ()\n",
    "- Option型、\n",
    "- 非同期処理 \n",
    "- 並列処理\n",
    "- 関数型言語"
   ]
  },
  {
   "cell_type": "code",
   "execution_count": null,
   "metadata": {
    "collapsed": true
   },
   "outputs": [],
   "source": []
  },
  {
   "cell_type": "code",
   "execution_count": null,
   "metadata": {
    "collapsed": true
   },
   "outputs": [],
   "source": []
  },
  {
   "cell_type": "code",
   "execution_count": null,
   "metadata": {
    "collapsed": true
   },
   "outputs": [],
   "source": []
  },
  {
   "cell_type": "code",
   "execution_count": null,
   "metadata": {
    "collapsed": true
   },
   "outputs": [],
   "source": []
  },
  {
   "cell_type": "code",
   "execution_count": null,
   "metadata": {
    "collapsed": true
   },
   "outputs": [],
   "source": []
  },
  {
   "cell_type": "code",
   "execution_count": null,
   "metadata": {
    "collapsed": true
   },
   "outputs": [],
   "source": []
  },
  {
   "cell_type": "code",
   "execution_count": null,
   "metadata": {
    "collapsed": true
   },
   "outputs": [],
   "source": [
    "# 直近の土日で考えていたこと\n",
    "- 大規模開発における機械学習をやるには?=>\n",
    "- 機械学習の広告配信に応用できるところは?=>\n",
    "- Scalaのメリットを活かした機械学習とは?=>"
   ]
  }
 ],
 "metadata": {
  "kernelspec": {
   "display_name": "Scala 2.11",
   "language": "scala211",
   "name": "scala211"
  },
  "language_info": {
   "codemirror_mode": "text/x-scala",
   "file_extension": ".scala",
   "mimetype": "text/x-scala",
   "name": "scala211",
   "pygments_lexer": "scala",
   "version": "2.11.7"
  }
 },
 "nbformat": 4,
 "nbformat_minor": 2
}

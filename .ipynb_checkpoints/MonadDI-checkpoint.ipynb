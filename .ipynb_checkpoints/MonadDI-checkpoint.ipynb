{
 "cells": [
  {
   "cell_type": "markdown",
   "metadata": {},
   "source": [
    "# Monadを使ったDependencyInjectionについての自分なりのまとめ\n",
    "今まで、処理のフロー（処理の流れ）と、そのフローにロジックを注入するやり方(DI)はMinimalCakeパターンしか知らなかったので、[こちらの記事](https://fringe81.one-team.io/topics/8057) もMinimalCakeパターンありきで書いてしまいましたが、豊島さんから「Monadでもいいじゃん」といわれて、そもそもMonadって何だ?状態だったので、調べてみました。\n",
    "Monadについては、カラーコップをざっと読んだぐらいの理解度なので、違う点やよりよい応用などがありましたら、突っ込んでいただけると幸いです"
   ]
  },
  {
   "cell_type": "markdown",
   "metadata": {},
   "source": [
    "## この記事のゴール\n",
    "- ReaderMonadを使ったDIの仕方がわかること\n",
    "### 対象読者\n",
    "- Functorなどの概念はなんとなく知ってるScalaユーザー(カラーコップ本ざっと読んだぐらいの人)\n",
    "### 書かないこと\n",
    "- Scalazを使った実装方法（というか教えて欲しい）\n",
    "- Monadの理論（そもそも理論はよくわからない。なので、理論ではなく実利をメインにまとめていく）"
   ]
  },
  {
   "cell_type": "markdown",
   "metadata": {},
   "source": [
    "## そもそもMonadってなにが嬉しいんだっけ?\n",
    "そもそもモナドってかっこ良くできる以外のメリットってなんだっけ?と思い、いろいろな説明をもろもろ探していましたが、[こちらの記事のイントロの説明](http://www.sampou.org/haskell/a-a-monads/html/introduction.html)が自分のなかでしっくりきました  \n",
    "```\n",
    "1. モジュラリティ - より単純な計算から計算を合成することができ、実際に 実行される計算と合成戦略を切離すことができます。\n",
    "2. 柔軟性 - 関数プログラムをモナドなしで書いた同等のプログラムよりも はるかに柔軟なものとすることができます。これはモナドが、計算戦略を プログラム全体にばら撒くことをせずに、一箇所に引出すからである。\n",
    "3. 分離性 - 関数プログラムの本体から安全に分離したままで、命令スタイル の計算構造を生成するのに利用できます。\n",
    "```\n",
    "つまり。こういう処理をしていきたい。。。という処理の流れ（合成戦略）と、そのためにこういう計算を裏側で行っていこう（実行される計算）をきれいに分離できるとともに、柔軟に分離と結合ができることから、戦略と計算の変更と再利用が容易にできるということだと解釈しました。"
   ]
  },
  {
   "cell_type": "markdown",
   "metadata": {},
   "source": [
    "## Readerモナド\n",
    "DI観点で比較的わかりやすいモナドとして、まず`ReaderMonad`をあげたいと思います。\n",
    "一般的にDIしなければいけないときは、\n",
    "\n",
    "-  グローバル変数で定義する\n",
    "-  引数で渡す(Strategyパターン)  \n",
    "\n",
    "のふたつがありますが、前者は言うまでもなくコードの見通しが悪くなり、後者は、対象の引数を使う必要がないメソッドにもその引数を渡す必要がでてきてしまう場合もあるので、全体の見通しが悪くなる場合があります。  \n",
    "そこでReaderMonadでは第三のロジックの置き場として、\n",
    "\n",
    "- 環境に変数を定義する\n",
    "\n",
    "というやりかたを使います。 環境とは、**使用するインスタンス(ロジック）の置き場** というのが個人的なイメージです。  \n",
    "なお、[コードはこちらの記事](https://qiita.com/yyu/items/a2debfcde8f1915d5083)を参考にしています"
   ]
  },
  {
   "cell_type": "markdown",
   "metadata": {},
   "source": [
    "## レシピ"
   ]
  },
  {
   "cell_type": "markdown",
   "metadata": {},
   "source": [
    "1 まず、大元となるFunctorを定義（別に定義しなくてもいいですが、MonadもFunctorの一形態であることを意識するために定義しました）"
   ]
  },
  {
   "cell_type": "code",
   "execution_count": 1,
   "metadata": {
    "scrolled": false
   },
   "outputs": [
    {
     "data": {
      "text/plain": [
       "defined \u001b[32mtrait \u001b[36mFunctor\u001b[0m"
      ]
     },
     "metadata": {},
     "output_type": "display_data"
    }
   ],
   "source": [
    "trait Functor[E,A] {\n",
    "  def map[B](f: A => B): Functor[E,B]\n",
    "}"
   ]
  },
  {
   "cell_type": "markdown",
   "metadata": {},
   "source": [
    "2 次に、以下のようなMonadを定義(ここまではお決まりのパターンです)"
   ]
  },
  {
   "cell_type": "code",
   "execution_count": 2,
   "metadata": {
    "scrolled": true
   },
   "outputs": [
    {
     "data": {
      "text/plain": [
       "defined \u001b[32mclass \u001b[36mReader\u001b[0m\n",
       "defined \u001b[32mobject \u001b[36mReader\u001b[0m"
      ]
     },
     "metadata": {},
     "output_type": "display_data"
    }
   ],
   "source": [
    "case class Reader[E,A](g:E=>A) extends Functor[E,A]{\n",
    "    def apply(e:E)=g(e)\n",
    "    def run:E=>A=apply\n",
    "    \n",
    "    override def map[B](f:A=>B):Reader[E,B]=Reader(f compose g)\n",
    "    def flatMap[B](f:A=>Reader[E,B]):Reader[E,B]=Reader(e=>f(g(e))(e))\n",
    "}\n",
    "\n",
    "object Reader{\n",
    "    def pure[E,A](a:A):Reader[E,A]=Reader(e=>a)// 任意の値aをReaderにする\n",
    "    def ask[E]:Reader[E,E]=Reader(identity) // 環境eを検索し、取得する。identity=T=>T\n",
    "    def local[E,A](f:E=>E,c:Reader[E,A]):Reader[E,A]=Reader(e=>c(f(e)))  // 環境をfにより置き換える\n",
    "    def reader[E,A](f:E=>A):Reader[E,A]=Reader(f) // 関数fをReaderに変換する\n",
    "}"
   ]
  },
  {
   "cell_type": "markdown",
   "metadata": {},
   "source": [
    "3 環境を定義する: ここでは、DB接続のために、何らかのDB接続のためのclientを使用するとします"
   ]
  },
  {
   "cell_type": "code",
   "execution_count": 3,
   "metadata": {},
   "outputs": [
    {
     "data": {
      "text/plain": [
       "defined \u001b[32mtrait \u001b[36mDBClient\u001b[0m\n",
       "defined \u001b[32mtrait \u001b[36mUseDBClient\u001b[0m"
      ]
     },
     "metadata": {},
     "output_type": "display_data"
    }
   ],
   "source": [
    "trait DBClient{\n",
    "    def update(data:String)\n",
    "}\n",
    "\n",
    "trait UseDBClient{\n",
    "    val dbClient:DBClient\n",
    "}"
   ]
  },
  {
   "cell_type": "markdown",
   "metadata": {},
   "source": [
    "4 DBClientの実体をインスタンス化した変数の置き場を定義する"
   ]
  },
  {
   "cell_type": "code",
   "execution_count": 4,
   "metadata": {},
   "outputs": [
    {
     "data": {
      "text/plain": [
       "defined \u001b[32mclass \u001b[36mMysqlClient\u001b[0m\n",
       "defined \u001b[32mclass \u001b[36mNosqlClient\u001b[0m\n",
       "defined \u001b[32mobject \u001b[36mDBEnvironment\u001b[0m"
      ]
     },
     "metadata": {},
     "output_type": "display_data"
    }
   ],
   "source": [
    "class MysqlClient extends DBClient{\n",
    "     def update(data:String)=println(s\"updated $data InMysql!!\")\n",
    "}\n",
    "class NosqlClient extends DBClient{\n",
    "     def update(data:String)=println(s\"updated $data InNosql!!\")\n",
    "}\n",
    "\n",
    "object DBEnvironment{\n",
    "   private val mysqlClient = new MysqlClient \n",
    "    \n",
    "    val mysqlEnvironment=new UseDBClient{\n",
    "        val dbClient=mysqlClient\n",
    "    }\n",
    "\n",
    "    private val nosqlClient = new NosqlClient \n",
    "    \n",
    "        val nosqlEnvironment=new UseDBClient{\n",
    "        val dbClient=nosqlClient\n",
    "    }\n",
    "}"
   ]
  },
  {
   "cell_type": "markdown",
   "metadata": {},
   "source": [
    "5 Readerのインスタンス化: DBに接続してデータを取得するメソッドを定義します"
   ]
  },
  {
   "cell_type": "code",
   "execution_count": 5,
   "metadata": {
    "scrolled": false
   },
   "outputs": [
    {
     "data": {
      "text/plain": [
       "defined \u001b[32mfunction \u001b[36mupdate\u001b[0m"
      ]
     },
     "metadata": {},
     "output_type": "display_data"
    }
   ],
   "source": [
    "def update(data:String):Reader[UseDBClient,Unit]=\n",
    "Reader.reader(env=>env.dbClient.update(data))"
   ]
  },
  {
   "cell_type": "markdown",
   "metadata": {
    "collapsed": true
   },
   "source": [
    "または"
   ]
  },
  {
   "cell_type": "code",
   "execution_count": 86,
   "metadata": {},
   "outputs": [
    {
     "data": {
      "text/plain": [
       "defined \u001b[32mfunction \u001b[36mupdate2\u001b[0m"
      ]
     },
     "metadata": {},
     "output_type": "display_data"
    }
   ],
   "source": [
    "def update2(data:String):Reader[UseDBClient,Unit]=\n",
    "Reader.ask[UseDBClient].map(_.dbClient.update(data))"
   ]
  },
  {
   "cell_type": "markdown",
   "metadata": {},
   "source": [
    "6: 実体を注入し実行する"
   ]
  },
  {
   "cell_type": "code",
   "execution_count": 87,
   "metadata": {
    "scrolled": true
   },
   "outputs": [
    {
     "name": "stdout",
     "output_type": "stream",
     "text": [
      "updated data InMysql!!\n",
      "updated data InMysql!!\n"
     ]
    },
    {
     "data": {
      "text/plain": []
     },
     "metadata": {},
     "output_type": "display_data"
    }
   ],
   "source": [
    "update(\"data\").run(DBEnvironment.mysqlEnvironment)\n",
    "update2(\"data\").run(DBEnvironment.mysqlEnvironment)"
   ]
  },
  {
   "cell_type": "code",
   "execution_count": 88,
   "metadata": {
    "scrolled": true
   },
   "outputs": [
    {
     "name": "stdout",
     "output_type": "stream",
     "text": [
      "updated data InNosql!!\n",
      "updated data InNosql!!\n"
     ]
    },
    {
     "data": {
      "text/plain": []
     },
     "metadata": {},
     "output_type": "display_data"
    }
   ],
   "source": [
    "update(\"data\").run(DBEnvironment.nosqlEnvironment)\n",
    "update2(\"data\").run(DBEnvironment.nosqlEnvironment)"
   ]
  },
  {
   "cell_type": "markdown",
   "metadata": {},
   "source": [
    "## 応用"
   ]
  },
  {
   "cell_type": "markdown",
   "metadata": {},
   "source": [
    "- 複数処理を合成する"
   ]
  },
  {
   "cell_type": "code",
   "execution_count": 89,
   "metadata": {
    "scrolled": true
   },
   "outputs": [
    {
     "name": "stdout",
     "output_type": "stream",
     "text": [
      "updated data1 InMysql!!\n",
      "updated data2 InMysql!!\n"
     ]
    },
    {
     "data": {
      "text/plain": []
     },
     "metadata": {},
     "output_type": "display_data"
    }
   ],
   "source": [
    "(for {\n",
    "    _ <- update(\"data1\")\n",
    "    _ <- update(\"data2\")\n",
    "}yield()).run(DBEnvironment.mysqlEnvironment)"
   ]
  },
  {
   "cell_type": "markdown",
   "metadata": {},
   "source": [
    "または"
   ]
  },
  {
   "cell_type": "code",
   "execution_count": 90,
   "metadata": {},
   "outputs": [
    {
     "name": "stdout",
     "output_type": "stream",
     "text": [
      "updated data1 InMysql!!\n",
      "updated data2 InMysql!!\n"
     ]
    },
    {
     "data": {
      "text/plain": []
     },
     "metadata": {},
     "output_type": "display_data"
    }
   ],
   "source": [
    "(update(\"data1\").flatMap(_=>update(\"data2\").map(_=>()))).run(DBEnvironment.mysqlEnvironment)"
   ]
  },
  {
   "cell_type": "markdown",
   "metadata": {},
   "source": [
    "同じ実体を使用して、複数処理を実行できる"
   ]
  },
  {
   "cell_type": "markdown",
   "metadata": {},
   "source": [
    "- localを使用して、使用する実体を切り替える"
   ]
  },
  {
   "cell_type": "code",
   "execution_count": 99,
   "metadata": {},
   "outputs": [
    {
     "ename": "",
     "evalue": "",
     "output_type": "error",
     "traceback": [
      ""
     ]
    }
   ],
   "source": [
    "// find系のメソッドを定義する\n",
    "trait DBClient{\n",
    "    def isConnect:Boolean\n",
    "    \n",
    "    def update(data:String)\n",
    "}\n",
    "\n",
    "trait UseDBClient{\n",
    "    val dbClient:DBClient\n",
    "}\n",
    "\n",
    "class MysqlClient extends DBClient{\n",
    "  def isConnect:Boolean={println(\"MySql con not Connect!!\") ;false} // mock。必ず偽を返す\n",
    "  def update(data:String)=println(s\"updated $data InMysql!!\")\n",
    "}\n",
    "class NosqlClient extends DBClient{\n",
    "  def isConnect:Boolean=  {println(\"NoSql con  Connect!!\") ;true} // mock。必ず真を返す\n",
    "  def update(data:String)=println(s\"updated $data InNosql!!\")\n",
    "\n",
    "object DBEnvironment{\n",
    "   private val mysqlClient = new MysqlClient \n",
    "    \n",
    "    val mysqlEnvironment=new UseDBClient{\n",
    "        val dbClient=mysqlClient\n",
    "    }\n",
    "\n",
    "    private val nosqlClient = new NosqlClient \n",
    "    \n",
    "        val nosqlEnvironment=new UseDBClient{\n",
    "        val dbClient=nosqlClient\n",
    "    }\n",
    "}\n"
   ]
  },
  {
   "cell_type": "code",
   "execution_count": 95,
   "metadata": {},
   "outputs": [
    {
     "data": {
      "text/plain": [
       "defined \u001b[32mfunction \u001b[36misConnectOnDB\u001b[0m"
      ]
     },
     "metadata": {},
     "output_type": "display_data"
    }
   ],
   "source": [
    "def isConnectOnDB:Reader[UseDBClient,Boolean]=\n",
    "Reader.ask.map(_.dbClient.isConnect)"
   ]
  },
  {
   "cell_type": "code",
   "execution_count": 99,
   "metadata": {},
   "outputs": [
    {
     "ename": "",
     "evalue": "",
     "output_type": "error",
     "traceback": [
      "\u001b[31mMain.scala:38: type mismatch;",
      " found   : cmd97.INSTANCE.$ref$cmd96.Reader[cmd97.INSTANCE.$ref$cmd91.UseDBClient,Unit]",
      " required: cmd99.this.$ref$cmd98.Reader[?,?]",
      "    ,update(\"data\"))",
      "           ^\u001b[0m"
     ]
    }
   ],
   "source": [
    "(for {\n",
    "   isCon <- isConnectOnDB\n",
    "    _ <- Reader.local(\n",
    "        (env:UseDBClient)=>\n",
    "        if (isCon) env else DBEnvironment.nosqlEnvironment\n",
    "    ,update(\"data\"))\n",
    "}yield ()\n",
    ").run(DBEnvironment.mysqlEnvironment)"
   ]
  },
  {
   "cell_type": "markdown",
   "metadata": {},
   "source": [
    "実行結果\n",
    "\n",
    "```\n",
    "MySql con not Connect!!\n",
    "updated data InNosql!!\n",
    "```"
   ]
  },
  {
   "cell_type": "markdown",
   "metadata": {
    "collapsed": true
   },
   "source": [
    "`mysql`に接続できない場合、`nosql`を代わりに使用する。と言った処理ができます"
   ]
  },
  {
   "cell_type": "markdown",
   "metadata": {},
   "source": [
    "## なぜReaderという名前か?\n",
    "上のようにReaderMonadは、環境を`ask`で**読み込むだけで、環境自体の変更は行いません**。この**環境の読み込み専用**という点がReaderの名前のゆえんではないかと考えます"
   ]
  },
  {
   "cell_type": "markdown",
   "metadata": {},
   "source": [
    "## MinimalCakePatternじゃだめなの?\n",
    "いろいろ書きましたが、MInimalCakeパターンとどっちが良いかというと、メリットデメリットを言えるほどまだ知見がないので、明確な事は書けません。ただ、DI=(Minimal)CakePattenではなく、さまざまなやり方があることを知っておくと、時と場合によりいろいろな打ち手をとれるので、必ず有用であると思いますし、なぜMonadを採用したのか?(あるいはしなかったのか?)を答えられるようになるので、よりコードに深みが増すはずです。"
   ]
  },
  {
   "cell_type": "markdown",
   "metadata": {},
   "source": [
    "## 今後やりたいこと\n",
    "- IOMonad,StateMonad,FreeMonadについて理解する\n",
    "- Scalazのコードに置き換える\n",
    "- Monadでデータ分析ツールを作ってみる"
   ]
  }
 ],
 "metadata": {
  "kernelspec": {
   "display_name": "Scala 2.11",
   "language": "scala211",
   "name": "scala211"
  },
  "language_info": {
   "codemirror_mode": "text/x-scala",
   "file_extension": ".scala",
   "mimetype": "text/x-scala",
   "name": "scala211",
   "pygments_lexer": "scala",
   "version": "2.11.7"
  }
 },
 "nbformat": 4,
 "nbformat_minor": 2
}

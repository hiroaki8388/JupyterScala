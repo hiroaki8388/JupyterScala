{
 "cells": [
  {
   "cell_type": "markdown",
   "metadata": {},
   "source": [
    "# Scala関数型デザイン&プログラミング\n",
    "https://github.com/fpinscala/fpinscala/"
   ]
  },
  {
   "cell_type": "markdown",
   "metadata": {},
   "source": [
    "## Chaper2\n",
    "https://github.com/fpinscala/fpinscala/blob/master/exercises/src/main/scala/fpinscala/gettingstarted/GettingStarted.scala"
   ]
  },
  {
   "cell_type": "code",
   "execution_count": 5,
   "metadata": {},
   "outputs": [
    {
     "data": {
      "text/plain": [
       "defined \u001b[32mfunction \u001b[36mfib\u001b[0m\n",
       "\u001b[36mres4_1\u001b[0m: \u001b[32mInt\u001b[0m = \u001b[32m3\u001b[0m"
      ]
     },
     "metadata": {},
     "output_type": "display_data"
    }
   ],
   "source": [
    "def fib(x:Int):Int={\n",
    "    @annotation.tailrec\n",
    "    def loop(n:Int,prev:Int,cur:Int):Int={\n",
    "        if (n==0) prev\n",
    "        else loop(n-1,cur,prev+cur)\n",
    "    }\n",
    "    loop(x,0,1)\n",
    "}\n",
    "\n",
    "fib(4)"
   ]
  },
  {
   "cell_type": "code",
   "execution_count": 7,
   "metadata": {},
   "outputs": [
    {
     "data": {
      "text/plain": [
       "defined \u001b[32mfunction \u001b[36mfib\u001b[0m\n",
       "\u001b[36mres6_1\u001b[0m: \u001b[32mList\u001b[0m[\u001b[32mInt\u001b[0m] = \u001b[33mList\u001b[0m(\u001b[32m1\u001b[0m, \u001b[32m1\u001b[0m, \u001b[32m2\u001b[0m, \u001b[32m3\u001b[0m)"
      ]
     },
     "metadata": {},
     "output_type": "display_data"
    }
   ],
   "source": [
    "// listにフィボナッチを格納する\n",
    "def fib(x:Int):List[Int]={\n",
    "    @annotation.tailrec\n",
    "    def loop(n:Int,prev:Int,cur:Int,stc:List[Int]):List[Int]={\n",
    "        if (n==0) stc.reverse\n",
    "        else loop(n-1,cur,prev+cur,cur::stc)\n",
    "    }\n",
    "    loop(x,0,1,Nil)\n",
    "}\n",
    "\n",
    "fib(4)"
   ]
  },
  {
   "cell_type": "code",
   "execution_count": null,
   "metadata": {
    "collapsed": true
   },
   "outputs": [],
   "source": []
  },
  {
   "cell_type": "code",
   "execution_count": 14,
   "metadata": {},
   "outputs": [
    {
     "data": {
      "text/plain": [
       "defined \u001b[32mfunction \u001b[36misSorted\u001b[0m\n",
       "\u001b[36mres13_1\u001b[0m: \u001b[32mBoolean\u001b[0m = \u001b[32mtrue\u001b[0m\n",
       "\u001b[36mres13_2\u001b[0m: \u001b[32mBoolean\u001b[0m = \u001b[32mfalse\u001b[0m"
      ]
     },
     "metadata": {},
     "output_type": "display_data"
    }
   ],
   "source": [
    "def isSorted[A](as:Array[A], gt:(A,A)=>Boolean):Boolean ={\n",
    "        @annotation.tailrec\n",
    "    def go(n:Int):Boolean={\n",
    "        if (n>=(as.length-1)) true\n",
    "        else if (gt(as(n),as(n+1))) false\n",
    "        else go(n+1)\n",
    "    }\n",
    "    \n",
    "    go(0)\n",
    "}\n",
    "\n",
    "isSorted(Array(1,2,3),(x:Int,y:Int)=>x>y)\n",
    "isSorted(Array(1,3,2),(x:Int,y:Int)=>x>y)"
   ]
  },
  {
   "cell_type": "code",
   "execution_count": 31,
   "metadata": {},
   "outputs": [
    {
     "data": {
      "text/plain": [
       "defined \u001b[32mfunction \u001b[36mpartial1\u001b[0m\n",
       "\u001b[36mpar\u001b[0m: \u001b[32mInt\u001b[0m => \u001b[32mInt\u001b[0m = <function1>"
      ]
     },
     "metadata": {},
     "output_type": "display_data"
    }
   ],
   "source": [
    "// 部分適用\n",
    "def partial1[A,B,C](a: A, f: (A,B) => C): B => C =\n",
    " (b:B)=>f(a,b)\n",
    "\n",
    "val par=partial1(1,(a:Int,b:Int)=>a+b)"
   ]
  },
  {
   "cell_type": "code",
   "execution_count": 30,
   "metadata": {},
   "outputs": [
    {
     "data": {
      "text/plain": [
       "defined \u001b[32mfunction \u001b[36mcurry\u001b[0m\n",
       "\u001b[36mcur\u001b[0m: \u001b[32mInt\u001b[0m => \u001b[32mInt\u001b[0m => \u001b[32mInt\u001b[0m = <function1>\n",
       "\u001b[36mres29_2\u001b[0m: \u001b[32mInt\u001b[0m => \u001b[32mInt\u001b[0m = <function1>"
      ]
     },
     "metadata": {},
     "output_type": "display_data"
    }
   ],
   "source": [
    "// カリー化\n",
    "def curry[A,B,C](f: (A, B) => C): A => (B => C) =\n",
    "(a:A)=>(b:B)=>f(a,b)\n",
    "\n",
    "val cur=curry((a:Int,b:Int)=>a+b)\n",
    "cur(1)"
   ]
  },
  {
   "cell_type": "code",
   "execution_count": 27,
   "metadata": {},
   "outputs": [
    {
     "data": {
      "text/plain": [
       "defined \u001b[32mfunction \u001b[36muncurry\u001b[0m\n",
       "\u001b[36mf\u001b[0m: \u001b[32mInt\u001b[0m => \u001b[32mInt\u001b[0m => \u001b[32mInt\u001b[0m = <function1>\n",
       "\u001b[36munc\u001b[0m: (\u001b[32mInt\u001b[0m, \u001b[32mInt\u001b[0m) => \u001b[32mInt\u001b[0m = <function2>\n",
       "\u001b[36mres26_3\u001b[0m: \u001b[32mInt\u001b[0m = \u001b[32m3\u001b[0m"
      ]
     },
     "metadata": {},
     "output_type": "display_data"
    }
   ],
   "source": [
    "def uncurry[A,B,C](f: A => B => C): (A, B) => C =\n",
    "(a:A,b:B)=>f(a)(b)\n",
    "\n",
    "val f=(a:Int)=>(b:Int)=>a+b\n",
    "val unc=uncurry(f)\n",
    "unc(1,2)"
   ]
  },
  {
   "cell_type": "code",
   "execution_count": 24,
   "metadata": {},
   "outputs": [
    {
     "data": {
      "text/plain": [
       "defined \u001b[32mfunction \u001b[36mcompose\u001b[0m"
      ]
     },
     "metadata": {},
     "output_type": "display_data"
    }
   ],
   "source": [
    "def compose[A,B,C](f:A=>B,g:B=>C):A=>C=\n",
    "(a:A)=>g(f(a))"
   ]
  },
  {
   "cell_type": "code",
   "execution_count": null,
   "metadata": {
    "collapsed": true
   },
   "outputs": [],
   "source": []
  },
  {
   "cell_type": "markdown",
   "metadata": {},
   "source": [
    "## Chapter3\n"
   ]
  },
  {
   "cell_type": "code",
   "execution_count": 9,
   "metadata": {},
   "outputs": [
    {
     "data": {
      "text/plain": [
       "defined \u001b[32mtrait \u001b[36mList\u001b[0m\n",
       "defined \u001b[32mobject \u001b[36mNil\u001b[0m\n",
       "defined \u001b[32mclass \u001b[36mCons\u001b[0m\n",
       "defined \u001b[32mobject \u001b[36mList\u001b[0m"
      ]
     },
     "metadata": {},
     "output_type": "display_data"
    }
   ],
   "source": [
    "sealed trait List[+A]\n",
    "// 変位アノテーション(+A)とNothing型がすべての型の部分型であることを組み合わせより、NilをList[Int]など全ての型とみなすことができる\n",
    "case object Nil extends List[Nothing]  // Noneはオブジェクトなので、何度呼び出してもメモリは消費されない\n",
    "case class Cons[+A](head:A,tail:List[A]) extends List[A] // これはデフォルルトの :: に相当\n",
    "\n",
    "object List {\n",
    "    def sum(ints:List[Int]):Int=ints match {\n",
    "        case Nil=>0\n",
    "        case Cons(x,xs)=> x+sum(xs) \n",
    "    }\n",
    " \n",
    "//     A*はA型の任意の数の引数を渡す事を表し、_*はSeqなどを分解し、複数の引数を渡す事を表す\n",
    "    def apply[A](as:A*):List[A]={\n",
    "        if(as.isEmpty) Nil\n",
    "        else Cons(as.head,apply(as.tail:_*))\n",
    "    }\n",
    "}\n"
   ]
  },
  {
   "cell_type": "code",
   "execution_count": 2,
   "metadata": {
    "scrolled": false
   },
   "outputs": [
    {
     "data": {
      "text/plain": [
       "defined \u001b[32mclass \u001b[36mOption\u001b[0m\n",
       "defined \u001b[32mclass \u001b[36mSome\u001b[0m\n",
       "defined \u001b[32mobject \u001b[36mNone\u001b[0m"
      ]
     },
     "metadata": {},
     "output_type": "display_data"
    }
   ],
   "source": [
    "// ちなみにOption型の場合。\n",
    "sealed abstract class Option[+A] extends Product with Serializable\n",
    "\n",
    "final case class Some[+A](x:A) extends Option[A]\n",
    "case object None extends Option[Nothing]\n"
   ]
  },
  {
   "cell_type": "markdown",
   "metadata": {},
   "source": [
    "http://www.scala-lang.org/api/2.11.7/#scala.collection.immutable.$colon$colon"
   ]
  },
  {
   "cell_type": "markdown",
   "metadata": {},
   "source": [
    "### データ共有でパフォーマンスを改善する"
   ]
  },
  {
   "cell_type": "code",
   "execution_count": 2,
   "metadata": {},
   "outputs": [
    {
     "data": {
      "text/plain": [
       "defined \u001b[32mfunction \u001b[36mtime\u001b[0m"
      ]
     },
     "metadata": {},
     "output_type": "display_data"
    }
   ],
   "source": [
    "//  パフォーマンス測定のためのコード\n",
    "def time[R](block: => R): R = {  \n",
    "    val t0 = System.nanoTime()\n",
    "    val result = block    // call-by-name\n",
    "    val t1 = System.nanoTime()\n",
    "    println(\"Elapsed time: \" + (t1 - t0) + \"ns\")\n",
    "    result\n",
    "}"
   ]
  },
  {
   "cell_type": "code",
   "execution_count": 10,
   "metadata": {},
   "outputs": [
    {
     "data": {
      "text/plain": [
       "\u001b[36mtest1\u001b[0m: \u001b[32mcollection\u001b[0m.\u001b[32mimmutable\u001b[0m.\u001b[32mIndexedSeq\u001b[0m[\u001b[32mList\u001b[0m[\u001b[32mInt\u001b[0m]] = \u001b[32m<lazy>\u001b[0m"
      ]
     },
     "metadata": {},
     "output_type": "display_data"
    }
   ],
   "source": [
    "lazy val test1=(1 to 10000).map{_=>\n",
    "    val list=(1 to 1000).toList\n",
    "    1::list  \n",
    "}"
   ]
  },
  {
   "cell_type": "code",
   "execution_count": 11,
   "metadata": {},
   "outputs": [
    {
     "data": {
      "text/plain": [
       "\u001b[36mtest2\u001b[0m: \u001b[32mcollection\u001b[0m.\u001b[32mimmutable\u001b[0m.\u001b[32mIndexedSeq\u001b[0m[\u001b[32mList\u001b[0m[\u001b[32mInt\u001b[0m]] = \u001b[32m<lazy>\u001b[0m"
      ]
     },
     "metadata": {},
     "output_type": "display_data"
    }
   ],
   "source": [
    "lazy val test2=(1 to 10000).map{_=>\n",
    "    val list=(1 to 1000).toList\n",
    "    1+:list  \n",
    "}"
   ]
  },
  {
   "cell_type": "code",
   "execution_count": 12,
   "metadata": {},
   "outputs": [
    {
     "name": "stdout",
     "output_type": "stream",
     "text": [
      "Elapsed time: 18082303198ns\n"
     ]
    },
    {
     "data": {
      "text/plain": [
       "\u001b[36mres11\u001b[0m: \u001b[32mcollection\u001b[0m.\u001b[32mimmutable\u001b[0m.\u001b[32mIndexedSeq\u001b[0m[\u001b[32mList\u001b[0m[\u001b[32mInt\u001b[0m]] = \u001b[33mVector\u001b[0m(\n",
       "  \u001b[33mList\u001b[0m(\n",
       "    \u001b[32m1\u001b[0m,\n",
       "    \u001b[32m1\u001b[0m,\n",
       "    \u001b[32m2\u001b[0m,\n",
       "    \u001b[32m3\u001b[0m,\n",
       "    \u001b[32m4\u001b[0m,\n",
       "    \u001b[32m5\u001b[0m,\n",
       "    \u001b[32m6\u001b[0m,\n",
       "    \u001b[32m7\u001b[0m,\n",
       "    \u001b[32m8\u001b[0m,\n",
       "    \u001b[32m9\u001b[0m,\n",
       "    \u001b[32m10\u001b[0m,\n",
       "    \u001b[32m11\u001b[0m,\n",
       "    \u001b[32m12\u001b[0m,\n",
       "    \u001b[32m13\u001b[0m,\n",
       "    \u001b[32m14\u001b[0m,\n",
       "    \u001b[32m15\u001b[0m,\n",
       "    \u001b[32m16\u001b[0m,\n",
       "    \u001b[32m17\u001b[0m,\n",
       "\u001b[33m...\u001b[0m"
      ]
     },
     "metadata": {},
     "output_type": "display_data"
    }
   ],
   "source": [
    "time(test1)"
   ]
  },
  {
   "cell_type": "code",
   "execution_count": 13,
   "metadata": {},
   "outputs": [
    {
     "name": "stdout",
     "output_type": "stream",
     "text": [
      "Elapsed time: 25009607765ns\n"
     ]
    },
    {
     "data": {
      "text/plain": [
       "\u001b[36mres12\u001b[0m: \u001b[32mcollection\u001b[0m.\u001b[32mimmutable\u001b[0m.\u001b[32mIndexedSeq\u001b[0m[\u001b[32mList\u001b[0m[\u001b[32mInt\u001b[0m]] = \u001b[33mVector\u001b[0m(\n",
       "  \u001b[33mList\u001b[0m(\n",
       "    \u001b[32m1\u001b[0m,\n",
       "    \u001b[32m1\u001b[0m,\n",
       "    \u001b[32m2\u001b[0m,\n",
       "    \u001b[32m3\u001b[0m,\n",
       "    \u001b[32m4\u001b[0m,\n",
       "    \u001b[32m5\u001b[0m,\n",
       "    \u001b[32m6\u001b[0m,\n",
       "    \u001b[32m7\u001b[0m,\n",
       "    \u001b[32m8\u001b[0m,\n",
       "    \u001b[32m9\u001b[0m,\n",
       "    \u001b[32m10\u001b[0m,\n",
       "    \u001b[32m11\u001b[0m,\n",
       "    \u001b[32m12\u001b[0m,\n",
       "    \u001b[32m13\u001b[0m,\n",
       "    \u001b[32m14\u001b[0m,\n",
       "    \u001b[32m15\u001b[0m,\n",
       "    \u001b[32m16\u001b[0m,\n",
       "    \u001b[32m17\u001b[0m,\n",
       "\u001b[33m...\u001b[0m"
      ]
     },
     "metadata": {},
     "output_type": "display_data"
    }
   ],
   "source": [
    "time(test2)"
   ]
  },
  {
   "cell_type": "markdown",
   "metadata": {
    "collapsed": true
   },
   "source": [
    "##### 性能評価\n",
    "18082303198ns  \n",
    "25009607765ns"
   ]
  },
  {
   "cell_type": "code",
   "execution_count": 10,
   "metadata": {},
   "outputs": [
    {
     "data": {
      "text/plain": [
       "defined \u001b[32mfunction \u001b[36mtail\u001b[0m\n",
       "defined \u001b[32mfunction \u001b[36mtail\u001b[0m\n",
       "\u001b[36mres9_2\u001b[0m: \u001b[32mList\u001b[0m[\u001b[32mInt\u001b[0m] = Cons(2,Cons(3,Nil))\n",
       "\u001b[36mres9_3\u001b[0m: \u001b[32mList\u001b[0m[\u001b[32mInt\u001b[0m] = Nil"
      ]
     },
     "metadata": {},
     "output_type": "display_data"
    }
   ],
   "source": [
    "// ex 3.2\n",
    "\n",
    "def tail[A](list:List[A]):List[A]= list match {\n",
    "    case Cons(_,xs)=>xs\n",
    "    case _=>Nil\n",
    "}\n",
    "\n",
    "\n",
    "def tail[A](list:scala.collection.immutable.List[A]):scala.collection.immutable.List[A]= list match {\n",
    "    case _::xs=>xs\n",
    "    case _=>scala.collection.immutable.Nil\n",
    "}\n",
    "\n",
    "tail(List(1,2,3))\n",
    "tail(List(1))"
   ]
  },
  {
   "cell_type": "code",
   "execution_count": 11,
   "metadata": {},
   "outputs": [
    {
     "data": {
      "text/plain": [
       "\u001b[36mb\u001b[0m: \u001b[32mcollection\u001b[0m.\u001b[32mimmutable\u001b[0m.\u001b[32mList\u001b[0m[\u001b[32mInt\u001b[0m] = \u001b[33mList\u001b[0m(\u001b[32m1\u001b[0m, \u001b[32m2\u001b[0m, \u001b[32m3\u001b[0m)\n",
       "\u001b[36mx\u001b[0m: \u001b[32mInt\u001b[0m = \u001b[32m1\u001b[0m\n",
       "\u001b[36mres10_2\u001b[0m: \u001b[32mInt\u001b[0m = \u001b[32m1\u001b[0m\n",
       "\u001b[36my\u001b[0m: \u001b[32mInt\u001b[0m = \u001b[32m1\u001b[0m\n",
       "\u001b[36mys\u001b[0m: \u001b[32mSeq\u001b[0m[\u001b[32mInt\u001b[0m] = \u001b[33mList\u001b[0m(\u001b[32m2\u001b[0m, \u001b[32m3\u001b[0m)\n",
       "\u001b[36mres10_4\u001b[0m: \u001b[32mSeq\u001b[0m[\u001b[32mInt\u001b[0m] = \u001b[33mList\u001b[0m(\u001b[32m2\u001b[0m, \u001b[32m3\u001b[0m)"
      ]
     },
     "metadata": {},
     "output_type": "display_data"
    }
   ],
   "source": [
    "val b=scala.collection.immutable.List(1,2,3)\n",
    "val scala.collection.immutable.List(x,_*)=b\n",
    "// 先頭を取得する\n",
    "x\n",
    "\n",
    "// 後方を取得する\n",
    "val scala.collection.immutable.List(y,ys@_*)=b\n",
    "ys"
   ]
  },
  {
   "cell_type": "code",
   "execution_count": 13,
   "metadata": {},
   "outputs": [
    {
     "data": {
      "text/plain": [
       "defined \u001b[32mfunction \u001b[36msetHead\u001b[0m\n",
       "\u001b[36mres12_1\u001b[0m: \u001b[32mList\u001b[0m[\u001b[32mInt\u001b[0m] = Cons(1,Cons(3,Nil))"
      ]
     },
     "metadata": {},
     "output_type": "display_data"
    }
   ],
   "source": [
    "// ex 3.3\n",
    "def setHead[A](x:A,list:List[A]):List[A]= list match {\n",
    "    case Cons(_,xs)=>Cons(x,xs)\n",
    "    case _=>Cons(x,Nil)\n",
    "}\n",
    "\n",
    "setHead(1,List(2,3))"
   ]
  },
  {
   "cell_type": "code",
   "execution_count": 18,
   "metadata": {},
   "outputs": [
    {
     "data": {
      "text/plain": [
       "defined \u001b[32mfunction \u001b[36mdrop\u001b[0m\n",
       "\u001b[36mres17_1\u001b[0m: \u001b[32mList\u001b[0m[\u001b[32mInt\u001b[0m] = Cons(3,Nil)\n",
       "\u001b[36mres17_2\u001b[0m: \u001b[32mList\u001b[0m[\u001b[32mInt\u001b[0m] = Cons(1,Cons(2,Cons(3,Nil)))\n",
       "\u001b[36mres17_3\u001b[0m: \u001b[32mList\u001b[0m[\u001b[32mInt\u001b[0m] = Nil"
      ]
     },
     "metadata": {},
     "output_type": "display_data"
    }
   ],
   "source": [
    "// ex 3.4\n",
    "\n",
    "def drop[A](n:Int,list:List[A]):List[A]= list match {\n",
    "    case Cons(_,xs) if (n>0)=>drop(n-1,xs)\n",
    "    case xs=>xs\n",
    "}\n",
    "\n",
    "drop(2,List(1,2,3))\n",
    "drop(0,List(1,2,3))\n",
    "drop(4,List(1,2,3))"
   ]
  },
  {
   "cell_type": "code",
   "execution_count": 21,
   "metadata": {},
   "outputs": [
    {
     "data": {
      "text/plain": [
       "defined \u001b[32mfunction \u001b[36mdropWhile\u001b[0m\n",
       "\u001b[36mres20_1\u001b[0m: \u001b[32mList\u001b[0m[\u001b[32mInt\u001b[0m] = Cons(3,Cons(4,Nil))"
      ]
     },
     "metadata": {},
     "output_type": "display_data"
    }
   ],
   "source": [
    "// ex 3.5 カリー化の特性を活かす\n",
    "def dropWhile[A](list:List[A])(f:A=>Boolean):List[A]=\n",
    "   list match{\n",
    "       case Cons(x,xs) if f(x)=>dropWhile(xs)(f)\n",
    "       case _=> list\n",
    "   }\n",
    "\n",
    "\n",
    "dropWhile(List(1,2,3,4))(x=>x<3)"
   ]
  },
  {
   "cell_type": "markdown",
   "metadata": {},
   "source": [
    "#### リスト再帰と高階関数の一般化"
   ]
  },
  {
   "cell_type": "code",
   "execution_count": 22,
   "metadata": {},
   "outputs": [
    {
     "data": {
      "text/plain": [
       "defined \u001b[32mfunction \u001b[36mfoldRight\u001b[0m"
      ]
     },
     "metadata": {},
     "output_type": "display_data"
    }
   ],
   "source": [
    "def foldRight[A,B](as:List[A],zero:B)(f:(A,B)=>B):B={\n",
    "    as match {\n",
    "        case Nil=> zero\n",
    "        case Cons(x,xs)=> f(x,foldRight(xs,zero)(f))\n",
    "    }\n",
    "}\n"
   ]
  },
  {
   "cell_type": "code",
   "execution_count": 25,
   "metadata": {},
   "outputs": [
    {
     "data": {
      "text/plain": [
       "defined \u001b[32mfunction \u001b[36msum\u001b[0m\n",
       "defined \u001b[32mfunction \u001b[36msumStr\u001b[0m\n",
       "\u001b[36mres24_2\u001b[0m: \u001b[32mString\u001b[0m = \u001b[32m\"abc\"\u001b[0m\n",
       "\u001b[36mres24_3\u001b[0m: \u001b[32mInt\u001b[0m = \u001b[32m6\u001b[0m"
      ]
     },
     "metadata": {},
     "output_type": "display_data"
    }
   ],
   "source": [
    "// この辺りの理論はMonad則と深い関わりがある\n",
    "def sumInt(list:List[Int],zero:Int)=foldRight(list,zero)(_+_)\n",
    "def sumStr(list:List[String],zero:String)=foldRight(list,zero)(_+_)\n",
    "\n",
    "sumStr(List(\"a\",\"b\",\"c\"),\"\")\n",
    "sumInt(List(1,2,3),0)"
   ]
  },
  {
   "cell_type": "code",
   "execution_count": 26,
   "metadata": {},
   "outputs": [
    {
     "name": "stdout",
     "output_type": "stream",
     "text": [
      "Adding 1 artifact(s)\n",
      "Adding 1 artifact(s)\n",
      "Adding 1 artifact(s)\n",
      "Adding 6 artifact(s)\n"
     ]
    },
    {
     "data": {
      "text/plain": [
       "\u001b[36mscalazVersion\u001b[0m: \u001b[32mString\u001b[0m = \u001b[32m\"7.1.0\"\u001b[0m"
      ]
     },
     "metadata": {},
     "output_type": "display_data"
    }
   ],
   "source": [
    "// val scalazVersion=\"7.1.0\"\n",
    "// classpath.add(\"org.scalaz\" %% \"scalaz-core\" % scalazVersion)\n",
    "// classpath.add(\"org.scalaz\" %% \"scalaz-effect\" % scalazVersion)\n",
    "// classpath.add(\"org.scalaz\" %% \"scalaz-typelevel\" % scalazVersion)\n",
    "// classpath.add(\"org.scalaz\" %% \"scalaz-scalacheck-binding\" % scalazVersion )\n"
   ]
  },
  {
   "cell_type": "code",
   "execution_count": 26,
   "metadata": {},
   "outputs": [
    {
     "ename": "",
     "evalue": "",
     "output_type": "error",
     "traceback": [
      "\u001b[31mMain.scala:31: value |+| is not a member of scalaz.Monoid[A]",
      "              import scalaz._ ; import Scalaz._ ; def sum[A](list:List[Monoid[A]],zero:Monoid[A])=foldRight(list,zero)((x,y)=>x |+| y)",
      "                                                                                                                                ^\u001b[0m"
     ]
    }
   ],
   "source": [
    "// import scalaz._\n",
    "// import Scalaz._\n",
    "// def sum[A](list:List[Monoid[A]],zero:Monoid[A])=foldRight(list,zero)((x,y)=>x |+| y)"
   ]
  },
  {
   "cell_type": "code",
   "execution_count": null,
   "metadata": {
    "collapsed": true
   },
   "outputs": [],
   "source": []
  },
  {
   "cell_type": "markdown",
   "metadata": {
    "collapsed": true
   },
   "source": [
    "Scalaでは: で終わるメソッドはすべて右結合である  \n",
    "つまり、`x::xs`は実際には`xs ::(x)`であり、:: メソッドは、データコンストラクタ`::(x,xs)`を呼び出してる"
   ]
  },
  {
   "cell_type": "markdown",
   "metadata": {
    "collapsed": true
   },
   "source": []
  },
  {
   "cell_type": "code",
   "execution_count": null,
   "metadata": {
    "collapsed": true
   },
   "outputs": [],
   "source": []
  },
  {
   "cell_type": "code",
   "execution_count": null,
   "metadata": {
    "collapsed": true
   },
   "outputs": [],
   "source": [
    "@SerialVersionUID(509929039250432923L) // value computed by serialver for 2.11.2, annotation added in 2.11.4\n",
    "final case class ::[B](override val head: B, private[scala] var tl: List[B]) extends List[B] {\n",
    "  override def tail : List[B] = tl\n",
    "  override def isEmpty: Boolean = false\n",
    "}"
   ]
  },
  {
   "cell_type": "code",
   "execution_count": null,
   "metadata": {
    "collapsed": true
   },
   "outputs": [],
   "source": [
    "type ::[A] = scala.collection.immutable.::[A] \n",
    "val :: = scala.collection.immutable.::"
   ]
  },
  {
   "cell_type": "code",
   "execution_count": null,
   "metadata": {
    "collapsed": true
   },
   "outputs": [],
   "source": [
    "  /** Adds an element at the beginning of this list.\n",
    "   *  @param x the element to prepend.\n",
    "   *  @return  a list which contains `x` as first element and\n",
    "   *           which continues with this list.\n",
    "   *\n",
    "   *  @usecase def ::(x: A): List[A]\n",
    "   *    @inheritdoc\n",
    "   *\n",
    "   *    Example:\n",
    "   *    {{{1 :: List(2, 3) = List(2, 3).::(1) = List(1, 2, 3)}}}\n",
    "   */\n",
    "  def ::[B >: A] (x: B): List[B] =\n",
    "    new scala.collection.immutable.::(x, this)"
   ]
  },
  {
   "cell_type": "code",
   "execution_count": 1,
   "metadata": {
    "scrolled": true
   },
   "outputs": [
    {
     "data": {
      "text/plain": [
       "\u001b[36mres0\u001b[0m: \u001b[32mList\u001b[0m[\u001b[32mInt\u001b[0m] = \u001b[33mList\u001b[0m(\u001b[32m1\u001b[0m, \u001b[32m1\u001b[0m)"
      ]
     },
     "metadata": {},
     "output_type": "display_data"
    }
   ],
   "source": [
    "// メソッドの::が呼び出される\n",
    "1 ::List(1)"
   ]
  },
  {
   "cell_type": "code",
   "execution_count": null,
   "metadata": {
    "collapsed": true
   },
   "outputs": [],
   "source": [
    "// 変数の::が呼ばれる\n",
    "val a= List(1,2,3) match {\n",
    "    case 1::2::3::Nil=> 1.0\n",
    "}"
   ]
  },
  {
   "cell_type": "code",
   "execution_count": 2,
   "metadata": {},
   "outputs": [
    {
     "ename": "",
     "evalue": "",
     "output_type": "error",
     "traceback": [
      "\u001b[31mMain.scala:25: value Cons is not a member of Int",
      "1 Cons List(1)",
      "  ^\u001b[0m"
     ]
    }
   ],
   "source": []
  },
  {
   "cell_type": "code",
   "execution_count": null,
   "metadata": {
    "collapsed": true
   },
   "outputs": [],
   "source": []
  },
  {
   "cell_type": "code",
   "execution_count": null,
   "metadata": {
    "collapsed": true
   },
   "outputs": [],
   "source": []
  },
  {
   "cell_type": "code",
   "execution_count": null,
   "metadata": {
    "collapsed": true
   },
   "outputs": [],
   "source": []
  },
  {
   "cell_type": "code",
   "execution_count": null,
   "metadata": {
    "collapsed": true
   },
   "outputs": [],
   "source": []
  }
 ],
 "metadata": {
  "kernelspec": {
   "display_name": "Scala 2.11",
   "language": "scala211",
   "name": "scala211"
  },
  "language_info": {
   "codemirror_mode": "text/x-scala",
   "file_extension": ".scala",
   "mimetype": "text/x-scala",
   "name": "scala211",
   "pygments_lexer": "scala",
   "version": "2.11.7"
  }
 },
 "nbformat": 4,
 "nbformat_minor": 2
}

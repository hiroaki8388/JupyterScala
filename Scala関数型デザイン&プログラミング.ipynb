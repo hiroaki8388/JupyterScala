{
 "cells": [
  {
   "cell_type": "markdown",
   "metadata": {},
   "source": [
    "# Scala関数型デザイン&プログラミング\n",
    "https://github.com/fpinscala/fpinscala/"
   ]
  },
  {
   "cell_type": "markdown",
   "metadata": {},
   "source": [
    "## Chaper2\n",
    "https://github.com/fpinscala/fpinscala/blob/master/exercises/src/main/scala/fpinscala/gettingstarted/GettingStarted.scala"
   ]
  },
  {
   "cell_type": "code",
   "execution_count": 5,
   "metadata": {},
   "outputs": [
    {
     "data": {
      "text/plain": [
       "defined \u001b[32mfunction \u001b[36mfib\u001b[0m\n",
       "\u001b[36mres4_1\u001b[0m: \u001b[32mInt\u001b[0m = \u001b[32m3\u001b[0m"
      ]
     },
     "metadata": {},
     "output_type": "display_data"
    }
   ],
   "source": [
    "def fib(x:Int):Int={\n",
    "    @annotation.tailrec\n",
    "    def loop(n:Int,prev:Int,cur:Int):Int={\n",
    "        if (n==0) prev\n",
    "        else loop(n-1,cur,prev+cur)\n",
    "    }\n",
    "    loop(x,0,1)\n",
    "}\n",
    "\n",
    "fib(4)"
   ]
  },
  {
   "cell_type": "code",
   "execution_count": 7,
   "metadata": {},
   "outputs": [
    {
     "data": {
      "text/plain": [
       "defined \u001b[32mfunction \u001b[36mfib\u001b[0m\n",
       "\u001b[36mres6_1\u001b[0m: \u001b[32mList\u001b[0m[\u001b[32mInt\u001b[0m] = \u001b[33mList\u001b[0m(\u001b[32m1\u001b[0m, \u001b[32m1\u001b[0m, \u001b[32m2\u001b[0m, \u001b[32m3\u001b[0m)"
      ]
     },
     "metadata": {},
     "output_type": "display_data"
    }
   ],
   "source": [
    "// listにフィボナッチを格納する\n",
    "def fib(x:Int):List[Int]={\n",
    "    @annotation.tailrec\n",
    "    def loop(n:Int,prev:Int,cur:Int,stc:List[Int]):List[Int]={\n",
    "        if (n==0) stc.reverse\n",
    "        else loop(n-1,cur,prev+cur,cur::stc)\n",
    "    }\n",
    "    loop(x,0,1,Nil)\n",
    "}\n",
    "\n",
    "fib(4)"
   ]
  },
  {
   "cell_type": "code",
   "execution_count": null,
   "metadata": {
    "collapsed": true
   },
   "outputs": [],
   "source": []
  },
  {
   "cell_type": "code",
   "execution_count": 14,
   "metadata": {},
   "outputs": [
    {
     "data": {
      "text/plain": [
       "defined \u001b[32mfunction \u001b[36misSorted\u001b[0m\n",
       "\u001b[36mres13_1\u001b[0m: \u001b[32mBoolean\u001b[0m = \u001b[32mtrue\u001b[0m\n",
       "\u001b[36mres13_2\u001b[0m: \u001b[32mBoolean\u001b[0m = \u001b[32mfalse\u001b[0m"
      ]
     },
     "metadata": {},
     "output_type": "display_data"
    }
   ],
   "source": [
    "def isSorted[A](as:Array[A], gt:(A,A)=>Boolean):Boolean ={\n",
    "        @annotation.tailrec\n",
    "    def go(n:Int):Boolean={\n",
    "        if (n>=(as.length-1)) true\n",
    "        else if (gt(as(n),as(n+1))) false\n",
    "        else go(n+1)\n",
    "    }\n",
    "    \n",
    "    go(0)\n",
    "}\n",
    "\n",
    "isSorted(Array(1,2,3),(x:Int,y:Int)=>x>y)\n",
    "isSorted(Array(1,3,2),(x:Int,y:Int)=>x>y)"
   ]
  },
  {
   "cell_type": "code",
   "execution_count": 31,
   "metadata": {},
   "outputs": [
    {
     "data": {
      "text/plain": [
       "defined \u001b[32mfunction \u001b[36mpartial1\u001b[0m\n",
       "\u001b[36mpar\u001b[0m: \u001b[32mInt\u001b[0m => \u001b[32mInt\u001b[0m = <function1>"
      ]
     },
     "metadata": {},
     "output_type": "display_data"
    }
   ],
   "source": [
    "// 部分適用\n",
    "def partial1[A,B,C](a: A, f: (A,B) => C): B => C =\n",
    " (b:B)=>f(a,b)\n",
    "\n",
    "val par=partial1(1,(a:Int,b:Int)=>a+b)"
   ]
  },
  {
   "cell_type": "code",
   "execution_count": 30,
   "metadata": {},
   "outputs": [
    {
     "data": {
      "text/plain": [
       "defined \u001b[32mfunction \u001b[36mcurry\u001b[0m\n",
       "\u001b[36mcur\u001b[0m: \u001b[32mInt\u001b[0m => \u001b[32mInt\u001b[0m => \u001b[32mInt\u001b[0m = <function1>\n",
       "\u001b[36mres29_2\u001b[0m: \u001b[32mInt\u001b[0m => \u001b[32mInt\u001b[0m = <function1>"
      ]
     },
     "metadata": {},
     "output_type": "display_data"
    }
   ],
   "source": [
    "// カリー化\n",
    "def curry[A,B,C](f: (A, B) => C): A => (B => C) =\n",
    "(a:A)=>(b:B)=>f(a,b)\n",
    "\n",
    "val cur=curry((a:Int,b:Int)=>a+b)\n",
    "cur(1)"
   ]
  },
  {
   "cell_type": "code",
   "execution_count": 27,
   "metadata": {},
   "outputs": [
    {
     "data": {
      "text/plain": [
       "defined \u001b[32mfunction \u001b[36muncurry\u001b[0m\n",
       "\u001b[36mf\u001b[0m: \u001b[32mInt\u001b[0m => \u001b[32mInt\u001b[0m => \u001b[32mInt\u001b[0m = <function1>\n",
       "\u001b[36munc\u001b[0m: (\u001b[32mInt\u001b[0m, \u001b[32mInt\u001b[0m) => \u001b[32mInt\u001b[0m = <function2>\n",
       "\u001b[36mres26_3\u001b[0m: \u001b[32mInt\u001b[0m = \u001b[32m3\u001b[0m"
      ]
     },
     "metadata": {},
     "output_type": "display_data"
    }
   ],
   "source": [
    "def uncurry[A,B,C](f: A => B => C): (A, B) => C =\n",
    "(a:A,b:B)=>f(a)(b)\n",
    "\n",
    "val f=(a:Int)=>(b:Int)=>a+b\n",
    "val unc=uncurry(f)\n",
    "unc(1,2)"
   ]
  },
  {
   "cell_type": "code",
   "execution_count": 24,
   "metadata": {},
   "outputs": [
    {
     "data": {
      "text/plain": [
       "defined \u001b[32mfunction \u001b[36mcompose\u001b[0m"
      ]
     },
     "metadata": {},
     "output_type": "display_data"
    }
   ],
   "source": [
    "def compose[A,B,C](f:A=>B,g:B=>C):A=>C=\n",
    "(a:A)=>g(f(a))"
   ]
  },
  {
   "cell_type": "code",
   "execution_count": null,
   "metadata": {
    "collapsed": true
   },
   "outputs": [],
   "source": []
  },
  {
   "cell_type": "markdown",
   "metadata": {},
   "source": [
    "## Chapter3"
   ]
  },
  {
   "cell_type": "code",
   "execution_count": 40,
   "metadata": {
    "scrolled": true
   },
   "outputs": [
    {
     "data": {
      "text/plain": [
       "defined \u001b[32mtrait \u001b[36mList\u001b[0m\n",
       "defined \u001b[32mobject \u001b[36mNil\u001b[0m\n",
       "defined \u001b[32mclass \u001b[36mCons\u001b[0m\n",
       "defined \u001b[32mobject \u001b[36mList\u001b[0m\n",
       "\u001b[36mres39_4\u001b[0m: \u001b[32mInt\u001b[0m = \u001b[32m6\u001b[0m"
      ]
     },
     "metadata": {},
     "output_type": "display_data"
    }
   ],
   "source": [
    "sealed trait List[+A]\n",
    "// 変位アノテーション(+A)とNothing型がすべての型の部分型であることを組み合わせより、NilをList[Int]など全ての型とみなすことができる\n",
    "case object Nil extends List[Nothing] \n",
    "case class Cons[+A](head:A,tail:List[A]) extends List[A]\n",
    "\n",
    "object List {\n",
    "    def sum(ints:List[Int]):Int=ints match {\n",
    "        case Nil=>0\n",
    "        case Cons(x,xs)=> x+sum(xs)\n",
    "    }\n",
    " \n",
    "//     A*はA型の任意の数の引数を渡す事を表し、_*はSeqなどを分解し、複数の引数を渡す事を表す\n",
    "    def apply[A](as:A*):List[A]={\n",
    "        if(as.isEmpty) Nil\n",
    "        else Cons(as.head,apply(as.tail:_*))\n",
    "    }\n",
    "}\n",
    "\n",
    "List.sum(List(1,2,3))\n"
   ]
  },
  {
   "cell_type": "code",
   "execution_count": 32,
   "metadata": {},
   "outputs": [
    {
     "ename": "",
     "evalue": "",
     "output_type": "error",
     "traceback": [
      "\u001b[31mMain.scala:25: value :: is not a member of object cmd32.this.$ref$cmd31.Nil",
      "1::Nil",
      " ^\u001b[0m"
     ]
    }
   ],
   "source": []
  }
 ],
 "metadata": {
  "kernelspec": {
   "display_name": "Scala 2.11",
   "language": "scala211",
   "name": "scala211"
  },
  "language_info": {
   "codemirror_mode": "text/x-scala",
   "file_extension": ".scala",
   "mimetype": "text/x-scala",
   "name": "scala211",
   "pygments_lexer": "scala",
   "version": "2.11.7"
  }
 },
 "nbformat": 4,
 "nbformat_minor": 2
}

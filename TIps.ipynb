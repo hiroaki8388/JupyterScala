{
 "cells": [
  {
   "cell_type": "code",
   "execution_count": 4,
   "metadata": {},
   "outputs": [
    {
     "data": {
      "text/plain": [
       "\u001b[36mres3\u001b[0m: \u001b[32mOption\u001b[0m[\u001b[32mInt\u001b[0m] = None"
      ]
     },
     "metadata": {},
     "output_type": "display_data"
    }
   ],
   "source": [
    "util.Try(1/0).toOption"
   ]
  },
  {
   "cell_type": "code",
   "execution_count": 7,
   "metadata": {},
   "outputs": [
    {
     "data": {
      "text/plain": [
       "\u001b[36mnums\u001b[0m: \u001b[32mSeq\u001b[0m[\u001b[32mutil\u001b[0m.\u001b[32mTry\u001b[0m[\u001b[32mInt\u001b[0m]] = \u001b[33mList\u001b[0m(\u001b[33mFailure\u001b[0m(java.lang.ArithmeticException: / by zero), \u001b[33mSuccess\u001b[0m(\u001b[32m1\u001b[0m), \u001b[33mSuccess\u001b[0m(\u001b[32m0\u001b[0m))\n",
       "\u001b[36mres6_1\u001b[0m: \u001b[32mSeq\u001b[0m[\u001b[32mInt\u001b[0m] = \u001b[33mList\u001b[0m(\u001b[32m1\u001b[0m, \u001b[32m0\u001b[0m)"
      ]
     },
     "metadata": {},
     "output_type": "display_data"
    }
   ],
   "source": [
    "// cellectで失敗したのをフィルターに掛ける\n",
    "val nums=Seq(0,1,2).map(x=> util.Try(1/x))\n",
    "nums.collect{ case(util.Success(it)) => it }"
   ]
  },
  {
   "cell_type": "code",
   "execution_count": 9,
   "metadata": {},
   "outputs": [
    {
     "data": {
      "text/plain": [
       "\u001b[36ma\u001b[0m: \u001b[32mcollection\u001b[0m.\u001b[32mparallel\u001b[0m.\u001b[32mimmutable\u001b[0m.\u001b[32mParRange\u001b[0m = ParRange(0, 1, 2, 3, 4, 5, 6, 7, 8, 9, 10)\n",
       "\u001b[36mres8_1\u001b[0m: \u001b[32mInt\u001b[0m = \u001b[32m2\u001b[0m"
      ]
     },
     "metadata": {},
     "output_type": "display_data"
    }
   ],
   "source": [
    "val a=(0 to 10).par\n",
    "a.tasksupport.parallelismLevel"
   ]
  },
  {
   "cell_type": "code",
   "execution_count": null,
   "metadata": {
    "collapsed": true
   },
   "outputs": [],
   "source": [
    "// mapのなかでエラーがでてもFailure型になる\n",
    "util.Try{\n",
    "    b(0 to 2).map(x=>1/x)\n",
    "}"
   ]
  },
  {
   "cell_type": "code",
   "execution_count": 10,
   "metadata": {},
   "outputs": [
    {
     "data": {
      "text/plain": [
       "defined \u001b[32mfunction \u001b[36mtime\u001b[0m"
      ]
     },
     "metadata": {},
     "output_type": "display_data"
    }
   ],
   "source": [
    "// 性能測定のための簡単なメソッド\n",
    "\n",
    "// => RとRの違いは前者の場合は、メソッドないで実行される(遅延評価)\n",
    "def time[R](block: => R): R = {  \n",
    "    val t0 = System.nanoTime()\n",
    "    val result = block    // call-by-name\n",
    "    val t1 = System.nanoTime()\n",
    "    println(\"Elapsed time: \" + (t1 - t0) + \"ns\")\n",
    "    result\n",
    "}"
   ]
  },
  {
   "cell_type": "code",
   "execution_count": 11,
   "metadata": {
    "scrolled": true
   },
   "outputs": [
    {
     "name": "stdout",
     "output_type": "stream",
     "text": [
      "Elapsed time: 345529ns\n"
     ]
    },
    {
     "data": {
      "text/plain": [
       "\u001b[36mres10\u001b[0m: \u001b[32mArray\u001b[0m[\u001b[32mChar\u001b[0m] = \u001b[33mArray\u001b[0m(\u001b[32m'A'\u001b[0m, \u001b[32m'A'\u001b[0m, \u001b[32m'A'\u001b[0m, \u001b[32m'A'\u001b[0m, \u001b[32m'A'\u001b[0m, \u001b[32m'A'\u001b[0m, \u001b[32m'A'\u001b[0m, \u001b[32m'A'\u001b[0m, \u001b[32m'A'\u001b[0m, \u001b[32m'A'\u001b[0m)"
      ]
     },
     "metadata": {},
     "output_type": "display_data"
    }
   ],
   "source": [
    "time{ Array.fill(10)('A')}"
   ]
  },
  {
   "cell_type": "code",
   "execution_count": 12,
   "metadata": {},
   "outputs": [
    {
     "data": {
      "text/plain": [
       "\u001b[36mres11\u001b[0m: \u001b[32mSeq\u001b[0m[\u001b[32mInt\u001b[0m] = \u001b[33mList\u001b[0m(\u001b[32m1\u001b[0m)"
      ]
     },
     "metadata": {},
     "output_type": "display_data"
    }
   ],
   "source": [
    "// filterはtrueのものの見返す\n",
    "Seq(1,2,3).filter(_==1)"
   ]
  },
  {
   "cell_type": "code",
   "execution_count": 13,
   "metadata": {
    "scrolled": true
   },
   "outputs": [
    {
     "data": {
      "text/plain": [
       "\u001b[36mqueryStrings\u001b[0m: \u001b[32mMap\u001b[0m[\u001b[32mString\u001b[0m, \u001b[32mSeq\u001b[0m[\u001b[32mString\u001b[0m]] = \u001b[33mMap\u001b[0m(\u001b[32m\"a\"\u001b[0m -> \u001b[33mList\u001b[0m(\u001b[32m\"1\"\u001b[0m))\n",
       "\u001b[36mEXCLUDE_CLIENT\u001b[0m: \u001b[32mString\u001b[0m = \u001b[32m\"a\"\u001b[0m\n",
       "\u001b[36mencodeClientIdsStr\u001b[0m: \u001b[32mSeq\u001b[0m[\u001b[32mChar\u001b[0m] = \u001b[33mList\u001b[0m(\u001b[32m'1'\u001b[0m)"
      ]
     },
     "metadata": {},
     "output_type": "display_data"
    }
   ],
   "source": [
    "val  queryStrings=Map(\"a\"->Seq(\"1\"))\n",
    "val EXCLUDE_CLIENT=\"a\"\n",
    "val encodeClientIdsStr= queryStrings.getOrElse(EXCLUDE_CLIENT,Seq(\"\")).flatten"
   ]
  },
  {
   "cell_type": "code",
   "execution_count": 17,
   "metadata": {},
   "outputs": [
    {
     "data": {
      "text/plain": [
       "\u001b[36mres16\u001b[0m: \u001b[32mArray\u001b[0m[\u001b[32mInt\u001b[0m] = \u001b[33mArray\u001b[0m(\u001b[32m1\u001b[0m)"
      ]
     },
     "metadata": {},
     "output_type": "display_data"
    }
   ],
   "source": [
    "Seq(1).toArray"
   ]
  },
  {
   "cell_type": "code",
   "execution_count": 18,
   "metadata": {},
   "outputs": [
    {
     "data": {
      "text/plain": [
       "\u001b[36mres17\u001b[0m: \u001b[32mSeq\u001b[0m[\u001b[32mLong\u001b[0m] = \u001b[33mList\u001b[0m()"
      ]
     },
     "metadata": {},
     "output_type": "display_data"
    }
   ],
   "source": [
    "Seq.empty[Seq[Long]].flatten"
   ]
  }
 ],
 "metadata": {
  "kernelspec": {
   "display_name": "Scala 2.11",
   "language": "scala211",
   "name": "scala211"
  },
  "language_info": {
   "codemirror_mode": "text/x-scala",
   "file_extension": ".scala",
   "mimetype": "text/x-scala",
   "name": "scala211",
   "pygments_lexer": "scala",
   "version": "2.11.7"
  }
 },
 "nbformat": 4,
 "nbformat_minor": 2
}

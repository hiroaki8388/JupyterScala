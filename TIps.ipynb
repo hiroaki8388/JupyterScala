{
 "cells": [
  {
   "cell_type": "markdown",
   "metadata": {},
   "source": [
    "# 忘備録"
   ]
  },
  {
   "cell_type": "code",
   "execution_count": 3,
   "metadata": {},
   "outputs": [
    {
     "data": {
      "text/plain": [
       "\u001b[32mimport \u001b[36mscala.util._\u001b[0m\n",
       "\u001b[32mimport \u001b[36mscala.concurrent._\u001b[0m\n",
       "\u001b[32mimport \u001b[36mscala.concurrent.ExecutionContext.Implicits.global\u001b[0m"
      ]
     },
     "metadata": {},
     "output_type": "display_data"
    }
   ],
   "source": [
    "import scala.util._\n",
    "import scala.concurrent._\n",
    "import scala.concurrent.ExecutionContext.Implicits.global"
   ]
  },
  {
   "cell_type": "code",
   "execution_count": 7,
   "metadata": {},
   "outputs": [
    {
     "data": {
      "text/plain": [
       "\u001b[36mnums\u001b[0m: \u001b[32mSeq\u001b[0m[\u001b[32mutil\u001b[0m.\u001b[32mTry\u001b[0m[\u001b[32mInt\u001b[0m]] = \u001b[33mList\u001b[0m(\u001b[33mFailure\u001b[0m(java.lang.ArithmeticException: / by zero), \u001b[33mSuccess\u001b[0m(\u001b[32m1\u001b[0m), \u001b[33mSuccess\u001b[0m(\u001b[32m0\u001b[0m))\n",
       "\u001b[36mres6_1\u001b[0m: \u001b[32mSeq\u001b[0m[\u001b[32mInt\u001b[0m] = \u001b[33mList\u001b[0m(\u001b[32m1\u001b[0m, \u001b[32m0\u001b[0m)"
      ]
     },
     "metadata": {},
     "output_type": "display_data"
    }
   ],
   "source": [
    "// cellectで失敗したのをフィルターに掛ける\n",
    "val nums=Seq(0,1,2).map(x=> util.Try(1/x))\n",
    "nums.collect{ case(util.Success(it)) => it }"
   ]
  },
  {
   "cell_type": "code",
   "execution_count": 9,
   "metadata": {},
   "outputs": [
    {
     "data": {
      "text/plain": [
       "\u001b[36ma\u001b[0m: \u001b[32mcollection\u001b[0m.\u001b[32mparallel\u001b[0m.\u001b[32mimmutable\u001b[0m.\u001b[32mParRange\u001b[0m = ParRange(0, 1, 2, 3, 4, 5, 6, 7, 8, 9, 10)\n",
       "\u001b[36mres8_1\u001b[0m: \u001b[32mInt\u001b[0m = \u001b[32m2\u001b[0m"
      ]
     },
     "metadata": {},
     "output_type": "display_data"
    }
   ],
   "source": [
    "val a=(0 to 10).par\n",
    "a.tasksupport.parallelismLevel"
   ]
  },
  {
   "cell_type": "code",
   "execution_count": null,
   "metadata": {
    "collapsed": true
   },
   "outputs": [],
   "source": [
    "// mapのなかでエラーがでてもFailure型になる\n",
    "util.Try{\n",
    "    (0 to 2).map(x=>1/x)\n",
    "}"
   ]
  },
  {
   "cell_type": "markdown",
   "metadata": {
    "collapsed": true
   },
   "source": [
    "## Futureについて"
   ]
  },
  {
   "cell_type": "code",
   "execution_count": 43,
   "metadata": {
    "scrolled": true
   },
   "outputs": [
    {
     "ename": "",
     "evalue": "",
     "output_type": "error",
     "traceback": [
      "\u001b[31mMain.scala:38: constructor cannot be instantiated to expected type;",
      " found   : scala.util.Success[T]",
      " required: String",
      "    case Success(s)=>println(s)",
      "         ^\u001b[0m",
      "\u001b[31mMain.scala:39: constructor cannot be instantiated to expected type;",
      " found   : scala.util.Failure[T]",
      " required: String",
      "    case Failure(e)=>println(s\"Error featching : $e\")",
      "         ^\u001b[0m"
     ]
    }
   ],
   "source": [
    "val res= Future{\n",
    "     Thread.sleep(10000) \n",
    "    \"success!\"\n",
    "}\n",
    "\n",
    "\n",
    "\n",
    "// onCompleteをつかうことでイベントハンドリングが可能\n",
    "// つまり、ここの処理に来たときの非同期処理の結果(=Futureの型)に応じて出力を返る事ができる\n",
    "// REPLだとうまくいくが、なぜかJupyter上だと何も出力されない\n",
    "res.onComplete{\n",
    "    case Success(s)=>println(s)\n",
    "    case Failure(e)=>println(s\"Error featching : $e\")\n",
    "}\n"
   ]
  },
  {
   "cell_type": "code",
   "execution_count": 59,
   "metadata": {},
   "outputs": [
    {
     "data": {
      "text/plain": [
       "\u001b[36mf\u001b[0m: \u001b[32mFuture\u001b[0m[\u001b[32mUnit\u001b[0m] = scala.concurrent.impl.Promise$DefaultPromise@44eba21a"
      ]
     },
     "metadata": {},
     "output_type": "display_data"
    }
   ],
   "source": [
    "// このような場合、まだfはSuccessなのかFalseなのかも分からないので、onCompleteではなにも出力されない \n",
    "val f = Future { Thread.sleep(10000) }\n",
    "  f.onComplete { _ => println(\"future completed\") }\n",
    "  // \"future completed\" is not printed"
   ]
  },
  {
   "cell_type": "code",
   "execution_count": 62,
   "metadata": {},
   "outputs": [
    {
     "data": {
      "text/plain": [
       "\u001b[32mimport \u001b[36mscala.concurrent._\u001b[0m\n",
       "\u001b[32mimport \u001b[36mscala.concurrent.duration._\u001b[0m\n",
       "\u001b[36mf\u001b[0m: \u001b[32mFuture\u001b[0m[\u001b[32mNothing\u001b[0m] = scala.concurrent.impl.Promise$DefaultPromise@e41546c\n",
       "\u001b[36mres61_3\u001b[0m: \u001b[32mFuture\u001b[0m[\u001b[32mNothing\u001b[0m] = scala.concurrent.impl.Promise$DefaultPromise@e41546c"
      ]
     },
     "metadata": {},
     "output_type": "display_data"
    }
   ],
   "source": [
    "import scala.concurrent._\n",
    "import scala.concurrent.duration._\n",
    "\n",
    "val f = Future { \n",
    "    Thread.sleep(1000)\n",
    "    \"success\"\n",
    "    throw new Exception(\"有益ではない\")\n",
    "}\n",
    "\n",
    "// 2秒だけまち、待っても値が返ってこない場合TimeExceptionが出る\n",
    "Await.ready(f, 2 second)\n",
    "\n",
    "// resultの場合、readyと違い、Futureの中で発生した例外が出される\n",
    "// Await.rresut(f, 2 second)\n",
    "\n",
    "f.onComplete{\n",
    "    case Success(s)=>println(s)\n",
    "    case Failure(e)=>println(s\"Error featching : $e\")\n",
    "}\n",
    "\n",
    "  // \"future completed\" is not printed"
   ]
  },
  {
   "cell_type": "code",
   "execution_count": 63,
   "metadata": {},
   "outputs": [
    {
     "name": "stdout",
     "output_type": "stream",
     "text": [
      "Adding 1 artifact(s)\n"
     ]
    },
    {
     "data": {
      "text/plain": []
     },
     "metadata": {},
     "output_type": "display_data"
    }
   ],
   "source": [
    "classpath.add(\"org.scala-lang\" % \"scala-xml\" % \"2.11.0-M4\"\n",
    ")"
   ]
  },
  {
   "cell_type": "code",
   "execution_count": 1,
   "metadata": {},
   "outputs": [
    {
     "data": {
      "text/plain": [
       "\u001b[32mimport \u001b[36mscala.concurrent._\u001b[0m\n",
       "\u001b[32mimport \u001b[36mscala.concurrent.ExecutionContext.Implicits.global\u001b[0m\n",
       "\u001b[32mimport \u001b[36mscala.io._\u001b[0m\n",
       "\u001b[32mimport \u001b[36mscala.xml.XML\u001b[0m\n",
       "\u001b[32mimport \u001b[36mscala.util._\u001b[0m\n",
       "defined \u001b[32mfunction \u001b[36murlFor\u001b[0m\n",
       "defined \u001b[32mfunction \u001b[36mfetchStockPrice\u001b[0m"
      ]
     },
     "metadata": {},
     "output_type": "display_data"
    }
   ],
   "source": [
    "// StockPriceDemo.scala\n",
    "\n",
    "import scala.concurrent._\n",
    "import scala.concurrent.ExecutionContext.Implicits.global\n",
    "import scala.io._\n",
    "import scala.xml.XML\n",
    "import scala.util._\n",
    "\n",
    " def urlFor(stockSymbol:String) =\n",
    "    (\"http://dev.markitondemand.com/MODApis/Api/v2/Quote?\" + \n",
    "     s\"symbol=${stockSymbol}\")\n",
    "\n",
    "\n",
    "\n",
    "  def fetchStockPrice(stockSymbol:String):Future[BigDecimal] = {\n",
    "    val url = urlFor(stockSymbol)\n",
    "    val strResponse = Future { Source.fromURL(url).mkString }\n",
    "    val xmlResponse = strResponse.map { s => XML.loadString(s) }\n",
    "    val price = xmlResponse.map { \n",
    "      r => BigDecimal((r \\ \"LastPrice\").text) \n",
    "    }\n",
    "    price\n",
    "  }\n"
   ]
  },
  {
   "cell_type": "code",
   "execution_count": 5,
   "metadata": {},
   "outputs": [
    {
     "name": "stdout",
     "output_type": "stream",
     "text": [
      "Enter symbol at prompt.\n",
      "> "
     ]
    },
    {
     "data": {
      "text/plain": [
       "\u001b[32mimport \u001b[36mscala.concurrent._\u001b[0m\n",
       "\u001b[32mimport \u001b[36mscala.concurrent.duration._\u001b[0m\n",
       "\u001b[36msymbol\u001b[0m: \u001b[32mString\u001b[0m = null\n",
       "\u001b[36mres4_4\u001b[0m: \u001b[32mFuture\u001b[0m[\u001b[32mBigDecimal\u001b[0m] = scala.concurrent.impl.Promise$DefaultPromise@322671e6\n",
       "\u001b[36mres4_5\u001b[0m: \u001b[32mOption\u001b[0m[\u001b[32mTry\u001b[0m[\u001b[32mBigDecimal\u001b[0m]] = None"
      ]
     },
     "metadata": {},
     "output_type": "display_data"
    }
   ],
   "source": [
    "import scala.concurrent._\n",
    "import scala.concurrent.duration._\n",
    "println(\"Enter symbol at prompt.\")\n",
    "\n",
    "    val symbol = readLine(\"> \") // Wait for user input\n",
    "    // When user puts in symbol, fetch data in background\n",
    "    // thread and print to screen when complete\n",
    "Await.ready(fetchStockPrice(symbol),10 second)\n",
    "    fetchStockPrice(symbol).value\n"
   ]
  },
  {
   "cell_type": "code",
   "execution_count": 14,
   "metadata": {},
   "outputs": [
    {
     "name": "stdout",
     "output_type": "stream",
     "text": [
      "Enter symbol at prompt.\n"
     ]
    },
    {
     "data": {
      "text/plain": [
       "\u001b[32mimport \u001b[36mscala.concurrent._\u001b[0m\n",
       "\u001b[32mimport \u001b[36mscala.concurrent.ExecutionContext.Implicits.global\u001b[0m\n",
       "\u001b[32mimport \u001b[36mscala.io._\u001b[0m\n",
       "\u001b[32mimport \u001b[36mscala.xml.XML\u001b[0m\n",
       "\u001b[32mimport \u001b[36mscala.util._\u001b[0m\n",
       "defined \u001b[32mfunction \u001b[36murlFor\u001b[0m\n",
       "defined \u001b[32mfunction \u001b[36mfetchStockPrice\u001b[0m\n",
       "\u001b[36msymbol\u001b[0m: \u001b[32mString\u001b[0m = \u001b[32m\"GOGL\"\u001b[0m\n",
       "\u001b[36mresult\u001b[0m: \u001b[32mFuture\u001b[0m[\u001b[32mBigDecimal\u001b[0m] = scala.concurrent.impl.Promise$DefaultPromise@73ff440a\n",
       "\u001b[36mres13_10\u001b[0m: \u001b[32mFuture\u001b[0m[\u001b[32mBigDecimal\u001b[0m] = scala.concurrent.impl.Promise$DefaultPromise@73ff440a\n",
       "\u001b[36mres13_12\u001b[0m: \u001b[32mOption\u001b[0m[\u001b[32mTry\u001b[0m[\u001b[32mBigDecimal\u001b[0m]] = \u001b[33mSome\u001b[0m(\u001b[33mSuccess\u001b[0m(6.84))"
      ]
     },
     "metadata": {},
     "output_type": "display_data"
    }
   ],
   "source": [
    "// StockPriceDemo.scala\n",
    "\n",
    "import scala.concurrent._\n",
    "import scala.concurrent.ExecutionContext.Implicits.global\n",
    "import scala.io._\n",
    "import scala.xml.XML\n",
    "import scala.util._\n",
    "\n",
    "\n",
    "\n",
    "  /* Construct URL for a stock symbol */\n",
    "  def urlFor(stockSymbol:String) =\n",
    "    (\"http://dev.markitondemand.com/MODApis/Api/v2/Quote?\" + \n",
    "     s\"symbol=${stockSymbol}\")\n",
    "\n",
    "  /* Build a future that fetches the stock price */\n",
    "  def fetchStockPrice(stockSymbol:String):Future[BigDecimal] = {\n",
    "    val url = urlFor(stockSymbol)\n",
    "    val strResponse = Future { Source.fromURL(url).mkString }\n",
    "    val xmlResponse = strResponse.map { s => XML.loadString(s) }\n",
    "    val price = xmlResponse.map { \n",
    "      r => BigDecimal((r \\ \"LastPrice\").text) \n",
    "    }\n",
    "    price\n",
    "  }\n",
    "\n",
    "  /* Command line interface */\n",
    "  println(\"Enter symbol at prompt.\")\n",
    "//   while (true) {\n",
    "//     val symbol = readLine(\"> \") // Wait for user input\n",
    "    // When user puts in symbol, fetch data in background\n",
    "    // thread and print to screen when complete\n",
    "val symbol=\"GOGL\"\n",
    "\n",
    "val result= fetchStockPrice(symbol)\n",
    "Await.ready(result,10 second)\n",
    "    result.onComplete { res =>\n",
    "      println()\n",
    "      res match {\n",
    "        case Success(price) => println(s\"$symbol: USD $price\") // なぜか出力されない\n",
    "        case Failure(e) => println(s\"Error fetching  $symbol: $e\") // なぜか出力されない\n",
    "      }\n",
    "      print(\"> \") // Simulate the appearance of a new prompt\n",
    "    }\n",
    "\n",
    "result.value\n"
   ]
  },
  {
   "cell_type": "code",
   "execution_count": 19,
   "metadata": {
    "scrolled": true
   },
   "outputs": [
    {
     "data": {
      "text/plain": [
       "\u001b[36mpromise\u001b[0m: \u001b[32mPromise\u001b[0m.type = scala.concurrent.Promise$@26413b0a\n",
       "\u001b[36msuccess\u001b[0m: \u001b[32mPromise\u001b[0m[\u001b[32mString\u001b[0m] = scala.concurrent.impl.Promise$KeptPromise@76aace46\n",
       "\u001b[36mfail\u001b[0m: \u001b[32mFuture\u001b[0m[\u001b[32mNothing\u001b[0m] = scala.concurrent.impl.Promise$KeptPromise@589df1da"
      ]
     },
     "metadata": {},
     "output_type": "display_data"
    }
   ],
   "source": [
    "val promise=Promise\n",
    "\n",
    "val success=promise.successful(\"success\")\n",
    "val fail=promise.failed(new Exception(\"失敗\")).future\n",
    "\n"
   ]
  },
  {
   "cell_type": "code",
   "execution_count": 21,
   "metadata": {},
   "outputs": [
    {
     "data": {
      "text/plain": [
       "\u001b[32mimport \u001b[36mscala.concurrent.ExecutionContext.Implicits.global\u001b[0m\n",
       "\u001b[32mimport \u001b[36mscala.concurrent.{Future, Promise}\u001b[0m\n",
       "\u001b[32mimport \u001b[36mscala.util.{Failure, Random, Success}\u001b[0m\n",
       "defined \u001b[32mclass \u001b[36mCallbackSomething\u001b[0m\n",
       "defined \u001b[32mclass \u001b[36mFutureSomething\u001b[0m"
      ]
     },
     "metadata": {},
     "output_type": "display_data"
    }
   ],
   "source": [
    "import scala.concurrent.ExecutionContext.Implicits.global\n",
    "import scala.concurrent.{Future, Promise}\n",
    "import scala.util.{Failure, Random, Success}\n",
    "\n",
    "class CallbackSomething {\n",
    "  val random = new Random()\n",
    "\n",
    "  def doSomething(onSuccess: Int => Unit, onFailure: Throwable => Unit): Unit = {\n",
    "    val i = random.nextInt(10)\n",
    "    if(i < 5) onSuccess(i) else onFailure(new RuntimeException(i.toString))\n",
    "  }\n",
    "}\n",
    "\n",
    "class FutureSomething {\n",
    "  val callbackSomething = new CallbackSomething\n",
    "\n",
    "  def doSomething(): Future[Int] = {\n",
    "    val promise = Promise[Int]\n",
    "    callbackSomething.doSomething(i => promise.success(i), t => promise.failure(t))\n",
    "    promise.future\n",
    "  }\n",
    "}\n",
    "\n"
   ]
  },
  {
   "cell_type": "code",
   "execution_count": 28,
   "metadata": {},
   "outputs": [
    {
     "ename": "",
     "evalue": "",
     "output_type": "error",
     "traceback": [
      "java.lang.RuntimeException: 9 (9)",
      "  cmd20$$user$CallbackSomething.doSomething(Main.scala:48)",
      "  cmd20$$user$FutureSomething.doSomething(Main.scala:55)",
      "  cmd27$$user$$anonfun$4.apply(Main.scala:51)",
      "  cmd27$$user$$anonfun$4.apply(Main.scala:50)"
     ]
    }
   ],
   "source": [
    "  val futureSomething = new FutureSomething\n",
    "\n",
    "  val iFuture = futureSomething.doSomething()\n",
    "  val jFuture = futureSomething.doSomething()\n",
    "\n",
    "  val iplusj = for {\n",
    "    i <- iFuture\n",
    "    j <- jFuture\n",
    "  } yield i + j\n",
    "\n",
    "  val result = Await.result(iplusj, Duration.Inf)\n",
    "  println(result)"
   ]
  },
  {
   "cell_type": "code",
   "execution_count": 42,
   "metadata": {},
   "outputs": [
    {
     "data": {
      "text/plain": [
       "defined \u001b[32mtype \u001b[36mT\u001b[0m\n",
       "\u001b[36mp\u001b[0m: \u001b[32mPromise\u001b[0m[\u001b[32mT\u001b[0m] = scala.concurrent.impl.Promise$DefaultPromise@74a8ec4b\n",
       "\u001b[36mcompleteFirst\u001b[0m: \u001b[32mTry\u001b[0m[\u001b[32mT\u001b[0m] => \u001b[32mUnit\u001b[0m = <function1>\n",
       "\u001b[36mres41_5\u001b[0m: \u001b[32mOption\u001b[0m[\u001b[32mTry\u001b[0m[\u001b[32mT\u001b[0m]] = \u001b[33mSome\u001b[0m(\u001b[33mFailure\u001b[0m(java.lang.RuntimeException: fail))"
      ]
     },
     "metadata": {},
     "output_type": "display_data"
    }
   ],
   "source": [
    "\n",
    "\n",
    "type T=Int\n",
    "val p = Promise[T]()\n",
    "val completeFirst: Try[T] => Unit =(x:Try[T]) =>p tryComplete(x)\n",
    "completeFirst(Failure(new RuntimeException(\"fail\")))\n",
    "completeFirst(Success(2))\n",
    "p.future.value"
   ]
  },
  {
   "cell_type": "markdown",
   "metadata": {},
   "source": [
    "## JSONのパース"
   ]
  },
  {
   "cell_type": "code",
   "execution_count": null,
   "metadata": {
    "collapsed": true
   },
   "outputs": [],
   "source": []
  },
  {
   "cell_type": "code",
   "execution_count": 14,
   "metadata": {},
   "outputs": [
    {
     "ename": "",
     "evalue": "",
     "output_type": "error",
     "traceback": [
      "\u001b[31mMain.scala:45: object json4s is not a member of package org",
      "              import scala.io._ ; import scala.concurrent._ ; import scala.concurrent.duration._ ; import ExecutionContext.Implicits.global ; import scala.util._ ; import org.json4s._ ; import org.json4s.native.JsonMethods._ ; object GitHubUserConcurrent {",
      "                                                                                                                                                                               ^\u001b[0m",
      "\u001b[31mMain.scala:45: object json4s is not a member of package org",
      "              import scala.io._ ; import scala.concurrent._ ; import scala.concurrent.duration._ ; import ExecutionContext.Implicits.global ; import scala.util._ ; import org.json4s._ ; import org.json4s.native.JsonMethods._ ; object GitHubUserConcurrent {",
      "                                                                                                                                                                                                     ^\u001b[0m",
      "\u001b[31mMain.scala:47: not found: value DefaultFormats",
      "  implicit val formats = DefaultFormats",
      "                         ^\u001b[0m",
      "\u001b[31mMain.scala:54: not found: value parse",
      "    val parsedResponse = response.map { r => parse(r) }",
      "                                             ^\u001b[0m",
      "\u001b[31mMain.scala:59: not found: type JValue",
      "  def extractUser(jsonResponse:JValue):User = {",
      "                               ^\u001b[0m"
     ]
    }
   ],
   "source": [
    "// // GitHubUserConcurrent.scala\n",
    "\n",
    "// import scala.io._\n",
    "// import scala.concurrent._\n",
    "// import scala.concurrent.duration._\n",
    "// import ExecutionContext.Implicits.global\n",
    "// import scala.util._\n",
    "\n",
    "// import org.json4s._\n",
    "// import org.json4s.native.JsonMethods._\n",
    "\n",
    "// object GitHubUserConcurrent {\n",
    "\n",
    "//   implicit val formats = DefaultFormats\n",
    "\n",
    "//   case class User(id:Long, userName:String)\n",
    "\n",
    "//   // Fetch and extract the `User` corresponding to `url`\n",
    "//   def fetchUserFromUrl(url:String):Future[User] = {\n",
    "//     val response = Future { Source.fromURL(url).mkString }\n",
    "//     val parsedResponse = response.map { r => parse(r) }\n",
    "//     parsedResponse.map { extractUser }\n",
    "//   }\n",
    "\n",
    "//   // Helper method for extracting a user from a JObject\n",
    "//   def extractUser(jsonResponse:JValue):User = {\n",
    "//     val o = jsonResponse.transformField {\n",
    "//       case (\"login\", name) => (\"userName\", name)\n",
    "//     }\n",
    "//     o.extract[User]\n",
    "//   }\n",
    "\n",
    "//   def main(args:Array[String]) {\n",
    "//     val names = args.toList\n",
    "\n",
    "//     // Loop over each username and send a request to the API \n",
    "//     // for that user \n",
    "//     val name2User = for {\n",
    "//       name <- names\n",
    "//       url = s\"https://api.github.com/users/$name\"\n",
    "//       user = fetchUserFromUrl(url)\n",
    "//     } yield name -> user\n",
    "\n",
    "//     // callback function\n",
    "//     name2User.foreach { case(name, user) =>\n",
    "//       user.onComplete {\n",
    "//         case Success(u) => println(s\" ** Extracted for $name: $u\")\n",
    "//         case Failure(e) => println(s\" ** Error fetching $name:$e\")\n",
    "//       }\n",
    "//     }\n",
    "\n",
    "//     // Block until all the calls have finished.\n",
    "//     Await.ready(Future.sequence(name2User.map { _._2 }), 1 minute)\n",
    "//   }\n",
    "// }"
   ]
  },
  {
   "cell_type": "markdown",
   "metadata": {},
   "source": [
    "## Actor"
   ]
  },
  {
   "cell_type": "code",
   "execution_count": 43,
   "metadata": {
    "scrolled": true
   },
   "outputs": [
    {
     "name": "stdout",
     "output_type": "stream",
     "text": [
      "Adding 2 artifact(s)\n"
     ]
    },
    {
     "data": {
      "text/plain": []
     },
     "metadata": {},
     "output_type": "display_data"
    }
   ],
   "source": [
    "classpath.add( \"com.typesafe.akka\" %% \"akka-actor\" % \"2.4.0\")"
   ]
  },
  {
   "cell_type": "code",
   "execution_count": 50,
   "metadata": {},
   "outputs": [
    {
     "data": {
      "text/plain": [
       "\u001b[32mimport \u001b[36makka.actor._\u001b[0m\n",
       "defined \u001b[32mclass \u001b[36mEchoActor\u001b[0m"
      ]
     },
     "metadata": {},
     "output_type": "display_data"
    }
   ],
   "source": [
    "import akka.actor._\n",
    "\n",
    "class EchoActor extends Actor with ActorLogging{\n",
    "def receive={\n",
    "    case msg:String=>\n",
    "    Thread.sleep(500)\n",
    "    log.info(s\"receive $msg\")\n",
    "}\n",
    "    \n",
    "}\n",
    "\n",
    "\n"
   ]
  },
  {
   "cell_type": "code",
   "execution_count": 54,
   "metadata": {},
   "outputs": [
    {
     "data": {
      "text/plain": [
       "defined \u001b[32mobject \u001b[36mHelloActor\u001b[0m"
      ]
     },
     "metadata": {},
     "output_type": "display_data"
    }
   ],
   "source": [
    "object HelloActor extends App{\n",
    "\n",
    "// actorインスタンスの作成\n",
    " val system = ActorSystem(\"HelloActors\")\n",
    "\n",
    "// ２つのアクターを用意\n",
    "    \n",
    "val echo1=system.actorOf(Props[EchoActor],name=\"echo1\")\n",
    "val echo2=system.actorOf(Props[EchoActor],name=\"echo2\")\n",
    "\n",
    "//   !演算子でメッセージを送る\n",
    "//     echo1とecho2は同時に処理され、byebyeはecho2の前の処理が終わった後に出力される\n",
    "    echo1 ! \"hello\"\n",
    "    echo2 ! \"hello2\"\n",
    "    echo2 ! \"byebye\"\n",
    "    \n",
    "    Thread.sleep(500)\n",
    "    system.shutdown\n",
    "}"
   ]
  },
  {
   "cell_type": "markdown",
   "metadata": {},
   "source": [
    "上記で一回も外の世界の存在であるEchoActorをインスタンス化していない。\n",
    "つまり一方的にメッセージを送りつけている\n",
    "\n",
    "We never call an actor's methods from outside that actor. The only way to interact with the actor is to send messages to it. We do this using the tell operator, !. There is thus no way to mess with an actor's internals from outside that actor (or at least, Akka makes it difficult to mess with an actor's internals)."
   ]
  },
  {
   "cell_type": "code",
   "execution_count": 55,
   "metadata": {},
   "outputs": [
    {
     "data": {
      "text/plain": [
       "defined \u001b[32mobject \u001b[36mEchoActor2\u001b[0m\n",
       "defined \u001b[32mclass \u001b[36mEchoActor\u001b[0m"
      ]
     },
     "metadata": {},
     "output_type": "display_data"
    }
   ],
   "source": [
    "// インスタンスを受け取る事でメッセージを返る事も可能\n",
    "\n",
    "object EchoActor2{\n",
    "    case object Hello\n",
    "    case class MessageActor(msg:String)\n",
    "}\n",
    "\n",
    "class EchoActor extends Actor with ActorLogging{\n",
    "import EchoActor2._\n",
    "    \n",
    "    def receive={\n",
    "    case HelloActor=>log.info(\"HELLO\")\n",
    "    case MessageActor(s)=>log.info(s)\n",
    "}\n",
    "}"
   ]
  },
  {
   "cell_type": "code",
   "execution_count": 56,
   "metadata": {},
   "outputs": [
    {
     "data": {
      "text/plain": [
       "defined \u001b[32mobject \u001b[36mHelloActor\u001b[0m"
      ]
     },
     "metadata": {},
     "output_type": "display_data"
    }
   ],
   "source": [
    "object HelloActor extends App{\n",
    "    import EchoActor2._\n",
    "\n",
    "// actorインスタンスの作成\n",
    " val system = ActorSystem(\"HelloActors\")\n",
    "\n",
    "// ２つのアクターを用意\n",
    "    \n",
    "val echo1=system.actorOf(Props[EchoActor],name=\"echo1\")\n",
    "val echo2=system.actorOf(Props[EchoActor],name=\"echo2\")\n",
    "\n",
    "//   !演算子でメッセージを送る\n",
    "//     echo1とecho2は同時に処理され、byebyeはecho2の前の処理が終わった後に出力される\n",
    "    echo1 ! Hello\n",
    "    echo2 ! MessageActor(\"byebye\")\n",
    "    \n",
    "    Thread.sleep(500)\n",
    "    system.shutdown\n",
    "}"
   ]
  },
  {
   "cell_type": "markdown",
   "metadata": {},
   "source": [
    "\n",
    "## 記号について"
   ]
  },
  {
   "cell_type": "code",
   "execution_count": 60,
   "metadata": {},
   "outputs": [
    {
     "name": "stdout",
     "output_type": "stream",
     "text": [
      "1\n",
      "2\n",
      "3\n",
      "1\n",
      "2\n",
      "3\n"
     ]
    },
    {
     "data": {
      "text/plain": [
       "defined \u001b[32mfunction \u001b[36ma\u001b[0m\n",
       "\u001b[36mb\u001b[0m: \u001b[32mList\u001b[0m[\u001b[32mInt\u001b[0m] = \u001b[33mList\u001b[0m(\u001b[32m1\u001b[0m, \u001b[32m2\u001b[0m, \u001b[32m3\u001b[0m)"
      ]
     },
     "metadata": {},
     "output_type": "display_data"
    }
   ],
   "source": [
    "// nは可変長の引数\n",
    "def a(n:Int*)=n.foreach(println)\n",
    "a(1,2,3)\n",
    "val b=List(1,2,3)\n",
    "// Listをばらして、aの引数として与える\n",
    "a(b:_*)\n",
    "\n"
   ]
  },
  {
   "cell_type": "code",
   "execution_count": 62,
   "metadata": {},
   "outputs": [
    {
     "data": {
      "text/plain": [
       "\u001b[36mb\u001b[0m: \u001b[32mList\u001b[0m[\u001b[32mInt\u001b[0m] = \u001b[33mList\u001b[0m(\u001b[32m1\u001b[0m, \u001b[32m2\u001b[0m, \u001b[32m3\u001b[0m)\n",
       "\u001b[36mx\u001b[0m: \u001b[32mInt\u001b[0m = \u001b[32m1\u001b[0m\n",
       "\u001b[36mres61_2\u001b[0m: \u001b[32mInt\u001b[0m = \u001b[32m1\u001b[0m\n",
       "\u001b[36my\u001b[0m: \u001b[32mInt\u001b[0m = \u001b[32m1\u001b[0m\n",
       "\u001b[36mys\u001b[0m: \u001b[32mSeq\u001b[0m[\u001b[32mInt\u001b[0m] = \u001b[33mList\u001b[0m(\u001b[32m2\u001b[0m, \u001b[32m3\u001b[0m)\n",
       "\u001b[36mres61_4\u001b[0m: \u001b[32mSeq\u001b[0m[\u001b[32mInt\u001b[0m] = \u001b[33mList\u001b[0m(\u001b[32m2\u001b[0m, \u001b[32m3\u001b[0m)"
      ]
     },
     "metadata": {},
     "output_type": "display_data"
    }
   ],
   "source": [
    "val b=List(1,2,3)\n",
    "val List(x,_*)=b\n",
    "// 先頭を取得する\n",
    "x\n",
    "\n",
    "// 後方を取得する\n",
    "val List(y,ys@_*)=b\n",
    "ys"
   ]
  }
 ],
 "metadata": {
  "kernelspec": {
   "display_name": "Scala 2.11",
   "language": "scala211",
   "name": "scala211"
  },
  "language_info": {
   "codemirror_mode": "text/x-scala",
   "file_extension": ".scala",
   "mimetype": "text/x-scala",
   "name": "scala211",
   "pygments_lexer": "scala",
   "version": "2.11.7"
  }
 },
 "nbformat": 4,
 "nbformat_minor": 2
}

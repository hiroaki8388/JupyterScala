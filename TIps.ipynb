{
 "cells": [
  {
   "cell_type": "code",
   "execution_count": 4,
   "metadata": {},
   "outputs": [
    {
     "data": {
      "text/plain": [
       "\u001b[36mres3\u001b[0m: \u001b[32mOption\u001b[0m[\u001b[32mInt\u001b[0m] = None"
      ]
     },
     "metadata": {},
     "output_type": "display_data"
    }
   ],
   "source": [
    "util.Try(1/0).toOption"
   ]
  },
  {
   "cell_type": "code",
   "execution_count": 7,
   "metadata": {},
   "outputs": [
    {
     "data": {
      "text/plain": [
       "\u001b[36mnums\u001b[0m: \u001b[32mSeq\u001b[0m[\u001b[32mutil\u001b[0m.\u001b[32mTry\u001b[0m[\u001b[32mInt\u001b[0m]] = \u001b[33mList\u001b[0m(\u001b[33mFailure\u001b[0m(java.lang.ArithmeticException: / by zero), \u001b[33mSuccess\u001b[0m(\u001b[32m1\u001b[0m), \u001b[33mSuccess\u001b[0m(\u001b[32m0\u001b[0m))\n",
       "\u001b[36mres6_1\u001b[0m: \u001b[32mSeq\u001b[0m[\u001b[32mInt\u001b[0m] = \u001b[33mList\u001b[0m(\u001b[32m1\u001b[0m, \u001b[32m0\u001b[0m)"
      ]
     },
     "metadata": {},
     "output_type": "display_data"
    }
   ],
   "source": [
    "// cellectで失敗したのをフィルターに掛ける\n",
    "val nums=Seq(0,1,2).map(x=> util.Try(1/x))\n",
    "nums.collect{ case(util.Success(it)) => it }"
   ]
  },
  {
   "cell_type": "code",
   "execution_count": 9,
   "metadata": {},
   "outputs": [
    {
     "data": {
      "text/plain": [
       "\u001b[36ma\u001b[0m: \u001b[32mcollection\u001b[0m.\u001b[32mparallel\u001b[0m.\u001b[32mimmutable\u001b[0m.\u001b[32mParRange\u001b[0m = ParRange(0, 1, 2, 3, 4, 5, 6, 7, 8, 9, 10)\n",
       "\u001b[36mres8_1\u001b[0m: \u001b[32mInt\u001b[0m = \u001b[32m2\u001b[0m"
      ]
     },
     "metadata": {},
     "output_type": "display_data"
    }
   ],
   "source": [
    "val a=(0 to 10).par\n",
    "a.tasksupport.parallelismLevel"
   ]
  }
 ],
 "metadata": {
  "kernelspec": {
   "display_name": "Scala 2.11",
   "language": "scala211",
   "name": "scala211"
  },
  "language_info": {
   "codemirror_mode": "text/x-scala",
   "file_extension": ".scala",
   "mimetype": "text/x-scala",
   "name": "scala211",
   "pygments_lexer": "scala",
   "version": "2.11.7"
  }
 },
 "nbformat": 4,
 "nbformat_minor": 2
}

{
 "cells": [
  {
   "cell_type": "markdown",
   "metadata": {
    "collapsed": true
   },
   "source": [
    "# 大規模開発における機械学習について考える"
   ]
  },
  {
   "cell_type": "markdown",
   "metadata": {
    "collapsed": true
   },
   "source": [
    "# 直近の土日で考えていたこと\n",
    "- 大規模開発における機械学習をやるには?\n",
    "- 機械学習の広告配信に応用できるところ\n",
    "- Scalaのメリットを活かした機械学習とは?"
   ]
  },
  {
   "cell_type": "markdown",
   "metadata": {},
   "source": [
    "# 話す事\n",
    "- 大規模開発をする上で、機械学習において、Scalaがいかに有用か\n",
    "\n",
    "# 話さない事\n",
    "- 機械学習の小難しいアルゴリズムについて"
   ]
  },
  {
   "cell_type": "markdown",
   "metadata": {},
   "source": [
    "# 研究室を飛び出して使うためには?\n",
    "大規模開発においては機械学習の精度よりも、\n",
    "ビジネスロジックを根幹においた設計と、要求水準をみたす処理速度とともに、バグやエラーを出さない持続的な開発が可能な実装が求められる"
   ]
  },
  {
   "cell_type": "markdown",
   "metadata": {
    "collapsed": true
   },
   "source": [
    "## 機械学習と言えばpython\n",
    "\n",
    "### よいところ\n",
    "- ライブラリが豊富\n",
    "- みんなつかってる\n",
    "- 直感的な数値計算が可能\n",
    "- GPUとの相性がよい\n",
    "=> 研究など少人数でのプロジェクトに向いてる\n",
    "\n",
    "### 大変なところ\n",
    "- 動的型付け\n",
    "- 非同期処理がやりづらい\n",
    "- オブジェクト指向の良さを活かしたコードが書き辛い\n",
    "=> 大規模開発には向いてない"
   ]
  },
  {
   "cell_type": "code",
   "execution_count": null,
   "metadata": {
    "collapsed": true
   },
   "outputs": [],
   "source": [
    "大規模開発においては機械学習の精度よりも、\n",
    "ビジネスロジックを根幹においた設計と、要求水準をみたす処理速度とともに、バグやエラーを出さない持続的な開発が可能な実装が求められる"
   ]
  },
  {
   "cell_type": "code",
   "execution_count": null,
   "metadata": {
    "collapsed": true
   },
   "outputs": [],
   "source": [
    "# 機械学習のフェイズ"
   ]
  },
  {
   "cell_type": "code",
   "execution_count": null,
   "metadata": {
    "collapsed": true
   },
   "outputs": [],
   "source": []
  },
  {
   "cell_type": "markdown",
   "metadata": {
    "collapsed": true
   },
   "source": [
    "# なぜScalaなのか?\n",
    "- 型安全 ()\n",
    "- Option型、\n",
    "- 非同期処理 \n",
    "- 並列処理\n",
    "- 関数型言語"
   ]
  },
  {
   "cell_type": "markdown",
   "metadata": {
    "collapsed": true
   },
   "source": [
    "# 数値計算はPythonに分がある?"
   ]
  },
  {
   "cell_type": "markdown",
   "metadata": {
    "collapsed": true
   },
   "source": [
    "# Breeze\n",
    "\n",
    "![brezze](./Breeze.png)\n",
    "さわやか  \n",
    "Python(numpy)のように直感的な数値計算が可能になる  \n",
    "Scala上でPythonライクな記法が可能。裏ではJavaを介してFortranを呼び出してる"
   ]
  },
  {
   "cell_type": "code",
   "execution_count": 19,
   "metadata": {},
   "outputs": [
    {
     "name": "stdout",
     "output_type": "stream",
     "text": [
      "Adding 0 artifact(s)\n",
      "Adding 0 artifact(s)\n",
      "Adding 9 artifact(s)\n"
     ]
    },
    {
     "data": {
      "text/plain": []
     },
     "metadata": {},
     "output_type": "display_data"
    }
   ],
   "source": [
    "classpath.add(\"org.scalanlp\" %% \"breeze\" % \"0.11.2\")\n",
    "classpath.add(\"org.scalanlp\" %% \"breeze-natives\" % \"0.11.2\")\n",
    "\n",
    "classpath.add(\"org.scalanlp\" %% \"breeze-viz\" % \"0.11.2\")"
   ]
  },
  {
   "cell_type": "code",
   "execution_count": 9,
   "metadata": {
    "scrolled": true
   },
   "outputs": [
    {
     "data": {
      "text/plain": [
       "\u001b[36mv\u001b[0m: \u001b[32mDenseVector\u001b[0m[\u001b[32mDouble\u001b[0m] = DenseVector(1.0, 2.0, 3.0, 4.0, 5.0)\n",
       "\u001b[36mres8_1\u001b[0m: \u001b[32mDenseVector\u001b[0m[\u001b[32mDouble\u001b[0m] = DenseVector(2.0, 4.0, 6.0, 8.0, 10.0)\n",
       "\u001b[36mres8_2\u001b[0m: \u001b[32mDenseVector\u001b[0m[\u001b[32mDouble\u001b[0m] = DenseVector(1.0, 2.0, 3.0, 4.0)\n",
       "\u001b[36mres8_3\u001b[0m: \u001b[32mDenseVector\u001b[0m[\u001b[32mDouble\u001b[0m] = DenseVector(2.0, 3.0)\n",
       "\u001b[36mres8_4\u001b[0m: \u001b[32mDenseVector\u001b[0m[\u001b[32mDouble\u001b[0m] = DenseVector(5.0, 4.0, 3.0, 2.0, 1.0)\n",
       "\u001b[36mvEven\u001b[0m: \u001b[32mDenseVector\u001b[0m[\u001b[32mDouble\u001b[0m] = DenseVector(0.0, 0.1, 0.0, 0.30000000000000004, 0.0, 0.5, 0.0, 0.7000000000000001, 0.0, 0.9, 0.0)\n",
       "\u001b[36mres8_6\u001b[0m: \u001b[32mDenseVector\u001b[0m[\u001b[32mDouble\u001b[0m] = DenseVector(0.0, 0.0, 0.0, 0.0, 0.0, 0.0)\n",
       "\u001b[36mres8_7\u001b[0m: \u001b[32mDenseVector\u001b[0m[\u001b[32mDouble\u001b[0m] = DenseVector(0.0, 0.1, 0.0, 0.30000000000000004, 0.0, 0.5, 0.0, 0.7000000000000001, 0.0, 0.9, 0.0)"
      ]
     },
     "metadata": {},
     "output_type": "display_data"
    }
   ],
   "source": [
    "val v=DenseVector[Double](1,2,3,4,5)\n",
    "\n",
    "v:* 2.0 //要素を二乗\n",
    "\n",
    "//  一番目から三番目までにアクセス\n",
    "v(0 to 3)\n",
    "\n",
    "// 一番目から二番目間でアクセス python でいう[0:3]\n",
    "v(1 until 3)\n",
    "\n",
    "// 要素をリバース\n",
    "v(v.length-1 to  0 by -1 )\n",
    "\n",
    "\n",
    "// 0から10までの要素を持つベクトルの偶数の値だけ0にする\n",
    "val vEven=linspace(0,1.0,11)\n",
    "vEven(0 to 10 by 2):=0.0\n",
    "vEven"
   ]
  },
  {
   "cell_type": "code",
   "execution_count": 17,
   "metadata": {
    "scrolled": true
   },
   "outputs": [
    {
     "data": {
      "text/plain": [
       "\u001b[36mres16\u001b[0m: \u001b[32mDenseMatrix\u001b[0m[\u001b[32mInt\u001b[0m] = 0  1  \n",
       "1  2  \n",
       "2  3  "
      ]
     },
     "metadata": {},
     "output_type": "display_data"
    }
   ],
   "source": [
    "//関数型の特性も活かせる: Partital Functionと組み合わせて使う\n",
    "DenseMatrix.tabulate(3, 2){case (i, j) => i+j}"
   ]
  },
  {
   "cell_type": "code",
   "execution_count": null,
   "metadata": {
    "collapsed": true
   },
   "outputs": [],
   "source": [
    "# 機械学習のフェイズ再び"
   ]
  },
  {
   "cell_type": "code",
   "execution_count": null,
   "metadata": {
    "collapsed": true
   },
   "outputs": [],
   "source": [
    "# サンプル: 体重と身長で男女を区分する"
   ]
  },
  {
   "cell_type": "code",
   "execution_count": 22,
   "metadata": {
    "scrolled": true
   },
   "outputs": [
    {
     "data": {
      "text/plain": [
       "\u001b[32mimport \u001b[36mscala.reflect.ClassTag\u001b[0m\n",
       "\u001b[32mimport \u001b[36mio.Source\u001b[0m\n",
       "\u001b[32mimport \u001b[36mbreeze.linalg._\u001b[0m\n",
       "\u001b[32mimport \u001b[36mbreeze.stats._\u001b[0m\n",
       "\u001b[32mimport \u001b[36mbreeze.optimize._\u001b[0m\n",
       "defined \u001b[32mobject \u001b[36mHWData\u001b[0m\n",
       "defined \u001b[32mclass \u001b[36mHWData\u001b[0m"
      ]
     },
     "metadata": {},
     "output_type": "display_data"
    }
   ],
   "source": [
    "\n",
    "\n",
    "import scala.reflect.ClassTag\n",
    "import io.Source\n",
    "\n",
    "import breeze.linalg._\n",
    "import breeze.stats._\n",
    "import breeze.optimize._\n",
    "\n",
    "object HWData {\n",
    "  \n",
    "  val DataDirectory = \"./\"\n",
    "  val fileName = \"rep_height_weights.csv\"\n",
    "    \n",
    "  def load:HWData =\n",
    "  {\n",
    "    val file = Source.fromFile(DataDirectory + fileName)\n",
    "    val lines = file.getLines.toVector\n",
    "    val splitLines = lines.map { _.split(',') }\n",
    "\n",
    "    def fromList[T:ClassTag](index:Int, converter:(String => T)):DenseVector[T] =\n",
    "      DenseVector.tabulate(lines.size) { irow => converter(splitLines(irow)(index)) }\n",
    "\n",
    "    val genders = fromList(1, elem => elem.replace(\"\\\"\", \"\").head)\n",
    "    val weights = fromList(2, elem => elem.toDouble)\n",
    "    val heights = fromList(3, elem => elem.toDouble)\n",
    "    val reportedWeights = fromList(4, elem => elem.toDouble)\n",
    "    val reportedHeights = fromList(5, elem => elem.toDouble)\n",
    "\n",
    "    new HWData(weights, heights, reportedWeights, reportedHeights, genders)\n",
    "  }\n",
    "\n",
    "}\n",
    "\n",
    "class HWData(\n",
    "//     このようにそれぞれのデータに対応するベクトルをフィールドに持つように設計することで、Rなどと同じ記法でそれぞれのデータにアクセスできる\n",
    "  val weights:DenseVector[Double],\n",
    "  val heights:DenseVector[Double],\n",
    "  val reportedWeights:DenseVector[Double],\n",
    "  val reportedHeights:DenseVector[Double],\n",
    "  val genders:DenseVector[Char]\n",
    ") {\n",
    "\n",
    "  val npoints = heights.length\n",
    "  require(weights.length == npoints)\n",
    "  require(reportedWeights.length == npoints)\n",
    "  require(genders.length == npoints)\n",
    "  require(reportedHeights.length == npoints)\n",
    "\n",
    "  lazy val rescaledHeights:DenseVector[Double] =\n",
    "    (heights - mean(heights)) / stddev(heights)\n",
    "\n",
    "  lazy val rescaledWeights:DenseVector[Double] =\n",
    "    (weights - mean(weights)) / stddev(weights)\n",
    "\n",
    "  lazy val featureMatrix:DenseMatrix[Double] =\n",
    "    DenseMatrix.horzcat( \n",
    "      DenseMatrix.ones[Double](npoints, 1), \n",
    "      rescaledHeights.toDenseMatrix.t,\n",
    "      rescaledWeights.toDenseMatrix.t\n",
    "    )\n",
    "\n",
    "  lazy val target:DenseVector[Double] =\n",
    "    genders.values.map { gender => if(gender == 'M') 1.0 else 0.0 }\n",
    "\n",
    "  override def toString:String = s\"HWData [ $npoints rows ]\"\n",
    "\n",
    "}"
   ]
  },
  {
   "cell_type": "markdown",
   "metadata": {},
   "source": [
    "可視化する(brreze-viz)\n",
    "\n",
    "![データプロット](./data_plot.png)\n",
    "\n",
    "身長と体重で男女が区別できそう"
   ]
  },
  {
   "cell_type": "code",
   "execution_count": 3,
   "metadata": {},
   "outputs": [
    {
     "data": {
      "text/plain": [
       "\u001b[32mimport \u001b[36mbreeze.linalg._\u001b[0m\n",
       "\u001b[36mv\u001b[0m: \u001b[32mbreeze\u001b[0m.\u001b[32mlinalg\u001b[0m.\u001b[32mDenseVector\u001b[0m[\u001b[32mDouble\u001b[0m] = DenseVector(1.0, 2.0, 3.0, 4.0, 5.0)\n",
       "\u001b[36mres2_2\u001b[0m: \u001b[32mbreeze\u001b[0m.\u001b[32mlinalg\u001b[0m.\u001b[32mDenseVector\u001b[0m[\u001b[32mDouble\u001b[0m] = DenseVector(1.0, 2.0, 3.0, 4.0)\n",
       "\u001b[36mres2_3\u001b[0m: \u001b[32mbreeze\u001b[0m.\u001b[32mlinalg\u001b[0m.\u001b[32mDenseVector\u001b[0m[\u001b[32mDouble\u001b[0m] = DenseVector(2.0, 3.0)\n",
       "\u001b[36mres2_4\u001b[0m: \u001b[32mbreeze\u001b[0m.\u001b[32mlinalg\u001b[0m.\u001b[32mDenseVector\u001b[0m[\u001b[32mDouble\u001b[0m] = DenseVector(5.0, 4.0, 3.0, 2.0, 1.0)"
      ]
     },
     "metadata": {},
     "output_type": "display_data"
    }
   ],
   "source": [
    "# 機械学習のフェイズ再び"
   ]
  },
  {
   "cell_type": "code",
   "execution_count": null,
   "metadata": {
    "collapsed": true
   },
   "outputs": [],
   "source": [
    "数値計算はPythonに分がある?"
   ]
  },
  {
   "cell_type": "markdown",
   "metadata": {
    "collapsed": true
   },
   "source": [
    "# Breeze\n",
    "\n",
    "![brezze](./Breeze.png)\n",
    "さわやか\n",
    "Python(numpy)のように直感的な数値計算が可能になる  \n",
    "Scala上でPythonライクな記法が可能。裏ではJavaを介してFortranを呼び出してる"
   ]
  },
  {
   "cell_type": "code",
   "execution_count": 2,
   "metadata": {},
   "outputs": [
    {
     "name": "stdout",
     "output_type": "stream",
     "text": [
      "Adding 0 artifact(s)\n",
      "Adding 17 artifact(s)\n"
     ]
    },
    {
     "data": {
      "text/plain": []
     },
     "metadata": {},
     "output_type": "display_data"
    }
   ],
   "source": [
    "classpath.add(\"org.scalanlp\" %% \"breeze\" % \"0.11.2\")\n",
    "classpath.add(\"org.scalanlp\" %% \"breeze-natives\" % \"0.11.2\")"
   ]
  },
  {
   "cell_type": "code",
   "execution_count": 6,
   "metadata": {
    "scrolled": true
   },
   "outputs": [
    {
     "data": {
      "text/plain": [
       "\u001b[36mv\u001b[0m: \u001b[32mDenseVector\u001b[0m[\u001b[32mDouble\u001b[0m] = DenseVector(1.0, 2.0, 3.0, 4.0, 5.0)\n",
       "\u001b[36mres5_1\u001b[0m: \u001b[32mDenseVector\u001b[0m[\u001b[32mDouble\u001b[0m] = DenseVector(1.0, 2.0, 3.0, 4.0)\n",
       "\u001b[36mres5_2\u001b[0m: \u001b[32mDenseVector\u001b[0m[\u001b[32mDouble\u001b[0m] = DenseVector(2.0, 3.0)\n",
       "\u001b[36mres5_3\u001b[0m: \u001b[32mDenseVector\u001b[0m[\u001b[32mDouble\u001b[0m] = DenseVector(5.0, 4.0, 3.0, 2.0, 1.0)\n",
       "\u001b[36mvEven\u001b[0m: \u001b[32mDenseVector\u001b[0m[\u001b[32mDouble\u001b[0m] = DenseVector(0.0, 0.1, 0.0, 0.30000000000000004, 0.0, 0.5, 0.0, 0.7000000000000001, 0.0, 0.9, 0.0)\n",
       "\u001b[36mres5_5\u001b[0m: \u001b[32mDenseVector\u001b[0m[\u001b[32mDouble\u001b[0m] = DenseVector(0.0, 0.0, 0.0, 0.0, 0.0, 0.0)\n",
       "\u001b[36mres5_6\u001b[0m: \u001b[32mDenseVector\u001b[0m[\u001b[32mDouble\u001b[0m] = DenseVector(0.0, 0.1, 0.0, 0.30000000000000004, 0.0, 0.5, 0.0, 0.7000000000000001, 0.0, 0.9, 0.0)"
      ]
     },
     "metadata": {},
     "output_type": "display_data"
    }
   ],
   "source": [
    "val v=DenseVector[Double](1,2,3,4,5)\n",
    "\n",
    "//  一番目から三番目までにアクセス\n",
    "v(0 to 3)\n",
    "\n",
    "// 一番目から二番目間でアクセス python でいう[0:3]\n",
    "v(1 until 3)\n",
    "\n",
    "// 要素をリバース\n",
    "v(v.length-1 to  0 by -1 )\n",
    "\n",
    "\n",
    "// 0から10までの要素を持つベクトルの偶数の値だけ0にする\n",
    "val vEven=linspace(0,1.0,11)\n",
    "vEven(0 to 10 by 2):=0.0\n",
    "vEven"
   ]
  },
  {
   "cell_type": "code",
   "execution_count": null,
   "metadata": {
    "collapsed": true
   },
   "outputs": [],
   "source": [
    "# 機械学習のフェイズ再び"
   ]
  },
  {
   "cell_type": "code",
   "execution_count": null,
   "metadata": {
    "collapsed": true
   },
   "outputs": [],
   "source": [
    "# サンプル: 体重と身長で男女を区分する"
   ]
  },
  {
   "cell_type": "code",
   "execution_count": 7,
   "metadata": {},
   "outputs": [
    {
     "data": {
      "text/plain": [
       "\u001b[32mimport \u001b[36mscala.reflect.ClassTag\u001b[0m\n",
       "\u001b[32mimport \u001b[36mio.Source\u001b[0m\n",
       "\u001b[32mimport \u001b[36mbreeze.linalg._\u001b[0m\n",
       "\u001b[32mimport \u001b[36mbreeze.stats._\u001b[0m\n",
       "\u001b[32mimport \u001b[36mbreeze.optimize._\u001b[0m\n",
       "defined \u001b[32mobject \u001b[36mHWData\u001b[0m\n",
       "defined \u001b[32mclass \u001b[36mHWData\u001b[0m"
      ]
     },
     "metadata": {},
     "output_type": "display_data"
    }
   ],
   "source": [
    "\n",
    "\n",
    "import scala.reflect.ClassTag\n",
    "import io.Source\n",
    "\n",
    "import breeze.linalg._\n",
    "import breeze.stats._\n",
    "import breeze.optimize._\n",
    "\n",
    "object HWData {\n",
    "  \n",
    "  val DataDirectory = \"./s4ds/chap02/data/\"\n",
    "  val fileName = \"rep_height_weights.csv\"\n",
    "    \n",
    "  def load:HWData =\n",
    "  {\n",
    "    val file = Source.fromFile(DataDirectory + fileName)\n",
    "    val lines = file.getLines.toVector\n",
    "    val splitLines = lines.map { _.split(',') }\n",
    "\n",
    "    def fromList[T:ClassTag](index:Int, converter:(String => T)):DenseVector[T] =\n",
    "      DenseVector.tabulate(lines.size) { irow => converter(splitLines(irow)(index)) }\n",
    "\n",
    "    val genders = fromList(1, elem => elem.replace(\"\\\"\", \"\").head)\n",
    "    val weights = fromList(2, elem => elem.toDouble)\n",
    "    val heights = fromList(3, elem => elem.toDouble)\n",
    "    val reportedWeights = fromList(4, elem => elem.toDouble)\n",
    "    val reportedHeights = fromList(5, elem => elem.toDouble)\n",
    "\n",
    "    new HWData(weights, heights, reportedWeights, reportedHeights, genders)\n",
    "  }\n",
    "\n",
    "}\n",
    "\n",
    "class HWData(\n",
    "//     このようにそれぞれのデータに対応するベクトルをフィールドに持つように設計することで、Rなどと同じ記法でそれぞれのデータにアクセスできる\n",
    "  val weights:DenseVector[Double],\n",
    "  val heights:DenseVector[Double],\n",
    "  val reportedWeights:DenseVector[Double],\n",
    "  val reportedHeights:DenseVector[Double],\n",
    "  val genders:DenseVector[Char]\n",
    ") {\n",
    "\n",
    "  val npoints = heights.length\n",
    "  require(weights.length == npoints)\n",
    "  require(reportedWeights.length == npoints)\n",
    "  require(genders.length == npoints)\n",
    "  require(reportedHeights.length == npoints)\n",
    "\n",
    "  lazy val rescaledHeights:DenseVector[Double] =\n",
    "    (heights - mean(heights)) / stddev(heights)\n",
    "\n",
    "  lazy val rescaledWeights:DenseVector[Double] =\n",
    "    (weights - mean(weights)) / stddev(weights)\n",
    "\n",
    "  lazy val featureMatrix:DenseMatrix[Double] =\n",
    "    DenseMatrix.horzcat( \n",
    "      DenseMatrix.ones[Double](npoints, 1), \n",
    "      rescaledHeights.toDenseMatrix.t,\n",
    "      rescaledWeights.toDenseMatrix.t\n",
    "    )\n",
    "\n",
    "  lazy val target:DenseVector[Double] =\n",
    "    genders.values.map { gender => if(gender == 'M') 1.0 else 0.0 }\n",
    "\n",
    "  override def toString:String = s\"HWData [ $npoints rows ]\"\n",
    "\n",
    "}"
   ]
  },
  {
   "cell_type": "code",
   "execution_count": null,
   "metadata": {
    "collapsed": true
   },
   "outputs": [],
   "source": []
  },
  {
   "cell_type": "code",
   "execution_count": null,
   "metadata": {
    "collapsed": true
   },
   "outputs": [],
   "source": []
  },
  {
   "cell_type": "code",
   "execution_count": null,
   "metadata": {
    "collapsed": true
   },
   "outputs": [],
   "source": []
  },
  {
   "cell_type": "code",
   "execution_count": null,
   "metadata": {
    "collapsed": true
   },
   "outputs": [],
   "source": []
  },
  {
   "cell_type": "code",
   "execution_count": null,
   "metadata": {
    "collapsed": true
   },
   "outputs": [],
   "source": []
  },
  {
   "cell_type": "code",
   "execution_count": 24,
   "metadata": {},
   "outputs": [
    {
     "data": {
      "text/plain": [
       "\u001b[32mimport \u001b[36mbreeze.plot._\u001b[0m\n",
       "\u001b[32mimport \u001b[36mbreeze.linalg._\u001b[0m\n",
       "defined \u001b[32mclass \u001b[36mScatterplotMatrix\u001b[0m"
      ]
     },
     "metadata": {},
     "output_type": "display_data"
    }
   ],
   "source": [
    "import breeze.plot._\n",
    "import breeze.linalg._\n",
    "\n",
    "class ScatterplotMatrix(val figure:Figure) {\n",
    "  \n",
    "  def plotFeatures(featureMatrix:DenseMatrix[Double], labels:List[String]) {\n",
    "    val ncols = featureMatrix.cols\n",
    "    require(ncols == labels.size, \n",
    "      \"Number of columns in feature matrix must match length of labels\"\n",
    "    )\n",
    "    figure.clear\n",
    "    figure.subplot(ncols, ncols, 0)\n",
    "    (0 until ncols) foreach { irow => \n",
    "      (0 until irow) foreach { icol =>\n",
    "        val p = selectPlot(ncols)(irow, icol)\n",
    "        plotScatter(p)(\n",
    "          featureMatrix(::, irow),\n",
    "          featureMatrix(::, icol),\n",
    "          labels(irow),\n",
    "          labels(icol)\n",
    "        )\n",
    "      }\n",
    "    }\n",
    "  }\n",
    "\n",
    "  private def plotScatter(plt:Plot)(\n",
    "    xdata:DenseVector[Double], \n",
    "    ydata:DenseVector[Double], \n",
    "    xlabel:String, \n",
    "    ylabel:String) = {\n",
    "      plt += plot(xdata, ydata, '.')\n",
    "      plt.xlabel = xlabel\n",
    "      plt.ylabel = ylabel\n",
    "  }\n",
    "    \n",
    "\n",
    "  private def selectPlot(ncols:Int)(irow:Int, icol:Int) = {\n",
    "    figure.subplot(ncols, ncols, (irow)*ncols + icol)\n",
    "  }\n",
    "\n",
    "}"
   ]
  },
  {
   "cell_type": "code",
   "execution_count": 23,
   "metadata": {},
   "outputs": [
    {
     "data": {
      "text/plain": [
       "\u001b[36mdata\u001b[0m: \u001b[32mHWData\u001b[0m = HWData [ 181 rows ]\n",
       "\u001b[36mfig\u001b[0m: \u001b[32mFigure\u001b[0m = breeze.plot.Figure@7d29f239\n",
       "\u001b[36mm\u001b[0m: \u001b[32mScatterplotMatrix\u001b[0m = cmd19$$user$ScatterplotMatrix@2ecf5a79\n",
       "\u001b[36mfeatureMatrix\u001b[0m: \u001b[32mDenseMatrix\u001b[0m[\u001b[32mDouble\u001b[0m] = 182.0  77.0   77.0   \n",
       "161.0  58.0   51.0   \n",
       "161.0  53.0   54.0   \n",
       "177.0  68.0   70.0   \n",
       "157.0  59.0   59.0   \n",
       "170.0  76.0   76.0   \n",
       "167.0  76.0   77.0   \n",
       "186.0  69.0   73.0   \n",
       "178.0  71.0   71.0   \n",
       "171.0  65.0   64.0   \n",
       "175.0  70.0   75.0   \n",
       "166.0  57.0   56.0   \n",
       "161.0  51.0   52.0   \n",
       "168.0  64.0   64.0   \n",
       "163.0  52.0   57.0   \n",
       "166.0  65.0   66.0   \n",
       "187.0  92.0   101.0  \n",
       "168.0  62.0   62.0   \n",
       "197.0  76.0   75.0   \n",
       "175.0  61.0   61.0   \n",
       "\u001b[33m...\u001b[0m"
      ]
     },
     "metadata": {},
     "output_type": "display_data"
    }
   ],
   "source": [
    " \n",
    "\n",
    "val data = HWData.load\n",
    "  val fig = Figure(\"Scatterplot matrix demo\")\n",
    "  val m = new ScatterplotMatrix(fig)\n",
    "\n",
    "  // Make a matrix with three columns: the height, weight and\n",
    "  // reported weight data.\n",
    "  val featureMatrix = DenseMatrix.horzcat(\n",
    "    data.heights.toDenseMatrix.t,\n",
    "    data.weights.toDenseMatrix.t,\n",
    "    data.reportedWeights.toDenseMatrix.t\n",
    "  )\n",
    "  m.plotFeatures(featureMatrix, List(\"height\", \"weight\", \"reportedWeights\"))\n",
    "\n",
    "  fig.saveas(\"scatterplot_demo.png\")"
   ]
  },
  {
   "cell_type": "code",
   "execution_count": null,
   "metadata": {
    "collapsed": true
   },
   "outputs": [],
   "source": []
  },
  {
   "cell_type": "code",
   "execution_count": null,
   "metadata": {
    "collapsed": true
   },
   "outputs": [],
   "source": []
  },
  {
   "cell_type": "code",
   "execution_count": null,
   "metadata": {
    "collapsed": true
   },
   "outputs": [],
   "source": []
  },
  {
   "cell_type": "code",
   "execution_count": null,
   "metadata": {
    "collapsed": true
   },
   "outputs": [],
   "source": []
  },
  {
   "cell_type": "code",
   "execution_count": null,
   "metadata": {
    "collapsed": true
   },
   "outputs": [],
   "source": [
    "# 直近の土日で考えていたこと\n",
    "- 大規模開発における機械学習をやるには?=>\n",
    "- 機械学習の広告配信に応用できるところは?=>\n",
    "- Scalaのメリットを活かした機械学習とは?=>"
   ]
  }
 ],
 "metadata": {
  "kernelspec": {
   "display_name": "Scala 2.11",
   "language": "scala211",
   "name": "scala211"
  },
  "language_info": {
   "codemirror_mode": "text/x-scala",
   "file_extension": ".scala",
   "mimetype": "text/x-scala",
   "name": "scala211",
   "pygments_lexer": "scala",
   "version": "2.11.7"
  }
 },
 "nbformat": 4,
 "nbformat_minor": 2
}

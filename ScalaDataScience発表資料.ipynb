{
 "cells": [
  {
   "cell_type": "code",
   "execution_count": null,
   "metadata": {
    "collapsed": true
   },
   "outputs": [],
   "source": [
    "# 大規模開発における機械学習について考える"
   ]
  },
  {
   "cell_type": "code",
   "execution_count": null,
   "metadata": {
    "collapsed": true
   },
   "outputs": [],
   "source": [
    "# 直近の土日で考えていたこと\n",
    "- 大規模開発における機械学習をやるには?\n",
    "- 機械学習の広告配信に応用できるところ\n",
    "- Scalaのメリットを活かした機械学習とは?"
   ]
  },
  {
   "cell_type": "code",
   "execution_count": null,
   "metadata": {
    "collapsed": true
   },
   "outputs": [],
   "source": [
    "## 機械学習と言えばpython\n",
    "\n",
    "### よいところ\n",
    "- ライブラリが豊富\n",
    "- みんなつかってる\n",
    "- 直感的な数値計算が可能\n",
    "- GPUとの相性がよい\n",
    "=> 研究など少人数でのプロジェクトに向いてる\n",
    "\n",
    "### 大変なところ\n",
    "- 動的型付け\n",
    "- 非同期処理がやりづらい\n",
    "- オブジェクト指向の良さを活かしたコードが書き辛い\n",
    "=> 大規模開発には向いてない"
   ]
  },
  {
   "cell_type": "code",
   "execution_count": null,
   "metadata": {
    "collapsed": true
   },
   "outputs": [],
   "source": [
    "大規模開発においては機械学習の精度よりも、\n",
    "ビジネスロジックを根幹においた設計と、要求水準をみたす処理速度とともに、バグやエラーを出さない持続的な開発が可能な実装が求められる"
   ]
  },
  {
   "cell_type": "code",
   "execution_count": null,
   "metadata": {
    "collapsed": true
   },
   "outputs": [],
   "source": [
    "# 機械学習の定義"
   ]
  },
  {
   "cell_type": "code",
   "execution_count": null,
   "metadata": {
    "collapsed": true
   },
   "outputs": [],
   "source": [
    "# 機械学習のフェイズ"
   ]
  },
  {
   "cell_type": "code",
   "execution_count": null,
   "metadata": {
    "collapsed": true
   },
   "outputs": [],
   "source": []
  },
  {
   "cell_type": "code",
   "execution_count": null,
   "metadata": {
    "collapsed": true
   },
   "outputs": [],
   "source": [
    "# なぜScalaなのか?\n",
    "- 型安全 ()\n",
    "- Option型、\n",
    "- 非同期処理 \n",
    "- 並列処理\n",
    "- 関数型言語"
   ]
  },
  {
   "cell_type": "code",
   "execution_count": 3,
   "metadata": {},
   "outputs": [
    {
     "data": {
      "text/plain": [
       "\u001b[32mimport \u001b[36mbreeze.linalg._\u001b[0m\n",
       "\u001b[36mv\u001b[0m: \u001b[32mbreeze\u001b[0m.\u001b[32mlinalg\u001b[0m.\u001b[32mDenseVector\u001b[0m[\u001b[32mDouble\u001b[0m] = DenseVector(1.0, 2.0, 3.0, 4.0, 5.0)\n",
       "\u001b[36mres2_2\u001b[0m: \u001b[32mbreeze\u001b[0m.\u001b[32mlinalg\u001b[0m.\u001b[32mDenseVector\u001b[0m[\u001b[32mDouble\u001b[0m] = DenseVector(1.0, 2.0, 3.0, 4.0)\n",
       "\u001b[36mres2_3\u001b[0m: \u001b[32mbreeze\u001b[0m.\u001b[32mlinalg\u001b[0m.\u001b[32mDenseVector\u001b[0m[\u001b[32mDouble\u001b[0m] = DenseVector(2.0, 3.0)\n",
       "\u001b[36mres2_4\u001b[0m: \u001b[32mbreeze\u001b[0m.\u001b[32mlinalg\u001b[0m.\u001b[32mDenseVector\u001b[0m[\u001b[32mDouble\u001b[0m] = DenseVector(5.0, 4.0, 3.0, 2.0, 1.0)"
      ]
     },
     "metadata": {},
     "output_type": "display_data"
    }
   ],
   "source": [
    "# 機械学習のフェイズ再び"
   ]
  },
  {
   "cell_type": "code",
   "execution_count": null,
   "metadata": {
    "collapsed": true
   },
   "outputs": [],
   "source": [
    "数値計算はPythonに分がある?"
   ]
  },
  {
   "cell_type": "markdown",
   "metadata": {
    "collapsed": true
   },
   "source": [
    "# Breeze\n",
    "\n",
    "![brezze](./Breeze.png)\n",
    "さわやか\n",
    "Python(numpy)のように直感的な数値計算が可能になる  \n",
    "Scala上でPythonライクな記法が可能。裏ではJavaを介してFortranを呼び出してる"
   ]
  },
  {
   "cell_type": "code",
   "execution_count": 2,
   "metadata": {},
   "outputs": [
    {
     "name": "stdout",
     "output_type": "stream",
     "text": [
      "Adding 0 artifact(s)\n",
      "Adding 17 artifact(s)\n"
     ]
    },
    {
     "data": {
      "text/plain": []
     },
     "metadata": {},
     "output_type": "display_data"
    }
   ],
   "source": [
    "classpath.add(\"org.scalanlp\" %% \"breeze\" % \"0.11.2\")\n",
    "classpath.add(\"org.scalanlp\" %% \"breeze-natives\" % \"0.11.2\")"
   ]
  },
  {
   "cell_type": "code",
   "execution_count": 6,
   "metadata": {
    "scrolled": true
   },
   "outputs": [
    {
     "data": {
      "text/plain": [
       "\u001b[36mv\u001b[0m: \u001b[32mDenseVector\u001b[0m[\u001b[32mDouble\u001b[0m] = DenseVector(1.0, 2.0, 3.0, 4.0, 5.0)\n",
       "\u001b[36mres5_1\u001b[0m: \u001b[32mDenseVector\u001b[0m[\u001b[32mDouble\u001b[0m] = DenseVector(1.0, 2.0, 3.0, 4.0)\n",
       "\u001b[36mres5_2\u001b[0m: \u001b[32mDenseVector\u001b[0m[\u001b[32mDouble\u001b[0m] = DenseVector(2.0, 3.0)\n",
       "\u001b[36mres5_3\u001b[0m: \u001b[32mDenseVector\u001b[0m[\u001b[32mDouble\u001b[0m] = DenseVector(5.0, 4.0, 3.0, 2.0, 1.0)\n",
       "\u001b[36mvEven\u001b[0m: \u001b[32mDenseVector\u001b[0m[\u001b[32mDouble\u001b[0m] = DenseVector(0.0, 0.1, 0.0, 0.30000000000000004, 0.0, 0.5, 0.0, 0.7000000000000001, 0.0, 0.9, 0.0)\n",
       "\u001b[36mres5_5\u001b[0m: \u001b[32mDenseVector\u001b[0m[\u001b[32mDouble\u001b[0m] = DenseVector(0.0, 0.0, 0.0, 0.0, 0.0, 0.0)\n",
       "\u001b[36mres5_6\u001b[0m: \u001b[32mDenseVector\u001b[0m[\u001b[32mDouble\u001b[0m] = DenseVector(0.0, 0.1, 0.0, 0.30000000000000004, 0.0, 0.5, 0.0, 0.7000000000000001, 0.0, 0.9, 0.0)"
      ]
     },
     "metadata": {},
     "output_type": "display_data"
    }
   ],
   "source": [
    "val v=DenseVector[Double](1,2,3,4,5)\n",
    "\n",
    "//  一番目から三番目までにアクセス\n",
    "v(0 to 3)\n",
    "\n",
    "// 一番目から二番目間でアクセス python でいう[0:3]\n",
    "v(1 until 3)\n",
    "\n",
    "// 要素をリバース\n",
    "v(v.length-1 to  0 by -1 )\n",
    "\n",
    "\n",
    "// 0から10までの要素を持つベクトルの偶数の値だけ0にする\n",
    "val vEven=linspace(0,1.0,11)\n",
    "vEven(0 to 10 by 2):=0.0\n",
    "vEven"
   ]
  },
  {
   "cell_type": "code",
   "execution_count": null,
   "metadata": {
    "collapsed": true
   },
   "outputs": [],
   "source": [
    "# 機械学習のフェイズ再び"
   ]
  },
  {
   "cell_type": "code",
   "execution_count": null,
   "metadata": {
    "collapsed": true
   },
   "outputs": [],
   "source": [
    "# サンプル: 体重と身長で男女を区分する"
   ]
  },
  {
   "cell_type": "code",
   "execution_count": 7,
   "metadata": {},
   "outputs": [
    {
     "data": {
      "text/plain": [
       "\u001b[32mimport \u001b[36mscala.reflect.ClassTag\u001b[0m\n",
       "\u001b[32mimport \u001b[36mio.Source\u001b[0m\n",
       "\u001b[32mimport \u001b[36mbreeze.linalg._\u001b[0m\n",
       "\u001b[32mimport \u001b[36mbreeze.stats._\u001b[0m\n",
       "\u001b[32mimport \u001b[36mbreeze.optimize._\u001b[0m\n",
       "defined \u001b[32mobject \u001b[36mHWData\u001b[0m\n",
       "defined \u001b[32mclass \u001b[36mHWData\u001b[0m"
      ]
     },
     "metadata": {},
     "output_type": "display_data"
    }
   ],
   "source": [
    "\n",
    "\n",
    "import scala.reflect.ClassTag\n",
    "import io.Source\n",
    "\n",
    "import breeze.linalg._\n",
    "import breeze.stats._\n",
    "import breeze.optimize._\n",
    "\n",
    "object HWData {\n",
    "  \n",
    "  val DataDirectory = \"./s4ds/chap02/data/\"\n",
    "  val fileName = \"rep_height_weights.csv\"\n",
    "    \n",
    "  def load:HWData =\n",
    "  {\n",
    "    val file = Source.fromFile(DataDirectory + fileName)\n",
    "    val lines = file.getLines.toVector\n",
    "    val splitLines = lines.map { _.split(',') }\n",
    "\n",
    "    def fromList[T:ClassTag](index:Int, converter:(String => T)):DenseVector[T] =\n",
    "      DenseVector.tabulate(lines.size) { irow => converter(splitLines(irow)(index)) }\n",
    "\n",
    "    val genders = fromList(1, elem => elem.replace(\"\\\"\", \"\").head)\n",
    "    val weights = fromList(2, elem => elem.toDouble)\n",
    "    val heights = fromList(3, elem => elem.toDouble)\n",
    "    val reportedWeights = fromList(4, elem => elem.toDouble)\n",
    "    val reportedHeights = fromList(5, elem => elem.toDouble)\n",
    "\n",
    "    new HWData(weights, heights, reportedWeights, reportedHeights, genders)\n",
    "  }\n",
    "\n",
    "}\n",
    "\n",
    "class HWData(\n",
    "//     このようにそれぞれのデータに対応するベクトルをフィールドに持つように設計することで、Rなどと同じ記法でそれぞれのデータにアクセスできる\n",
    "  val weights:DenseVector[Double],\n",
    "  val heights:DenseVector[Double],\n",
    "  val reportedWeights:DenseVector[Double],\n",
    "  val reportedHeights:DenseVector[Double],\n",
    "  val genders:DenseVector[Char]\n",
    ") {\n",
    "\n",
    "  val npoints = heights.length\n",
    "  require(weights.length == npoints)\n",
    "  require(reportedWeights.length == npoints)\n",
    "  require(genders.length == npoints)\n",
    "  require(reportedHeights.length == npoints)\n",
    "\n",
    "  lazy val rescaledHeights:DenseVector[Double] =\n",
    "    (heights - mean(heights)) / stddev(heights)\n",
    "\n",
    "  lazy val rescaledWeights:DenseVector[Double] =\n",
    "    (weights - mean(weights)) / stddev(weights)\n",
    "\n",
    "  lazy val featureMatrix:DenseMatrix[Double] =\n",
    "    DenseMatrix.horzcat( \n",
    "      DenseMatrix.ones[Double](npoints, 1), \n",
    "      rescaledHeights.toDenseMatrix.t,\n",
    "      rescaledWeights.toDenseMatrix.t\n",
    "    )\n",
    "\n",
    "  lazy val target:DenseVector[Double] =\n",
    "    genders.values.map { gender => if(gender == 'M') 1.0 else 0.0 }\n",
    "\n",
    "  override def toString:String = s\"HWData [ $npoints rows ]\"\n",
    "\n",
    "}"
   ]
  },
  {
   "cell_type": "code",
   "execution_count": null,
   "metadata": {
    "collapsed": true
   },
   "outputs": [],
   "source": []
  },
  {
   "cell_type": "code",
   "execution_count": null,
   "metadata": {
    "collapsed": true
   },
   "outputs": [],
   "source": []
  },
  {
   "cell_type": "code",
   "execution_count": null,
   "metadata": {
    "collapsed": true
   },
   "outputs": [],
   "source": []
  },
  {
   "cell_type": "code",
   "execution_count": null,
   "metadata": {
    "collapsed": true
   },
   "outputs": [],
   "source": []
  },
  {
   "cell_type": "code",
   "execution_count": null,
   "metadata": {
    "collapsed": true
   },
   "outputs": [],
   "source": []
  },
  {
   "cell_type": "code",
   "execution_count": null,
   "metadata": {
    "collapsed": true
   },
   "outputs": [],
   "source": []
  },
  {
   "cell_type": "code",
   "execution_count": null,
   "metadata": {
    "collapsed": true
   },
   "outputs": [],
   "source": [
    "# 直近の土日で考えていたこと\n",
    "- 大規模開発における機械学習をやるには?=>\n",
    "- 機械学習の広告配信に応用できるところは?=>\n",
    "- Scalaのメリットを活かした機械学習とは?=>"
   ]
  }
 ],
 "metadata": {
  "kernelspec": {
   "display_name": "Scala 2.11",
   "language": "scala211",
   "name": "scala211"
  },
  "language_info": {
   "codemirror_mode": "text/x-scala",
   "file_extension": ".scala",
   "mimetype": "text/x-scala",
   "name": "scala211",
   "pygments_lexer": "scala",
   "version": "2.11.7"
  }
 },
 "nbformat": 4,
 "nbformat_minor": 2
}

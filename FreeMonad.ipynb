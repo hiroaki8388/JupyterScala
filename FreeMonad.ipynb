{
 "cells": [
  {
   "cell_type": "markdown",
   "metadata": {},
   "source": [
    "# FreeMonadについて\n",
    "今まで、処理のフロー（処理の流れ）と、そのフローにロジックを注入するやり方(DI)はMinimalCakeパターンしか知らなかったので、[こちらの記事](https://fringe81.one-team.io/topics/8057) もMinimalCakeパターンありきで書いてしまいましたが、豊島さんから「FreeMonadでもいいじゃん」と教えてもらいました。が、全く知らない概念だったので、やべえと思いその時は苦笑よりの半笑いをしてたのですが、後々調べてみると面白そうなので、自分の勉強のためにまとめます。"
   ]
  },
  {
   "cell_type": "markdown",
   "metadata": {},
   "source": [
    "## この記事の目標\n",
    "- FreeMonadのメリットと仕組みがざっくりわかること\n",
    "### 対象読者\n",
    "- Functorなどの概念はなんとなく知ってるScalaユーザー(カラーコップ本ざっと読んだぐらいの人)\n",
    "### 書かないこと\n",
    "- Scalazを使った実装方法（というか教えて欲しい）"
   ]
  },
  {
   "cell_type": "markdown",
   "metadata": {},
   "source": [
    "まず、Functor traitを定義"
   ]
  },
  {
   "cell_type": "code",
   "execution_count": 15,
   "metadata": {},
   "outputs": [
    {
     "data": {
      "text/plain": [
       "defined \u001b[32mtrait \u001b[36mFunctor\u001b[0m"
      ]
     },
     "metadata": {},
     "output_type": "display_data"
    }
   ],
   "source": [
    "trait Functor[F[_]] {\n",
    "  def map[A, B](m: F[A])(f: A => B): F[B]\n",
    "}"
   ]
  },
  {
   "cell_type": "markdown",
   "metadata": {},
   "source": [
    "次にFreeMonadの基盤を用意"
   ]
  },
  {
   "cell_type": "code",
   "execution_count": 16,
   "metadata": {},
   "outputs": [
    {
     "data": {
      "text/plain": [
       "defined \u001b[32mtrait \u001b[36mFreeM\u001b[0m\n",
       "defined \u001b[32mclass \u001b[36mPure\u001b[0m\n",
       "defined \u001b[32mclass \u001b[36mFree\u001b[0m"
      ]
     },
     "metadata": {},
     "output_type": "display_data"
    }
   ],
   "source": [
    "sealed trait FreeM[S[+_], +A] {\n",
    "  def flatMap[B](f: A => FreeM[S, B])(implicit s: Functor[S]): FreeM[S, B]\n",
    "  def map[B](f: A => B)(implicit s: Functor[S]): FreeM[S, B] = flatMap(a => Pure(f(a)))\n",
    "}\n",
    "\n",
    "case class Pure[S[+_], +A](a: A) extends FreeM[S, A] {\n",
    "  def flatMap[B](f: A => FreeM[S, B])(implicit s: Functor[S]): FreeM[S, B] = f(a)\n",
    "}\n",
    "\n",
    "case class Free[S[+_], +A](k: S[FreeM[S, A]]) extends FreeM[S, A]{\n",
    "  def flatMap[B](f: A => FreeM[S, B])(implicit s: Functor[S]): FreeM[S, B] = Free(s.map(k)(_.flatMap(f)))\n",
    "}"
   ]
  },
  {
   "cell_type": "markdown",
   "metadata": {},
   "source": [
    "ここから具体例。  \n",
    "なんらかのインターフェースに一文字ずつ入力する`getChar`メソッドと一文字ずつ出力する`putChar`メソッドを定義したい。ただし、この二つのメソッドは**あらゆるインターフェースに対して汎用的な形で定義したい**。つまり、入力出力と、そのための???"
   ]
  },
  {
   "cell_type": "code",
   "execution_count": 17,
   "metadata": {},
   "outputs": [
    {
     "data": {
      "text/plain": [
       "defined \u001b[32mfunction \u001b[36mgetCh\u001b[0m\n",
       "defined \u001b[32mfunction \u001b[36mputCh\u001b[0m"
      ]
     },
     "metadata": {},
     "output_type": "display_data"
    }
   ],
   "source": [
    "// どうしよう???\n",
    "def getCh= ???\n",
    "def putCh(ch:Char)= ???"
   ]
  },
  {
   "cell_type": "code",
   "execution_count": 18,
   "metadata": {},
   "outputs": [
    {
     "data": {
      "text/plain": [
       "defined \u001b[32mtrait \u001b[36mCharIO\u001b[0m\n",
       "defined \u001b[32mclass \u001b[36mGetCh\u001b[0m\n",
       "defined \u001b[32mclass \u001b[36mPutCh\u001b[0m"
      ]
     },
     "metadata": {},
     "output_type": "display_data"
    }
   ],
   "source": [
    "sealed trait CharIO[+A]\n",
    "case class GetCh[+A](f:Char => A) extends CharIO[A]\n",
    "case class PutCh[+A](c:Char, a:A) extends CharIO[A]"
   ]
  },
  {
   "cell_type": "code",
   "execution_count": 19,
   "metadata": {},
   "outputs": [
    {
     "data": {
      "text/plain": [
       "\u001b[36mcharIOFunctor\u001b[0m: \u001b[32mAnyRef\u001b[0m with \u001b[32mFunctor\u001b[0m[\u001b[32mCharIO\u001b[0m] = cmd18$$user$$anonfun$1$$anon$1@49abb390"
      ]
     },
     "metadata": {},
     "output_type": "display_data"
    }
   ],
   "source": [
    "implicit val charIOFunctor =\n",
    "  new Functor[CharIO] {\n",
    "    def map[A, B](a: CharIO[A])(f: A => B): CharIO[B] = a match {\n",
    "      case GetCh(g)    => GetCh(f compose g)\n",
    "      case PutCh(c, x) => PutCh(c, f(x))\n",
    "    }\n",
    "  }"
   ]
  },
  {
   "cell_type": "code",
   "execution_count": 20,
   "metadata": {},
   "outputs": [
    {
     "data": {
      "text/plain": [
       "defined \u001b[32mfunction \u001b[36mgetCh\u001b[0m\n",
       "defined \u001b[32mfunction \u001b[36mputCh\u001b[0m"
      ]
     },
     "metadata": {},
     "output_type": "display_data"
    }
   ],
   "source": [
    "def getCh:FreeM[CharIO, Char] = Free(GetCh({ch => Pure(ch)}))\n",
    "def putCh(ch:Char):FreeM[CharIO, Unit] = Free(PutCh(ch, Pure(())))"
   ]
  },
  {
   "cell_type": "code",
   "execution_count": 30,
   "metadata": {},
   "outputs": [
    {
     "data": {
      "text/plain": [
       "defined \u001b[32mfunction \u001b[36mmapFreeM\u001b[0m\n",
       "\u001b[36mio\u001b[0m: \u001b[32mFreeM\u001b[0m[\u001b[32mCharIO\u001b[0m, \u001b[32mUnit\u001b[0m] = Free(PutCh(H,Free(PutCh(e,Free(PutCh(l,Free(PutCh(l,Free(PutCh(o,Free(PutCh(,,Free(PutCh( ,Free(PutCh(S,Free(PutCh(c,Free(PutCh(a,Free(PutCh(l,Free(PutCh(a,Free(PutCh( ,Free(PutCh(P,Free(PutCh(r,Free(PutCh(o,Free(PutCh(g,Free(PutCh(r,Free(PutCh(a,Free(PutCh(m,Free(PutCh(m,Free(PutCh(e,Free(PutCh(r,Free(PutCh(!,Free(PutCh( ,Free(PutCh(P,Free(PutCh(l,Free(PutCh(e,Free(PutCh(a,Free(PutCh(s,Free(PutCh(e,Free(PutCh( ,Free(PutCh(i,Free(PutCh(n,Free(PutCh(p,Free(PutCh(u,Free(PutCh(t,Free(PutCh( ,Free(PutCh(a,Free(PutCh( ,Free(PutCh(c,Free(PutCh(h,Free(PutCh(a,Free(PutCh(r,Free(PutCh(a,Free(PutCh(c,Free(PutCh(t,Free(PutCh(e,Free(PutCh(r,Free(PutCh(:,Free(GetCh(<function1>))))))))))))))))))))))))))))))))))))))))))))))))))))))))))))))))))))))))))))))))))))))))))))))))))))))"
      ]
     },
     "metadata": {},
     "output_type": "display_data"
    }
   ],
   "source": [
    "def mapFreeM[S[+_]:Functor, A](f:A => FreeM[S,Unit], s:Seq[A]):FreeM[S,Unit] = s.toList match {\n",
    "  case x::xs => xs.foldLeft(f(x)){(m:FreeM[S,Unit],c:A) => m.flatMap{unit => f(c)} }\n",
    "  case Nil => Pure(())\n",
    "}\n",
    "\n",
    "val io:FreeM[CharIO, Unit] = for{\n",
    "    _  <- mapFreeM(putCh, \"Hello, Scala Programmer! Please input a character:\")\n",
    "    ch <- getCh\n",
    "    _  <- mapFreeM(putCh, \"The ordinal of the character is:\")\n",
    "    _  <- mapFreeM(putCh, ch.toInt.toString)\n",
    "    _  <- mapFreeM(putCh, \".\\n Thank you!\\n\")\n",
    "  } yield ()"
   ]
  },
  {
   "cell_type": "code",
   "execution_count": 36,
   "metadata": {},
   "outputs": [
    {
     "data": {
      "text/plain": [
       "defined \u001b[32mfunction \u001b[36mrunCharIO\u001b[0m"
      ]
     },
     "metadata": {},
     "output_type": "display_data"
    }
   ],
   "source": [
    "def runCharIO(free:FreeM[CharIO, Unit]):Unit = free match { \n",
    "  case Pure(a)               => a\n",
    "  case Free(GetCh(f))        => runCharIO(f(readChar()))\n",
    "  case Free(PutCh(ch, cont)) => print(ch);runCharIO(cont)\n",
    "}"
   ]
  },
  {
   "cell_type": "code",
   "execution_count": 36,
   "metadata": {},
   "outputs": [
    {
     "ename": "",
     "evalue": "",
     "output_type": "error",
     "traceback": [
      "\u001b[31mMain.scala:28: package scala.io is not a value",
      "runCharIO(io)",
      "          ^\u001b[0m"
     ]
    }
   ],
   "source": [
    "runCharIO(io)"
   ]
  },
  {
   "cell_type": "markdown",
   "metadata": {},
   "source": [
    "## 何が自由なのか\n",
    "[こちらの記事に](http://d.hatena.ne.jp/fumiexcel/20121111/1352614885)\n",
    "\n",
    "> Freeモナドのメリットは、諸概念を限定された世界に閉じ込めて抽象化できることだけではない。自分でMonadを作ると、MonadWriterなどの型クラスの大量のインスタンス宣言をしなければならないが、Freeモナドならその必要はない。Freeモナドの性質を決めるのはあくまでFunctorなので、そういったインスタンス宣言をFreeそのものに集約できる。いわば、モナドがタダ(free)で手に入るのだ。\n",
    "\n",
    "とある\n",
    "わかるようなわからないような。。。"
   ]
  },
  {
   "cell_type": "markdown",
   "metadata": {},
   "source": [
    "# FreeMonadを知った上で今後やりたいこと\n",
    "- データ分析のフローとロジックをFreeMonadの概念を応用してライブラリを作りたい"
   ]
  },
  {
   "cell_type": "markdown",
   "metadata": {},
   "source": [
    "# リファレンス\n",
    "- ほとんど読んでないですが、[Functional and Reactive Domain Modeling](https://www.amazon.co.jp/Functional-Reactive-Domain-Modeling-Debasish/dp/1617292249)の五章にもFreeMonadについて書いてあります\n",
    "- 同じくざっとしか読んでないですが、[Scala HighPerformance Programing](https://www.amazon.co.jp/dp/B01BKL1PGA/ref=dp-kindle-redirect?_encoding=UTF8&btkr=1)の七章にもパフォーマンス観点で書かれてます\n",
    "\n"
   ]
  }
 ],
 "metadata": {
  "kernelspec": {
   "display_name": "Scala 2.11",
   "language": "scala211",
   "name": "scala211"
  },
  "language_info": {
   "codemirror_mode": "text/x-scala",
   "file_extension": ".scala",
   "mimetype": "text/x-scala",
   "name": "scala211",
   "pygments_lexer": "scala",
   "version": "2.11.7"
  }
 },
 "nbformat": 4,
 "nbformat_minor": 2
}

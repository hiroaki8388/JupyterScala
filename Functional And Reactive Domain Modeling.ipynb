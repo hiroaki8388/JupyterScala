{
 "cells": [
  {
   "cell_type": "code",
   "execution_count": null,
   "metadata": {
    "collapsed": true
   },
   "outputs": [],
   "source": []
  },
  {
   "cell_type": "code",
   "execution_count": null,
   "metadata": {
    "collapsed": true
   },
   "outputs": [],
   "source": [
    "# Chapter1"
   ]
  },
  {
   "cell_type": "code",
   "execution_count": null,
   "metadata": {
    "collapsed": true
   },
   "outputs": [],
   "source": [
    "trait AccountService {\n",
    "  def debit(a: Account, amount: Amount): Try[Account] = //..\n",
    "  def credit(a: Account, amount: Amount): Try[Account] = //..\n",
    "\n",
    "  def transfer(from: Account, to: Account, amount: Amount) = for {\n",
    "    d <- debit(from, amount)\n",
    "    c <- credit(to, amount)\n",
    "  } yield (d, c)\n",
    "}"
   ]
  },
  {
   "cell_type": "code",
   "execution_count": null,
   "metadata": {
    "collapsed": true
   },
   "outputs": [],
   "source": [
    "val curr: Balance = getCurrencyBalance(..)\n",
    "val eq: Balance = getEquityBalance(..)\n",
    "val debt: Balance = getDebtBalance(..)\n",
    "val loan: Balance = getLoanInformation(..)\n",
    "val retire: Balance = getRetirementFundBalance(..)\n",
    "val portfolio = generatePortfolio(curr, eq, debt, loan, retire)"
   ]
  },
  {
   "cell_type": "code",
   "execution_count": null,
   "metadata": {
    "collapsed": true
   },
   "outputs": [],
   "source": [
    "val fcurr: Future[Balance] = getCurrencyBalance(..)\n",
    "val feq: Future[Balance] = getEquityBalance(..)\n",
    "val fdebt: Future[Balance] = getDebtBalance(..)\n",
    "val floan: Future[Balance] = getLoanInformation(..)\n",
    "val fretire: Future[Balance] = getRetirementFundBalance(..)\n",
    "\n",
    "val portfolio: Future[Portfolio] =\n",
    "  for {\n",
    "    c <- fcurr\n",
    "    e <- feq\n",
    "    d <- fdebt\n",
    "    l <- floan\n",
    "    r <- fretire\n",
    "  } yield generatePortfolio(c, e, d, l, r)"
   ]
  },
  {
   "cell_type": "markdown",
   "metadata": {},
   "source": [
    "1.9. SUMMARY\n",
    "This chapter begins our journey into the world of domain modeling using functional and reactive paradigms. You have just learned about some of the virtues of both paradigms. Functional programming is based on function composition: You build abstractions by composing functions as first-class artifacts of the language. You use reactive principles to make your application responsive. Here are some of the major takeaways from this chapter:\n",
    "\n",
    "Avoid shared mutable state within your model— Shared mutable state is difficult to manage and leads to nondeterminism in semantics that makes concurrency difficult.\n",
    "Referential transparency— Functional programming gives you the power to design referentially transparent (pure) model components. When most of your model behaviors are built out of pure functions, you get the power of compositionality; you can build larger functions out of smaller ones through composition.\n",
    "Organic growth— With functional design and thinking, your model grows organically. Because it is pure, your model can be treated mathematically and you can reason about it.\n",
    "Focus on the core domain— When you build your model by using the principles of domain-driven design, you have entities, value objects, and services organized around patterns like repositories and factories. And you can make each of these artifacts functional. Violate the principles of purity and referential transparency as an exception, but you must be able to justify the reason for doing so. Mutability makes some parts of your code run faster but at the same time difficult to reason about. Strive for immutability in each layer of your DDD code—this is where functional meets DDD.\n",
    "Functional makes reactive easier— Pure functions are ideal candidates for reactive modeling, because you can freely distribute them in a parallel setting without any concern for managing mutable shared state. This is where functional meets reactive.\n",
    "Design for failure— In your model, never assume that things won’t fail. Always design for failure and manage failures as a separate concern without coupling exception handlers with business logic code.\n",
    "Event-based modeling complements the functional model— Event-based programming delineates the “what” from the “how” of your model. And this is also what functional programming encourages. Events are small messages that specify what you want to do, and the handler for the event describes the “how” part. No wonder functional programming and event-driven programming play well together."
   ]
  }
 ],
 "metadata": {
  "kernelspec": {
   "display_name": "Scala 2.11",
   "language": "scala211",
   "name": "scala211"
  },
  "language_info": {
   "codemirror_mode": "text/x-scala",
   "file_extension": ".scala",
   "mimetype": "text/x-scala",
   "name": "scala211",
   "pygments_lexer": "scala",
   "version": "2.11.7"
  }
 },
 "nbformat": 4,
 "nbformat_minor": 2
}

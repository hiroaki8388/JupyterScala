{
 "cells": [
  {
   "cell_type": "markdown",
   "metadata": {},
   "source": [
    "# ScalaHighPerfomance"
   ]
  },
  {
   "cell_type": "code",
   "execution_count": 2,
   "metadata": {},
   "outputs": [
    {
     "data": {
      "text/plain": [
       "defined \u001b[32mfunction \u001b[36mtime\u001b[0m"
      ]
     },
     "metadata": {},
     "output_type": "display_data"
    }
   ],
   "source": [
    "//  パフォーマンス測定のためのコード\n",
    "def time[R](block: => R): R = {  \n",
    "    val t0 = System.nanoTime()\n",
    "    val result = block    // call-by-name\n",
    "    val t1 = System.nanoTime()\n",
    "    println(\"Elapsed time: \" + (t1 - t0) + \"ns\")\n",
    "    result\n",
    "}"
   ]
  },
  {
   "cell_type": "code",
   "execution_count": 2,
   "metadata": {},
   "outputs": [
    {
     "ename": "",
     "evalue": "",
     "output_type": "error",
     "traceback": [
      "\u001b[31mMain.scala:23: value class may not be a member of another class",
      "              case class Price(value: BigDecimal) extends AnyVal{ ",
      "                         ^\u001b[0m",
      "\u001b[31mMain.scala:25: value class may not be a member of another class",
      "} ; case class Price2(value: BigDecimal) extends AnyVal { ",
      "               ^\u001b[0m",
      "\u001b[31mMain.scala:30: type mismatch;",
      " found   : Boolean",
      " required: Int => ?",
      "p1.lowerThan(p2) // returns true",
      "            ^\u001b[0m",
      "\u001b[31mMain.scala:34: type mismatch;",
      " found   : Boolean",
      " required: Int => ?",
      "p1.lowerThan(p2) // returns true    ",
      "            ^\u001b[0m"
     ]
    }
   ],
   "source": [
    "case class Price(value: BigDecimal) { \n",
    "  def lowerThan(p: Price): Boolean = this.value < p.value \n",
    "} \n",
    "\n",
    "case class Price2(value: BigDecimal) extends AnyVal { \n",
    "  def lowerThan(p: Price2): Boolean = this.value < p.value \n",
    "} \n",
    " \n",
    "// Example usage \n",
    "\n",
    "def test(n:Int)=(1 to n).map{\n",
    "val p1 = Price(BigDecimal(1.23)) \n",
    "val p2 = Price(BigDecimal(2.03)) \n",
    "p1.lowerThan(p2) // returns true\n",
    "}    \n",
    "    \n",
    "def test2(n:Int)=(1 to n).map{\n",
    "val p1 = Price2(BigDecimal(1.23)) \n",
    "val p2 = Price2(BigDecimal(2.03)) \n",
    "p1.lowerThan(p2) // returns true    \n",
    "}    \n"
   ]
  },
  {
   "cell_type": "code",
   "execution_count": 2,
   "metadata": {},
   "outputs": [
    {
     "ename": "",
     "evalue": "",
     "output_type": "error",
     "traceback": [
      "\u001b[31mMain.scala:23: value class may not be a member of another class",
      "              case class Price2(value: BigDecimal) extends AnyVal { ",
      "                         ^\u001b[0m"
     ]
    }
   ],
   "source": [
    "case class Price2(value: BigDecimal) extends AnyVal { \n",
    "  def lowerThan(p: Price2): Boolean = this.value < p.value \n",
    "} "
   ]
  },
  {
   "cell_type": "code",
   "execution_count": 2,
   "metadata": {},
   "outputs": [
    {
     "ename": "",
     "evalue": "",
     "output_type": "error",
     "traceback": [
      "\u001b[31mMain.scala:23: value class may not be a member of another class",
      "              case class Price(value: BigDecimal) extends AnyVal { ",
      "                         ^\u001b[0m"
     ]
    }
   ],
   "source": [
    "case class Price(value: BigDecimal) extends AnyVal { \n",
    "  def lowerThan(p: Price): Boolean = this.value < p.value \n",
    "} \n",
    " \n",
    "// Example usage \n",
    "val p1 = Price(BigDecimal(1.23)) \n",
    "val p2 = Price(BigDecimal(2.03)) \n",
    "p1.lowerThan(p2) // returns true "
   ]
  },
  {
   "cell_type": "code",
   "execution_count": 2,
   "metadata": {},
   "outputs": [
    {
     "ename": "",
     "evalue": "",
     "output_type": "error",
     "traceback": [
      "\u001b[31mMain.scala:46: value class may not be a member of another class",
      "case class Price2(value: BigDecimal) extends AnyVal { ",
      "           ^\u001b[0m"
     ]
    }
   ],
   "source": [
    "// パフォーマンス測定 ver12以降じゃないとAnyValは継承できない?\n",
    "object TestAnyVal extends App{\n",
    "\n",
    "\n",
    "\n",
    "\n",
    "//  パフォーマンス測定のためのコード\n",
    "def time[R](block: => R): R = {  \n",
    "    val t0 = System.nanoTime()\n",
    "    val result = block    // call-by-name\n",
    "    val t1 = System.nanoTime()\n",
    "    println(\"Elapsed time: \" + (t1 - t0) + \"ns\")\n",
    "    result\n",
    "}\n",
    "\n",
    "\n",
    "\n",
    "\n",
    "\n",
    "case class Price(value: BigDecimal) { \n",
    "  def lowerThan(p: Price): Boolean = this.value < p.value \n",
    "} \n",
    "\n",
    "case class Price2(value: BigDecimal) extends AnyVal { \n",
    "  def lowerThan(p: Price2): Boolean = this.value < p.value \n",
    "} \n",
    " \n",
    "// Example usage \n",
    "\n",
    "def test(n:Int)=(1 to n).map{n=>\n",
    "val p1 = Price(BigDecimal(1.23)) \n",
    "val p2 = Price(BigDecimal(2.03)) \n",
    "p1.lowerThan(p2) // returns true\n",
    "}    \n",
    "    \n",
    "def test2(n:Int)=(1 to n).map{n=>\n",
    "val p1 = Price2(BigDecimal(1.23)) \n",
    "val p2 = Price2(BigDecimal(2.03)) \n",
    "p1.lowerThan(p2) // returns true    \n",
    "}    \n",
    "\n",
    "time(test(1000))\n",
    "println(\"================\")\n",
    "time(test2(1000))\n",
    "}\n"
   ]
  }
 ],
 "metadata": {
  "kernelspec": {
   "display_name": "Scala 2.11",
   "language": "scala211",
   "name": "scala211"
  },
  "language_info": {
   "codemirror_mode": "text/x-scala",
   "file_extension": ".scala",
   "mimetype": "text/x-scala",
   "name": "scala211",
   "pygments_lexer": "scala",
   "version": "2.11.7"
  }
 },
 "nbformat": 4,
 "nbformat_minor": 2
}

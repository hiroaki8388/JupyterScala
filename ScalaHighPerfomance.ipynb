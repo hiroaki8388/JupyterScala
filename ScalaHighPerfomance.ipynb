{
 "cells": [
  {
   "cell_type": "markdown",
   "metadata": {},
   "source": [
    "# ScalaHighPerfomance"
   ]
  },
  {
   "cell_type": "markdown",
   "metadata": {},
   "source": [
    "### パフォーマンス測定方法"
   ]
  },
  {
   "cell_type": "markdown",
   "metadata": {},
   "source": [
    "1. javaのバイトコードを人に読みやすく変換した形に変換するjavap（ジャパピー）に変換し、どれほどメモリを消費するか確認する。変換したニーモニックコードの読み方は[こちら](http://warabanshi.hatenablog.com/entry/2014/12/25/235644)"
   ]
  },
  {
   "cell_type": "markdown",
   "metadata": {},
   "source": [
    "2. javaのパフォーマンス測定用のライブラリ、jmhをsbt上で使用できる **sbt-jmh**を使用し、実行時のパフォーマンスを測定する。詳細はOneTeamの[こちらの記事参照](https://fringe81.one-team.io/topics/7544)"
   ]
  },
  {
   "cell_type": "markdown",
   "metadata": {
    "collapsed": true
   },
   "source": [
    "### AnyVal"
   ]
  },
  {
   "cell_type": "markdown",
   "metadata": {
    "collapsed": true
   },
   "source": [
    "#### ボトルネック"
   ]
  },
  {
   "cell_type": "markdown",
   "metadata": {
    "collapsed": true
   },
   "source": [
    "DDDに即して、ドメイン言語に対応するオブジェクトを作成するために、`case class` を大量に作ると、メモリ効率が悪くなる"
   ]
  },
  {
   "cell_type": "markdown",
   "metadata": {
    "collapsed": true
   },
   "source": [
    "#### 改善方法"
   ]
  },
  {
   "cell_type": "markdown",
   "metadata": {},
   "source": [
    "`AnyVal`を継承する事で、独自のプリミティブ型を定義する"
   ]
  },
  {
   "cell_type": "code",
   "execution_count": 0,
   "metadata": {
    "scrolled": true
   },
   "outputs": [
    {
     "ename": "",
     "evalue": "",
     "output_type": "error",
     "traceback": [
      "\u001b[31mMain.scala:23: value class may not be a member of another class",
      "              class Price(num:Long) extends AnyVal",
      "                    ^\u001b[0m",
      "\u001b[31mMain.scala:23: value class parameter must be a val and not be private[this]",
      "              class Price(num:Long) extends AnyVal",
      "                          ^\u001b[0m"
     ]
    }
   ],
   "source": [
    "case class Price(num:Long) extends AnyVal"
   ]
  },
  {
   "cell_type": "markdown",
   "metadata": {
    "collapsed": true
   },
   "source": [
    "(scala2-10から任意のValueClassが定義可能。)[http://www.scala-lang.org/api/current/#scala.AnyVal]\n",
    "これにより、ドメインに対応したオブジェクトを定義してもインスタンスの数を少なくする事ができ、GCに負荷をかけなくてすむ"
   ]
  },
  {
   "cell_type": "code",
   "execution_count": 0,
   "metadata": {},
   "outputs": [
    {
     "ename": "",
     "evalue": "",
     "output_type": "error",
     "traceback": [
      "\u001b[31mMain.scala:23: value class may not be a member of another class",
      "              case class Price(num: Long) extends AnyVal {",
      "                         ^\u001b[0m"
     ]
    }
   ],
   "source": [
    "  case class Price(num: Long) extends AnyVal {\n",
    "// メソッドも定義可能\n",
    "    def isLowerThan(price: Price) = num < price.num\n",
    "  }"
   ]
  },
  {
   "cell_type": "markdown",
   "metadata": {},
   "source": [
    "#### リスクと制約"
   ]
  },
  {
   "cell_type": "markdown",
   "metadata": {},
   "source": [
    "Valle class には、フィールドが一つしか持てない、classの内部では定義できないなどさまざまな制約があるが、継承する事によるリスクはない"
   ]
  },
  {
   "cell_type": "code",
   "execution_count": 0,
   "metadata": {},
   "outputs": [
    {
     "ename": "",
     "evalue": "",
     "output_type": "error",
     "traceback": [
      "\u001b[31mMain.scala:23: value class may not be a member of another class",
      "              case class Price(num: Long,ng:Long) extends AnyVal",
      "                         ^\u001b[0m"
     ]
    }
   ],
   "source": [
    "// ValueClassはフィールドを一つしか持てないため、以下の場合エラーになる\n",
    "case class Price(num: Long,ng:Long) extends AnyVal "
   ]
  },
  {
   "cell_type": "markdown",
   "metadata": {
    "collapsed": true
   },
   "source": [
    "#### まとめ"
   ]
  },
  {
   "cell_type": "markdown",
   "metadata": {
    "collapsed": true
   },
   "source": [
    "AnyValで定義可能なものを定義する"
   ]
  },
  {
   "cell_type": "markdown",
   "metadata": {
    "collapsed": true
   },
   "source": [
    "### ボクシング"
   ]
  },
  {
   "cell_type": "markdown",
   "metadata": {
    "collapsed": true
   },
   "source": [
    "#### ボトルネック"
   ]
  },
  {
   "cell_type": "markdown",
   "metadata": {
    "collapsed": true
   },
   "source": [
    "以下のように大量のデータを作成するとプリミティブ型がボクシングされてしまい、処理が遅くなる"
   ]
  },
  {
   "cell_type": "code",
   "execution_count": 0,
   "metadata": {},
   "outputs": [
    {
     "ename": "",
     "evalue": "",
     "output_type": "error",
     "traceback": [
      "\u001b[31mMain.scala:23: value class may not be a member of another class",
      "              def testList() = List.fill(100000)(2) map (i => Data(i) :: Nil) ; case class Data(num: Long) extends AnyVal",
      "                                                                                           ^\u001b[0m"
     ]
    }
   ],
   "source": [
    "def testList() = List.fill(100000)(2) map (i => Data(i) :: Nil)\n",
    "\n",
    "case class Data(num: Long) extends AnyVal"
   ]
  },
  {
   "cell_type": "markdown",
   "metadata": {},
   "source": [
    "##### 改善方法"
   ]
  },
  {
   "cell_type": "markdown",
   "metadata": {
    "collapsed": true
   },
   "source": [
    "ボクシング処理が行われなくなり、大量のボクシングが行われる場合、処理速度が向上する"
   ]
  },
  {
   "cell_type": "code",
   "execution_count": null,
   "metadata": {
    "collapsed": true
   },
   "outputs": [],
   "source": [
    " class SpecializedClass[@specialized T](t: T) \n",
    "\n",
    "// メソッドにも定義可能\n",
    "def createSpecialized[@specialized T](t: T): Foo[T] = new Foo(t) "
   ]
  },
  {
   "cell_type": "code",
   "execution_count": null,
   "metadata": {
    "collapsed": true
   },
   "outputs": [],
   "source": [
    "パフォーマンス測定コード"
   ]
  },
  {
   "cell_type": "code",
   "execution_count": null,
   "metadata": {
    "collapsed": true
   },
   "outputs": [],
   "source": [
    "import java.util.concurrent.TimeUnit\n",
    "import org.openjdk.jmh.annotations._\n",
    "\n",
    "\n",
    "//アウトプットの単位\n",
    "@OutputTimeUnit(TimeUnit.SECONDS)\n",
    "// ウォームアップの設定\n",
    "@Warmup(iterations = 3, timeUnit = TimeUnit.SECONDS)\n",
    "// 計測回数の設定\n",
    "@Measurement(iterations = 3, timeUnit = TimeUnit.SECONDS)\n",
    "// 全体の計測回数（-Xms1Gは使用するメモリ）\n",
    "@Fork(value = 1, jvmArgs = Array(\"-Xms1G\", \"-Xmx1G\"))\n",
    "// 使用するスレッド数\n",
    "@Threads(value = 1)\n",
    "class Specialized {\n",
    "\n",
    "  @Benchmark\n",
    "  def testList() = List.fill(100000)(2) map (i => Data(i) :: Nil)\n",
    "\n",
    "  @Benchmark\n",
    "  def testList2() = List.fill(100000)(2) map (i => Data(i) :: Nil)\n",
    "\n",
    "}\n",
    "//Value Classとして定義する事で、プリミティブ型と同等に扱われる\n",
    "case class Data(num: Long) extends AnyVal\n",
    "\n",
    "//boxingされなくなる\n",
    "// https://ja.wikipedia.org/wiki/%E3%82%AA%E3%83%BC%E3%83%88%E3%83%9C%E3%82%AF%E3%82%B7%E3%83%B3%E3%82%B0\n",
    "case class Data2(@specialized num: Long)"
   ]
  },
  {
   "cell_type": "markdown",
   "metadata": {},
   "source": [
    "測定結果"
   ]
  },
  {
   "cell_type": "code",
   "execution_count": 0,
   "metadata": {},
   "outputs": [
    {
     "ename": "",
     "evalue": "",
     "output_type": "error",
     "traceback": [
      "Failure(End:1:1 ...\"[info] Ben\")"
     ]
    }
   ],
   "source": [
    "[info] Benchmark                                              Mode  Cnt    Score      Error  Units\n",
    "[info] ScalaHighPerformancePtorgaming.Specialized.testList   thrpt    3   95.929 ? 1064.152  ops/s\n",
    "[info] ScalaHighPerformancePtorgaming.Specialized.testList2  thrpt    3  124.449 ?  196.243  ops/s"
   ]
  },
  {
   "cell_type": "markdown",
   "metadata": {
    "collapsed": true
   },
   "source": [
    "#### リスクと制約"
   ]
  },
  {
   "cell_type": "markdown",
   "metadata": {
    "collapsed": true
   },
   "source": [
    "- それぞれのプリミティブ型のためのコードが生成されるため、コンパイル時間が長くなる\n",
    "- 継承すると、子には@specializedの特性は失われてしまうので、改めて付ける必要がある"
   ]
  },
  {
   "cell_type": "markdown",
   "metadata": {
    "collapsed": true
   },
   "source": [
    "以下のように、継承する場合は、子にもアノテーションを付ける必要がある"
   ]
  },
  {
   "cell_type": "code",
   "execution_count": null,
   "metadata": {
    "collapsed": true
   },
   "outputs": [],
   "source": [
    "  trait ParentBar[@specialized T] { \n",
    "    def t(): T \n",
    "  } \n",
    " \n",
    "  class ChildBar[@specialized T](val t: T) extends ParentBar[T] \n",
    " \n",
    "  def newChildBar(i: Int): ChildBar[Int] = new ChildBar(i) "
   ]
  },
  {
   "cell_type": "markdown",
   "metadata": {},
   "source": [
    "#### まとめ\n",
    "機械学習など、大量の数値計算が必要な場合には、劇的に処理速度が向上すると期待できる"
   ]
  },
  {
   "cell_type": "markdown",
   "metadata": {},
   "source": [
    "###  Tuble"
   ]
  },
  {
   "cell_type": "markdown",
   "metadata": {
    "collapsed": true
   },
   "source": [
    "#### ボトルネック"
   ]
  },
  {
   "cell_type": "code",
   "execution_count": null,
   "metadata": {
    "collapsed": true
   },
   "outputs": [],
   "source": [
    "def tuple: (Int, Int) = (1, 2)"
   ]
  },
  {
   "cell_type": "code",
   "execution_count": null,
   "metadata": {
    "collapsed": true
   },
   "outputs": [],
   "source": [
    "のように、同じプリミティブ型のタプルの場合、最適化され、'Boxing' はされないが、"
   ]
  },
  {
   "cell_type": "code",
   "execution_count": null,
   "metadata": {
    "collapsed": true
   },
   "outputs": [],
   "source": [
    "def tuple2: (Int, HogeInt) = (1, HogeInt(2))\n",
    "case class HogeInt(int:Int) extends AnyVal"
   ]
  },
  {
   "cell_type": "code",
   "execution_count": null,
   "metadata": {
    "collapsed": true
   },
   "outputs": [],
   "source": [
    "とすると、以下のバイトコードのように、別々の型をもつタプルはボクシングされてしまい、過剰にメモリが消費される可能性がある"
   ]
  },
  {
   "cell_type": "code",
   "execution_count": null,
   "metadata": {
    "collapsed": true
   },
   "outputs": [],
   "source": [
    "バイトコード"
   ]
  },
  {
   "cell_type": "code",
   "execution_count": null,
   "metadata": {
    "collapsed": true
   },
   "outputs": [],
   "source": [
    "// def tuple  \n",
    "public scala.Tuple2<java.lang.Object, java.lang.Object> tuple();\n",
    "    Code:\n",
    "       0: new           #24                 // class scala/Tuple2$mcII$sp\n",
    "       3: dup\n",
    "       4: iconst_1\n",
    "       5: iconst_2\n",
    "       6: invokespecial #27                 // Method scala/Tuple2$mcII$sp.\"<init>\":(II)V\n",
    "       9: areturn\n",
    "\n",
    "\n",
    "// def tuple2\n",
    "  public scala.Tuple2<java.lang.Object, TupleAndClass$HogeInt> tuple2();\n",
    "    Code:\n",
    "       0: new           #31                 // class scala/Tuple2\n",
    "       3: dup\n",
    "       4: iconst_1\n",
    "       5: invokestatic  #37                 // Method scala/runtime/BoxesRunTime.boxToInteger:(I)Ljava/lang/Integer;\n",
    "       8: new           #12                 // class TupleAndClass$HogeInt\n",
    "      11: dup\n",
    "      12: iconst_2\n",
    "      13: invokespecial #40                 // Method TupleAndClass$HogeInt.\"<init>\":(I)V\n",
    "      16: invokespecial #43                 // Method scala/Tuple2.\"<init>\":(Ljava/lang/Object;Ljava/lang/Object;)V\n",
    "      19: areturn"
   ]
  },
  {
   "cell_type": "markdown",
   "metadata": {
    "collapsed": true
   },
   "source": [
    "以上のように、例え'AnyVal' を継承しても、違う型のタプルの場合、メモリをより消費するリスクがある"
   ]
  },
  {
   "cell_type": "markdown",
   "metadata": {
    "collapsed": true
   },
   "source": [
    "#### パフォーマンス改善"
   ]
  },
  {
   "cell_type": "markdown",
   "metadata": {
    "collapsed": true
   },
   "source": [
    "タプルを使わず`case class`を定義する"
   ]
  },
  {
   "cell_type": "code",
   "execution_count": null,
   "metadata": {
    "collapsed": true
   },
   "outputs": [],
   "source": [
    "def useClass=Class(1, HogeInt(1))\n",
    "case class Class(int:Int,hogeInt:HogeInt)"
   ]
  },
  {
   "cell_type": "markdown",
   "metadata": {
    "collapsed": true
   },
   "source": [
    "とタプルの代わりに新たに`case Class`を定義すると、バイトコードは以下のようになり、上と比べて、メモリの消費を抑えられる"
   ]
  },
  {
   "cell_type": "code",
   "execution_count": null,
   "metadata": {
    "collapsed": true
   },
   "outputs": [],
   "source": [
    "  public TupleAndClass$Class useClass();\n",
    "    Code:\n",
    "       0: new           #7                  // class TupleAndClass$Class\n",
    "       3: dup\n",
    "       4: iconst_1\n",
    "       5: iconst_1\n",
    "       6: invokespecial #46                 // Method TupleAndClass$Class.\"<init>\":(II)V\n",
    "       9: areturn"
   ]
  },
  {
   "cell_type": "markdown",
   "metadata": {
    "collapsed": true
   },
   "source": [
    "#### まとめ\n",
    "- 違う型を持つタプルを過剰に使うと、必要以上にメモリを消費する\n",
    "- どうしてもそのようなタプルを定義する必要がある場合、`Class` を定義するとメモリの消費が押さえられる"
   ]
  },
  {
   "cell_type": "code",
   "execution_count": null,
   "metadata": {
    "collapsed": true
   },
   "outputs": [],
   "source": [
    "### Pattern Match"
   ]
  },
  {
   "cell_type": "code",
   "execution_count": null,
   "metadata": {
    "collapsed": true
   },
   "outputs": [],
   "source": [
    "#### ボトルネック"
   ]
  },
  {
   "cell_type": "code",
   "execution_count": null,
   "metadata": {
    "collapsed": true
   },
   "outputs": [],
   "source": []
  },
  {
   "cell_type": "code",
   "execution_count": null,
   "metadata": {
    "collapsed": true
   },
   "outputs": [],
   "source": [
    "#### 改善案"
   ]
  },
  {
   "cell_type": "code",
   "execution_count": null,
   "metadata": {
    "collapsed": true
   },
   "outputs": [],
   "source": []
  },
  {
   "cell_type": "code",
   "execution_count": null,
   "metadata": {
    "collapsed": true
   },
   "outputs": [],
   "source": [
    "#### まとめ"
   ]
  }
 ],
 "metadata": {
  "kernelspec": {
   "display_name": "Scala 2.11",
   "language": "scala211",
   "name": "scala211"
  },
  "language_info": {
   "codemirror_mode": "text/x-scala",
   "file_extension": ".scala",
   "mimetype": "text/x-scala",
   "name": "scala211",
   "pygments_lexer": "scala",
   "version": "2.11.7"
  }
 },
 "nbformat": 4,
 "nbformat_minor": 2
}

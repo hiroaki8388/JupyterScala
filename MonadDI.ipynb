{
 "cells": [
  {
   "cell_type": "markdown",
   "metadata": {},
   "source": [
    "# Monadを使ったDependencyInjectionについての自分なりのまとめ\n",
    "今まで、処理のフロー（処理の流れ）と、そのフローにロジックを注入するやり方(DI)はMinimalCakeパターンしか知らなかったので、[こちらの記事](https://fringe81.one-team.io/topics/8057) もMinimalCakeパターンありきで書いてしまいましたが、豊島さんから「Monadでもいいじゃん」といわれて、そもそもMonadって何だ?状態だったので、何もわからず苦笑いよりの半笑いをしてしまいましたが、しらべてみると非常におもしろい概念だったので、MonadとDIについてまとめます。\n",
    "Monadについては、カラーコップをざっと読んだぐらいの理解度なので、違う点やよりよい応用などがありましたら、突っ込んでいただけると幸いです"
   ]
  },
  {
   "cell_type": "markdown",
   "metadata": {},
   "source": [
    "## この記事のゴール\n",
    "- ReaderMonadを使ったDIの仕方がわかること\n",
    "### 対象読者\n",
    "- Functorなどの概念はなんとなく知ってるScalaユーザー(カラーコップ本ざっと読んだぐらいの人)\n",
    "### 書かないこと\n",
    "- Scalazを使った実装方法（というか教えて欲しい）\n",
    "- Monadの理論（そもそも理論はよくわからない。なので、理論ではなく実利をメインにまとめていく）"
   ]
  },
  {
   "cell_type": "markdown",
   "metadata": {},
   "source": [
    "## そもそもMonadってなにが嬉しいんだっけ?\n",
    "そもそもモナドってかっこ良くできる以外のメリットってなんだっけ?と思い、いろいろな説明をもろもろ探していましたが、[こちらの記事のイントロの説明](http://www.sampou.org/haskell/a-a-monads/html/introduction.html)が自分のなかでしっくりきました  \n",
    "```\n",
    "1. モジュラリティ - より単純な計算から計算を合成することができ、実際に 実行される計算と合成戦略を切離すことができます。\n",
    "2. 柔軟性 - 関数プログラムをモナドなしで書いた同等のプログラムよりも はるかに柔軟なものとすることができます。これはモナドが、計算戦略を プログラム全体にばら撒くことをせずに、一箇所に引出すからである。\n",
    "3. 分離性 - 関数プログラムの本体から安全に分離したままで、命令スタイル の計算構造を生成するのに利用できます。\n",
    "```\n",
    "つまり。こういう処理をしていきたい。。。という処理の流れ（合成戦略）と、そのためにこういう計算を裏側で行っていこう（実行される計算）をきれいに分離できるとともに、柔軟に分離と結合ができることから、戦略と計算の変更と再利用が容易にできるということだと解釈しました。"
   ]
  },
  {
   "cell_type": "markdown",
   "metadata": {},
   "source": [
    "## Readerモナド\n",
    "DI観点で比較的わかりやすいモナドとして、まず`ReaderMonad`をあげたいと思います。\n",
    "一般的にDIしなければいけないときは、\n",
    "\n",
    "-  グローバル変数で定義する\n",
    "-  引数で渡す(Strategyパターン)  \n",
    "\n",
    "のふたつがありますが、前者は言うまでもなくコードの見通しが悪くなり、後者は、対象の引数を使う必要がないメソッドにもその引数を渡す必要がでてきてしまう場合もあるの、全体の見通しが悪くなる場合があります。  \n",
    "そこでReaderMonadでは第三のロジックの置き場として、\n",
    "\n",
    "- 環境に変数を定義する\n",
    "\n",
    "というやりかたを使います。 環境とは、**使用するインスタンス(ロジック）の置き場** というのが個人的なイメージです。  \n",
    "なお、[コードはこちらの記事](https://qiita.com/yyu/items/a2debfcde8f1915d5083)を参考にしています"
   ]
  },
  {
   "cell_type": "markdown",
   "metadata": {},
   "source": [
    "## レシピ"
   ]
  },
  {
   "cell_type": "markdown",
   "metadata": {},
   "source": [
    "1 まず、大元となるFunctorを定義（別に定義しなくてもいいですが、MonadもFunctorの一形態であることを意識するために定義しました）"
   ]
  },
  {
   "cell_type": "code",
   "execution_count": 12,
   "metadata": {
    "scrolled": false
   },
   "outputs": [
    {
     "data": {
      "text/plain": [
       "defined \u001b[32mtrait \u001b[36mFunctor\u001b[0m"
      ]
     },
     "metadata": {},
     "output_type": "display_data"
    }
   ],
   "source": [
    "trait Functor[E,A] {\n",
    "  def map[B](f: A => B): Functor[E,B]\n",
    "}"
   ]
  },
  {
   "cell_type": "markdown",
   "metadata": {},
   "source": [
    "2 次に、以下のようなMonadを定義(ここまではお決まりのパターンです)"
   ]
  },
  {
   "cell_type": "code",
   "execution_count": 21,
   "metadata": {
    "scrolled": true
   },
   "outputs": [
    {
     "data": {
      "text/plain": [
       "defined \u001b[32mclass \u001b[36mReader\u001b[0m\n",
       "defined \u001b[32mobject \u001b[36mReader\u001b[0m"
      ]
     },
     "metadata": {},
     "output_type": "display_data"
    }
   ],
   "source": [
    "case class Reader[E,A](g:E=>A) extends Functor[E,A]{\n",
    "    def apply(e:E)=g(e)\n",
    "    def run:E=>A=apply\n",
    "    \n",
    "    override def map[B](f:A=>B):Reader[E,B]=Reader(f compose g)\n",
    "    def flatMap[B](f:A=>Reader[E,B]):Reader[E,B]=Reader(e=>f(g(e))(e))\n",
    "}\n",
    "\n",
    "object Reader{\n",
    "    def pure[E,A](a:A):Reader[E,A]=Reader(e=>a)// 任意の値aをReaderにする\n",
    "    def ask[E]:Reader[E,E]=Reader(identity) // 環境eを検索し、取得する。identity=T=>T\n",
    "    def local[E,A](f:E=>E,c:Reader[E,A]):Reader[E,A]=Reader(e=>c.apply(f(e)))  // 環境をfにより置き換える。applyはわかりやすさのために省略してない\n",
    "    def reader[E,A](f:E=>A):Reader[E,A]=Reader(f) // 関数fをReaderに変換する\n",
    "}"
   ]
  },
  {
   "cell_type": "markdown",
   "metadata": {},
   "source": [
    "3 環境を定義する: ここでは、DB接続のために、何らかのDB接続のためのclientを使用するとします"
   ]
  },
  {
   "cell_type": "code",
   "execution_count": 39,
   "metadata": {},
   "outputs": [
    {
     "data": {
      "text/plain": [
       "defined \u001b[32mtrait \u001b[36mDBClient\u001b[0m\n",
       "defined \u001b[32mtrait \u001b[36mUseDBClient\u001b[0m"
      ]
     },
     "metadata": {},
     "output_type": "display_data"
    }
   ],
   "source": [
    "trait DBClient{\n",
    "    def update(data:String)\n",
    "}\n",
    "\n",
    "trait UseDBClient{\n",
    "    val dbClient:DBClient\n",
    "}"
   ]
  },
  {
   "cell_type": "markdown",
   "metadata": {},
   "source": [
    "4 DBClientの実体をインスタンス化した変数の置き場を定義する"
   ]
  },
  {
   "cell_type": "code",
   "execution_count": 65,
   "metadata": {},
   "outputs": [
    {
     "data": {
      "text/plain": [
       "defined \u001b[32mclass \u001b[36mMysqlClient\u001b[0m\n",
       "defined \u001b[32mclass \u001b[36mNosqlClient\u001b[0m\n",
       "defined \u001b[32mobject \u001b[36mDBEnvroment\u001b[0m"
      ]
     },
     "metadata": {},
     "output_type": "display_data"
    }
   ],
   "source": [
    "class MysqlClient extends DBClient{\n",
    "     def update(data:String)=println(s\"updated $data InMysql!!\")\n",
    "}\n",
    "class NosqlClient extends DBClient{\n",
    "     def update(data:String)=println(\"updatedInNosql!!\")\n",
    "}\n",
    "\n",
    "object DBEnvroment{\n",
    "   private val mysqlClient = new MysqlClient \n",
    "    \n",
    "    val mysqlEnviroment=new UseDBClient{\n",
    "        val dbClient=mysqlClient\n",
    "    }\n",
    "\n",
    "    private val nosqlClient = new NosqlClient \n",
    "    \n",
    "        val nosqlEnviroment=new UseDBClient{\n",
    "        val dbClient=nosqlClient\n",
    "    }\n",
    "}"
   ]
  },
  {
   "cell_type": "markdown",
   "metadata": {},
   "source": [
    "5 Readerのインスタンス化: DBに接続してデータを取得するメソッドを定義します"
   ]
  },
  {
   "cell_type": "code",
   "execution_count": 48,
   "metadata": {
    "scrolled": false
   },
   "outputs": [
    {
     "data": {
      "text/plain": [
       "defined \u001b[32mfunction \u001b[36mupdate\u001b[0m"
      ]
     },
     "metadata": {},
     "output_type": "display_data"
    }
   ],
   "source": [
    "\n",
    "def update(data:String):Reader[UseDBClient,Unit]=\n",
    "Reader.reader(env=>env.dbClient.update(data))"
   ]
  },
  {
   "cell_type": "code",
   "execution_count": null,
   "metadata": {
    "collapsed": true
   },
   "outputs": [],
   "source": [
    "または"
   ]
  },
  {
   "cell_type": "code",
   "execution_count": 60,
   "metadata": {},
   "outputs": [
    {
     "data": {
      "text/plain": [
       "defined \u001b[32mfunction \u001b[36mupdate2\u001b[0m"
      ]
     },
     "metadata": {},
     "output_type": "display_data"
    }
   ],
   "source": [
    "def update2(data:String):Reader[UseDBClient,Unit]=\n",
    "Reader.ask[UseDBClient].map(_.dbClient.update(data))"
   ]
  },
  {
   "cell_type": "markdown",
   "metadata": {},
   "source": [
    "6: 実体を注入し実行する"
   ]
  },
  {
   "cell_type": "code",
   "execution_count": 59,
   "metadata": {
    "scrolled": true
   },
   "outputs": [
    {
     "name": "stdout",
     "output_type": "stream",
     "text": [
      "updatedInMysql!!\n",
      "updatedInMysql!!\n"
     ]
    },
    {
     "data": {
      "text/plain": []
     },
     "metadata": {},
     "output_type": "display_data"
    }
   ],
   "source": [
    "update(\"data\").run(DBEnvroment.mysqlEnviroment)\n",
    "update2(\"data\").run(DBEnvroment.mysqlEnviroment)"
   ]
  },
  {
   "cell_type": "code",
   "execution_count": 67,
   "metadata": {
    "scrolled": true
   },
   "outputs": [
    {
     "name": "stdout",
     "output_type": "stream",
     "text": [
      "updatedInNosql!!\n",
      "updatedInNosql!!\n"
     ]
    },
    {
     "data": {
      "text/plain": []
     },
     "metadata": {},
     "output_type": "display_data"
    }
   ],
   "source": [
    "update(\"data\").run(DBEnvroment.nosqlEnviroment)\n",
    "update2(\"data\").run(DBEnvroment.nosqlEnviroment)"
   ]
  },
  {
   "cell_type": "markdown",
   "metadata": {},
   "source": [
    "## 応用"
   ]
  },
  {
   "cell_type": "code",
   "execution_count": null,
   "metadata": {
    "collapsed": true
   },
   "outputs": [],
   "source": [
    "複数処理を合成する"
   ]
  },
  {
   "cell_type": "code",
   "execution_count": 66,
   "metadata": {
    "scrolled": true
   },
   "outputs": [
    {
     "name": "stdout",
     "output_type": "stream",
     "text": [
      "updated data1 InMysql!!\n",
      "updated data2 InMysql!!\n"
     ]
    },
    {
     "data": {
      "text/plain": []
     },
     "metadata": {},
     "output_type": "display_data"
    }
   ],
   "source": [
    "(for {\n",
    "    _ <- update(\"data1\")\n",
    "    _ <- update(\"data2\")\n",
    "}yield()).run(DBEnvroment.mysqlEnviroment )"
   ]
  },
  {
   "cell_type": "markdown",
   "metadata": {},
   "source": [
    "または"
   ]
  },
  {
   "cell_type": "code",
   "execution_count": 69,
   "metadata": {},
   "outputs": [
    {
     "name": "stdout",
     "output_type": "stream",
     "text": [
      "updated data1 InMysql!!\n",
      "updated data2 InMysql!!\n"
     ]
    },
    {
     "data": {
      "text/plain": []
     },
     "metadata": {},
     "output_type": "display_data"
    }
   ],
   "source": [
    "(update(\"data1\").flatMap(_=>update(\"data2\").map(_=>()))).run(DBEnvroment.mysqlEnviroment )"
   ]
  },
  {
   "cell_type": "markdown",
   "metadata": {},
   "source": [
    "おなじ、実体を使用して、複数処理を実行できる"
   ]
  },
  {
   "cell_type": "code",
   "execution_count": 56,
   "metadata": {},
   "outputs": [
    {
     "data": {
      "text/plain": [
       "\u001b[36mres55\u001b[0m: \u001b[32mUseDBClient\u001b[0m = cmd49$$user$DBEnvroment$$anon$1@2b27af94"
      ]
     },
     "metadata": {},
     "output_type": "display_data"
    }
   ],
   "source": [
    "Reader.ask[UseDBClient].run(DBEnvroment.mysqlEnviroment)"
   ]
  },
  {
   "cell_type": "code",
   "execution_count": null,
   "metadata": {
    "collapsed": true
   },
   "outputs": [],
   "source": []
  },
  {
   "cell_type": "code",
   "execution_count": null,
   "metadata": {
    "collapsed": true
   },
   "outputs": [],
   "source": []
  },
  {
   "cell_type": "code",
   "execution_count": null,
   "metadata": {
    "collapsed": true
   },
   "outputs": [],
   "source": []
  },
  {
   "cell_type": "code",
   "execution_count": null,
   "metadata": {
    "collapsed": true
   },
   "outputs": [],
   "source": []
  },
  {
   "cell_type": "code",
   "execution_count": null,
   "metadata": {
    "collapsed": true
   },
   "outputs": [],
   "source": []
  },
  {
   "cell_type": "code",
   "execution_count": null,
   "metadata": {
    "collapsed": true
   },
   "outputs": [],
   "source": []
  },
  {
   "cell_type": "markdown",
   "metadata": {},
   "source": [
    "## なぜReaderという名前か?\n",
    "上のようにReaderMonadは、環境を`ask`で**読み込むだけで、環境自体の変更は行いません**。この**環境の読み込み専用**という点がReaderの名前のゆえんではないかと考えます"
   ]
  },
  {
   "cell_type": "markdown",
   "metadata": {},
   "source": [
    "## MinimalCakePatternじゃだめなの?\n",
    "いろいろ書きましたが、MInimalCakeパターンとどっちが良いかというと、メリットデメリットを言えるほどまだ知見がないので、明確な事は書きません。ただ、DI=(Minimal)CakePattenではなく、さまざまなやり方があることを知っておくと、時と場合によりいろいろな打ち手をとれるので、必ず有用であると思いますし、なぜMonadを採用したのか?(あるいはしなかったのか?)を答えられるようになるので、よりコードに深みが増すはずです。"
   ]
  },
  {
   "cell_type": "markdown",
   "metadata": {},
   "source": [
    "## 今後やりたいこと\n",
    "- IOMonad,StateMonad,FreeMonadについて理解する\n",
    "- Scalazのコードに置き換える\n",
    "- Monadでデータ分析ツールを作ってみる"
   ]
  },
  {
   "cell_type": "code",
   "execution_count": 15,
   "metadata": {},
   "outputs": [
    {
     "data": {
      "text/plain": [
       "defined \u001b[32mtrait \u001b[36mFunctor\u001b[0m"
      ]
     },
     "metadata": {},
     "output_type": "display_data"
    }
   ],
   "source": [
    "trait Functor[F[_]] {\n",
    "  def map[A, B](m: F[A])(f: A => B): F[B]\n",
    "}"
   ]
  },
  {
   "cell_type": "markdown",
   "metadata": {},
   "source": [
    "次にFreeMonadの基盤を用意"
   ]
  },
  {
   "cell_type": "code",
   "execution_count": 16,
   "metadata": {},
   "outputs": [
    {
     "data": {
      "text/plain": [
       "defined \u001b[32mtrait \u001b[36mFreeM\u001b[0m\n",
       "defined \u001b[32mclass \u001b[36mPure\u001b[0m\n",
       "defined \u001b[32mclass \u001b[36mFree\u001b[0m"
      ]
     },
     "metadata": {},
     "output_type": "display_data"
    }
   ],
   "source": [
    "sealed trait FreeM[S[+_], +A] {\n",
    "  def flatMap[B](f: A => FreeM[S, B])(implicit s: Functor[S]): FreeM[S, B]\n",
    "  def map[B](f: A => B)(implicit s: Functor[S]): FreeM[S, B] = flatMap(a => Pure(f(a)))\n",
    "}\n",
    "\n",
    "case class Pure[S[+_], +A](a: A) extends FreeM[S, A] {\n",
    "  def flatMap[B](f: A => FreeM[S, B])(implicit s: Functor[S]): FreeM[S, B] = f(a)\n",
    "}\n",
    "\n",
    "case class Free[S[+_], +A](k: S[FreeM[S, A]]) extends FreeM[S, A]{\n",
    "  def flatMap[B](f: A => FreeM[S, B])(implicit s: Functor[S]): FreeM[S, B] = Free(s.map(k)(_.flatMap(f)))\n",
    "}"
   ]
  },
  {
   "cell_type": "markdown",
   "metadata": {},
   "source": [
    "ここから具体例。  \n",
    "なんらかのインターフェースに一文字ずつ入力する`getChar`メソッドと一文字ずつ出力する`putChar`メソッドを定義したい。ただし、この二つのメソッドは**あらゆるインターフェースに対して汎用的な形で定義したい**。つまり、入力出力と、そのための???"
   ]
  },
  {
   "cell_type": "code",
   "execution_count": 17,
   "metadata": {},
   "outputs": [
    {
     "data": {
      "text/plain": [
       "defined \u001b[32mfunction \u001b[36mgetCh\u001b[0m\n",
       "defined \u001b[32mfunction \u001b[36mputCh\u001b[0m"
      ]
     },
     "metadata": {},
     "output_type": "display_data"
    }
   ],
   "source": [
    "// どうしよう???\n",
    "def getCh= ???\n",
    "def putCh(ch:Char)= ???"
   ]
  },
  {
   "cell_type": "code",
   "execution_count": 18,
   "metadata": {},
   "outputs": [
    {
     "data": {
      "text/plain": [
       "defined \u001b[32mtrait \u001b[36mCharIO\u001b[0m\n",
       "defined \u001b[32mclass \u001b[36mGetCh\u001b[0m\n",
       "defined \u001b[32mclass \u001b[36mPutCh\u001b[0m"
      ]
     },
     "metadata": {},
     "output_type": "display_data"
    }
   ],
   "source": [
    "sealed trait CharIO[+A]\n",
    "case class GetCh[+A](f:Char => A) extends CharIO[A]\n",
    "case class PutCh[+A](c:Char, a:A) extends CharIO[A]"
   ]
  },
  {
   "cell_type": "code",
   "execution_count": 19,
   "metadata": {},
   "outputs": [
    {
     "data": {
      "text/plain": [
       "\u001b[36mcharIOFunctor\u001b[0m: \u001b[32mAnyRef\u001b[0m with \u001b[32mFunctor\u001b[0m[\u001b[32mCharIO\u001b[0m] = cmd18$$user$$anonfun$1$$anon$1@49abb390"
      ]
     },
     "metadata": {},
     "output_type": "display_data"
    }
   ],
   "source": [
    "implicit val charIOFunctor =\n",
    "  new Functor[CharIO] {\n",
    "    def map[A, B](a: CharIO[A])(f: A => B): CharIO[B] = a match {\n",
    "      case GetCh(g)    => GetCh(f compose g)\n",
    "      case PutCh(c, x) => PutCh(c, f(x))\n",
    "    }\n",
    "  }"
   ]
  },
  {
   "cell_type": "code",
   "execution_count": 20,
   "metadata": {},
   "outputs": [
    {
     "data": {
      "text/plain": [
       "defined \u001b[32mfunction \u001b[36mgetCh\u001b[0m\n",
       "defined \u001b[32mfunction \u001b[36mputCh\u001b[0m"
      ]
     },
     "metadata": {},
     "output_type": "display_data"
    }
   ],
   "source": [
    "def getCh:FreeM[CharIO, Char] = Free(GetCh({ch => Pure(ch)}))\n",
    "def putCh(ch:Char):FreeM[CharIO, Unit] = Free(PutCh(ch, Pure(())))"
   ]
  },
  {
   "cell_type": "code",
   "execution_count": 30,
   "metadata": {},
   "outputs": [
    {
     "data": {
      "text/plain": [
       "defined \u001b[32mfunction \u001b[36mmapFreeM\u001b[0m\n",
       "\u001b[36mio\u001b[0m: \u001b[32mFreeM\u001b[0m[\u001b[32mCharIO\u001b[0m, \u001b[32mUnit\u001b[0m] = Free(PutCh(H,Free(PutCh(e,Free(PutCh(l,Free(PutCh(l,Free(PutCh(o,Free(PutCh(,,Free(PutCh( ,Free(PutCh(S,Free(PutCh(c,Free(PutCh(a,Free(PutCh(l,Free(PutCh(a,Free(PutCh( ,Free(PutCh(P,Free(PutCh(r,Free(PutCh(o,Free(PutCh(g,Free(PutCh(r,Free(PutCh(a,Free(PutCh(m,Free(PutCh(m,Free(PutCh(e,Free(PutCh(r,Free(PutCh(!,Free(PutCh( ,Free(PutCh(P,Free(PutCh(l,Free(PutCh(e,Free(PutCh(a,Free(PutCh(s,Free(PutCh(e,Free(PutCh( ,Free(PutCh(i,Free(PutCh(n,Free(PutCh(p,Free(PutCh(u,Free(PutCh(t,Free(PutCh( ,Free(PutCh(a,Free(PutCh( ,Free(PutCh(c,Free(PutCh(h,Free(PutCh(a,Free(PutCh(r,Free(PutCh(a,Free(PutCh(c,Free(PutCh(t,Free(PutCh(e,Free(PutCh(r,Free(PutCh(:,Free(GetCh(<function1>))))))))))))))))))))))))))))))))))))))))))))))))))))))))))))))))))))))))))))))))))))))))))))))))))))))"
      ]
     },
     "metadata": {},
     "output_type": "display_data"
    }
   ],
   "source": [
    "def mapFreeM[S[+_]:Functor, A](f:A => FreeM[S,Unit], s:Seq[A]):FreeM[S,Unit] = s.toList match {\n",
    "  case x::xs => xs.foldLeft(f(x)){(m:FreeM[S,Unit],c:A) => m.flatMap{unit => f(c)} }\n",
    "  case Nil => Pure(())\n",
    "}\n",
    "\n",
    "val io:FreeM[CharIO, Unit] = for{\n",
    "    _  <- mapFreeM(putCh, \"Hello, Scala Programmer! Please input a character:\")\n",
    "    ch <- getCh\n",
    "    _  <- mapFreeM(putCh, \"The ordinal of the character is:\")\n",
    "    _  <- mapFreeM(putCh, ch.toInt.toString)\n",
    "    _  <- mapFreeM(putCh, \".\\n Thank you!\\n\")\n",
    "  } yield ()"
   ]
  },
  {
   "cell_type": "code",
   "execution_count": 36,
   "metadata": {},
   "outputs": [
    {
     "data": {
      "text/plain": [
       "defined \u001b[32mfunction \u001b[36mrunCharIO\u001b[0m"
      ]
     },
     "metadata": {},
     "output_type": "display_data"
    }
   ],
   "source": [
    "def runCharIO(free:FreeM[CharIO, Unit]):Unit = free match { \n",
    "  case Pure(a)               => a\n",
    "  case Free(GetCh(f))        => runCharIO(f(readChar()))\n",
    "  case Free(PutCh(ch, cont)) => print(ch);runCharIO(cont)\n",
    "}"
   ]
  },
  {
   "cell_type": "code",
   "execution_count": 36,
   "metadata": {},
   "outputs": [
    {
     "ename": "",
     "evalue": "",
     "output_type": "error",
     "traceback": [
      "\u001b[31mMain.scala:28: package scala.io is not a value",
      "runCharIO(io)",
      "          ^\u001b[0m"
     ]
    }
   ],
   "source": [
    "runCharIO(io)"
   ]
  },
  {
   "cell_type": "markdown",
   "metadata": {},
   "source": [
    "## 何が自由なのか\n",
    "[こちらの記事に](http://d.hatena.ne.jp/fumiexcel/20121111/1352614885)\n",
    "\n",
    "> Freeモナドのメリットは、諸概念を限定された世界に閉じ込めて抽象化できることだけではない。自分でMonadを作ると、MonadWriterなどの型クラスの大量のインスタンス宣言をしなければならないが、Freeモナドならその必要はない。Freeモナドの性質を決めるのはあくまでFunctorなので、そういったインスタンス宣言をFreeそのものに集約できる。いわば、モナドがタダ(free)で手に入るのだ。\n",
    "\n",
    "とある\n",
    "わかるようなわからないような。。。"
   ]
  },
  {
   "cell_type": "markdown",
   "metadata": {},
   "source": [
    "# FreeMonadを知った上で今後やりたいこと\n",
    "- データ分析のフローとロジックをFreeMonadの概念を応用してライブラリを作りたい"
   ]
  },
  {
   "cell_type": "markdown",
   "metadata": {},
   "source": [
    "# リファレンス\n",
    "- ほとんど読んでないですが、[Functional and Reactive Domain Modeling](https://www.amazon.co.jp/Functional-Reactive-Domain-Modeling-Debasish/dp/1617292249)の五章にもFreeMonadについて書いてあります\n",
    "- 同じくざっとしか読んでないですが、[Scala HighPerformance Programing](https://www.amazon.co.jp/dp/B01BKL1PGA/ref=dp-kindle-redirect?_encoding=UTF8&btkr=1)の七章にもパフォーマンス観点で書かれてます\n",
    "\n"
   ]
  }
 ],
 "metadata": {
  "kernelspec": {
   "display_name": "Scala 2.11",
   "language": "scala211",
   "name": "scala211"
  },
  "language_info": {
   "codemirror_mode": "text/x-scala",
   "file_extension": ".scala",
   "mimetype": "text/x-scala",
   "name": "scala211",
   "pygments_lexer": "scala",
   "version": "2.11.7"
  }
 },
 "nbformat": 4,
 "nbformat_minor": 2
}
